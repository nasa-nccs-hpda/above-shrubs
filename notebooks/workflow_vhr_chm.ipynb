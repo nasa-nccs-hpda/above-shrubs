{
 "cells": [
  {
   "cell_type": "markdown",
   "id": "c9ccbdc7-3ed7-4057-a3ce-04114cc2addd",
   "metadata": {},
   "source": [
    "# VHR Canopy Height Modeling Workflow Demo\n",
    "This is a demo of the `VHR Toolkit` for preparing $SR_{VHR}$ for the $CHM_{VHR}$ Workflow  \n",
    "\n",
    "Paul Montesano  \n",
    "Jordan Caraballo-Vega  \n",
    "Matthew Macander  \n",
    "Mark Carroll    \n",
    "Glenn Tamkin  \n",
    "Caleb Spradlin  \n",
    "\n",
    "Repositories:  \n",
    "https://github.com/nasa-nccs-hpda/above-shrubs.git\n",
    "\n",
    "\n",
    "`Motivations:`\n",
    "\n",
    " - Demo the pre-processing of VHR used to run through the $CHM_{VHR}$ workflow ; use for a list of catids\n",
    "\n",
    "`Notes:`  \n",
    " - need to ssh into ilab or forest VMs\n"
   ]
  },
  {
   "cell_type": "markdown",
   "id": "9d44247d-b70e-42bd-a0a2-771645a0c127",
   "metadata": {},
   "source": [
    "## Prep\n",
    "\n",
    "Notes doc (TODO)  \n",
    "https://docs.google.com/document/d/17gaIal1czeee1b09FixWu0GKAWVvR2yodU9fmwKuGXE/edit"
   ]
  },
  {
   "cell_type": "code",
   "execution_count": 1,
   "id": "53db69e6-39b5-4d1f-86e9-9a4ab298ee53",
   "metadata": {},
   "outputs": [],
   "source": [
    "MAINDIR = '/explore/nobackup/projects/above/misc/ABoVE_Shrubs'"
   ]
  },
  {
   "cell_type": "markdown",
   "id": "93ce6b08-16c8-4dd9-a93b-056b9be58a18",
   "metadata": {},
   "source": [
    "## Choose a catalog id: $catalogID_{MAXAR}$"
   ]
  },
  {
   "cell_type": "code",
   "execution_count": 2,
   "id": "6446d9e0-1a5d-44ca-a051-d513d3bf51a5",
   "metadata": {},
   "outputs": [],
   "source": [
    "CATID = '1010010000C41400'"
   ]
  },
  {
   "cell_type": "markdown",
   "id": "607bc5b4-14df-4a58-ba9b-f79acc108269",
   "metadata": {},
   "source": [
    "## Query NASA NGA database of MAXAR $M1BS_{VHR}$ imagery\n",
    "this creates a list the input $M1BS_{VHR}$ scenes found for a $catalogID_{MAXAR}$ in our NASA NGA dataBase archive into a local dir of choice in preparation for workflow processing\n",
    "#### `query_db_catid` works with `forest` conda env which has `psycopg2`\n",
    "Resources:  \n",
    " - code/geoscitools/query_ngadb.ipynb\n",
    " - Catalog IDs of interest:\n",
    "   - Western AK (July,August): https://docs.google.com/spreadsheets/d/1XdSTInm18KYBUvaftyev449GwhMKZzWjl3uV1gUF-yI/edit#gid=288708282\n",
    "   - Western AK (July,August), Sun Elev > 17: https://docs.google.com/spreadsheets/d/1ig4YQu1dG-2pWWbl6ZRxz37ebERsX80bLcEZLIdKqtQ/edit#gid=1404456155"
   ]
  },
  {
   "cell_type": "code",
   "execution_count": 3,
   "id": "4d752d27-097e-4f0f-93ec-8067672d6029",
   "metadata": {},
   "outputs": [],
   "source": [
    "import sys\n",
    "sys.path.append('/home/pmontesa/code/evhr')\n",
    "import os\n",
    "import query_db_catid\n",
    "import pandas as pd\n",
    "import glob"
   ]
  },
  {
   "cell_type": "code",
   "execution_count": 4,
   "id": "e25f746e-261d-479a-acfa-5d6a2f8a3c62",
   "metadata": {},
   "outputs": [],
   "source": [
    "# TODO - get this right. \n",
    "# The expected ENV variables arent accessible for some reason\n",
    "#\n",
    "#  NGA DB password doesnt appear when printed here, but it does in terminal\n",
    "#!env | grep NGADBPASS\n",
    "#!source /home/pmontesa/.bashrc\n",
    "#os.environ['NGADBPASS']"
   ]
  },
  {
   "cell_type": "code",
   "execution_count": 21,
   "id": "8d55abb0-8ab9-4541-bc18-e3c17ffab3f6",
   "metadata": {},
   "outputs": [],
   "source": [
    "NGADBPASS = '----' # env | grep NGADBPASS  type this at terminal and copy result"
   ]
  },
  {
   "cell_type": "code",
   "execution_count": 6,
   "id": "8c8d5cff-e592-4e00-8a60-e7c3587ba74f",
   "metadata": {},
   "outputs": [],
   "source": [
    "OUTDIR_QUERY = os.path.join(MAINDIR, 'query_nga_db')\n",
    "!mkdir -p $OUTDIR_QUERY"
   ]
  },
  {
   "cell_type": "code",
   "execution_count": 7,
   "id": "bec2182c-6be6-4aa3-93ef-7288bf0297e2",
   "metadata": {},
   "outputs": [],
   "source": [
    "# Wrappers of query\n",
    "def GET_NGA_CATID_SCENE_SYMLINKS(CATID, OUTDIR_QUERY):\n",
    "    OUTDIR_CATID = os.path.join(OUTDIR_QUERY, CATID)\n",
    "    !mkdir -p $OUTDIR_CATID\n",
    "    query_db_catid.query_db_catid_v2(CATID, 'M1BS', OUTDIR_CATID, None,'pmontesa', NGADBPASS, symlink=True)\n",
    "    return OUTDIR_CATID\n",
    "\n",
    "def GET_NGA_CATID_SCENE_LIST(CATID, OUTDIR_QUERY):\n",
    "    OUT_SCENE_LIST_FN = os.path.join(OUTDIR_QUERY, CATID + '_scenes.csv')\n",
    "    \n",
    "    query_db_catid.query_db_catid_v2(CATID, 'M1BS', OUTDIR_QUERY, OUT_SCENE_LIST_FN,'pmontesa', NGADBPASS, symlink=False)\n",
    "    return OUT_SCENE_LIST_FN"
   ]
  },
  {
   "cell_type": "code",
   "execution_count": 10,
   "id": "5908d9cd-9b2b-4e95-9362-d684afff74d0",
   "metadata": {},
   "outputs": [],
   "source": [
    "# Run a single query to return data w\n",
    "#GET_NGA_CATID_SCENE_SYMLINKS(CATID, OUTDIR_QUERY)"
   ]
  },
  {
   "cell_type": "code",
   "execution_count": 13,
   "id": "a636d796-9b73-4ad2-aacc-93c4e6d4b9bb",
   "metadata": {},
   "outputs": [
    {
     "name": "stdout",
     "output_type": "stream",
     "text": [
      "\n",
      "\t Now executing database query on catID '1010010000C41400' ...\n",
      "\n",
      "\t Found '2' scenes for catID '1010010000C41400' \n",
      "\n",
      "\t List of all prod_id '['505853386050']'\n",
      "\t Selecting data associated with prod_id '505853386050'\n",
      "/css/nga/QB02/1B/2002/191/QB02_1010010000C41400_M1BS_505853386050_01/QB02_20020710215038_1010010000C41400_02JUL10215038-M1BS-505853386050_01_P001.ntf\n",
      "/css/nga/QB02/1B/2002/191/QB02_1010010000C41400_M1BS_505853386050_01/QB02_20020710215041_1010010000C41400_02JUL10215041-M1BS-505853386050_01_P002.ntf\n"
     ]
    },
    {
     "data": {
      "text/plain": [
       "'/explore/nobackup/projects/above/misc/ABoVE_Shrubs/query_nga_db/1010010000C41400_scenes.csv'"
      ]
     },
     "execution_count": 13,
     "metadata": {},
     "output_type": "execute_result"
    }
   ],
   "source": [
    "SCENES_FILE = GET_NGA_CATID_SCENE_LIST(CATID, OUTDIR_QUERY)\n",
    "SCENES_FILE"
   ]
  },
  {
   "cell_type": "markdown",
   "id": "2e5b5761-fcdd-49e2-9104-21ae22bfe7e8",
   "metadata": {},
   "source": [
    "## VHR TOA Processing (with eVHR tool)\n",
    "this produces $TOA_{VHR}$, an orthorectified top-of-atmosphere reflectance image of the multi-spectral bands of the original $M1BS_{VHR}$ input"
   ]
  },
  {
   "cell_type": "code",
   "execution_count": 16,
   "id": "dedce9a9-06b0-4f7e-a6d9-37b4b01c8fc0",
   "metadata": {},
   "outputs": [],
   "source": [
    "OUTDIR_TOA = os.path.join(MAINDIR, 'toa','002m')"
   ]
  },
  {
   "cell_type": "markdown",
   "id": "716dbe1c-8893-4b3f-9a43-82e91cddd000",
   "metadata": {},
   "source": [
    "#### $TOA_{VHR}$: confirm output exists after run"
   ]
  },
  {
   "cell_type": "code",
   "execution_count": 17,
   "id": "596877ea-38b5-4118-8b50-450a8e18802f",
   "metadata": {},
   "outputs": [
    {
     "data": {
      "text/plain": [
       "'/explore/nobackup/projects/above/misc/ABoVE_Shrubs/toa/002m/*1010010000C41400*.tif'"
      ]
     },
     "execution_count": 17,
     "metadata": {},
     "output_type": "execute_result"
    }
   ],
   "source": [
    "SEARCH_TOA = os.path.join(OUTDIR_TOA, f'*{CATID}*.tif')\n",
    "SEARCH_TOA"
   ]
  },
  {
   "cell_type": "code",
   "execution_count": 18,
   "id": "06850b71-be80-4acc-9f14-e372bcfde1e8",
   "metadata": {},
   "outputs": [
    {
     "data": {
      "text/plain": [
       "[]"
      ]
     },
     "execution_count": 18,
     "metadata": {},
     "output_type": "execute_result"
    }
   ],
   "source": [
    "glob.glob(SEARCH_TOA)"
   ]
  },
  {
   "cell_type": "code",
   "execution_count": 19,
   "id": "5b07d98b-f3fa-4b46-996e-5acff2bc7537",
   "metadata": {},
   "outputs": [
    {
     "name": "stdout",
     "output_type": "stream",
     "text": [
      "singularity exec -B /explore,/panfs,/css,/nfs4m /explore/nobackup/people/iluser/ilab_containers/evhr_4.0.0.sif python /usr/local/ilab/evhr/view/evhrToaCLV.py -o /explore/nobackup/projects/above/misc/ABoVE_Shrubs/toa/002m --scenes_in_file /explore/nobackup/projects/above/misc/ABoVE_Shrubs/query_nga_db/1010010000C41400_scenes.csv\n"
     ]
    }
   ],
   "source": [
    "!echo \\\n",
    "singularity exec -B /explore,/panfs,/css,/nfs4m \\\n",
    "/explore/nobackup/people/iluser/ilab_containers/evhr_4.0.0.sif \\\n",
    "python /usr/local/ilab/evhr/view/evhrToaCLV.py \\\n",
    "-o $OUTDIR_TOA \\\n",
    "--scenes_in_file $SCENES_FILE"
   ]
  },
  {
   "cell_type": "markdown",
   "id": "dd4a0e7a-3de6-4191-96cb-f6e2c0ce2238",
   "metadata": {},
   "source": [
    "## VHR Cloudmask Processing\n",
    "this produces a $Cloudmask_{VHR}$ from the input $TOA_{VHR}$  \n",
    "https://nasa-nccs-hpda.github.io/vhr-cloudmask/latest/readme.html#development-pipeline-details"
   ]
  },
  {
   "cell_type": "code",
   "execution_count": 107,
   "id": "1f0eb82e-81aa-4d4d-9039-89dab2465a1f",
   "metadata": {},
   "outputs": [],
   "source": [
    "OUTDIR_CLOUD = os.path.join(MAINDIR, 'cloudmask','002m')"
   ]
  },
  {
   "cell_type": "markdown",
   "id": "7ad98c45-e30e-425c-8293-561193c16bf8",
   "metadata": {},
   "source": [
    "### run: compile the call to invoke it at terminal\n",
    "login to `ilab201-210` or `forest201-210`"
   ]
  },
  {
   "cell_type": "code",
   "execution_count": 108,
   "id": "974b6c74-e83b-4b98-8952-b076cab5bfdf",
   "metadata": {},
   "outputs": [
    {
     "name": "stdout",
     "output_type": "stream",
     "text": [
      "singularity exec --nv -B ,/explore/nobackup/people,/explore/nobackup/projects /explore/nobackup/projects/ilab/containers/vhr-cloudmask.sif vhr-cloudmask-cli -o -r -s predict\n"
     ]
    }
   ],
   "source": [
    "!echo \\\n",
    "singularity exec --nv -B $NOBACKUP,/explore/nobackup/people,/explore/nobackup/projects \\\n",
    "/explore/nobackup/projects/ilab/containers/vhr-cloudmask.sif vhr-cloudmask-cli \\\n",
    "-o $OUTDIR_CLOUD \\\n",
    "-r $SEARCH_CLOUDMASK \\\n",
    "-s predict"
   ]
  },
  {
   "cell_type": "code",
   "execution_count": 109,
   "id": "19a070f1-e16e-4953-8e80-d3e9f2714ec0",
   "metadata": {},
   "outputs": [
    {
     "data": {
      "text/plain": [
       "'/explore/nobackup/projects/above/misc/ABoVE_Shrubs/cloudmask/002m/*1010010000E2CF00*.tif'"
      ]
     },
     "execution_count": 109,
     "metadata": {},
     "output_type": "execute_result"
    }
   ],
   "source": [
    "SEARCH_CLOUDMASK = os.path.join(OUTDIR_CLOUD, f'*{CATID}*.tif')\n",
    "SEARCH_CLOUDMASK"
   ]
  },
  {
   "cell_type": "markdown",
   "id": "df7bc9f5-cb58-4da8-bff1-2f86aa7b155e",
   "metadata": {},
   "source": [
    "#### $Cloudmask_{VHR}$: confirm output exists after run"
   ]
  },
  {
   "cell_type": "code",
   "execution_count": 110,
   "id": "6d181415-403b-4ed3-8881-a6821ac67b8b",
   "metadata": {},
   "outputs": [
    {
     "data": {
      "text/plain": [
       "[]"
      ]
     },
     "execution_count": 110,
     "metadata": {},
     "output_type": "execute_result"
    }
   ],
   "source": [
    "glob.glob(SEARCH_CLOUDMASK)"
   ]
  },
  {
   "cell_type": "markdown",
   "id": "67272a37-b458-4c02-bfb6-5fa08f093658",
   "metadata": {},
   "source": [
    "## VHR SRLite Processing\n",
    "this produces a $SR_{VHR}$ that is modeled from input $TOA_{VHR}$ and $SR_{reference}$"
   ]
  },
  {
   "cell_type": "code",
   "execution_count": 111,
   "id": "9608e484-4768-44fd-8db3-a155cf209ae2",
   "metadata": {},
   "outputs": [
    {
     "data": {
      "text/plain": [
       "'/explore/nobackup/projects/above/misc/ABoVE_Shrubs/srlite/002m/1010010000E2CF00.out'"
      ]
     },
     "execution_count": 111,
     "metadata": {},
     "output_type": "execute_result"
    }
   ],
   "source": [
    "OUTDIR_SR = os.path.join(MAINDIR, 'srlite','002m')\n",
    "OUTPUT_SR_CATID_INFO_FN = os.path.join(OUTDIR_SR, f'{CATID}.out')\n",
    "OUTPUT_SR_CATID_INFO_FN"
   ]
  },
  {
   "cell_type": "code",
   "execution_count": 112,
   "id": "557f2882-27ca-4d11-9d4e-ff7decca830c",
   "metadata": {},
   "outputs": [
    {
     "data": {
      "text/plain": [
       "'/explore/nobackup/projects/above/misc/ABoVE_Shrubs/ccdc/030m/*1010010000E2CF00*.tif'"
      ]
     },
     "execution_count": 112,
     "metadata": {},
     "output_type": "execute_result"
    }
   ],
   "source": [
    "OUTDIR_CCDC = os.path.join(MAINDIR, 'ccdc','030m')\n",
    "SEARCH_CCDC = os.path.join(OUTDIR_CCDC, f'*{CATID}*.tif')\n",
    "SEARCH_CCDC"
   ]
  },
  {
   "cell_type": "markdown",
   "id": "a725186b-39ea-49f8-ae9b-1d24a8269e68",
   "metadata": {},
   "source": [
    "#### $SR_{reference}$: confirm the reference SR data exists (using CCDC as reference)\n",
    "this $SR_{reference}$ data along with $TOA_{VHR}$ is required to model $SR_{VHR}$"
   ]
  },
  {
   "cell_type": "code",
   "execution_count": 113,
   "id": "767a6c0d-5666-43df-ac3e-1833aa4a0da1",
   "metadata": {},
   "outputs": [
    {
     "data": {
      "text/plain": [
       "[]"
      ]
     },
     "execution_count": 113,
     "metadata": {},
     "output_type": "execute_result"
    }
   ],
   "source": [
    "glob.glob(SEARCH_CCDC)"
   ]
  },
  {
   "cell_type": "code",
   "execution_count": 93,
   "id": "4c8aded9-2309-48eb-bd03-93f6adee9939",
   "metadata": {},
   "outputs": [
    {
     "name": "stdout",
     "output_type": "stream",
     "text": [
      "tee: /explore/nobackup/projects/above/misc/ABoVE_Shrubs/srlite/002m/10300100045FA300.out: Permission denied\n",
      "singularity run -B /explore,/panfs /explore/nobackup/people/iluser/ilab_containers/srlite_1.1.0.sif python /usr/local/ilab/srlite/view/SrliteWorkflowCommandLineView.py -toa_dir /explore/nobackup/projects/above/misc/ABoVE_Shrubs/toa/002m -target_dir /explore/nobackup/projects/above/misc/ABoVE_Shrubs/ccdc/030m -cloudmask_dir /explore/nobackup/projects/above/misc/ABoVE_Shrubs/cloudmask/002m -bandpairs [['blue_ccdc', 'BAND-B'], ['green_ccdc', 'BAND-G'], ['red_ccdc', 'BAND-R'], ['nir_ccdc', 'BAND-N'],['blue_ccdc', 'BAND-C'], ['green_ccdc', 'BAND-Y'], ['red_ccdc', 'BAND-RE'], ['nir_ccdc', 'BAND-N2']] -output_dir /explore/nobackup/projects/above/misc/ABoVE_Shrubs/srlite/002m --regressor rma --debug 1 --pmask --cloudmask --csv --band8 --cloudmask_suffix toa.cloudmask.tif --target_suffix ccdc.tif\n"
     ]
    }
   ],
   "source": [
    "!echo \\\n",
    "singularity run -B /explore,/panfs \\\n",
    "/explore/nobackup/people/iluser/ilab_containers/srlite_1.1.0.sif \\\n",
    "python /usr/local/ilab/srlite/view/SrliteWorkflowCommandLineView.py \\\n",
    "-toa_dir $OUTDIR_TOA \\\n",
    "-target_dir $OUTDIR_CCDC \\\n",
    "-cloudmask_dir $OUTDIR_CLOUD \\\n",
    "-bandpairs \"[['blue_ccdc', 'BAND-B'], ['green_ccdc', 'BAND-G'], ['red_ccdc', 'BAND-R'], ['nir_ccdc', 'BAND-N'],['blue_ccdc', 'BAND-C'], ['green_ccdc', 'BAND-Y'], ['red_ccdc', 'BAND-RE'], ['nir_ccdc', 'BAND-N2']]\" \\\n",
    "-output_dir $OUTDIR_SR \\\n",
    "--regressor rma --debug 1 --pmask --cloudmask --csv --band8 \\\n",
    "--cloudmask_suffix toa.cloudmask.tif --target_suffix ccdc.tif \\\n",
    "2>&1 | tee -a $OUTPUT_SR_CATID_INFO_FN\n"
   ]
  },
  {
   "cell_type": "code",
   "execution_count": null,
   "id": "c69834bb-c4ab-4408-baa5-e231de06139b",
   "metadata": {},
   "outputs": [],
   "source": []
  }
 ],
 "metadata": {
  "kernelspec": {
   "display_name": "Python [conda env:.conda-forest]",
   "language": "python",
   "name": "conda-env-.conda-forest-py"
  },
  "language_info": {
   "codemirror_mode": {
    "name": "ipython",
    "version": 3
   },
   "file_extension": ".py",
   "mimetype": "text/x-python",
   "name": "python",
   "nbconvert_exporter": "python",
   "pygments_lexer": "ipython3",
   "version": "3.9.0"
  }
 },
 "nbformat": 4,
 "nbformat_minor": 5
}
