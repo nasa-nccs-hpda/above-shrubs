{
 "cells": [
  {
   "cell_type": "markdown",
   "id": "ca3b92a9-fe61-4df6-8c94-85453f08b2b5",
   "metadata": {},
   "source": [
    "Review Outputs and Construct Table for interactive viz"
   ]
  },
  {
   "cell_type": "code",
   "execution_count": 1,
   "id": "bb66d5a1-c74b-4ac6-8e06-1040118d8177",
   "metadata": {
    "tags": []
   },
   "outputs": [
    {
     "name": "stderr",
     "output_type": "stream",
     "text": [
      "Linking to GEOS 3.11.1, GDAL 3.6.1, PROJ 9.1.0; sf_use_s2() is TRUE\n",
      "\n",
      "── \u001b[1mAttaching packages\u001b[22m ─────────────────────────────────────── tidyverse 1.3.2 ──\n",
      "\u001b[32m✔\u001b[39m \u001b[34mggplot2\u001b[39m 3.4.0      \u001b[32m✔\u001b[39m \u001b[34mpurrr  \u001b[39m 1.0.0 \n",
      "\u001b[32m✔\u001b[39m \u001b[34mtibble \u001b[39m 3.1.8      \u001b[32m✔\u001b[39m \u001b[34mdplyr  \u001b[39m 1.0.10\n",
      "\u001b[32m✔\u001b[39m \u001b[34mtidyr  \u001b[39m 1.2.1      \u001b[32m✔\u001b[39m \u001b[34mstringr\u001b[39m 1.5.0 \n",
      "\u001b[32m✔\u001b[39m \u001b[34mreadr  \u001b[39m 2.1.3      \u001b[32m✔\u001b[39m \u001b[34mforcats\u001b[39m 0.5.2 \n",
      "── \u001b[1mConflicts\u001b[22m ────────────────────────────────────────── tidyverse_conflicts() ──\n",
      "\u001b[31m✖\u001b[39m \u001b[34mdplyr\u001b[39m::\u001b[32mfilter()\u001b[39m masks \u001b[34mstats\u001b[39m::filter()\n",
      "\u001b[31m✖\u001b[39m \u001b[34mdplyr\u001b[39m::\u001b[32mlag()\u001b[39m    masks \u001b[34mstats\u001b[39m::lag()\n",
      "\n",
      "Attaching package: ‘janitor’\n",
      "\n",
      "\n",
      "The following objects are masked from ‘package:stats’:\n",
      "\n",
      "    chisq.test, fisher.test\n",
      "\n",
      "\n",
      "\n",
      "Attaching package: ‘magrittr’\n",
      "\n",
      "\n",
      "The following object is masked from ‘package:purrr’:\n",
      "\n",
      "    set_names\n",
      "\n",
      "\n",
      "The following object is masked from ‘package:tidyr’:\n",
      "\n",
      "    extract\n",
      "\n",
      "\n",
      "Loading required package: timechange\n",
      "\n",
      "\n",
      "Attaching package: ‘lubridate’\n",
      "\n",
      "\n",
      "The following objects are masked from ‘package:base’:\n",
      "\n",
      "    date, intersect, setdiff, union\n",
      "\n",
      "\n",
      "terra 1.5.21\n",
      "\n",
      "\n",
      "Attaching package: ‘terra’\n",
      "\n",
      "\n",
      "The following object is masked from ‘package:glue’:\n",
      "\n",
      "    trim\n",
      "\n",
      "\n",
      "The following objects are masked from ‘package:magrittr’:\n",
      "\n",
      "    extract, inset\n",
      "\n",
      "\n",
      "The following object is masked from ‘package:janitor’:\n",
      "\n",
      "    crosstab\n",
      "\n",
      "\n",
      "The following object is masked from ‘package:dplyr’:\n",
      "\n",
      "    src\n",
      "\n",
      "\n",
      "The following object is masked from ‘package:tidyr’:\n",
      "\n",
      "    extract\n",
      "\n",
      "\n",
      "The following object is masked from ‘package:ggplot2’:\n",
      "\n",
      "    arrow\n",
      "\n",
      "\n",
      "Loading required package: future\n",
      "\n"
     ]
    }
   ],
   "source": [
    "library(sf)\n",
    "library(tidyverse)\n",
    "library(janitor)\n",
    "library(magrittr)\n",
    "library(lubridate)\n",
    "library(fs)\n",
    "library(glue)\n",
    "library(readxl)\n",
    "library(terra)\n",
    "library(furrr)\n",
    "\n",
    "# library(mapview)\n",
    "# library(spatialEco)\n",
    "# library(gfcanalysis)\n",
    "outPath <- path('/explore/nobackup/people/mmacande/srlite/chm_model/20230829_chm')\n",
    "dir_create(outPath)"
   ]
  },
  {
   "cell_type": "code",
   "execution_count": 2,
   "id": "eae7c9d9-6178-42ed-88cd-036a9f7b4baa",
   "metadata": {},
   "outputs": [
    {
     "data": {
      "text/html": [
       "'/home/mmacande/.conda/envs/r4-base-20230102/share/proj'"
      ],
      "text/latex": [
       "'/home/mmacande/.conda/envs/r4-base-20230102/share/proj'"
      ],
      "text/markdown": [
       "'/home/mmacande/.conda/envs/r4-base-20230102/share/proj'"
      ],
      "text/plain": [
       "[1] \"/home/mmacande/.conda/envs/r4-base-20230102/share/proj\""
      ]
     },
     "metadata": {},
     "output_type": "display_data"
    },
    {
     "data": {
      "text/html": [
       "'/home/mmacande/.conda/envs/r4-base-20230102/share/proj'"
      ],
      "text/latex": [
       "'/home/mmacande/.conda/envs/r4-base-20230102/share/proj'"
      ],
      "text/markdown": [
       "'/home/mmacande/.conda/envs/r4-base-20230102/share/proj'"
      ],
      "text/plain": [
       "[1] \"/home/mmacande/.conda/envs/r4-base-20230102/share/proj\""
      ]
     },
     "metadata": {},
     "output_type": "display_data"
    }
   ],
   "source": [
    "secondPath <- sf_proj_search_paths()[[2]]\n",
    "secondPath\n",
    "sf_proj_search_paths(secondPath)"
   ]
  },
  {
   "cell_type": "code",
   "execution_count": 3,
   "id": "201efec2-5560-480b-ad78-586c1ec18bd6",
   "metadata": {},
   "outputs": [
    {
     "data": {
      "text/html": [
       "2963"
      ],
      "text/latex": [
       "2963"
      ],
      "text/markdown": [
       "2963"
      ],
      "text/plain": [
       "[1] 2963"
      ]
     },
     "metadata": {},
     "output_type": "display_data"
    }
   ],
   "source": [
    "srlite_fp <- read_sf('/explore/nobackup/people/pmontesa/srlite/footprints_vhrmeta_SR_alaska.gpkg') %>%\n",
    "  mutate(srlite_path = path(path, file))\n",
    "nrow(srlite_fp)"
   ]
  },
  {
   "cell_type": "code",
   "execution_count": 4,
   "id": "289cd6cf-b475-4c28-8d84-caaa2706afea",
   "metadata": {},
   "outputs": [
    {
     "data": {
      "text/html": [
       "<style>\n",
       ".list-inline {list-style: none; margin:0; padding: 0}\n",
       ".list-inline>li {display: inline-block}\n",
       ".list-inline>li:not(:last-child)::after {content: \"\\00b7\"; padding: 0 .5ex}\n",
       "</style>\n",
       "<ol class=list-inline><li>'Region'</li><li>'Shape_Length'</li><li>'Shape_Area'</li><li>'geom'</li></ol>\n"
      ],
      "text/latex": [
       "\\begin{enumerate*}\n",
       "\\item 'Region'\n",
       "\\item 'Shape\\_Length'\n",
       "\\item 'Shape\\_Area'\n",
       "\\item 'geom'\n",
       "\\end{enumerate*}\n"
      ],
      "text/markdown": [
       "1. 'Region'\n",
       "2. 'Shape_Length'\n",
       "3. 'Shape_Area'\n",
       "4. 'geom'\n",
       "\n",
       "\n"
      ],
      "text/plain": [
       "[1] \"Region\"       \"Shape_Length\" \"Shape_Area\"   \"geom\"        "
      ]
     },
     "metadata": {},
     "output_type": "display_data"
    },
    {
     "name": "stderr",
     "output_type": "stream",
     "text": [
      "st_as_s2(): dropping Z and/or M coordinate\n",
      "\n"
     ]
    },
    {
     "data": {
      "text/html": [
       "<table class=\"dataframe\">\n",
       "<caption>A tibble: 2 × 2</caption>\n",
       "<thead>\n",
       "\t<tr><th scope=col>arcBor</th><th scope=col>n</th></tr>\n",
       "\t<tr><th scope=col>&lt;lgl&gt;</th><th scope=col>&lt;int&gt;</th></tr>\n",
       "</thead>\n",
       "<tbody>\n",
       "\t<tr><td>FALSE</td><td> 506</td></tr>\n",
       "\t<tr><td> TRUE</td><td>2457</td></tr>\n",
       "</tbody>\n",
       "</table>\n"
      ],
      "text/latex": [
       "A tibble: 2 × 2\n",
       "\\begin{tabular}{ll}\n",
       " arcBor & n\\\\\n",
       " <lgl> & <int>\\\\\n",
       "\\hline\n",
       "\t FALSE &  506\\\\\n",
       "\t  TRUE & 2457\\\\\n",
       "\\end{tabular}\n"
      ],
      "text/markdown": [
       "\n",
       "A tibble: 2 × 2\n",
       "\n",
       "| arcBor &lt;lgl&gt; | n &lt;int&gt; |\n",
       "|---|---|\n",
       "| FALSE |  506 |\n",
       "|  TRUE | 2457 |\n",
       "\n"
      ],
      "text/plain": [
       "  arcBor n   \n",
       "1 FALSE   506\n",
       "2  TRUE  2457"
      ]
     },
     "metadata": {},
     "output_type": "display_data"
    }
   ],
   "source": [
    "ak_yukon_boreal_arctic <- read_sf('/explore/nobackup/people/mmacande/srlite/chm_model/gis_layers/AKVEG_Regions.gpkg', layer='NorthAmericanBeringia_ModelArea_3338') %>%\n",
    "st_transform(4326)\n",
    "ak_yukon_boreal_arctic %>% colnames()\n",
    "\n",
    "# srlite_fp_ab <- st_filter(srlite_fp, ak_yukon_boreal_arctic)\n",
    "\n",
    "srlite_fp <- srlite_fp %>%\n",
    "mutate(arcBor = lengths(st_intersects(geom, ak_yukon_boreal_arctic)) > 0)\n",
    "\n",
    "srlite_fp %>% st_drop_geometry() %>% group_by(arcBor) %>% tally()"
   ]
  },
  {
   "cell_type": "code",
   "execution_count": 5,
   "id": "39606178-529d-4c52-8dca-5e901394b9ad",
   "metadata": {},
   "outputs": [
    {
     "data": {
      "text/html": [
       "<table class=\"dataframe\">\n",
       "<caption>A tibble: 4 × 2</caption>\n",
       "<thead>\n",
       "\t<tr><th scope=col>month</th><th scope=col>n</th></tr>\n",
       "\t<tr><th scope=col>&lt;dbl&gt;</th><th scope=col>&lt;int&gt;</th></tr>\n",
       "</thead>\n",
       "<tbody>\n",
       "\t<tr><td>6</td><td>705</td></tr>\n",
       "\t<tr><td>7</td><td>649</td></tr>\n",
       "\t<tr><td>8</td><td>517</td></tr>\n",
       "\t<tr><td>9</td><td>440</td></tr>\n",
       "</tbody>\n",
       "</table>\n"
      ],
      "text/latex": [
       "A tibble: 4 × 2\n",
       "\\begin{tabular}{ll}\n",
       " month & n\\\\\n",
       " <dbl> & <int>\\\\\n",
       "\\hline\n",
       "\t 6 & 705\\\\\n",
       "\t 7 & 649\\\\\n",
       "\t 8 & 517\\\\\n",
       "\t 9 & 440\\\\\n",
       "\\end{tabular}\n"
      ],
      "text/markdown": [
       "\n",
       "A tibble: 4 × 2\n",
       "\n",
       "| month &lt;dbl&gt; | n &lt;int&gt; |\n",
       "|---|---|\n",
       "| 6 | 705 |\n",
       "| 7 | 649 |\n",
       "| 8 | 517 |\n",
       "| 9 | 440 |\n",
       "\n"
      ],
      "text/plain": [
       "  month n  \n",
       "1 6     705\n",
       "2 7     649\n",
       "3 8     517\n",
       "4 9     440"
      ]
     },
     "metadata": {},
     "output_type": "display_data"
    },
    {
     "data": {
      "text/html": [
       "<table class=\"dataframe\">\n",
       "<caption>A tibble: 6 × 19</caption>\n",
       "<thead>\n",
       "\t<tr><th scope=col>file</th><th scope=col>footprint_name</th><th scope=col>path</th><th scope=col>area_km2</th><th scope=col>area_ha</th><th scope=col>subdir</th><th scope=col>type</th><th scope=col>catid</th><th scope=col>sensor</th><th scope=col>year</th><th scope=col>month</th><th scope=col>date</th><th scope=col>satid</th><th scope=col>el</th><th scope=col>az</th><th scope=col>sunel</th><th scope=col>sunaz</th><th scope=col>srlite_path</th><th scope=col>arcBor</th></tr>\n",
       "\t<tr><th scope=col>&lt;chr&gt;</th><th scope=col>&lt;chr&gt;</th><th scope=col>&lt;chr&gt;</th><th scope=col>&lt;dbl&gt;</th><th scope=col>&lt;dbl&gt;</th><th scope=col>&lt;chr&gt;</th><th scope=col>&lt;chr&gt;</th><th scope=col>&lt;chr&gt;</th><th scope=col>&lt;chr&gt;</th><th scope=col>&lt;dbl&gt;</th><th scope=col>&lt;dbl&gt;</th><th scope=col>&lt;dttm&gt;</th><th scope=col>&lt;chr&gt;</th><th scope=col>&lt;dbl&gt;</th><th scope=col>&lt;dbl&gt;</th><th scope=col>&lt;dbl&gt;</th><th scope=col>&lt;dbl&gt;</th><th scope=col>&lt;fs::path&gt;</th><th scope=col>&lt;lgl&gt;</th></tr>\n",
       "</thead>\n",
       "<tbody>\n",
       "\t<tr><td>WV02_20130813_M1BS_1030010026D4A600-sr-02m.tif</td><td>WV02_20130813_M1BS_1030010026D4A600</td><td>/explore/nobackup/projects/ilab/data/srlite/products/srlite_1.0.1/srlite/alaska/batch_1/4_band/split_3    </td><td>2629.7645</td><td>262976.45</td><td>/batch_1/4_band/split_3    </td><td>SR</td><td>1030010026D4A600</td><td>WV02</td><td>2013</td><td>8</td><td>2013-08-13 01:00:00</td><td>WV02</td><td>74.70000</td><td>219.39</td><td>46.04000</td><td>175.1000</td><td>/explore/nobackup/projects/ilab/data/srlite/products/srlite_1.0.1/srlite/alaska/batch_1/4_band/split_3/WV02_20130813_M1BS_1030010026D4A600-sr-02m.tif    </td><td>FALSE</td></tr>\n",
       "\t<tr><td>WV02_20170928_M1BS_103001007388B900-sr-02m.tif</td><td>WV02_20170928_M1BS_103001007388B900</td><td>/explore/nobackup/projects/ilab/data/srlite/products/srlite_1.0.1/srlite/alaska/batch_1/4_band/split_6    </td><td>3238.1923</td><td>323819.23</td><td>/batch_1/4_band/split_6    </td><td>SR</td><td>103001007388B900</td><td>WV02</td><td>2017</td><td>9</td><td>2017-09-28 01:00:00</td><td>WV02</td><td>59.34000</td><td>258.02</td><td>23.11000</td><td>187.4800</td><td>/explore/nobackup/projects/ilab/data/srlite/products/srlite_1.0.1/srlite/alaska/batch_1/4_band/split_6/WV02_20170928_M1BS_103001007388B900-sr-02m.tif    </td><td> TRUE</td></tr>\n",
       "\t<tr><td>WV03_20190704_M1BS_1040010050235800-sr-02m.tif</td><td>WV03_20190704_M1BS_1040010050235800</td><td>/explore/nobackup/projects/ilab/data/srlite/products/srlite_1.0.1/srlite/alaska/batch_1/8_band_csv/split_2</td><td>2298.7670</td><td>229876.70</td><td>/batch_1/8_band_csv/split_2</td><td>SR</td><td>1040010050235800</td><td>WV03</td><td>2019</td><td>7</td><td>2019-07-04 01:00:00</td><td>WV03</td><td>66.00000</td><td> 74.82</td><td>56.44000</td><td>160.3500</td><td>/explore/nobackup/projects/ilab/data/srlite/products/srlite_1.0.1/srlite/alaska/batch_1/8_band_csv/split_2/WV03_20190704_M1BS_1040010050235800-sr-02m.tif</td><td>FALSE</td></tr>\n",
       "\t<tr><td>WV03_20190806_M1BS_104001004E03D100-sr-02m.tif</td><td>WV03_20190806_M1BS_104001004E03D100</td><td>/explore/nobackup/projects/ilab/data/srlite/products/srlite_1.0.1/srlite/alaska/batch_1/8_band_csv/split_2</td><td>1061.6519</td><td>106165.19</td><td>/batch_1/8_band_csv/split_2</td><td>SR</td><td>104001004E03D100</td><td>WV03</td><td>2019</td><td>8</td><td>2019-08-06 01:00:00</td><td>WV03</td><td>71.76667</td><td>266.60</td><td>50.25000</td><td>172.0667</td><td>/explore/nobackup/projects/ilab/data/srlite/products/srlite_1.0.1/srlite/alaska/batch_1/8_band_csv/split_2/WV03_20190806_M1BS_104001004E03D100-sr-02m.tif</td><td>FALSE</td></tr>\n",
       "\t<tr><td>WV03_20190830_M1BS_104001004FD68A00-sr-02m.tif</td><td>WV03_20190830_M1BS_104001004FD68A00</td><td>/explore/nobackup/projects/ilab/data/srlite/products/srlite_1.0.1/srlite/alaska/batch_1/8_band_csv/split_2</td><td> 411.4221</td><td> 41142.21</td><td>/batch_1/8_band_csv/split_2</td><td>SR</td><td>104001004FD68A00</td><td>WV03</td><td>2019</td><td>8</td><td>2019-08-30 01:00:00</td><td>WV03</td><td>81.60000</td><td> 74.70</td><td>42.36667</td><td>169.0000</td><td>/explore/nobackup/projects/ilab/data/srlite/products/srlite_1.0.1/srlite/alaska/batch_1/8_band_csv/split_2/WV03_20190830_M1BS_104001004FD68A00-sr-02m.tif</td><td>FALSE</td></tr>\n",
       "\t<tr><td>WV03_20190830_M1BS_1040010051483500-sr-02m.tif</td><td>WV03_20190830_M1BS_1040010051483500</td><td>/explore/nobackup/projects/ilab/data/srlite/products/srlite_1.0.1/srlite/alaska/batch_1/8_band_csv/split_2</td><td> 789.5285</td><td> 78952.85</td><td>/batch_1/8_band_csv/split_2</td><td>SR</td><td>1040010051483500</td><td>WV03</td><td>2019</td><td>8</td><td>2019-08-30 01:00:00</td><td>WV03</td><td>73.24000</td><td>165.78</td><td>42.28000</td><td>168.9400</td><td>/explore/nobackup/projects/ilab/data/srlite/products/srlite_1.0.1/srlite/alaska/batch_1/8_band_csv/split_2/WV03_20190830_M1BS_1040010051483500-sr-02m.tif</td><td>FALSE</td></tr>\n",
       "</tbody>\n",
       "</table>\n"
      ],
      "text/latex": [
       "A tibble: 6 × 19\n",
       "\\begin{tabular}{lllllllllllllllllll}\n",
       " file & footprint\\_name & path & area\\_km2 & area\\_ha & subdir & type & catid & sensor & year & month & date & satid & el & az & sunel & sunaz & srlite\\_path & arcBor\\\\\n",
       " <chr> & <chr> & <chr> & <dbl> & <dbl> & <chr> & <chr> & <chr> & <chr> & <dbl> & <dbl> & <dttm> & <chr> & <dbl> & <dbl> & <dbl> & <dbl> & <fs::path> & <lgl>\\\\\n",
       "\\hline\n",
       "\t WV02\\_20130813\\_M1BS\\_1030010026D4A600-sr-02m.tif & WV02\\_20130813\\_M1BS\\_1030010026D4A600 & /explore/nobackup/projects/ilab/data/srlite/products/srlite\\_1.0.1/srlite/alaska/batch\\_1/4\\_band/split\\_3     & 2629.7645 & 262976.45 & /batch\\_1/4\\_band/split\\_3     & SR & 1030010026D4A600 & WV02 & 2013 & 8 & 2013-08-13 01:00:00 & WV02 & 74.70000 & 219.39 & 46.04000 & 175.1000 & /explore/nobackup/projects/ilab/data/srlite/products/srlite\\_1.0.1/srlite/alaska/batch\\_1/4\\_band/split\\_3/WV02\\_20130813\\_M1BS\\_1030010026D4A600-sr-02m.tif     & FALSE\\\\\n",
       "\t WV02\\_20170928\\_M1BS\\_103001007388B900-sr-02m.tif & WV02\\_20170928\\_M1BS\\_103001007388B900 & /explore/nobackup/projects/ilab/data/srlite/products/srlite\\_1.0.1/srlite/alaska/batch\\_1/4\\_band/split\\_6     & 3238.1923 & 323819.23 & /batch\\_1/4\\_band/split\\_6     & SR & 103001007388B900 & WV02 & 2017 & 9 & 2017-09-28 01:00:00 & WV02 & 59.34000 & 258.02 & 23.11000 & 187.4800 & /explore/nobackup/projects/ilab/data/srlite/products/srlite\\_1.0.1/srlite/alaska/batch\\_1/4\\_band/split\\_6/WV02\\_20170928\\_M1BS\\_103001007388B900-sr-02m.tif     &  TRUE\\\\\n",
       "\t WV03\\_20190704\\_M1BS\\_1040010050235800-sr-02m.tif & WV03\\_20190704\\_M1BS\\_1040010050235800 & /explore/nobackup/projects/ilab/data/srlite/products/srlite\\_1.0.1/srlite/alaska/batch\\_1/8\\_band\\_csv/split\\_2 & 2298.7670 & 229876.70 & /batch\\_1/8\\_band\\_csv/split\\_2 & SR & 1040010050235800 & WV03 & 2019 & 7 & 2019-07-04 01:00:00 & WV03 & 66.00000 &  74.82 & 56.44000 & 160.3500 & /explore/nobackup/projects/ilab/data/srlite/products/srlite\\_1.0.1/srlite/alaska/batch\\_1/8\\_band\\_csv/split\\_2/WV03\\_20190704\\_M1BS\\_1040010050235800-sr-02m.tif & FALSE\\\\\n",
       "\t WV03\\_20190806\\_M1BS\\_104001004E03D100-sr-02m.tif & WV03\\_20190806\\_M1BS\\_104001004E03D100 & /explore/nobackup/projects/ilab/data/srlite/products/srlite\\_1.0.1/srlite/alaska/batch\\_1/8\\_band\\_csv/split\\_2 & 1061.6519 & 106165.19 & /batch\\_1/8\\_band\\_csv/split\\_2 & SR & 104001004E03D100 & WV03 & 2019 & 8 & 2019-08-06 01:00:00 & WV03 & 71.76667 & 266.60 & 50.25000 & 172.0667 & /explore/nobackup/projects/ilab/data/srlite/products/srlite\\_1.0.1/srlite/alaska/batch\\_1/8\\_band\\_csv/split\\_2/WV03\\_20190806\\_M1BS\\_104001004E03D100-sr-02m.tif & FALSE\\\\\n",
       "\t WV03\\_20190830\\_M1BS\\_104001004FD68A00-sr-02m.tif & WV03\\_20190830\\_M1BS\\_104001004FD68A00 & /explore/nobackup/projects/ilab/data/srlite/products/srlite\\_1.0.1/srlite/alaska/batch\\_1/8\\_band\\_csv/split\\_2 &  411.4221 &  41142.21 & /batch\\_1/8\\_band\\_csv/split\\_2 & SR & 104001004FD68A00 & WV03 & 2019 & 8 & 2019-08-30 01:00:00 & WV03 & 81.60000 &  74.70 & 42.36667 & 169.0000 & /explore/nobackup/projects/ilab/data/srlite/products/srlite\\_1.0.1/srlite/alaska/batch\\_1/8\\_band\\_csv/split\\_2/WV03\\_20190830\\_M1BS\\_104001004FD68A00-sr-02m.tif & FALSE\\\\\n",
       "\t WV03\\_20190830\\_M1BS\\_1040010051483500-sr-02m.tif & WV03\\_20190830\\_M1BS\\_1040010051483500 & /explore/nobackup/projects/ilab/data/srlite/products/srlite\\_1.0.1/srlite/alaska/batch\\_1/8\\_band\\_csv/split\\_2 &  789.5285 &  78952.85 & /batch\\_1/8\\_band\\_csv/split\\_2 & SR & 1040010051483500 & WV03 & 2019 & 8 & 2019-08-30 01:00:00 & WV03 & 73.24000 & 165.78 & 42.28000 & 168.9400 & /explore/nobackup/projects/ilab/data/srlite/products/srlite\\_1.0.1/srlite/alaska/batch\\_1/8\\_band\\_csv/split\\_2/WV03\\_20190830\\_M1BS\\_1040010051483500-sr-02m.tif & FALSE\\\\\n",
       "\\end{tabular}\n"
      ],
      "text/markdown": [
       "\n",
       "A tibble: 6 × 19\n",
       "\n",
       "| file &lt;chr&gt; | footprint_name &lt;chr&gt; | path &lt;chr&gt; | area_km2 &lt;dbl&gt; | area_ha &lt;dbl&gt; | subdir &lt;chr&gt; | type &lt;chr&gt; | catid &lt;chr&gt; | sensor &lt;chr&gt; | year &lt;dbl&gt; | month &lt;dbl&gt; | date &lt;dttm&gt; | satid &lt;chr&gt; | el &lt;dbl&gt; | az &lt;dbl&gt; | sunel &lt;dbl&gt; | sunaz &lt;dbl&gt; | srlite_path &lt;fs::path&gt; | arcBor &lt;lgl&gt; |\n",
       "|---|---|---|---|---|---|---|---|---|---|---|---|---|---|---|---|---|---|---|\n",
       "| WV02_20130813_M1BS_1030010026D4A600-sr-02m.tif | WV02_20130813_M1BS_1030010026D4A600 | /explore/nobackup/projects/ilab/data/srlite/products/srlite_1.0.1/srlite/alaska/batch_1/4_band/split_3     | 2629.7645 | 262976.45 | /batch_1/4_band/split_3     | SR | 1030010026D4A600 | WV02 | 2013 | 8 | 2013-08-13 01:00:00 | WV02 | 74.70000 | 219.39 | 46.04000 | 175.1000 | /explore/nobackup/projects/ilab/data/srlite/products/srlite_1.0.1/srlite/alaska/batch_1/4_band/split_3/WV02_20130813_M1BS_1030010026D4A600-sr-02m.tif     | FALSE |\n",
       "| WV02_20170928_M1BS_103001007388B900-sr-02m.tif | WV02_20170928_M1BS_103001007388B900 | /explore/nobackup/projects/ilab/data/srlite/products/srlite_1.0.1/srlite/alaska/batch_1/4_band/split_6     | 3238.1923 | 323819.23 | /batch_1/4_band/split_6     | SR | 103001007388B900 | WV02 | 2017 | 9 | 2017-09-28 01:00:00 | WV02 | 59.34000 | 258.02 | 23.11000 | 187.4800 | /explore/nobackup/projects/ilab/data/srlite/products/srlite_1.0.1/srlite/alaska/batch_1/4_band/split_6/WV02_20170928_M1BS_103001007388B900-sr-02m.tif     |  TRUE |\n",
       "| WV03_20190704_M1BS_1040010050235800-sr-02m.tif | WV03_20190704_M1BS_1040010050235800 | /explore/nobackup/projects/ilab/data/srlite/products/srlite_1.0.1/srlite/alaska/batch_1/8_band_csv/split_2 | 2298.7670 | 229876.70 | /batch_1/8_band_csv/split_2 | SR | 1040010050235800 | WV03 | 2019 | 7 | 2019-07-04 01:00:00 | WV03 | 66.00000 |  74.82 | 56.44000 | 160.3500 | /explore/nobackup/projects/ilab/data/srlite/products/srlite_1.0.1/srlite/alaska/batch_1/8_band_csv/split_2/WV03_20190704_M1BS_1040010050235800-sr-02m.tif | FALSE |\n",
       "| WV03_20190806_M1BS_104001004E03D100-sr-02m.tif | WV03_20190806_M1BS_104001004E03D100 | /explore/nobackup/projects/ilab/data/srlite/products/srlite_1.0.1/srlite/alaska/batch_1/8_band_csv/split_2 | 1061.6519 | 106165.19 | /batch_1/8_band_csv/split_2 | SR | 104001004E03D100 | WV03 | 2019 | 8 | 2019-08-06 01:00:00 | WV03 | 71.76667 | 266.60 | 50.25000 | 172.0667 | /explore/nobackup/projects/ilab/data/srlite/products/srlite_1.0.1/srlite/alaska/batch_1/8_band_csv/split_2/WV03_20190806_M1BS_104001004E03D100-sr-02m.tif | FALSE |\n",
       "| WV03_20190830_M1BS_104001004FD68A00-sr-02m.tif | WV03_20190830_M1BS_104001004FD68A00 | /explore/nobackup/projects/ilab/data/srlite/products/srlite_1.0.1/srlite/alaska/batch_1/8_band_csv/split_2 |  411.4221 |  41142.21 | /batch_1/8_band_csv/split_2 | SR | 104001004FD68A00 | WV03 | 2019 | 8 | 2019-08-30 01:00:00 | WV03 | 81.60000 |  74.70 | 42.36667 | 169.0000 | /explore/nobackup/projects/ilab/data/srlite/products/srlite_1.0.1/srlite/alaska/batch_1/8_band_csv/split_2/WV03_20190830_M1BS_104001004FD68A00-sr-02m.tif | FALSE |\n",
       "| WV03_20190830_M1BS_1040010051483500-sr-02m.tif | WV03_20190830_M1BS_1040010051483500 | /explore/nobackup/projects/ilab/data/srlite/products/srlite_1.0.1/srlite/alaska/batch_1/8_band_csv/split_2 |  789.5285 |  78952.85 | /batch_1/8_band_csv/split_2 | SR | 1040010051483500 | WV03 | 2019 | 8 | 2019-08-30 01:00:00 | WV03 | 73.24000 | 165.78 | 42.28000 | 168.9400 | /explore/nobackup/projects/ilab/data/srlite/products/srlite_1.0.1/srlite/alaska/batch_1/8_band_csv/split_2/WV03_20190830_M1BS_1040010051483500-sr-02m.tif | FALSE |\n",
       "\n"
      ],
      "text/plain": [
       "  file                                          \n",
       "1 WV02_20130813_M1BS_1030010026D4A600-sr-02m.tif\n",
       "2 WV02_20170928_M1BS_103001007388B900-sr-02m.tif\n",
       "3 WV03_20190704_M1BS_1040010050235800-sr-02m.tif\n",
       "4 WV03_20190806_M1BS_104001004E03D100-sr-02m.tif\n",
       "5 WV03_20190830_M1BS_104001004FD68A00-sr-02m.tif\n",
       "6 WV03_20190830_M1BS_1040010051483500-sr-02m.tif\n",
       "  footprint_name                     \n",
       "1 WV02_20130813_M1BS_1030010026D4A600\n",
       "2 WV02_20170928_M1BS_103001007388B900\n",
       "3 WV03_20190704_M1BS_1040010050235800\n",
       "4 WV03_20190806_M1BS_104001004E03D100\n",
       "5 WV03_20190830_M1BS_104001004FD68A00\n",
       "6 WV03_20190830_M1BS_1040010051483500\n",
       "  path                                                                                                      \n",
       "1 /explore/nobackup/projects/ilab/data/srlite/products/srlite_1.0.1/srlite/alaska/batch_1/4_band/split_3    \n",
       "2 /explore/nobackup/projects/ilab/data/srlite/products/srlite_1.0.1/srlite/alaska/batch_1/4_band/split_6    \n",
       "3 /explore/nobackup/projects/ilab/data/srlite/products/srlite_1.0.1/srlite/alaska/batch_1/8_band_csv/split_2\n",
       "4 /explore/nobackup/projects/ilab/data/srlite/products/srlite_1.0.1/srlite/alaska/batch_1/8_band_csv/split_2\n",
       "5 /explore/nobackup/projects/ilab/data/srlite/products/srlite_1.0.1/srlite/alaska/batch_1/8_band_csv/split_2\n",
       "6 /explore/nobackup/projects/ilab/data/srlite/products/srlite_1.0.1/srlite/alaska/batch_1/8_band_csv/split_2\n",
       "  area_km2  area_ha   subdir                      type catid            sensor\n",
       "1 2629.7645 262976.45 /batch_1/4_band/split_3     SR   1030010026D4A600 WV02  \n",
       "2 3238.1923 323819.23 /batch_1/4_band/split_6     SR   103001007388B900 WV02  \n",
       "3 2298.7670 229876.70 /batch_1/8_band_csv/split_2 SR   1040010050235800 WV03  \n",
       "4 1061.6519 106165.19 /batch_1/8_band_csv/split_2 SR   104001004E03D100 WV03  \n",
       "5  411.4221  41142.21 /batch_1/8_band_csv/split_2 SR   104001004FD68A00 WV03  \n",
       "6  789.5285  78952.85 /batch_1/8_band_csv/split_2 SR   1040010051483500 WV03  \n",
       "  year month date                satid el       az     sunel    sunaz   \n",
       "1 2013 8     2013-08-13 01:00:00 WV02  74.70000 219.39 46.04000 175.1000\n",
       "2 2017 9     2017-09-28 01:00:00 WV02  59.34000 258.02 23.11000 187.4800\n",
       "3 2019 7     2019-07-04 01:00:00 WV03  66.00000  74.82 56.44000 160.3500\n",
       "4 2019 8     2019-08-06 01:00:00 WV03  71.76667 266.60 50.25000 172.0667\n",
       "5 2019 8     2019-08-30 01:00:00 WV03  81.60000  74.70 42.36667 169.0000\n",
       "6 2019 8     2019-08-30 01:00:00 WV03  73.24000 165.78 42.28000 168.9400\n",
       "  srlite_path                                                                                                                                              \n",
       "1 /explore/nobackup/projects/ilab/data/srlite/products/srlite_1.0.1/srlite/alaska/batch_1/4_band/split_3/WV02_20130813_M1BS_1030010026D4A600-sr-02m.tif    \n",
       "2 /explore/nobackup/projects/ilab/data/srlite/products/srlite_1.0.1/srlite/alaska/batch_1/4_band/split_6/WV02_20170928_M1BS_103001007388B900-sr-02m.tif    \n",
       "3 /explore/nobackup/projects/ilab/data/srlite/products/srlite_1.0.1/srlite/alaska/batch_1/8_band_csv/split_2/WV03_20190704_M1BS_1040010050235800-sr-02m.tif\n",
       "4 /explore/nobackup/projects/ilab/data/srlite/products/srlite_1.0.1/srlite/alaska/batch_1/8_band_csv/split_2/WV03_20190806_M1BS_104001004E03D100-sr-02m.tif\n",
       "5 /explore/nobackup/projects/ilab/data/srlite/products/srlite_1.0.1/srlite/alaska/batch_1/8_band_csv/split_2/WV03_20190830_M1BS_104001004FD68A00-sr-02m.tif\n",
       "6 /explore/nobackup/projects/ilab/data/srlite/products/srlite_1.0.1/srlite/alaska/batch_1/8_band_csv/split_2/WV03_20190830_M1BS_1040010051483500-sr-02m.tif\n",
       "  arcBor\n",
       "1 FALSE \n",
       "2  TRUE \n",
       "3 FALSE \n",
       "4 FALSE \n",
       "5 FALSE \n",
       "6 FALSE "
      ]
     },
     "metadata": {},
     "output_type": "display_data"
    }
   ],
   "source": [
    "srlite_summer <- srlite_fp %>% st_drop_geometry() %>% filter(month %in% c(6,7,8,9))\n",
    "srlite_summer %>% group_by(month) %>% tally()\n",
    "srlite_summer %>% head()"
   ]
  },
  {
   "cell_type": "code",
   "execution_count": 6,
   "id": "7985db95-3dde-4d9d-9452-17dc5726f07f",
   "metadata": {},
   "outputs": [
    {
     "name": "stderr",
     "output_type": "stream",
     "text": [
      "\u001b[1m\u001b[22mNew names:\n",
      "\u001b[36m•\u001b[39m `` -> `...1`\n",
      "\u001b[1mRows: \u001b[22m\u001b[34m25160\u001b[39m \u001b[1mColumns: \u001b[22m\u001b[34m25\u001b[39m\n",
      "\u001b[36m──\u001b[39m \u001b[1mColumn specification\u001b[22m \u001b[36m────────────────────────────────────────────────────────\u001b[39m\n",
      "\u001b[1mDelimiter:\u001b[22m \",\"\n",
      "\u001b[31mchr\u001b[39m   (7): band_name, model, file, type, footprint_name, catid, sensor\n",
      "\u001b[32mdbl\u001b[39m  (17): ...1, intercept, slope, r2_score, explained_variance, mbe, mae, m...\n",
      "\u001b[34mdate\u001b[39m  (1): date\n",
      "\n",
      "\u001b[36mℹ\u001b[39m Use `spec()` to retrieve the full column specification for this data.\n",
      "\u001b[36mℹ\u001b[39m Specify the column types or set `show_col_types = FALSE` to quiet this message.\n"
     ]
    },
    {
     "data": {
      "text/html": [
       "797"
      ],
      "text/latex": [
       "797"
      ],
      "text/markdown": [
       "797"
      ],
      "text/plain": [
       "[1] 797"
      ]
     },
     "metadata": {},
     "output_type": "display_data"
    },
    {
     "data": {
      "text/html": [
       "<table class=\"dataframe\">\n",
       "<caption>A tibble: 6 × 65</caption>\n",
       "<thead>\n",
       "\t<tr><th scope=col>model</th><th scope=col>file</th><th scope=col>type</th><th scope=col>footprint_name</th><th scope=col>catid</th><th scope=col>sensor</th><th scope=col>year</th><th scope=col>month</th><th scope=col>date</th><th scope=col>intercept_Blue</th><th scope=col>⋯</th><th scope=col>mean_evhr_srlite_Red</th><th scope=col>mean_evhr_srlite_NIR</th><th scope=col>mae_norm_Blue</th><th scope=col>mae_norm_Green</th><th scope=col>mae_norm_Red</th><th scope=col>mae_norm_NIR</th><th scope=col>rmse_norm_Blue</th><th scope=col>rmse_norm_Green</th><th scope=col>rmse_norm_Red</th><th scope=col>rmse_norm_NIR</th></tr>\n",
       "\t<tr><th scope=col>&lt;chr&gt;</th><th scope=col>&lt;chr&gt;</th><th scope=col>&lt;chr&gt;</th><th scope=col>&lt;chr&gt;</th><th scope=col>&lt;chr&gt;</th><th scope=col>&lt;chr&gt;</th><th scope=col>&lt;dbl&gt;</th><th scope=col>&lt;dbl&gt;</th><th scope=col>&lt;date&gt;</th><th scope=col>&lt;dbl&gt;</th><th scope=col>⋯</th><th scope=col>&lt;dbl&gt;</th><th scope=col>&lt;dbl&gt;</th><th scope=col>&lt;dbl&gt;</th><th scope=col>&lt;dbl&gt;</th><th scope=col>&lt;dbl&gt;</th><th scope=col>&lt;dbl&gt;</th><th scope=col>&lt;dbl&gt;</th><th scope=col>&lt;dbl&gt;</th><th scope=col>&lt;dbl&gt;</th><th scope=col>&lt;dbl&gt;</th></tr>\n",
       "</thead>\n",
       "<tbody>\n",
       "\t<tr><td>rma</td><td>WV02_20100526_M1BS_1030010005890800_rma_SRLite_statistics.csv</td><td>SR (batch_1 4_band_csv)</td><td>WV02_20100526_M1BS_1030010005890800</td><td>1030010005890800</td><td>WV02</td><td>2010</td><td>5</td><td>2010-05-26</td><td>-0.004624824</td><td>⋯</td><td>0.03532135</td><td>0.1458139</td><td>0.20889571</td><td>0.24253339</td><td>0.31376809</td><td>0.12884627</td><td>0.3837424</td><td>0.41164465</td><td>0.5566762</td><td>0.21242917</td></tr>\n",
       "\t<tr><td>rma</td><td>WV02_20100607_M1BS_10300100056B1D00_rma_SRLite_statistics.csv</td><td>SR (batch_1 4_band_csv)</td><td>WV02_20100607_M1BS_10300100056B1D00</td><td>10300100056B1D00</td><td>WV02</td><td>2010</td><td>6</td><td>2010-06-07</td><td>-0.060267183</td><td>⋯</td><td>0.05153005</td><td>0.1790403</td><td>0.06466824</td><td>0.05240292</td><td>0.07740959</td><td>0.06252787</td><td>0.1078076</td><td>0.09183965</td><td>0.1347577</td><td>0.09222752</td></tr>\n",
       "\t<tr><td>rma</td><td>WV02_20100624_M1BS_10300100065B9F00_rma_SRLite_statistics.csv</td><td>SR (batch_1 4_band_csv)</td><td>WV02_20100624_M1BS_10300100065B9F00</td><td>10300100065B9F00</td><td>WV02</td><td>2010</td><td>6</td><td>2010-06-24</td><td>-0.082692242</td><td>⋯</td><td>0.07537508</td><td>0.1878855</td><td>0.12921003</td><td>0.10444712</td><td>0.10986816</td><td>0.06081597</td><td>0.3594432</td><td>0.29748031</td><td>0.2911994</td><td>0.11510198</td></tr>\n",
       "\t<tr><td>rma</td><td>WV02_20100627_M1BS_103001000625B000_rma_SRLite_statistics.csv</td><td>SR (batch_1 4_band_csv)</td><td>WV02_20100627_M1BS_103001000625B000</td><td>103001000625B000</td><td>WV02</td><td>2010</td><td>6</td><td>2010-06-27</td><td> 0.111568724</td><td>⋯</td><td>0.05883414</td><td>0.1838538</td><td>0.26085863</td><td>0.36552352</td><td>0.41956373</td><td>0.11296184</td><td>0.3298210</td><td>0.44748244</td><td>0.5191334</td><td>0.15892230</td></tr>\n",
       "\t<tr><td>rma</td><td>WV02_20100707_M1BS_1030010005554F00_rma_SRLite_statistics.csv</td><td>SR (batch_1 4_band_csv)</td><td>WV02_20100707_M1BS_1030010005554F00</td><td>1030010005554F00</td><td>WV02</td><td>2010</td><td>7</td><td>2010-07-07</td><td>-0.026643385</td><td>⋯</td><td>0.04253981</td><td>0.2035741</td><td>0.28470133</td><td>0.24084641</td><td>0.32272155</td><td>0.14984594</td><td>0.7463661</td><td>0.52428886</td><td>0.6934603</td><td>0.23713079</td></tr>\n",
       "\t<tr><td>rma</td><td>WV02_20100709_M1BS_1030010006544A00_rma_SRLite_statistics.csv</td><td>SR (batch_1 4_band_csv)</td><td>WV02_20100709_M1BS_1030010006544A00</td><td>1030010006544A00</td><td>WV02</td><td>2010</td><td>7</td><td>2010-07-09</td><td>-0.048322465</td><td>⋯</td><td>0.03969153</td><td>0.2493493</td><td>0.09636465</td><td>0.07176906</td><td>0.09862164</td><td>0.06099099</td><td>0.1439473</td><td>0.10725108</td><td>0.1486887</td><td>0.08519820</td></tr>\n",
       "</tbody>\n",
       "</table>\n"
      ],
      "text/latex": [
       "A tibble: 6 × 65\n",
       "\\begin{tabular}{lllllllllllllllllllll}\n",
       " model & file & type & footprint\\_name & catid & sensor & year & month & date & intercept\\_Blue & ⋯ & mean\\_evhr\\_srlite\\_Red & mean\\_evhr\\_srlite\\_NIR & mae\\_norm\\_Blue & mae\\_norm\\_Green & mae\\_norm\\_Red & mae\\_norm\\_NIR & rmse\\_norm\\_Blue & rmse\\_norm\\_Green & rmse\\_norm\\_Red & rmse\\_norm\\_NIR\\\\\n",
       " <chr> & <chr> & <chr> & <chr> & <chr> & <chr> & <dbl> & <dbl> & <date> & <dbl> & ⋯ & <dbl> & <dbl> & <dbl> & <dbl> & <dbl> & <dbl> & <dbl> & <dbl> & <dbl> & <dbl>\\\\\n",
       "\\hline\n",
       "\t rma & WV02\\_20100526\\_M1BS\\_1030010005890800\\_rma\\_SRLite\\_statistics.csv & SR (batch\\_1 4\\_band\\_csv) & WV02\\_20100526\\_M1BS\\_1030010005890800 & 1030010005890800 & WV02 & 2010 & 5 & 2010-05-26 & -0.004624824 & ⋯ & 0.03532135 & 0.1458139 & 0.20889571 & 0.24253339 & 0.31376809 & 0.12884627 & 0.3837424 & 0.41164465 & 0.5566762 & 0.21242917\\\\\n",
       "\t rma & WV02\\_20100607\\_M1BS\\_10300100056B1D00\\_rma\\_SRLite\\_statistics.csv & SR (batch\\_1 4\\_band\\_csv) & WV02\\_20100607\\_M1BS\\_10300100056B1D00 & 10300100056B1D00 & WV02 & 2010 & 6 & 2010-06-07 & -0.060267183 & ⋯ & 0.05153005 & 0.1790403 & 0.06466824 & 0.05240292 & 0.07740959 & 0.06252787 & 0.1078076 & 0.09183965 & 0.1347577 & 0.09222752\\\\\n",
       "\t rma & WV02\\_20100624\\_M1BS\\_10300100065B9F00\\_rma\\_SRLite\\_statistics.csv & SR (batch\\_1 4\\_band\\_csv) & WV02\\_20100624\\_M1BS\\_10300100065B9F00 & 10300100065B9F00 & WV02 & 2010 & 6 & 2010-06-24 & -0.082692242 & ⋯ & 0.07537508 & 0.1878855 & 0.12921003 & 0.10444712 & 0.10986816 & 0.06081597 & 0.3594432 & 0.29748031 & 0.2911994 & 0.11510198\\\\\n",
       "\t rma & WV02\\_20100627\\_M1BS\\_103001000625B000\\_rma\\_SRLite\\_statistics.csv & SR (batch\\_1 4\\_band\\_csv) & WV02\\_20100627\\_M1BS\\_103001000625B000 & 103001000625B000 & WV02 & 2010 & 6 & 2010-06-27 &  0.111568724 & ⋯ & 0.05883414 & 0.1838538 & 0.26085863 & 0.36552352 & 0.41956373 & 0.11296184 & 0.3298210 & 0.44748244 & 0.5191334 & 0.15892230\\\\\n",
       "\t rma & WV02\\_20100707\\_M1BS\\_1030010005554F00\\_rma\\_SRLite\\_statistics.csv & SR (batch\\_1 4\\_band\\_csv) & WV02\\_20100707\\_M1BS\\_1030010005554F00 & 1030010005554F00 & WV02 & 2010 & 7 & 2010-07-07 & -0.026643385 & ⋯ & 0.04253981 & 0.2035741 & 0.28470133 & 0.24084641 & 0.32272155 & 0.14984594 & 0.7463661 & 0.52428886 & 0.6934603 & 0.23713079\\\\\n",
       "\t rma & WV02\\_20100709\\_M1BS\\_1030010006544A00\\_rma\\_SRLite\\_statistics.csv & SR (batch\\_1 4\\_band\\_csv) & WV02\\_20100709\\_M1BS\\_1030010006544A00 & 1030010006544A00 & WV02 & 2010 & 7 & 2010-07-09 & -0.048322465 & ⋯ & 0.03969153 & 0.2493493 & 0.09636465 & 0.07176906 & 0.09862164 & 0.06099099 & 0.1439473 & 0.10725108 & 0.1486887 & 0.08519820\\\\\n",
       "\\end{tabular}\n"
      ],
      "text/markdown": [
       "\n",
       "A tibble: 6 × 65\n",
       "\n",
       "| model &lt;chr&gt; | file &lt;chr&gt; | type &lt;chr&gt; | footprint_name &lt;chr&gt; | catid &lt;chr&gt; | sensor &lt;chr&gt; | year &lt;dbl&gt; | month &lt;dbl&gt; | date &lt;date&gt; | intercept_Blue &lt;dbl&gt; | ⋯ ⋯ | mean_evhr_srlite_Red &lt;dbl&gt; | mean_evhr_srlite_NIR &lt;dbl&gt; | mae_norm_Blue &lt;dbl&gt; | mae_norm_Green &lt;dbl&gt; | mae_norm_Red &lt;dbl&gt; | mae_norm_NIR &lt;dbl&gt; | rmse_norm_Blue &lt;dbl&gt; | rmse_norm_Green &lt;dbl&gt; | rmse_norm_Red &lt;dbl&gt; | rmse_norm_NIR &lt;dbl&gt; |\n",
       "|---|---|---|---|---|---|---|---|---|---|---|---|---|---|---|---|---|---|---|---|---|\n",
       "| rma | WV02_20100526_M1BS_1030010005890800_rma_SRLite_statistics.csv | SR (batch_1 4_band_csv) | WV02_20100526_M1BS_1030010005890800 | 1030010005890800 | WV02 | 2010 | 5 | 2010-05-26 | -0.004624824 | ⋯ | 0.03532135 | 0.1458139 | 0.20889571 | 0.24253339 | 0.31376809 | 0.12884627 | 0.3837424 | 0.41164465 | 0.5566762 | 0.21242917 |\n",
       "| rma | WV02_20100607_M1BS_10300100056B1D00_rma_SRLite_statistics.csv | SR (batch_1 4_band_csv) | WV02_20100607_M1BS_10300100056B1D00 | 10300100056B1D00 | WV02 | 2010 | 6 | 2010-06-07 | -0.060267183 | ⋯ | 0.05153005 | 0.1790403 | 0.06466824 | 0.05240292 | 0.07740959 | 0.06252787 | 0.1078076 | 0.09183965 | 0.1347577 | 0.09222752 |\n",
       "| rma | WV02_20100624_M1BS_10300100065B9F00_rma_SRLite_statistics.csv | SR (batch_1 4_band_csv) | WV02_20100624_M1BS_10300100065B9F00 | 10300100065B9F00 | WV02 | 2010 | 6 | 2010-06-24 | -0.082692242 | ⋯ | 0.07537508 | 0.1878855 | 0.12921003 | 0.10444712 | 0.10986816 | 0.06081597 | 0.3594432 | 0.29748031 | 0.2911994 | 0.11510198 |\n",
       "| rma | WV02_20100627_M1BS_103001000625B000_rma_SRLite_statistics.csv | SR (batch_1 4_band_csv) | WV02_20100627_M1BS_103001000625B000 | 103001000625B000 | WV02 | 2010 | 6 | 2010-06-27 |  0.111568724 | ⋯ | 0.05883414 | 0.1838538 | 0.26085863 | 0.36552352 | 0.41956373 | 0.11296184 | 0.3298210 | 0.44748244 | 0.5191334 | 0.15892230 |\n",
       "| rma | WV02_20100707_M1BS_1030010005554F00_rma_SRLite_statistics.csv | SR (batch_1 4_band_csv) | WV02_20100707_M1BS_1030010005554F00 | 1030010005554F00 | WV02 | 2010 | 7 | 2010-07-07 | -0.026643385 | ⋯ | 0.04253981 | 0.2035741 | 0.28470133 | 0.24084641 | 0.32272155 | 0.14984594 | 0.7463661 | 0.52428886 | 0.6934603 | 0.23713079 |\n",
       "| rma | WV02_20100709_M1BS_1030010006544A00_rma_SRLite_statistics.csv | SR (batch_1 4_band_csv) | WV02_20100709_M1BS_1030010006544A00 | 1030010006544A00 | WV02 | 2010 | 7 | 2010-07-09 | -0.048322465 | ⋯ | 0.03969153 | 0.2493493 | 0.09636465 | 0.07176906 | 0.09862164 | 0.06099099 | 0.1439473 | 0.10725108 | 0.1486887 | 0.08519820 |\n",
       "\n"
      ],
      "text/plain": [
       "  model file                                                         \n",
       "1 rma   WV02_20100526_M1BS_1030010005890800_rma_SRLite_statistics.csv\n",
       "2 rma   WV02_20100607_M1BS_10300100056B1D00_rma_SRLite_statistics.csv\n",
       "3 rma   WV02_20100624_M1BS_10300100065B9F00_rma_SRLite_statistics.csv\n",
       "4 rma   WV02_20100627_M1BS_103001000625B000_rma_SRLite_statistics.csv\n",
       "5 rma   WV02_20100707_M1BS_1030010005554F00_rma_SRLite_statistics.csv\n",
       "6 rma   WV02_20100709_M1BS_1030010006544A00_rma_SRLite_statistics.csv\n",
       "  type                    footprint_name                      catid           \n",
       "1 SR (batch_1 4_band_csv) WV02_20100526_M1BS_1030010005890800 1030010005890800\n",
       "2 SR (batch_1 4_band_csv) WV02_20100607_M1BS_10300100056B1D00 10300100056B1D00\n",
       "3 SR (batch_1 4_band_csv) WV02_20100624_M1BS_10300100065B9F00 10300100065B9F00\n",
       "4 SR (batch_1 4_band_csv) WV02_20100627_M1BS_103001000625B000 103001000625B000\n",
       "5 SR (batch_1 4_band_csv) WV02_20100707_M1BS_1030010005554F00 1030010005554F00\n",
       "6 SR (batch_1 4_band_csv) WV02_20100709_M1BS_1030010006544A00 1030010006544A00\n",
       "  sensor year month date       intercept_Blue ⋯ mean_evhr_srlite_Red\n",
       "1 WV02   2010 5     2010-05-26 -0.004624824   ⋯ 0.03532135          \n",
       "2 WV02   2010 6     2010-06-07 -0.060267183   ⋯ 0.05153005          \n",
       "3 WV02   2010 6     2010-06-24 -0.082692242   ⋯ 0.07537508          \n",
       "4 WV02   2010 6     2010-06-27  0.111568724   ⋯ 0.05883414          \n",
       "5 WV02   2010 7     2010-07-07 -0.026643385   ⋯ 0.04253981          \n",
       "6 WV02   2010 7     2010-07-09 -0.048322465   ⋯ 0.03969153          \n",
       "  mean_evhr_srlite_NIR mae_norm_Blue mae_norm_Green mae_norm_Red mae_norm_NIR\n",
       "1 0.1458139            0.20889571    0.24253339     0.31376809   0.12884627  \n",
       "2 0.1790403            0.06466824    0.05240292     0.07740959   0.06252787  \n",
       "3 0.1878855            0.12921003    0.10444712     0.10986816   0.06081597  \n",
       "4 0.1838538            0.26085863    0.36552352     0.41956373   0.11296184  \n",
       "5 0.2035741            0.28470133    0.24084641     0.32272155   0.14984594  \n",
       "6 0.2493493            0.09636465    0.07176906     0.09862164   0.06099099  \n",
       "  rmse_norm_Blue rmse_norm_Green rmse_norm_Red rmse_norm_NIR\n",
       "1 0.3837424      0.41164465      0.5566762     0.21242917   \n",
       "2 0.1078076      0.09183965      0.1347577     0.09222752   \n",
       "3 0.3594432      0.29748031      0.2911994     0.11510198   \n",
       "4 0.3298210      0.44748244      0.5191334     0.15892230   \n",
       "5 0.7463661      0.52428886      0.6934603     0.23713079   \n",
       "6 0.1439473      0.10725108      0.1486887     0.08519820   "
      ]
     },
     "metadata": {},
     "output_type": "display_data"
    }
   ],
   "source": [
    "srlite_metrics <- read_csv('/explore/nobackup/people/pmontesa/userfs02/projects/ilab/above_shrubs/data/tables/srlite_metrics_alaska_202308291350.csv') %>%\n",
    "  select(-`...1`)\n",
    "dups <- srlite_metrics %>%\n",
    "  dplyr::group_by(model, file, type, footprint_name, catid, sensor, year, month, date, band_name) %>%\n",
    "  dplyr::summarise(n = dplyr::n(), .groups = \"drop\") %>%\n",
    "  dplyr::filter(n > 1L) \n",
    "\n",
    "\n",
    "srlite_metrics_wide <- srlite_metrics %>%\n",
    "  filter(band_name %in% c('Blue','Green','Red','NIR')) %>%\n",
    "  pivot_wider(id_cols=c(model, file, type, footprint_name, catid, sensor, year, month, date), names_from=band_name, values_from=intercept:rmse_norm, values_fn=mean) #%>%\n",
    "\n",
    "srlite_metrics_wide_78 <- srlite_metrics_wide %>%\n",
    "  filter(month %in% c(7,8))\n",
    "\n",
    "srlite_metrics_wide_78_r2filt <- srlite_metrics_wide_78 %>%\n",
    "  filter(r2_score_NIR >= 0.75)\n",
    "\n",
    "srlite_metrics_wide_r2filt <- srlite_metrics_wide %>%\n",
    "  filter(r2_score_NIR >= 0.75)\n",
    "\n",
    "nrow(srlite_metrics_wide_78_r2filt)\n",
    "\n",
    "srlite_metrics_wide_r2filt %>% head()"
   ]
  },
  {
   "cell_type": "code",
   "execution_count": 7,
   "id": "37e17ca9-6332-4732-a668-bf7383ab1211",
   "metadata": {},
   "outputs": [
    {
     "data": {
      "text/html": [
       "<table class=\"dataframe\">\n",
       "<caption>A tibble: 4 × 2</caption>\n",
       "<thead>\n",
       "\t<tr><th scope=col>month</th><th scope=col>n</th></tr>\n",
       "\t<tr><th scope=col>&lt;dbl&gt;</th><th scope=col>&lt;int&gt;</th></tr>\n",
       "</thead>\n",
       "<tbody>\n",
       "\t<tr><td>6</td><td>348</td></tr>\n",
       "\t<tr><td>7</td><td>413</td></tr>\n",
       "\t<tr><td>8</td><td>324</td></tr>\n",
       "\t<tr><td>9</td><td>276</td></tr>\n",
       "</tbody>\n",
       "</table>\n"
      ],
      "text/latex": [
       "A tibble: 4 × 2\n",
       "\\begin{tabular}{ll}\n",
       " month & n\\\\\n",
       " <dbl> & <int>\\\\\n",
       "\\hline\n",
       "\t 6 & 348\\\\\n",
       "\t 7 & 413\\\\\n",
       "\t 8 & 324\\\\\n",
       "\t 9 & 276\\\\\n",
       "\\end{tabular}\n"
      ],
      "text/markdown": [
       "\n",
       "A tibble: 4 × 2\n",
       "\n",
       "| month &lt;dbl&gt; | n &lt;int&gt; |\n",
       "|---|---|\n",
       "| 6 | 348 |\n",
       "| 7 | 413 |\n",
       "| 8 | 324 |\n",
       "| 9 | 276 |\n",
       "\n"
      ],
      "text/plain": [
       "  month n  \n",
       "1 6     348\n",
       "2 7     413\n",
       "3 8     324\n",
       "4 9     276"
      ]
     },
     "metadata": {},
     "output_type": "display_data"
    }
   ],
   "source": [
    "srlite_summer_r2_filt <- srlite_summer %>%\n",
    "semi_join(srlite_metrics_wide_r2filt, by='catid')\n",
    "\n",
    "# srlite_summer %>% head()\n",
    "# srlite_metrics_wide_r2filt %>% head()\n",
    "\n",
    "srlite_summer_r2_filt %>% group_by(month) %>% tally()"
   ]
  },
  {
   "cell_type": "code",
   "execution_count": 8,
   "id": "8449e274-d053-4077-ac6b-ac81f02386bc",
   "metadata": {},
   "outputs": [
    {
     "name": "stderr",
     "output_type": "stream",
     "text": [
      "\u001b[1mRows: \u001b[22m\u001b[34m340\u001b[39m \u001b[1mColumns: \u001b[22m\u001b[34m1\u001b[39m\n",
      "\u001b[36m──\u001b[39m \u001b[1mColumn specification\u001b[22m \u001b[36m────────────────────────────────────────────────────────\u001b[39m\n",
      "\u001b[1mDelimiter:\u001b[22m \",\"\n",
      "\u001b[31mchr\u001b[39m (1): srlite_path\n",
      "\n",
      "\u001b[36mℹ\u001b[39m Use `spec()` to retrieve the full column specification for this data.\n",
      "\u001b[36mℹ\u001b[39m Specify the column types or set `show_col_types = FALSE` to quiet this message.\n"
     ]
    },
    {
     "data": {
      "text/html": [
       "<table class=\"dataframe\">\n",
       "<caption>A tibble: 6 × 3</caption>\n",
       "<thead>\n",
       "\t<tr><th scope=col>srlite_path</th><th scope=col>srlite_file</th><th scope=col>catid</th></tr>\n",
       "\t<tr><th scope=col>&lt;chr&gt;</th><th scope=col>&lt;chr&gt;</th><th scope=col>&lt;chr&gt;</th></tr>\n",
       "</thead>\n",
       "<tbody>\n",
       "\t<tr><td>/explore/nobackup/projects/ilab/data/srlite/products/srlite_1.0.1/srlite/alaska/batch_1/4_band_csv/WV02_20100802_M1BS_1030010006545100-sr-02m.tif</td><td>WV02_20100802_M1BS_1030010006545100-sr-02m.tif</td><td>1030010006545100</td></tr>\n",
       "\t<tr><td>/explore/nobackup/projects/ilab/data/srlite/products/srlite_1.0.1/srlite/alaska/batch_1/4_band_csv/WV02_20100815_M1BS_10300100068BF600-sr-02m.tif</td><td>WV02_20100815_M1BS_10300100068BF600-sr-02m.tif</td><td>10300100068BF600</td></tr>\n",
       "\t<tr><td>/explore/nobackup/projects/ilab/data/srlite/products/srlite_1.0.1/srlite/alaska/batch_1/4_band_csv/WV02_20110707_M1BS_103001000C6D7600-sr-02m.tif</td><td>WV02_20110707_M1BS_103001000C6D7600-sr-02m.tif</td><td>103001000C6D7600</td></tr>\n",
       "\t<tr><td>/explore/nobackup/projects/ilab/data/srlite/products/srlite_1.0.1/srlite/alaska/batch_1/4_band_csv/WV02_20110707_M1BS_103001000CA39000-sr-02m.tif</td><td>WV02_20110707_M1BS_103001000CA39000-sr-02m.tif</td><td>103001000CA39000</td></tr>\n",
       "\t<tr><td>/explore/nobackup/projects/ilab/data/srlite/products/srlite_1.0.1/srlite/alaska/batch_1/4_band_csv/WV02_20110721_M1BS_103001000C603400-sr-02m.tif</td><td>WV02_20110721_M1BS_103001000C603400-sr-02m.tif</td><td>103001000C603400</td></tr>\n",
       "\t<tr><td>/explore/nobackup/projects/ilab/data/srlite/products/srlite_1.0.1/srlite/alaska/batch_1/4_band_csv/WV02_20110722_M1BS_103001000CB60600-sr-02m.tif</td><td>WV02_20110722_M1BS_103001000CB60600-sr-02m.tif</td><td>103001000CB60600</td></tr>\n",
       "</tbody>\n",
       "</table>\n"
      ],
      "text/latex": [
       "A tibble: 6 × 3\n",
       "\\begin{tabular}{lll}\n",
       " srlite\\_path & srlite\\_file & catid\\\\\n",
       " <chr> & <chr> & <chr>\\\\\n",
       "\\hline\n",
       "\t /explore/nobackup/projects/ilab/data/srlite/products/srlite\\_1.0.1/srlite/alaska/batch\\_1/4\\_band\\_csv/WV02\\_20100802\\_M1BS\\_1030010006545100-sr-02m.tif & WV02\\_20100802\\_M1BS\\_1030010006545100-sr-02m.tif & 1030010006545100\\\\\n",
       "\t /explore/nobackup/projects/ilab/data/srlite/products/srlite\\_1.0.1/srlite/alaska/batch\\_1/4\\_band\\_csv/WV02\\_20100815\\_M1BS\\_10300100068BF600-sr-02m.tif & WV02\\_20100815\\_M1BS\\_10300100068BF600-sr-02m.tif & 10300100068BF600\\\\\n",
       "\t /explore/nobackup/projects/ilab/data/srlite/products/srlite\\_1.0.1/srlite/alaska/batch\\_1/4\\_band\\_csv/WV02\\_20110707\\_M1BS\\_103001000C6D7600-sr-02m.tif & WV02\\_20110707\\_M1BS\\_103001000C6D7600-sr-02m.tif & 103001000C6D7600\\\\\n",
       "\t /explore/nobackup/projects/ilab/data/srlite/products/srlite\\_1.0.1/srlite/alaska/batch\\_1/4\\_band\\_csv/WV02\\_20110707\\_M1BS\\_103001000CA39000-sr-02m.tif & WV02\\_20110707\\_M1BS\\_103001000CA39000-sr-02m.tif & 103001000CA39000\\\\\n",
       "\t /explore/nobackup/projects/ilab/data/srlite/products/srlite\\_1.0.1/srlite/alaska/batch\\_1/4\\_band\\_csv/WV02\\_20110721\\_M1BS\\_103001000C603400-sr-02m.tif & WV02\\_20110721\\_M1BS\\_103001000C603400-sr-02m.tif & 103001000C603400\\\\\n",
       "\t /explore/nobackup/projects/ilab/data/srlite/products/srlite\\_1.0.1/srlite/alaska/batch\\_1/4\\_band\\_csv/WV02\\_20110722\\_M1BS\\_103001000CB60600-sr-02m.tif & WV02\\_20110722\\_M1BS\\_103001000CB60600-sr-02m.tif & 103001000CB60600\\\\\n",
       "\\end{tabular}\n"
      ],
      "text/markdown": [
       "\n",
       "A tibble: 6 × 3\n",
       "\n",
       "| srlite_path &lt;chr&gt; | srlite_file &lt;chr&gt; | catid &lt;chr&gt; |\n",
       "|---|---|---|\n",
       "| /explore/nobackup/projects/ilab/data/srlite/products/srlite_1.0.1/srlite/alaska/batch_1/4_band_csv/WV02_20100802_M1BS_1030010006545100-sr-02m.tif | WV02_20100802_M1BS_1030010006545100-sr-02m.tif | 1030010006545100 |\n",
       "| /explore/nobackup/projects/ilab/data/srlite/products/srlite_1.0.1/srlite/alaska/batch_1/4_band_csv/WV02_20100815_M1BS_10300100068BF600-sr-02m.tif | WV02_20100815_M1BS_10300100068BF600-sr-02m.tif | 10300100068BF600 |\n",
       "| /explore/nobackup/projects/ilab/data/srlite/products/srlite_1.0.1/srlite/alaska/batch_1/4_band_csv/WV02_20110707_M1BS_103001000C6D7600-sr-02m.tif | WV02_20110707_M1BS_103001000C6D7600-sr-02m.tif | 103001000C6D7600 |\n",
       "| /explore/nobackup/projects/ilab/data/srlite/products/srlite_1.0.1/srlite/alaska/batch_1/4_band_csv/WV02_20110707_M1BS_103001000CA39000-sr-02m.tif | WV02_20110707_M1BS_103001000CA39000-sr-02m.tif | 103001000CA39000 |\n",
       "| /explore/nobackup/projects/ilab/data/srlite/products/srlite_1.0.1/srlite/alaska/batch_1/4_band_csv/WV02_20110721_M1BS_103001000C603400-sr-02m.tif | WV02_20110721_M1BS_103001000C603400-sr-02m.tif | 103001000C603400 |\n",
       "| /explore/nobackup/projects/ilab/data/srlite/products/srlite_1.0.1/srlite/alaska/batch_1/4_band_csv/WV02_20110722_M1BS_103001000CB60600-sr-02m.tif | WV02_20110722_M1BS_103001000CB60600-sr-02m.tif | 103001000CB60600 |\n",
       "\n"
      ],
      "text/plain": [
       "  srlite_path                                                                                                                                      \n",
       "1 /explore/nobackup/projects/ilab/data/srlite/products/srlite_1.0.1/srlite/alaska/batch_1/4_band_csv/WV02_20100802_M1BS_1030010006545100-sr-02m.tif\n",
       "2 /explore/nobackup/projects/ilab/data/srlite/products/srlite_1.0.1/srlite/alaska/batch_1/4_band_csv/WV02_20100815_M1BS_10300100068BF600-sr-02m.tif\n",
       "3 /explore/nobackup/projects/ilab/data/srlite/products/srlite_1.0.1/srlite/alaska/batch_1/4_band_csv/WV02_20110707_M1BS_103001000C6D7600-sr-02m.tif\n",
       "4 /explore/nobackup/projects/ilab/data/srlite/products/srlite_1.0.1/srlite/alaska/batch_1/4_band_csv/WV02_20110707_M1BS_103001000CA39000-sr-02m.tif\n",
       "5 /explore/nobackup/projects/ilab/data/srlite/products/srlite_1.0.1/srlite/alaska/batch_1/4_band_csv/WV02_20110721_M1BS_103001000C603400-sr-02m.tif\n",
       "6 /explore/nobackup/projects/ilab/data/srlite/products/srlite_1.0.1/srlite/alaska/batch_1/4_band_csv/WV02_20110722_M1BS_103001000CB60600-sr-02m.tif\n",
       "  srlite_file                                    catid           \n",
       "1 WV02_20100802_M1BS_1030010006545100-sr-02m.tif 1030010006545100\n",
       "2 WV02_20100815_M1BS_10300100068BF600-sr-02m.tif 10300100068BF600\n",
       "3 WV02_20110707_M1BS_103001000C6D7600-sr-02m.tif 103001000C6D7600\n",
       "4 WV02_20110707_M1BS_103001000CA39000-sr-02m.tif 103001000CA39000\n",
       "5 WV02_20110721_M1BS_103001000C603400-sr-02m.tif 103001000C603400\n",
       "6 WV02_20110722_M1BS_103001000CB60600-sr-02m.tif 103001000CB60600"
      ]
     },
     "metadata": {},
     "output_type": "display_data"
    },
    {
     "name": "stderr",
     "output_type": "stream",
     "text": [
      "\u001b[1m\u001b[22mJoining, by = c(\"catid\", \"srlite_path\")\n"
     ]
    },
    {
     "data": {
      "text/html": [
       "<table class=\"dataframe\">\n",
       "<caption>A grouped_df: 8 × 3</caption>\n",
       "<thead>\n",
       "\t<tr><th scope=col>month</th><th scope=col>arcBor</th><th scope=col>n</th></tr>\n",
       "\t<tr><th scope=col>&lt;dbl&gt;</th><th scope=col>&lt;lgl&gt;</th><th scope=col>&lt;int&gt;</th></tr>\n",
       "</thead>\n",
       "<tbody>\n",
       "\t<tr><td>6</td><td>FALSE</td><td> 46</td></tr>\n",
       "\t<tr><td>6</td><td> TRUE</td><td>302</td></tr>\n",
       "\t<tr><td>7</td><td>FALSE</td><td> 78</td></tr>\n",
       "\t<tr><td>7</td><td> TRUE</td><td>131</td></tr>\n",
       "\t<tr><td>8</td><td>FALSE</td><td> 79</td></tr>\n",
       "\t<tr><td>8</td><td> TRUE</td><td>109</td></tr>\n",
       "\t<tr><td>9</td><td>FALSE</td><td> 92</td></tr>\n",
       "\t<tr><td>9</td><td> TRUE</td><td>184</td></tr>\n",
       "</tbody>\n",
       "</table>\n"
      ],
      "text/latex": [
       "A grouped\\_df: 8 × 3\n",
       "\\begin{tabular}{lll}\n",
       " month & arcBor & n\\\\\n",
       " <dbl> & <lgl> & <int>\\\\\n",
       "\\hline\n",
       "\t 6 & FALSE &  46\\\\\n",
       "\t 6 &  TRUE & 302\\\\\n",
       "\t 7 & FALSE &  78\\\\\n",
       "\t 7 &  TRUE & 131\\\\\n",
       "\t 8 & FALSE &  79\\\\\n",
       "\t 8 &  TRUE & 109\\\\\n",
       "\t 9 & FALSE &  92\\\\\n",
       "\t 9 &  TRUE & 184\\\\\n",
       "\\end{tabular}\n"
      ],
      "text/markdown": [
       "\n",
       "A grouped_df: 8 × 3\n",
       "\n",
       "| month &lt;dbl&gt; | arcBor &lt;lgl&gt; | n &lt;int&gt; |\n",
       "|---|---|---|\n",
       "| 6 | FALSE |  46 |\n",
       "| 6 |  TRUE | 302 |\n",
       "| 7 | FALSE |  78 |\n",
       "| 7 |  TRUE | 131 |\n",
       "| 8 | FALSE |  79 |\n",
       "| 8 |  TRUE | 109 |\n",
       "| 9 | FALSE |  92 |\n",
       "| 9 |  TRUE | 184 |\n",
       "\n"
      ],
      "text/plain": [
       "  month arcBor n  \n",
       "1 6     FALSE   46\n",
       "2 6      TRUE  302\n",
       "3 7     FALSE   78\n",
       "4 7      TRUE  131\n",
       "5 8     FALSE   79\n",
       "6 8      TRUE  109\n",
       "7 9     FALSE   92\n",
       "8 9      TRUE  184"
      ]
     },
     "metadata": {},
     "output_type": "display_data"
    }
   ],
   "source": [
    "predicted_set1 <- read_csv('/explore/nobackup/people/mmacande/srlite/chm_model/20230829_chm/list_srlite_path_for_predstack_v20230829.csv') %>%\n",
    "mutate(srlite_file = path_file(srlite_path),\n",
    "       catid = str_sub(srlite_file,20,35))\n",
    "\n",
    "predicted_set1 %>% head()\n",
    "\n",
    "srlite_batch2 <- srlite_summer_r2_filt %>%\n",
    "anti_join(predicted_set1)\n",
    "\n",
    "srlite_batch2 %>% group_by(month, arcBor) %>% tally()\n",
    "# srlite_batch2"
   ]
  },
  {
   "cell_type": "code",
   "execution_count": 18,
   "id": "2a0544d8-14e3-4fd0-ae3f-e323ad80b23a",
   "metadata": {},
   "outputs": [],
   "source": [
    "#Only run when data is updated\n",
    "if (F) {\n",
    "write_csv(srlite_batch2 %>% filter(month %in% c(7,8), arcBor) %>% select(srlite_path), '/explore/nobackup/people/mmacande/srlite/chm_model/20230829_chm/list_batch2_julyAug_srlite_path_for_predstack_v20230915.csv')\n",
    "write_csv(srlite_batch2 %>% filter(month %in% c(6,9), arcBor) %>% select(srlite_path), '/explore/nobackup/people/mmacande/srlite/chm_model/20230829_chm/list_batch3_juneSept_srlite_path_for_predstack_v20230915.csv')\n",
    "write_csv(srlite_batch2 %>% filter(!arcBor) %>% select(footprint_name), '/explore/nobackup/people/mmacande/srlite/chm_model/20230829_chm/list_batch4_JJAS_SEAK_srlite_path_toDelete_v20230915.csv')\n",
    "}"
   ]
  },
  {
   "cell_type": "markdown",
   "id": "db0e179b-5ecc-4282-aa7d-e22d66b8df7f",
   "metadata": {},
   "source": [
    "# Generate table of CHMs for viewer"
   ]
  },
  {
   "cell_type": "code",
   "execution_count": 9,
   "id": "e6da3cf6-9718-4b27-85b5-36d6b53c5cef",
   "metadata": {
    "tags": []
   },
   "outputs": [
    {
     "data": {
      "text/html": [
       "3297"
      ],
      "text/latex": [
       "3297"
      ],
      "text/markdown": [
       "3297"
      ],
      "text/plain": [
       "[1] 3297"
      ]
     },
     "metadata": {},
     "output_type": "display_data"
    },
    {
     "data": {
      "text/html": [
       "<table class=\"dataframe\">\n",
       "<caption>A tibble: 6 × 3</caption>\n",
       "<thead>\n",
       "\t<tr><th scope=col>cloudmask_path</th><th scope=col>cloudmask_file</th><th scope=col>catid</th></tr>\n",
       "\t<tr><th scope=col>&lt;fs::path&gt;</th><th scope=col>&lt;chr&gt;</th><th scope=col>&lt;chr&gt;</th></tr>\n",
       "</thead>\n",
       "<tbody>\n",
       "\t<tr><td>/explore/nobackup/projects/ilab/data/srlite/products/srlite_1.0.1/cloudmask/alaska_batch_1/4_bands/WV02_20100502_M1BS_10300100045FA300-toa.cloudmask.tif</td><td>WV02_20100502_M1BS_10300100045FA300-toa.cloudmask.tif</td><td>10300100045FA300</td></tr>\n",
       "\t<tr><td>/explore/nobackup/projects/ilab/data/srlite/products/srlite_1.0.1/cloudmask/alaska_batch_1/4_bands/WV02_20100505_M1BS_1030010005215900-toa.cloudmask.tif</td><td>WV02_20100505_M1BS_1030010005215900-toa.cloudmask.tif</td><td>1030010005215900</td></tr>\n",
       "\t<tr><td>/explore/nobackup/projects/ilab/data/srlite/products/srlite_1.0.1/cloudmask/alaska_batch_1/4_bands/WV02_20100526_M1BS_1030010005890800-toa.cloudmask.tif</td><td>WV02_20100526_M1BS_1030010005890800-toa.cloudmask.tif</td><td>1030010005890800</td></tr>\n",
       "\t<tr><td>/explore/nobackup/projects/ilab/data/srlite/products/srlite_1.0.1/cloudmask/alaska_batch_1/4_bands/WV02_20100529_M1BS_10300100054FCA00-toa.cloudmask.tif</td><td>WV02_20100529_M1BS_10300100054FCA00-toa.cloudmask.tif</td><td>10300100054FCA00</td></tr>\n",
       "\t<tr><td>/explore/nobackup/projects/ilab/data/srlite/products/srlite_1.0.1/cloudmask/alaska_batch_1/4_bands/WV02_20100531_M1BS_10300100053C1900-toa.cloudmask.tif</td><td>WV02_20100531_M1BS_10300100053C1900-toa.cloudmask.tif</td><td>10300100053C1900</td></tr>\n",
       "\t<tr><td>/explore/nobackup/projects/ilab/data/srlite/products/srlite_1.0.1/cloudmask/alaska_batch_1/4_bands/WV02_20100607_M1BS_10300100056B1D00-toa.cloudmask.tif</td><td>WV02_20100607_M1BS_10300100056B1D00-toa.cloudmask.tif</td><td>10300100056B1D00</td></tr>\n",
       "</tbody>\n",
       "</table>\n"
      ],
      "text/latex": [
       "A tibble: 6 × 3\n",
       "\\begin{tabular}{lll}\n",
       " cloudmask\\_path & cloudmask\\_file & catid\\\\\n",
       " <fs::path> & <chr> & <chr>\\\\\n",
       "\\hline\n",
       "\t /explore/nobackup/projects/ilab/data/srlite/products/srlite\\_1.0.1/cloudmask/alaska\\_batch\\_1/4\\_bands/WV02\\_20100502\\_M1BS\\_10300100045FA300-toa.cloudmask.tif & WV02\\_20100502\\_M1BS\\_10300100045FA300-toa.cloudmask.tif & 10300100045FA300\\\\\n",
       "\t /explore/nobackup/projects/ilab/data/srlite/products/srlite\\_1.0.1/cloudmask/alaska\\_batch\\_1/4\\_bands/WV02\\_20100505\\_M1BS\\_1030010005215900-toa.cloudmask.tif & WV02\\_20100505\\_M1BS\\_1030010005215900-toa.cloudmask.tif & 1030010005215900\\\\\n",
       "\t /explore/nobackup/projects/ilab/data/srlite/products/srlite\\_1.0.1/cloudmask/alaska\\_batch\\_1/4\\_bands/WV02\\_20100526\\_M1BS\\_1030010005890800-toa.cloudmask.tif & WV02\\_20100526\\_M1BS\\_1030010005890800-toa.cloudmask.tif & 1030010005890800\\\\\n",
       "\t /explore/nobackup/projects/ilab/data/srlite/products/srlite\\_1.0.1/cloudmask/alaska\\_batch\\_1/4\\_bands/WV02\\_20100529\\_M1BS\\_10300100054FCA00-toa.cloudmask.tif & WV02\\_20100529\\_M1BS\\_10300100054FCA00-toa.cloudmask.tif & 10300100054FCA00\\\\\n",
       "\t /explore/nobackup/projects/ilab/data/srlite/products/srlite\\_1.0.1/cloudmask/alaska\\_batch\\_1/4\\_bands/WV02\\_20100531\\_M1BS\\_10300100053C1900-toa.cloudmask.tif & WV02\\_20100531\\_M1BS\\_10300100053C1900-toa.cloudmask.tif & 10300100053C1900\\\\\n",
       "\t /explore/nobackup/projects/ilab/data/srlite/products/srlite\\_1.0.1/cloudmask/alaska\\_batch\\_1/4\\_bands/WV02\\_20100607\\_M1BS\\_10300100056B1D00-toa.cloudmask.tif & WV02\\_20100607\\_M1BS\\_10300100056B1D00-toa.cloudmask.tif & 10300100056B1D00\\\\\n",
       "\\end{tabular}\n"
      ],
      "text/markdown": [
       "\n",
       "A tibble: 6 × 3\n",
       "\n",
       "| cloudmask_path &lt;fs::path&gt; | cloudmask_file &lt;chr&gt; | catid &lt;chr&gt; |\n",
       "|---|---|---|\n",
       "| /explore/nobackup/projects/ilab/data/srlite/products/srlite_1.0.1/cloudmask/alaska_batch_1/4_bands/WV02_20100502_M1BS_10300100045FA300-toa.cloudmask.tif | WV02_20100502_M1BS_10300100045FA300-toa.cloudmask.tif | 10300100045FA300 |\n",
       "| /explore/nobackup/projects/ilab/data/srlite/products/srlite_1.0.1/cloudmask/alaska_batch_1/4_bands/WV02_20100505_M1BS_1030010005215900-toa.cloudmask.tif | WV02_20100505_M1BS_1030010005215900-toa.cloudmask.tif | 1030010005215900 |\n",
       "| /explore/nobackup/projects/ilab/data/srlite/products/srlite_1.0.1/cloudmask/alaska_batch_1/4_bands/WV02_20100526_M1BS_1030010005890800-toa.cloudmask.tif | WV02_20100526_M1BS_1030010005890800-toa.cloudmask.tif | 1030010005890800 |\n",
       "| /explore/nobackup/projects/ilab/data/srlite/products/srlite_1.0.1/cloudmask/alaska_batch_1/4_bands/WV02_20100529_M1BS_10300100054FCA00-toa.cloudmask.tif | WV02_20100529_M1BS_10300100054FCA00-toa.cloudmask.tif | 10300100054FCA00 |\n",
       "| /explore/nobackup/projects/ilab/data/srlite/products/srlite_1.0.1/cloudmask/alaska_batch_1/4_bands/WV02_20100531_M1BS_10300100053C1900-toa.cloudmask.tif | WV02_20100531_M1BS_10300100053C1900-toa.cloudmask.tif | 10300100053C1900 |\n",
       "| /explore/nobackup/projects/ilab/data/srlite/products/srlite_1.0.1/cloudmask/alaska_batch_1/4_bands/WV02_20100607_M1BS_10300100056B1D00-toa.cloudmask.tif | WV02_20100607_M1BS_10300100056B1D00-toa.cloudmask.tif | 10300100056B1D00 |\n",
       "\n"
      ],
      "text/plain": [
       "  cloudmask_path                                                                                                                                          \n",
       "1 /explore/nobackup/projects/ilab/data/srlite/products/srlite_1.0.1/cloudmask/alaska_batch_1/4_bands/WV02_20100502_M1BS_10300100045FA300-toa.cloudmask.tif\n",
       "2 /explore/nobackup/projects/ilab/data/srlite/products/srlite_1.0.1/cloudmask/alaska_batch_1/4_bands/WV02_20100505_M1BS_1030010005215900-toa.cloudmask.tif\n",
       "3 /explore/nobackup/projects/ilab/data/srlite/products/srlite_1.0.1/cloudmask/alaska_batch_1/4_bands/WV02_20100526_M1BS_1030010005890800-toa.cloudmask.tif\n",
       "4 /explore/nobackup/projects/ilab/data/srlite/products/srlite_1.0.1/cloudmask/alaska_batch_1/4_bands/WV02_20100529_M1BS_10300100054FCA00-toa.cloudmask.tif\n",
       "5 /explore/nobackup/projects/ilab/data/srlite/products/srlite_1.0.1/cloudmask/alaska_batch_1/4_bands/WV02_20100531_M1BS_10300100053C1900-toa.cloudmask.tif\n",
       "6 /explore/nobackup/projects/ilab/data/srlite/products/srlite_1.0.1/cloudmask/alaska_batch_1/4_bands/WV02_20100607_M1BS_10300100056B1D00-toa.cloudmask.tif\n",
       "  cloudmask_file                                        catid           \n",
       "1 WV02_20100502_M1BS_10300100045FA300-toa.cloudmask.tif 10300100045FA300\n",
       "2 WV02_20100505_M1BS_1030010005215900-toa.cloudmask.tif 1030010005215900\n",
       "3 WV02_20100526_M1BS_1030010005890800-toa.cloudmask.tif 1030010005890800\n",
       "4 WV02_20100529_M1BS_10300100054FCA00-toa.cloudmask.tif 10300100054FCA00\n",
       "5 WV02_20100531_M1BS_10300100053C1900-toa.cloudmask.tif 10300100053C1900\n",
       "6 WV02_20100607_M1BS_10300100056B1D00-toa.cloudmask.tif 10300100056B1D00"
      ]
     },
     "metadata": {},
     "output_type": "display_data"
    }
   ],
   "source": [
    "cloudmasks <- tibble(cloudmask_path = dir_ls('/explore/nobackup/projects/ilab/data/srlite/products/srlite_1.0.1/cloudmask', glob='*/*cloudmask.tif', recurse=T)) %>%\n",
    "mutate(cloudmask_file = path_file(cloudmask_path),\n",
    "       catid = str_sub(cloudmask_file, 20, 35))\n",
    "nrow(cloudmasks)\n",
    "cloudmasks %>% head()"
   ]
  },
  {
   "cell_type": "code",
   "execution_count": 10,
   "id": "58beffe0-8a10-4103-91df-5e6af52c3891",
   "metadata": {},
   "outputs": [
    {
     "data": {
      "text/html": [
       "4993"
      ],
      "text/latex": [
       "4993"
      ],
      "text/markdown": [
       "4993"
      ],
      "text/plain": [
       "[1] 4993"
      ]
     },
     "metadata": {},
     "output_type": "display_data"
    },
    {
     "name": "stdout",
     "output_type": "stream",
     "text": [
      "[1] \"duplicates:\"\n"
     ]
    },
    {
     "data": {
      "text/html": [
       "92"
      ],
      "text/latex": [
       "92"
      ],
      "text/markdown": [
       "92"
      ],
      "text/plain": [
       "[1] 92"
      ]
     },
     "metadata": {},
     "output_type": "display_data"
    },
    {
     "name": "stderr",
     "output_type": "stream",
     "text": [
      "\u001b[1m\u001b[22mJoining, by = \"catid\"\n"
     ]
    },
    {
     "data": {
      "text/html": [
       "4901"
      ],
      "text/latex": [
       "4901"
      ],
      "text/markdown": [
       "4901"
      ],
      "text/plain": [
       "[1] 4901"
      ]
     },
     "metadata": {},
     "output_type": "display_data"
    }
   ],
   "source": [
    "# ccdc <- tibble(ccdc_path = dir_ls('/explore/nobackup/projects/ilab/data/srlite/products/srlite_1.0.1/ccdc', glob='*/*ccdc.tif', recurse=T)) %>%\n",
    "ccdc <- bind_rows(\n",
    "    tibble(ccdc_path = dir_ls('/explore/nobackup/people/mmacande/srlite/srlite_shared/ccdc_20230214/alaska/', glob='*/*ccdc.tif', recurse=T),\n",
    "           source = '/explore/nobackup/people/mmacande/srlite/srlite_shared/ccdc_20230214/alaska'),\n",
    "    tibble(ccdc_path = dir_ls('/explore/nobackup/people/mmacande/srlite/srlite_shared/ccdc_20230807_alaska_batch23/alaska', glob='*/*ccdc.tif', recurse=T),\n",
    "           source = '/explore/nobackup/people/mmacande/srlite/srlite_shared/ccdc_20230807_alaska_batch23') ) %>%\n",
    "mutate(ccdc_file = path_file(ccdc_path),\n",
    "       catid = str_sub(ccdc_file, 20, 35))\n",
    "\n",
    "nrow(ccdc)\n",
    "# ccdc %>% head()\n",
    "dups <- ccdc %>% group_by(catid) %>% tally() %>% filter(n > 1)\n",
    "print('duplicates:')\n",
    "nrow(dups)\n",
    "      \n",
    "ccdc <- bind_rows(\n",
    "    ccdc %>% filter(source == '/explore/nobackup/people/mmacande/srlite/srlite_shared/ccdc_20230214/alaska') %>% anti_join(dups),\n",
    "    ccdc %>% filter(source == '/explore/nobackup/people/mmacande/srlite/srlite_shared/ccdc_20230807_alaska_batch23'))\n",
    "nrow(ccdc)\n"
   ]
  },
  {
   "cell_type": "code",
   "execution_count": 11,
   "id": "b180f94b-4740-4557-8fca-937fd6aef1e9",
   "metadata": {},
   "outputs": [
    {
     "data": {
      "text/html": [
       "3343"
      ],
      "text/latex": [
       "3343"
      ],
      "text/markdown": [
       "3343"
      ],
      "text/plain": [
       "[1] 3343"
      ]
     },
     "metadata": {},
     "output_type": "display_data"
    },
    {
     "data": {
      "text/html": [
       "<table class=\"dataframe\">\n",
       "<caption>A tibble: 6 × 3</caption>\n",
       "<thead>\n",
       "\t<tr><th scope=col>toa_path</th><th scope=col>toa_file</th><th scope=col>catid</th></tr>\n",
       "\t<tr><th scope=col>&lt;fs::path&gt;</th><th scope=col>&lt;chr&gt;</th><th scope=col>&lt;chr&gt;</th></tr>\n",
       "</thead>\n",
       "<tbody>\n",
       "\t<tr><td>/explore/nobackup/projects/ilab/data/srlite/products/srlite_1.0.1/toa/alaska/4_bands/WV02_20100502_M1BS_10300100045FA300-toa.tif</td><td>WV02_20100502_M1BS_10300100045FA300-toa.tif</td><td>10300100045FA300</td></tr>\n",
       "\t<tr><td>/explore/nobackup/projects/ilab/data/srlite/products/srlite_1.0.1/toa/alaska/4_bands/WV02_20100505_M1BS_1030010005215900-toa.tif</td><td>WV02_20100505_M1BS_1030010005215900-toa.tif</td><td>1030010005215900</td></tr>\n",
       "\t<tr><td>/explore/nobackup/projects/ilab/data/srlite/products/srlite_1.0.1/toa/alaska/4_bands/WV02_20100526_M1BS_1030010005890800-toa.tif</td><td>WV02_20100526_M1BS_1030010005890800-toa.tif</td><td>1030010005890800</td></tr>\n",
       "\t<tr><td>/explore/nobackup/projects/ilab/data/srlite/products/srlite_1.0.1/toa/alaska/4_bands/WV02_20100529_M1BS_10300100054FCA00-toa.tif</td><td>WV02_20100529_M1BS_10300100054FCA00-toa.tif</td><td>10300100054FCA00</td></tr>\n",
       "\t<tr><td>/explore/nobackup/projects/ilab/data/srlite/products/srlite_1.0.1/toa/alaska/4_bands/WV02_20100531_M1BS_10300100053C1900-toa.tif</td><td>WV02_20100531_M1BS_10300100053C1900-toa.tif</td><td>10300100053C1900</td></tr>\n",
       "\t<tr><td>/explore/nobackup/projects/ilab/data/srlite/products/srlite_1.0.1/toa/alaska/4_bands/WV02_20100607_M1BS_10300100056B1D00-toa.tif</td><td>WV02_20100607_M1BS_10300100056B1D00-toa.tif</td><td>10300100056B1D00</td></tr>\n",
       "</tbody>\n",
       "</table>\n"
      ],
      "text/latex": [
       "A tibble: 6 × 3\n",
       "\\begin{tabular}{lll}\n",
       " toa\\_path & toa\\_file & catid\\\\\n",
       " <fs::path> & <chr> & <chr>\\\\\n",
       "\\hline\n",
       "\t /explore/nobackup/projects/ilab/data/srlite/products/srlite\\_1.0.1/toa/alaska/4\\_bands/WV02\\_20100502\\_M1BS\\_10300100045FA300-toa.tif & WV02\\_20100502\\_M1BS\\_10300100045FA300-toa.tif & 10300100045FA300\\\\\n",
       "\t /explore/nobackup/projects/ilab/data/srlite/products/srlite\\_1.0.1/toa/alaska/4\\_bands/WV02\\_20100505\\_M1BS\\_1030010005215900-toa.tif & WV02\\_20100505\\_M1BS\\_1030010005215900-toa.tif & 1030010005215900\\\\\n",
       "\t /explore/nobackup/projects/ilab/data/srlite/products/srlite\\_1.0.1/toa/alaska/4\\_bands/WV02\\_20100526\\_M1BS\\_1030010005890800-toa.tif & WV02\\_20100526\\_M1BS\\_1030010005890800-toa.tif & 1030010005890800\\\\\n",
       "\t /explore/nobackup/projects/ilab/data/srlite/products/srlite\\_1.0.1/toa/alaska/4\\_bands/WV02\\_20100529\\_M1BS\\_10300100054FCA00-toa.tif & WV02\\_20100529\\_M1BS\\_10300100054FCA00-toa.tif & 10300100054FCA00\\\\\n",
       "\t /explore/nobackup/projects/ilab/data/srlite/products/srlite\\_1.0.1/toa/alaska/4\\_bands/WV02\\_20100531\\_M1BS\\_10300100053C1900-toa.tif & WV02\\_20100531\\_M1BS\\_10300100053C1900-toa.tif & 10300100053C1900\\\\\n",
       "\t /explore/nobackup/projects/ilab/data/srlite/products/srlite\\_1.0.1/toa/alaska/4\\_bands/WV02\\_20100607\\_M1BS\\_10300100056B1D00-toa.tif & WV02\\_20100607\\_M1BS\\_10300100056B1D00-toa.tif & 10300100056B1D00\\\\\n",
       "\\end{tabular}\n"
      ],
      "text/markdown": [
       "\n",
       "A tibble: 6 × 3\n",
       "\n",
       "| toa_path &lt;fs::path&gt; | toa_file &lt;chr&gt; | catid &lt;chr&gt; |\n",
       "|---|---|---|\n",
       "| /explore/nobackup/projects/ilab/data/srlite/products/srlite_1.0.1/toa/alaska/4_bands/WV02_20100502_M1BS_10300100045FA300-toa.tif | WV02_20100502_M1BS_10300100045FA300-toa.tif | 10300100045FA300 |\n",
       "| /explore/nobackup/projects/ilab/data/srlite/products/srlite_1.0.1/toa/alaska/4_bands/WV02_20100505_M1BS_1030010005215900-toa.tif | WV02_20100505_M1BS_1030010005215900-toa.tif | 1030010005215900 |\n",
       "| /explore/nobackup/projects/ilab/data/srlite/products/srlite_1.0.1/toa/alaska/4_bands/WV02_20100526_M1BS_1030010005890800-toa.tif | WV02_20100526_M1BS_1030010005890800-toa.tif | 1030010005890800 |\n",
       "| /explore/nobackup/projects/ilab/data/srlite/products/srlite_1.0.1/toa/alaska/4_bands/WV02_20100529_M1BS_10300100054FCA00-toa.tif | WV02_20100529_M1BS_10300100054FCA00-toa.tif | 10300100054FCA00 |\n",
       "| /explore/nobackup/projects/ilab/data/srlite/products/srlite_1.0.1/toa/alaska/4_bands/WV02_20100531_M1BS_10300100053C1900-toa.tif | WV02_20100531_M1BS_10300100053C1900-toa.tif | 10300100053C1900 |\n",
       "| /explore/nobackup/projects/ilab/data/srlite/products/srlite_1.0.1/toa/alaska/4_bands/WV02_20100607_M1BS_10300100056B1D00-toa.tif | WV02_20100607_M1BS_10300100056B1D00-toa.tif | 10300100056B1D00 |\n",
       "\n"
      ],
      "text/plain": [
       "  toa_path                                                                                                                        \n",
       "1 /explore/nobackup/projects/ilab/data/srlite/products/srlite_1.0.1/toa/alaska/4_bands/WV02_20100502_M1BS_10300100045FA300-toa.tif\n",
       "2 /explore/nobackup/projects/ilab/data/srlite/products/srlite_1.0.1/toa/alaska/4_bands/WV02_20100505_M1BS_1030010005215900-toa.tif\n",
       "3 /explore/nobackup/projects/ilab/data/srlite/products/srlite_1.0.1/toa/alaska/4_bands/WV02_20100526_M1BS_1030010005890800-toa.tif\n",
       "4 /explore/nobackup/projects/ilab/data/srlite/products/srlite_1.0.1/toa/alaska/4_bands/WV02_20100529_M1BS_10300100054FCA00-toa.tif\n",
       "5 /explore/nobackup/projects/ilab/data/srlite/products/srlite_1.0.1/toa/alaska/4_bands/WV02_20100531_M1BS_10300100053C1900-toa.tif\n",
       "6 /explore/nobackup/projects/ilab/data/srlite/products/srlite_1.0.1/toa/alaska/4_bands/WV02_20100607_M1BS_10300100056B1D00-toa.tif\n",
       "  toa_file                                    catid           \n",
       "1 WV02_20100502_M1BS_10300100045FA300-toa.tif 10300100045FA300\n",
       "2 WV02_20100505_M1BS_1030010005215900-toa.tif 1030010005215900\n",
       "3 WV02_20100526_M1BS_1030010005890800-toa.tif 1030010005890800\n",
       "4 WV02_20100529_M1BS_10300100054FCA00-toa.tif 10300100054FCA00\n",
       "5 WV02_20100531_M1BS_10300100053C1900-toa.tif 10300100053C1900\n",
       "6 WV02_20100607_M1BS_10300100056B1D00-toa.tif 10300100056B1D00"
      ]
     },
     "metadata": {},
     "output_type": "display_data"
    }
   ],
   "source": [
    "toas <- tibble(toa_path = dir_ls('/explore/nobackup/projects/ilab/data/srlite/products/srlite_1.0.1/toa', glob='*/*toa.tif', recurse=T)) %>%\n",
    "mutate(toa_file = path_file(toa_path),\n",
    "       catid = str_sub(toa_file, 20, 35))\n",
    "\n",
    "nrow(toas)\n",
    "toas %>% head()"
   ]
  },
  {
   "cell_type": "code",
   "execution_count": 12,
   "id": "a6052a10-4070-4490-bb30-5c7fc76511c5",
   "metadata": {
    "tags": []
   },
   "outputs": [
    {
     "name": "stderr",
     "output_type": "stream",
     "text": [
      "\u001b[1m\u001b[22mJoining, by = \"catid\"\n",
      "\u001b[1m\u001b[22mJoining, by = \"catid\"\n",
      "\u001b[1m\u001b[22mJoining, by = \"catid\"\n",
      "\u001b[1m\u001b[22mJoining, by = \"catid\"\n"
     ]
    },
    {
     "data": {
      "text/html": [
       "340"
      ],
      "text/latex": [
       "340"
      ],
      "text/markdown": [
       "340"
      ],
      "text/plain": [
       "[1] 340"
      ]
     },
     "metadata": {},
     "output_type": "display_data"
    },
    {
     "data": {
      "text/html": [
       "<table class=\"dataframe\">\n",
       "<caption>A tibble: 6 × 8</caption>\n",
       "<thead>\n",
       "\t<tr><th scope=col>catid</th><th scope=col>chm_file</th><th scope=col>chm_path</th><th scope=col>srlite_path</th><th scope=col>arcBor</th><th scope=col>cloudmask_path</th><th scope=col>toa_path</th><th scope=col>ccdc_path</th></tr>\n",
       "\t<tr><th scope=col>&lt;chr&gt;</th><th scope=col>&lt;chr&gt;</th><th scope=col>&lt;fs::path&gt;</th><th scope=col>&lt;fs::path&gt;</th><th scope=col>&lt;lgl&gt;</th><th scope=col>&lt;fs::path&gt;</th><th scope=col>&lt;fs::path&gt;</th><th scope=col>&lt;fs::path&gt;</th></tr>\n",
       "</thead>\n",
       "<tbody>\n",
       "\t<tr><td>1030010006545100</td><td>WV02_20100802_M1BS_1030010006545100-sr-02m.cnn-chm-v1.tif</td><td>/explore/nobackup/people/mmacande/srlite/chm_model/20230829_chm/products/WV02_20100802_M1BS_1030010006545100-sr-02m/WV02_20100802_M1BS_1030010006545100-sr-02m.cnn-chm-v1.tif</td><td>/explore/nobackup/projects/ilab/data/srlite/products/srlite_1.0.1/srlite/alaska/batch_1/4_band_csv/WV02_20100802_M1BS_1030010006545100-sr-02m.tif        </td><td>TRUE</td><td>/explore/nobackup/projects/ilab/data/srlite/products/srlite_1.0.1/cloudmask/alaska_batch_1/4_bands/WV02_20100802_M1BS_1030010006545100-toa.cloudmask.tif</td><td>/explore/nobackup/projects/ilab/data/srlite/products/srlite_1.0.1/toa/alaska/4_bands/WV02_20100802_M1BS_1030010006545100-toa.tif</td><td>/explore/nobackup/people/mmacande/srlite/srlite_shared/ccdc_20230214/alaska/WV02_20100802_M1BS_1030010006545100-ccdc.tif</td></tr>\n",
       "\t<tr><td>103001000617C000</td><td>WV02_20100804_M1BS_103001000617C000-sr-02m.cnn-chm-v1.tif</td><td>/explore/nobackup/people/mmacande/srlite/chm_model/20230829_chm/products/WV02_20100804_M1BS_103001000617C000-sr-02m/WV02_20100804_M1BS_103001000617C000-sr-02m.cnn-chm-v1.tif</td><td>/explore/nobackup/projects/ilab/data/srlite/products/srlite_1.0.1/srlite/alaska/batch_1/8_band_csv/split_4/WV02_20100804_M1BS_103001000617C000-sr-02m.tif</td><td>TRUE</td><td>/explore/nobackup/projects/ilab/data/srlite/products/srlite_1.0.1/cloudmask/alaska_batch_1/split_4/WV02_20100804_M1BS_103001000617C000-toa.cloudmask.tif</td><td>/explore/nobackup/projects/ilab/data/srlite/products/srlite_1.0.1/toa/alaska/split_4/WV02_20100804_M1BS_103001000617C000-toa.tif</td><td>/explore/nobackup/people/mmacande/srlite/srlite_shared/ccdc_20230214/alaska/WV02_20100804_M1BS_103001000617C000-ccdc.tif</td></tr>\n",
       "\t<tr><td>10300100068BF600</td><td>WV02_20100815_M1BS_10300100068BF600-sr-02m.cnn-chm-v1.tif</td><td>/explore/nobackup/people/mmacande/srlite/chm_model/20230829_chm/products/WV02_20100815_M1BS_10300100068BF600-sr-02m/WV02_20100815_M1BS_10300100068BF600-sr-02m.cnn-chm-v1.tif</td><td>/explore/nobackup/projects/ilab/data/srlite/products/srlite_1.0.1/srlite/alaska/batch_1/4_band_csv/WV02_20100815_M1BS_10300100068BF600-sr-02m.tif        </td><td>TRUE</td><td>/explore/nobackup/projects/ilab/data/srlite/products/srlite_1.0.1/cloudmask/alaska_batch_1/4_bands/WV02_20100815_M1BS_10300100068BF600-toa.cloudmask.tif</td><td>/explore/nobackup/projects/ilab/data/srlite/products/srlite_1.0.1/toa/alaska/4_bands/WV02_20100815_M1BS_10300100068BF600-toa.tif</td><td>/explore/nobackup/people/mmacande/srlite/srlite_shared/ccdc_20230214/alaska/WV02_20100815_M1BS_10300100068BF600-ccdc.tif</td></tr>\n",
       "\t<tr><td>103001000C6D7600</td><td>WV02_20110707_M1BS_103001000C6D7600-sr-02m.cnn-chm-v1.tif</td><td>/explore/nobackup/people/mmacande/srlite/chm_model/20230829_chm/products/WV02_20110707_M1BS_103001000C6D7600-sr-02m/WV02_20110707_M1BS_103001000C6D7600-sr-02m.cnn-chm-v1.tif</td><td>/explore/nobackup/projects/ilab/data/srlite/products/srlite_1.0.1/srlite/alaska/batch_1/4_band_csv/WV02_20110707_M1BS_103001000C6D7600-sr-02m.tif        </td><td>TRUE</td><td>/explore/nobackup/projects/ilab/data/srlite/products/srlite_1.0.1/cloudmask/alaska_batch_1/4_bands/WV02_20110707_M1BS_103001000C6D7600-toa.cloudmask.tif</td><td>/explore/nobackup/projects/ilab/data/srlite/products/srlite_1.0.1/toa/alaska/4_bands/WV02_20110707_M1BS_103001000C6D7600-toa.tif</td><td>/explore/nobackup/people/mmacande/srlite/srlite_shared/ccdc_20230214/alaska/WV02_20110707_M1BS_103001000C6D7600-ccdc.tif</td></tr>\n",
       "\t<tr><td>103001000CA39000</td><td>WV02_20110707_M1BS_103001000CA39000-sr-02m.cnn-chm-v1.tif</td><td>/explore/nobackup/people/mmacande/srlite/chm_model/20230829_chm/products/WV02_20110707_M1BS_103001000CA39000-sr-02m/WV02_20110707_M1BS_103001000CA39000-sr-02m.cnn-chm-v1.tif</td><td>/explore/nobackup/projects/ilab/data/srlite/products/srlite_1.0.1/srlite/alaska/batch_1/4_band_csv/WV02_20110707_M1BS_103001000CA39000-sr-02m.tif        </td><td>TRUE</td><td>/explore/nobackup/projects/ilab/data/srlite/products/srlite_1.0.1/cloudmask/alaska_batch_1/4_bands/WV02_20110707_M1BS_103001000CA39000-toa.cloudmask.tif</td><td>/explore/nobackup/projects/ilab/data/srlite/products/srlite_1.0.1/toa/alaska/4_bands/WV02_20110707_M1BS_103001000CA39000-toa.tif</td><td>/explore/nobackup/people/mmacande/srlite/srlite_shared/ccdc_20230214/alaska/WV02_20110707_M1BS_103001000CA39000-ccdc.tif</td></tr>\n",
       "\t<tr><td>103001000CC05200</td><td>WV02_20110718_M1BS_103001000CC05200-sr-02m.cnn-chm-v1.tif</td><td>/explore/nobackup/people/mmacande/srlite/chm_model/20230829_chm/products/WV02_20110718_M1BS_103001000CC05200-sr-02m/WV02_20110718_M1BS_103001000CC05200-sr-02m.cnn-chm-v1.tif</td><td>/explore/nobackup/projects/ilab/data/srlite/products/srlite_1.0.1/srlite/alaska/batch_1/8_band_csv/split_8/WV02_20110718_M1BS_103001000CC05200-sr-02m.tif</td><td>TRUE</td><td>/explore/nobackup/projects/ilab/data/srlite/products/srlite_1.0.1/cloudmask/alaska_batch_1/split_8/WV02_20110718_M1BS_103001000CC05200-toa.cloudmask.tif</td><td>/explore/nobackup/projects/ilab/data/srlite/products/srlite_1.0.1/toa/alaska/split_8/WV02_20110718_M1BS_103001000CC05200-toa.tif</td><td>/explore/nobackup/people/mmacande/srlite/srlite_shared/ccdc_20230214/alaska/WV02_20110718_M1BS_103001000CC05200-ccdc.tif</td></tr>\n",
       "</tbody>\n",
       "</table>\n"
      ],
      "text/latex": [
       "A tibble: 6 × 8\n",
       "\\begin{tabular}{llllllll}\n",
       " catid & chm\\_file & chm\\_path & srlite\\_path & arcBor & cloudmask\\_path & toa\\_path & ccdc\\_path\\\\\n",
       " <chr> & <chr> & <fs::path> & <fs::path> & <lgl> & <fs::path> & <fs::path> & <fs::path>\\\\\n",
       "\\hline\n",
       "\t 1030010006545100 & WV02\\_20100802\\_M1BS\\_1030010006545100-sr-02m.cnn-chm-v1.tif & /explore/nobackup/people/mmacande/srlite/chm\\_model/20230829\\_chm/products/WV02\\_20100802\\_M1BS\\_1030010006545100-sr-02m/WV02\\_20100802\\_M1BS\\_1030010006545100-sr-02m.cnn-chm-v1.tif & /explore/nobackup/projects/ilab/data/srlite/products/srlite\\_1.0.1/srlite/alaska/batch\\_1/4\\_band\\_csv/WV02\\_20100802\\_M1BS\\_1030010006545100-sr-02m.tif         & TRUE & /explore/nobackup/projects/ilab/data/srlite/products/srlite\\_1.0.1/cloudmask/alaska\\_batch\\_1/4\\_bands/WV02\\_20100802\\_M1BS\\_1030010006545100-toa.cloudmask.tif & /explore/nobackup/projects/ilab/data/srlite/products/srlite\\_1.0.1/toa/alaska/4\\_bands/WV02\\_20100802\\_M1BS\\_1030010006545100-toa.tif & /explore/nobackup/people/mmacande/srlite/srlite\\_shared/ccdc\\_20230214/alaska/WV02\\_20100802\\_M1BS\\_1030010006545100-ccdc.tif\\\\\n",
       "\t 103001000617C000 & WV02\\_20100804\\_M1BS\\_103001000617C000-sr-02m.cnn-chm-v1.tif & /explore/nobackup/people/mmacande/srlite/chm\\_model/20230829\\_chm/products/WV02\\_20100804\\_M1BS\\_103001000617C000-sr-02m/WV02\\_20100804\\_M1BS\\_103001000617C000-sr-02m.cnn-chm-v1.tif & /explore/nobackup/projects/ilab/data/srlite/products/srlite\\_1.0.1/srlite/alaska/batch\\_1/8\\_band\\_csv/split\\_4/WV02\\_20100804\\_M1BS\\_103001000617C000-sr-02m.tif & TRUE & /explore/nobackup/projects/ilab/data/srlite/products/srlite\\_1.0.1/cloudmask/alaska\\_batch\\_1/split\\_4/WV02\\_20100804\\_M1BS\\_103001000617C000-toa.cloudmask.tif & /explore/nobackup/projects/ilab/data/srlite/products/srlite\\_1.0.1/toa/alaska/split\\_4/WV02\\_20100804\\_M1BS\\_103001000617C000-toa.tif & /explore/nobackup/people/mmacande/srlite/srlite\\_shared/ccdc\\_20230214/alaska/WV02\\_20100804\\_M1BS\\_103001000617C000-ccdc.tif\\\\\n",
       "\t 10300100068BF600 & WV02\\_20100815\\_M1BS\\_10300100068BF600-sr-02m.cnn-chm-v1.tif & /explore/nobackup/people/mmacande/srlite/chm\\_model/20230829\\_chm/products/WV02\\_20100815\\_M1BS\\_10300100068BF600-sr-02m/WV02\\_20100815\\_M1BS\\_10300100068BF600-sr-02m.cnn-chm-v1.tif & /explore/nobackup/projects/ilab/data/srlite/products/srlite\\_1.0.1/srlite/alaska/batch\\_1/4\\_band\\_csv/WV02\\_20100815\\_M1BS\\_10300100068BF600-sr-02m.tif         & TRUE & /explore/nobackup/projects/ilab/data/srlite/products/srlite\\_1.0.1/cloudmask/alaska\\_batch\\_1/4\\_bands/WV02\\_20100815\\_M1BS\\_10300100068BF600-toa.cloudmask.tif & /explore/nobackup/projects/ilab/data/srlite/products/srlite\\_1.0.1/toa/alaska/4\\_bands/WV02\\_20100815\\_M1BS\\_10300100068BF600-toa.tif & /explore/nobackup/people/mmacande/srlite/srlite\\_shared/ccdc\\_20230214/alaska/WV02\\_20100815\\_M1BS\\_10300100068BF600-ccdc.tif\\\\\n",
       "\t 103001000C6D7600 & WV02\\_20110707\\_M1BS\\_103001000C6D7600-sr-02m.cnn-chm-v1.tif & /explore/nobackup/people/mmacande/srlite/chm\\_model/20230829\\_chm/products/WV02\\_20110707\\_M1BS\\_103001000C6D7600-sr-02m/WV02\\_20110707\\_M1BS\\_103001000C6D7600-sr-02m.cnn-chm-v1.tif & /explore/nobackup/projects/ilab/data/srlite/products/srlite\\_1.0.1/srlite/alaska/batch\\_1/4\\_band\\_csv/WV02\\_20110707\\_M1BS\\_103001000C6D7600-sr-02m.tif         & TRUE & /explore/nobackup/projects/ilab/data/srlite/products/srlite\\_1.0.1/cloudmask/alaska\\_batch\\_1/4\\_bands/WV02\\_20110707\\_M1BS\\_103001000C6D7600-toa.cloudmask.tif & /explore/nobackup/projects/ilab/data/srlite/products/srlite\\_1.0.1/toa/alaska/4\\_bands/WV02\\_20110707\\_M1BS\\_103001000C6D7600-toa.tif & /explore/nobackup/people/mmacande/srlite/srlite\\_shared/ccdc\\_20230214/alaska/WV02\\_20110707\\_M1BS\\_103001000C6D7600-ccdc.tif\\\\\n",
       "\t 103001000CA39000 & WV02\\_20110707\\_M1BS\\_103001000CA39000-sr-02m.cnn-chm-v1.tif & /explore/nobackup/people/mmacande/srlite/chm\\_model/20230829\\_chm/products/WV02\\_20110707\\_M1BS\\_103001000CA39000-sr-02m/WV02\\_20110707\\_M1BS\\_103001000CA39000-sr-02m.cnn-chm-v1.tif & /explore/nobackup/projects/ilab/data/srlite/products/srlite\\_1.0.1/srlite/alaska/batch\\_1/4\\_band\\_csv/WV02\\_20110707\\_M1BS\\_103001000CA39000-sr-02m.tif         & TRUE & /explore/nobackup/projects/ilab/data/srlite/products/srlite\\_1.0.1/cloudmask/alaska\\_batch\\_1/4\\_bands/WV02\\_20110707\\_M1BS\\_103001000CA39000-toa.cloudmask.tif & /explore/nobackup/projects/ilab/data/srlite/products/srlite\\_1.0.1/toa/alaska/4\\_bands/WV02\\_20110707\\_M1BS\\_103001000CA39000-toa.tif & /explore/nobackup/people/mmacande/srlite/srlite\\_shared/ccdc\\_20230214/alaska/WV02\\_20110707\\_M1BS\\_103001000CA39000-ccdc.tif\\\\\n",
       "\t 103001000CC05200 & WV02\\_20110718\\_M1BS\\_103001000CC05200-sr-02m.cnn-chm-v1.tif & /explore/nobackup/people/mmacande/srlite/chm\\_model/20230829\\_chm/products/WV02\\_20110718\\_M1BS\\_103001000CC05200-sr-02m/WV02\\_20110718\\_M1BS\\_103001000CC05200-sr-02m.cnn-chm-v1.tif & /explore/nobackup/projects/ilab/data/srlite/products/srlite\\_1.0.1/srlite/alaska/batch\\_1/8\\_band\\_csv/split\\_8/WV02\\_20110718\\_M1BS\\_103001000CC05200-sr-02m.tif & TRUE & /explore/nobackup/projects/ilab/data/srlite/products/srlite\\_1.0.1/cloudmask/alaska\\_batch\\_1/split\\_8/WV02\\_20110718\\_M1BS\\_103001000CC05200-toa.cloudmask.tif & /explore/nobackup/projects/ilab/data/srlite/products/srlite\\_1.0.1/toa/alaska/split\\_8/WV02\\_20110718\\_M1BS\\_103001000CC05200-toa.tif & /explore/nobackup/people/mmacande/srlite/srlite\\_shared/ccdc\\_20230214/alaska/WV02\\_20110718\\_M1BS\\_103001000CC05200-ccdc.tif\\\\\n",
       "\\end{tabular}\n"
      ],
      "text/markdown": [
       "\n",
       "A tibble: 6 × 8\n",
       "\n",
       "| catid &lt;chr&gt; | chm_file &lt;chr&gt; | chm_path &lt;fs::path&gt; | srlite_path &lt;fs::path&gt; | arcBor &lt;lgl&gt; | cloudmask_path &lt;fs::path&gt; | toa_path &lt;fs::path&gt; | ccdc_path &lt;fs::path&gt; |\n",
       "|---|---|---|---|---|---|---|---|\n",
       "| 1030010006545100 | WV02_20100802_M1BS_1030010006545100-sr-02m.cnn-chm-v1.tif | /explore/nobackup/people/mmacande/srlite/chm_model/20230829_chm/products/WV02_20100802_M1BS_1030010006545100-sr-02m/WV02_20100802_M1BS_1030010006545100-sr-02m.cnn-chm-v1.tif | /explore/nobackup/projects/ilab/data/srlite/products/srlite_1.0.1/srlite/alaska/batch_1/4_band_csv/WV02_20100802_M1BS_1030010006545100-sr-02m.tif         | TRUE | /explore/nobackup/projects/ilab/data/srlite/products/srlite_1.0.1/cloudmask/alaska_batch_1/4_bands/WV02_20100802_M1BS_1030010006545100-toa.cloudmask.tif | /explore/nobackup/projects/ilab/data/srlite/products/srlite_1.0.1/toa/alaska/4_bands/WV02_20100802_M1BS_1030010006545100-toa.tif | /explore/nobackup/people/mmacande/srlite/srlite_shared/ccdc_20230214/alaska/WV02_20100802_M1BS_1030010006545100-ccdc.tif |\n",
       "| 103001000617C000 | WV02_20100804_M1BS_103001000617C000-sr-02m.cnn-chm-v1.tif | /explore/nobackup/people/mmacande/srlite/chm_model/20230829_chm/products/WV02_20100804_M1BS_103001000617C000-sr-02m/WV02_20100804_M1BS_103001000617C000-sr-02m.cnn-chm-v1.tif | /explore/nobackup/projects/ilab/data/srlite/products/srlite_1.0.1/srlite/alaska/batch_1/8_band_csv/split_4/WV02_20100804_M1BS_103001000617C000-sr-02m.tif | TRUE | /explore/nobackup/projects/ilab/data/srlite/products/srlite_1.0.1/cloudmask/alaska_batch_1/split_4/WV02_20100804_M1BS_103001000617C000-toa.cloudmask.tif | /explore/nobackup/projects/ilab/data/srlite/products/srlite_1.0.1/toa/alaska/split_4/WV02_20100804_M1BS_103001000617C000-toa.tif | /explore/nobackup/people/mmacande/srlite/srlite_shared/ccdc_20230214/alaska/WV02_20100804_M1BS_103001000617C000-ccdc.tif |\n",
       "| 10300100068BF600 | WV02_20100815_M1BS_10300100068BF600-sr-02m.cnn-chm-v1.tif | /explore/nobackup/people/mmacande/srlite/chm_model/20230829_chm/products/WV02_20100815_M1BS_10300100068BF600-sr-02m/WV02_20100815_M1BS_10300100068BF600-sr-02m.cnn-chm-v1.tif | /explore/nobackup/projects/ilab/data/srlite/products/srlite_1.0.1/srlite/alaska/batch_1/4_band_csv/WV02_20100815_M1BS_10300100068BF600-sr-02m.tif         | TRUE | /explore/nobackup/projects/ilab/data/srlite/products/srlite_1.0.1/cloudmask/alaska_batch_1/4_bands/WV02_20100815_M1BS_10300100068BF600-toa.cloudmask.tif | /explore/nobackup/projects/ilab/data/srlite/products/srlite_1.0.1/toa/alaska/4_bands/WV02_20100815_M1BS_10300100068BF600-toa.tif | /explore/nobackup/people/mmacande/srlite/srlite_shared/ccdc_20230214/alaska/WV02_20100815_M1BS_10300100068BF600-ccdc.tif |\n",
       "| 103001000C6D7600 | WV02_20110707_M1BS_103001000C6D7600-sr-02m.cnn-chm-v1.tif | /explore/nobackup/people/mmacande/srlite/chm_model/20230829_chm/products/WV02_20110707_M1BS_103001000C6D7600-sr-02m/WV02_20110707_M1BS_103001000C6D7600-sr-02m.cnn-chm-v1.tif | /explore/nobackup/projects/ilab/data/srlite/products/srlite_1.0.1/srlite/alaska/batch_1/4_band_csv/WV02_20110707_M1BS_103001000C6D7600-sr-02m.tif         | TRUE | /explore/nobackup/projects/ilab/data/srlite/products/srlite_1.0.1/cloudmask/alaska_batch_1/4_bands/WV02_20110707_M1BS_103001000C6D7600-toa.cloudmask.tif | /explore/nobackup/projects/ilab/data/srlite/products/srlite_1.0.1/toa/alaska/4_bands/WV02_20110707_M1BS_103001000C6D7600-toa.tif | /explore/nobackup/people/mmacande/srlite/srlite_shared/ccdc_20230214/alaska/WV02_20110707_M1BS_103001000C6D7600-ccdc.tif |\n",
       "| 103001000CA39000 | WV02_20110707_M1BS_103001000CA39000-sr-02m.cnn-chm-v1.tif | /explore/nobackup/people/mmacande/srlite/chm_model/20230829_chm/products/WV02_20110707_M1BS_103001000CA39000-sr-02m/WV02_20110707_M1BS_103001000CA39000-sr-02m.cnn-chm-v1.tif | /explore/nobackup/projects/ilab/data/srlite/products/srlite_1.0.1/srlite/alaska/batch_1/4_band_csv/WV02_20110707_M1BS_103001000CA39000-sr-02m.tif         | TRUE | /explore/nobackup/projects/ilab/data/srlite/products/srlite_1.0.1/cloudmask/alaska_batch_1/4_bands/WV02_20110707_M1BS_103001000CA39000-toa.cloudmask.tif | /explore/nobackup/projects/ilab/data/srlite/products/srlite_1.0.1/toa/alaska/4_bands/WV02_20110707_M1BS_103001000CA39000-toa.tif | /explore/nobackup/people/mmacande/srlite/srlite_shared/ccdc_20230214/alaska/WV02_20110707_M1BS_103001000CA39000-ccdc.tif |\n",
       "| 103001000CC05200 | WV02_20110718_M1BS_103001000CC05200-sr-02m.cnn-chm-v1.tif | /explore/nobackup/people/mmacande/srlite/chm_model/20230829_chm/products/WV02_20110718_M1BS_103001000CC05200-sr-02m/WV02_20110718_M1BS_103001000CC05200-sr-02m.cnn-chm-v1.tif | /explore/nobackup/projects/ilab/data/srlite/products/srlite_1.0.1/srlite/alaska/batch_1/8_band_csv/split_8/WV02_20110718_M1BS_103001000CC05200-sr-02m.tif | TRUE | /explore/nobackup/projects/ilab/data/srlite/products/srlite_1.0.1/cloudmask/alaska_batch_1/split_8/WV02_20110718_M1BS_103001000CC05200-toa.cloudmask.tif | /explore/nobackup/projects/ilab/data/srlite/products/srlite_1.0.1/toa/alaska/split_8/WV02_20110718_M1BS_103001000CC05200-toa.tif | /explore/nobackup/people/mmacande/srlite/srlite_shared/ccdc_20230214/alaska/WV02_20110718_M1BS_103001000CC05200-ccdc.tif |\n",
       "\n"
      ],
      "text/plain": [
       "  catid            chm_file                                                 \n",
       "1 1030010006545100 WV02_20100802_M1BS_1030010006545100-sr-02m.cnn-chm-v1.tif\n",
       "2 103001000617C000 WV02_20100804_M1BS_103001000617C000-sr-02m.cnn-chm-v1.tif\n",
       "3 10300100068BF600 WV02_20100815_M1BS_10300100068BF600-sr-02m.cnn-chm-v1.tif\n",
       "4 103001000C6D7600 WV02_20110707_M1BS_103001000C6D7600-sr-02m.cnn-chm-v1.tif\n",
       "5 103001000CA39000 WV02_20110707_M1BS_103001000CA39000-sr-02m.cnn-chm-v1.tif\n",
       "6 103001000CC05200 WV02_20110718_M1BS_103001000CC05200-sr-02m.cnn-chm-v1.tif\n",
       "  chm_path                                                                                                                                                                     \n",
       "1 /explore/nobackup/people/mmacande/srlite/chm_model/20230829_chm/products/WV02_20100802_M1BS_1030010006545100-sr-02m/WV02_20100802_M1BS_1030010006545100-sr-02m.cnn-chm-v1.tif\n",
       "2 /explore/nobackup/people/mmacande/srlite/chm_model/20230829_chm/products/WV02_20100804_M1BS_103001000617C000-sr-02m/WV02_20100804_M1BS_103001000617C000-sr-02m.cnn-chm-v1.tif\n",
       "3 /explore/nobackup/people/mmacande/srlite/chm_model/20230829_chm/products/WV02_20100815_M1BS_10300100068BF600-sr-02m/WV02_20100815_M1BS_10300100068BF600-sr-02m.cnn-chm-v1.tif\n",
       "4 /explore/nobackup/people/mmacande/srlite/chm_model/20230829_chm/products/WV02_20110707_M1BS_103001000C6D7600-sr-02m/WV02_20110707_M1BS_103001000C6D7600-sr-02m.cnn-chm-v1.tif\n",
       "5 /explore/nobackup/people/mmacande/srlite/chm_model/20230829_chm/products/WV02_20110707_M1BS_103001000CA39000-sr-02m/WV02_20110707_M1BS_103001000CA39000-sr-02m.cnn-chm-v1.tif\n",
       "6 /explore/nobackup/people/mmacande/srlite/chm_model/20230829_chm/products/WV02_20110718_M1BS_103001000CC05200-sr-02m/WV02_20110718_M1BS_103001000CC05200-sr-02m.cnn-chm-v1.tif\n",
       "  srlite_path                                                                                                                                              \n",
       "1 /explore/nobackup/projects/ilab/data/srlite/products/srlite_1.0.1/srlite/alaska/batch_1/4_band_csv/WV02_20100802_M1BS_1030010006545100-sr-02m.tif        \n",
       "2 /explore/nobackup/projects/ilab/data/srlite/products/srlite_1.0.1/srlite/alaska/batch_1/8_band_csv/split_4/WV02_20100804_M1BS_103001000617C000-sr-02m.tif\n",
       "3 /explore/nobackup/projects/ilab/data/srlite/products/srlite_1.0.1/srlite/alaska/batch_1/4_band_csv/WV02_20100815_M1BS_10300100068BF600-sr-02m.tif        \n",
       "4 /explore/nobackup/projects/ilab/data/srlite/products/srlite_1.0.1/srlite/alaska/batch_1/4_band_csv/WV02_20110707_M1BS_103001000C6D7600-sr-02m.tif        \n",
       "5 /explore/nobackup/projects/ilab/data/srlite/products/srlite_1.0.1/srlite/alaska/batch_1/4_band_csv/WV02_20110707_M1BS_103001000CA39000-sr-02m.tif        \n",
       "6 /explore/nobackup/projects/ilab/data/srlite/products/srlite_1.0.1/srlite/alaska/batch_1/8_band_csv/split_8/WV02_20110718_M1BS_103001000CC05200-sr-02m.tif\n",
       "  arcBor\n",
       "1 TRUE  \n",
       "2 TRUE  \n",
       "3 TRUE  \n",
       "4 TRUE  \n",
       "5 TRUE  \n",
       "6 TRUE  \n",
       "  cloudmask_path                                                                                                                                          \n",
       "1 /explore/nobackup/projects/ilab/data/srlite/products/srlite_1.0.1/cloudmask/alaska_batch_1/4_bands/WV02_20100802_M1BS_1030010006545100-toa.cloudmask.tif\n",
       "2 /explore/nobackup/projects/ilab/data/srlite/products/srlite_1.0.1/cloudmask/alaska_batch_1/split_4/WV02_20100804_M1BS_103001000617C000-toa.cloudmask.tif\n",
       "3 /explore/nobackup/projects/ilab/data/srlite/products/srlite_1.0.1/cloudmask/alaska_batch_1/4_bands/WV02_20100815_M1BS_10300100068BF600-toa.cloudmask.tif\n",
       "4 /explore/nobackup/projects/ilab/data/srlite/products/srlite_1.0.1/cloudmask/alaska_batch_1/4_bands/WV02_20110707_M1BS_103001000C6D7600-toa.cloudmask.tif\n",
       "5 /explore/nobackup/projects/ilab/data/srlite/products/srlite_1.0.1/cloudmask/alaska_batch_1/4_bands/WV02_20110707_M1BS_103001000CA39000-toa.cloudmask.tif\n",
       "6 /explore/nobackup/projects/ilab/data/srlite/products/srlite_1.0.1/cloudmask/alaska_batch_1/split_8/WV02_20110718_M1BS_103001000CC05200-toa.cloudmask.tif\n",
       "  toa_path                                                                                                                        \n",
       "1 /explore/nobackup/projects/ilab/data/srlite/products/srlite_1.0.1/toa/alaska/4_bands/WV02_20100802_M1BS_1030010006545100-toa.tif\n",
       "2 /explore/nobackup/projects/ilab/data/srlite/products/srlite_1.0.1/toa/alaska/split_4/WV02_20100804_M1BS_103001000617C000-toa.tif\n",
       "3 /explore/nobackup/projects/ilab/data/srlite/products/srlite_1.0.1/toa/alaska/4_bands/WV02_20100815_M1BS_10300100068BF600-toa.tif\n",
       "4 /explore/nobackup/projects/ilab/data/srlite/products/srlite_1.0.1/toa/alaska/4_bands/WV02_20110707_M1BS_103001000C6D7600-toa.tif\n",
       "5 /explore/nobackup/projects/ilab/data/srlite/products/srlite_1.0.1/toa/alaska/4_bands/WV02_20110707_M1BS_103001000CA39000-toa.tif\n",
       "6 /explore/nobackup/projects/ilab/data/srlite/products/srlite_1.0.1/toa/alaska/split_8/WV02_20110718_M1BS_103001000CC05200-toa.tif\n",
       "  ccdc_path                                                                                                               \n",
       "1 /explore/nobackup/people/mmacande/srlite/srlite_shared/ccdc_20230214/alaska/WV02_20100802_M1BS_1030010006545100-ccdc.tif\n",
       "2 /explore/nobackup/people/mmacande/srlite/srlite_shared/ccdc_20230214/alaska/WV02_20100804_M1BS_103001000617C000-ccdc.tif\n",
       "3 /explore/nobackup/people/mmacande/srlite/srlite_shared/ccdc_20230214/alaska/WV02_20100815_M1BS_10300100068BF600-ccdc.tif\n",
       "4 /explore/nobackup/people/mmacande/srlite/srlite_shared/ccdc_20230214/alaska/WV02_20110707_M1BS_103001000C6D7600-ccdc.tif\n",
       "5 /explore/nobackup/people/mmacande/srlite/srlite_shared/ccdc_20230214/alaska/WV02_20110707_M1BS_103001000CA39000-ccdc.tif\n",
       "6 /explore/nobackup/people/mmacande/srlite/srlite_shared/ccdc_20230214/alaska/WV02_20110718_M1BS_103001000CC05200-ccdc.tif"
      ]
     },
     "metadata": {},
     "output_type": "display_data"
    }
   ],
   "source": [
    "chms_predicted <- tibble(\n",
    "    chm_path = dir_ls('/explore/nobackup/people/mmacande/srlite/chm_model/20230829_chm/products', glob='*/*.tif', recurse=T)) %>%\n",
    "    mutate(chm_file = path_file(chm_path),\n",
    "           catid = str_sub(chm_file,20,35)) %>%\n",
    "select(catid, chm_file, chm_path) %>%\n",
    "left_join(srlite_fp %>% select(catid, srlite_path, arcBor)) %>%\n",
    "left_join(cloudmasks %>% select(catid, cloudmask_path)) %>%\n",
    "left_join(toas %>% select(catid, toa_path)) %>%\n",
    "left_join(ccdc %>% select(catid, ccdc_path)) %>%\n",
    "st_as_sf()\n",
    " \n",
    "nrow(chms_predicted)\n",
    "head(chms_predicted %>% st_drop_geometry())\n",
    "write_csv(chms_predicted %>% st_drop_geometry(), '/explore/nobackup/people/mmacande/srlite/chm_model/20230829_chm/products/chm_srlite_list_20230915.csv')\n",
    "write_sf(chms_predicted, '/explore/nobackup/people/mmacande/srlite/chm_model/20230829_chm/products/chm_srlite_list_20230915.gpkg')"
   ]
  },
  {
   "cell_type": "code",
   "execution_count": 13,
   "id": "9e09eb1d-dee7-463b-a4b1-9e6ae56ac035",
   "metadata": {},
   "outputs": [
    {
     "name": "stderr",
     "output_type": "stream",
     "text": [
      "\u001b[1m\u001b[22mJoining, by = \"catid\"\n",
      "\u001b[1m\u001b[22mJoining, by = \"catid\"\n",
      "\u001b[1m\u001b[22mJoining, by = \"catid\"\n",
      "\u001b[1m\u001b[22mJoining, by = \"catid\"\n"
     ]
    },
    {
     "data": {
      "text/html": [
       "239"
      ],
      "text/latex": [
       "239"
      ],
      "text/markdown": [
       "239"
      ],
      "text/plain": [
       "[1] 239"
      ]
     },
     "metadata": {},
     "output_type": "display_data"
    },
    {
     "data": {
      "text/html": [
       "<table class=\"dataframe\">\n",
       "<caption>A tibble: 6 × 8</caption>\n",
       "<thead>\n",
       "\t<tr><th scope=col>catid</th><th scope=col>chm_file</th><th scope=col>chm_path</th><th scope=col>srlite_path</th><th scope=col>arcBor</th><th scope=col>cloudmask_path</th><th scope=col>toa_path</th><th scope=col>ccdc_path</th></tr>\n",
       "\t<tr><th scope=col>&lt;chr&gt;</th><th scope=col>&lt;chr&gt;</th><th scope=col>&lt;fs::path&gt;</th><th scope=col>&lt;fs::path&gt;</th><th scope=col>&lt;lgl&gt;</th><th scope=col>&lt;fs::path&gt;</th><th scope=col>&lt;fs::path&gt;</th><th scope=col>&lt;fs::path&gt;</th></tr>\n",
       "</thead>\n",
       "<tbody>\n",
       "\t<tr><td>1030010006544A00</td><td>WV02_20100709_M1BS_1030010006544A00-sr-02m.cnn-chm-v1.tif</td><td>/explore/nobackup/people/mmacande/srlite/chm_model/20230829_chm/products_batch2/WV02_20100709_M1BS_1030010006544A00-sr-02m/WV02_20100709_M1BS_1030010006544A00-sr-02m.cnn-chm-v1.tif</td><td>/explore/nobackup/projects/ilab/data/srlite/products/srlite_1.0.1/srlite/alaska/batch_1/4_band_csv/WV02_20100709_M1BS_1030010006544A00-sr-02m.tif          </td><td>TRUE</td><td>/explore/nobackup/projects/ilab/data/srlite/products/srlite_1.0.1/cloudmask/alaska_batch_1/4_bands/WV02_20100709_M1BS_1030010006544A00-toa.cloudmask.tif</td><td>/explore/nobackup/projects/ilab/data/srlite/products/srlite_1.0.1/toa/alaska/4_bands/WV02_20100709_M1BS_1030010006544A00-toa.tif          </td><td>/explore/nobackup/people/mmacande/srlite/srlite_shared/ccdc_20230214/alaska/WV02_20100709_M1BS_1030010006544A00-ccdc.tif               </td></tr>\n",
       "\t<tr><td>1030010006A83500</td><td>WV02_20100820_M1BS_1030010006A83500-sr-02m.cnn-chm-v1.tif</td><td>/explore/nobackup/people/mmacande/srlite/chm_model/20230829_chm/products_batch2/WV02_20100820_M1BS_1030010006A83500-sr-02m/WV02_20100820_M1BS_1030010006A83500-sr-02m.cnn-chm-v1.tif</td><td>/explore/nobackup/projects/ilab/data/srlite/products/srlite_1.0.1/srlite/alaska/batch_1/4_band_csv/WV02_20100820_M1BS_1030010006A83500-sr-02m.tif          </td><td>TRUE</td><td>/explore/nobackup/projects/ilab/data/srlite/products/srlite_1.0.1/cloudmask/alaska_batch_1/4_bands/WV02_20100820_M1BS_1030010006A83500-toa.cloudmask.tif</td><td>/explore/nobackup/projects/ilab/data/srlite/products/srlite_1.0.1/toa/alaska/4_bands/WV02_20100820_M1BS_1030010006A83500-toa.tif          </td><td>/explore/nobackup/people/mmacande/srlite/srlite_shared/ccdc_20230214/alaska/WV02_20100820_M1BS_1030010006A83500-ccdc.tif               </td></tr>\n",
       "\t<tr><td>103001000C6B2700</td><td>WV02_20110718_M1BS_103001000C6B2700-sr-02m.cnn-chm-v1.tif</td><td>/explore/nobackup/people/mmacande/srlite/chm_model/20230829_chm/products_batch2/WV02_20110718_M1BS_103001000C6B2700-sr-02m/WV02_20110718_M1BS_103001000C6B2700-sr-02m.cnn-chm-v1.tif</td><td>/explore/nobackup/projects/ilab/data/srlite/products/srlite_1.0.1/srlite/alaska/batch_1/4_band_csv/WV02_20110718_M1BS_103001000C6B2700-sr-02m.tif          </td><td>TRUE</td><td>/explore/nobackup/projects/ilab/data/srlite/products/srlite_1.0.1/cloudmask/alaska_batch_1/4_bands/WV02_20110718_M1BS_103001000C6B2700-toa.cloudmask.tif</td><td>/explore/nobackup/projects/ilab/data/srlite/products/srlite_1.0.1/toa/alaska/4_bands/WV02_20110718_M1BS_103001000C6B2700-toa.tif          </td><td>/explore/nobackup/people/mmacande/srlite/srlite_shared/ccdc_20230214/alaska/WV02_20110718_M1BS_103001000C6B2700-ccdc.tif               </td></tr>\n",
       "\t<tr><td>103001000C734500</td><td>WV02_20110812_M1BS_103001000C734500-sr-02m.cnn-chm-v1.tif</td><td>/explore/nobackup/people/mmacande/srlite/chm_model/20230829_chm/products_batch2/WV02_20110812_M1BS_103001000C734500-sr-02m/WV02_20110812_M1BS_103001000C734500-sr-02m.cnn-chm-v1.tif</td><td>/explore/nobackup/projects/ilab/data/srlite/products/srlite_1.0.1/srlite/alaska/batch_1/8_band_csv/split_6_0/WV02_20110812_M1BS_103001000C734500-sr-02m.tif</td><td>TRUE</td><td>/explore/nobackup/projects/ilab/data/srlite/products/srlite_1.0.1/cloudmask/alaska_batch_1/split_6/WV02_20110812_M1BS_103001000C734500-toa.cloudmask.tif</td><td>/explore/nobackup/projects/ilab/data/srlite/products/srlite_1.0.1/toa/alaska/split_6_0/WV02_20110812_M1BS_103001000C734500-toa.tif        </td><td>/explore/nobackup/people/mmacande/srlite/srlite_shared/ccdc_20230214/alaska/WV02_20110812_M1BS_103001000C734500-ccdc.tif               </td></tr>\n",
       "\t<tr><td>103001000C7EBF00</td><td>WV02_20110812_M1BS_103001000C7EBF00-sr-02m.cnn-chm-v1.tif</td><td>/explore/nobackup/people/mmacande/srlite/chm_model/20230829_chm/products_batch2/WV02_20110812_M1BS_103001000C7EBF00-sr-02m/WV02_20110812_M1BS_103001000C7EBF00-sr-02m.cnn-chm-v1.tif</td><td>/explore/nobackup/projects/ilab/data/srlite/products/srlite_1.0.1/srlite/alaska/batch_1/8_band_csv/split_5/WV02_20110812_M1BS_103001000C7EBF00-sr-02m.tif  </td><td>TRUE</td><td>/explore/nobackup/projects/ilab/data/srlite/products/srlite_1.0.1/cloudmask/alaska_batch_1/split_5/WV02_20110812_M1BS_103001000C7EBF00-toa.cloudmask.tif</td><td>/explore/nobackup/projects/ilab/data/srlite/products/srlite_1.0.1/toa/alaska/split_5/WV02_20110812_M1BS_103001000C7EBF00-toa.tif          </td><td>/explore/nobackup/people/mmacande/srlite/srlite_shared/ccdc_20230214/alaska/WV02_20110812_M1BS_103001000C7EBF00-ccdc.tif               </td></tr>\n",
       "\t<tr><td>103001000C698800</td><td>WV02_20110817_M1BS_103001000C698800-sr-02m.cnn-chm-v1.tif</td><td>/explore/nobackup/people/mmacande/srlite/chm_model/20230829_chm/products_batch2/WV02_20110817_M1BS_103001000C698800-sr-02m/WV02_20110817_M1BS_103001000C698800-sr-02m.cnn-chm-v1.tif</td><td>/explore/nobackup/projects/ilab/data/srlite/products/srlite_1.0.1/srlite/alaska/batch_2/8_band_csv/split_7/WV02_20110817_M1BS_103001000C698800-sr-02m.tif  </td><td>TRUE</td><td>/explore/nobackup/projects/ilab/data/srlite/products/srlite_1.0.1/cloudmask/alaska_batch_2/split_7/WV02_20110817_M1BS_103001000C698800-toa.cloudmask.tif</td><td>/explore/nobackup/projects/ilab/data/srlite/products/srlite_1.0.1/toa/alaska_2nd_batch/split_7/WV02_20110817_M1BS_103001000C698800-toa.tif</td><td>/explore/nobackup/people/mmacande/srlite/srlite_shared/ccdc_20230807_alaska_batch23/alaska/WV02_20110817_M1BS_103001000C698800-ccdc.tif</td></tr>\n",
       "</tbody>\n",
       "</table>\n"
      ],
      "text/latex": [
       "A tibble: 6 × 8\n",
       "\\begin{tabular}{llllllll}\n",
       " catid & chm\\_file & chm\\_path & srlite\\_path & arcBor & cloudmask\\_path & toa\\_path & ccdc\\_path\\\\\n",
       " <chr> & <chr> & <fs::path> & <fs::path> & <lgl> & <fs::path> & <fs::path> & <fs::path>\\\\\n",
       "\\hline\n",
       "\t 1030010006544A00 & WV02\\_20100709\\_M1BS\\_1030010006544A00-sr-02m.cnn-chm-v1.tif & /explore/nobackup/people/mmacande/srlite/chm\\_model/20230829\\_chm/products\\_batch2/WV02\\_20100709\\_M1BS\\_1030010006544A00-sr-02m/WV02\\_20100709\\_M1BS\\_1030010006544A00-sr-02m.cnn-chm-v1.tif & /explore/nobackup/projects/ilab/data/srlite/products/srlite\\_1.0.1/srlite/alaska/batch\\_1/4\\_band\\_csv/WV02\\_20100709\\_M1BS\\_1030010006544A00-sr-02m.tif           & TRUE & /explore/nobackup/projects/ilab/data/srlite/products/srlite\\_1.0.1/cloudmask/alaska\\_batch\\_1/4\\_bands/WV02\\_20100709\\_M1BS\\_1030010006544A00-toa.cloudmask.tif & /explore/nobackup/projects/ilab/data/srlite/products/srlite\\_1.0.1/toa/alaska/4\\_bands/WV02\\_20100709\\_M1BS\\_1030010006544A00-toa.tif           & /explore/nobackup/people/mmacande/srlite/srlite\\_shared/ccdc\\_20230214/alaska/WV02\\_20100709\\_M1BS\\_1030010006544A00-ccdc.tif               \\\\\n",
       "\t 1030010006A83500 & WV02\\_20100820\\_M1BS\\_1030010006A83500-sr-02m.cnn-chm-v1.tif & /explore/nobackup/people/mmacande/srlite/chm\\_model/20230829\\_chm/products\\_batch2/WV02\\_20100820\\_M1BS\\_1030010006A83500-sr-02m/WV02\\_20100820\\_M1BS\\_1030010006A83500-sr-02m.cnn-chm-v1.tif & /explore/nobackup/projects/ilab/data/srlite/products/srlite\\_1.0.1/srlite/alaska/batch\\_1/4\\_band\\_csv/WV02\\_20100820\\_M1BS\\_1030010006A83500-sr-02m.tif           & TRUE & /explore/nobackup/projects/ilab/data/srlite/products/srlite\\_1.0.1/cloudmask/alaska\\_batch\\_1/4\\_bands/WV02\\_20100820\\_M1BS\\_1030010006A83500-toa.cloudmask.tif & /explore/nobackup/projects/ilab/data/srlite/products/srlite\\_1.0.1/toa/alaska/4\\_bands/WV02\\_20100820\\_M1BS\\_1030010006A83500-toa.tif           & /explore/nobackup/people/mmacande/srlite/srlite\\_shared/ccdc\\_20230214/alaska/WV02\\_20100820\\_M1BS\\_1030010006A83500-ccdc.tif               \\\\\n",
       "\t 103001000C6B2700 & WV02\\_20110718\\_M1BS\\_103001000C6B2700-sr-02m.cnn-chm-v1.tif & /explore/nobackup/people/mmacande/srlite/chm\\_model/20230829\\_chm/products\\_batch2/WV02\\_20110718\\_M1BS\\_103001000C6B2700-sr-02m/WV02\\_20110718\\_M1BS\\_103001000C6B2700-sr-02m.cnn-chm-v1.tif & /explore/nobackup/projects/ilab/data/srlite/products/srlite\\_1.0.1/srlite/alaska/batch\\_1/4\\_band\\_csv/WV02\\_20110718\\_M1BS\\_103001000C6B2700-sr-02m.tif           & TRUE & /explore/nobackup/projects/ilab/data/srlite/products/srlite\\_1.0.1/cloudmask/alaska\\_batch\\_1/4\\_bands/WV02\\_20110718\\_M1BS\\_103001000C6B2700-toa.cloudmask.tif & /explore/nobackup/projects/ilab/data/srlite/products/srlite\\_1.0.1/toa/alaska/4\\_bands/WV02\\_20110718\\_M1BS\\_103001000C6B2700-toa.tif           & /explore/nobackup/people/mmacande/srlite/srlite\\_shared/ccdc\\_20230214/alaska/WV02\\_20110718\\_M1BS\\_103001000C6B2700-ccdc.tif               \\\\\n",
       "\t 103001000C734500 & WV02\\_20110812\\_M1BS\\_103001000C734500-sr-02m.cnn-chm-v1.tif & /explore/nobackup/people/mmacande/srlite/chm\\_model/20230829\\_chm/products\\_batch2/WV02\\_20110812\\_M1BS\\_103001000C734500-sr-02m/WV02\\_20110812\\_M1BS\\_103001000C734500-sr-02m.cnn-chm-v1.tif & /explore/nobackup/projects/ilab/data/srlite/products/srlite\\_1.0.1/srlite/alaska/batch\\_1/8\\_band\\_csv/split\\_6\\_0/WV02\\_20110812\\_M1BS\\_103001000C734500-sr-02m.tif & TRUE & /explore/nobackup/projects/ilab/data/srlite/products/srlite\\_1.0.1/cloudmask/alaska\\_batch\\_1/split\\_6/WV02\\_20110812\\_M1BS\\_103001000C734500-toa.cloudmask.tif & /explore/nobackup/projects/ilab/data/srlite/products/srlite\\_1.0.1/toa/alaska/split\\_6\\_0/WV02\\_20110812\\_M1BS\\_103001000C734500-toa.tif         & /explore/nobackup/people/mmacande/srlite/srlite\\_shared/ccdc\\_20230214/alaska/WV02\\_20110812\\_M1BS\\_103001000C734500-ccdc.tif               \\\\\n",
       "\t 103001000C7EBF00 & WV02\\_20110812\\_M1BS\\_103001000C7EBF00-sr-02m.cnn-chm-v1.tif & /explore/nobackup/people/mmacande/srlite/chm\\_model/20230829\\_chm/products\\_batch2/WV02\\_20110812\\_M1BS\\_103001000C7EBF00-sr-02m/WV02\\_20110812\\_M1BS\\_103001000C7EBF00-sr-02m.cnn-chm-v1.tif & /explore/nobackup/projects/ilab/data/srlite/products/srlite\\_1.0.1/srlite/alaska/batch\\_1/8\\_band\\_csv/split\\_5/WV02\\_20110812\\_M1BS\\_103001000C7EBF00-sr-02m.tif   & TRUE & /explore/nobackup/projects/ilab/data/srlite/products/srlite\\_1.0.1/cloudmask/alaska\\_batch\\_1/split\\_5/WV02\\_20110812\\_M1BS\\_103001000C7EBF00-toa.cloudmask.tif & /explore/nobackup/projects/ilab/data/srlite/products/srlite\\_1.0.1/toa/alaska/split\\_5/WV02\\_20110812\\_M1BS\\_103001000C7EBF00-toa.tif           & /explore/nobackup/people/mmacande/srlite/srlite\\_shared/ccdc\\_20230214/alaska/WV02\\_20110812\\_M1BS\\_103001000C7EBF00-ccdc.tif               \\\\\n",
       "\t 103001000C698800 & WV02\\_20110817\\_M1BS\\_103001000C698800-sr-02m.cnn-chm-v1.tif & /explore/nobackup/people/mmacande/srlite/chm\\_model/20230829\\_chm/products\\_batch2/WV02\\_20110817\\_M1BS\\_103001000C698800-sr-02m/WV02\\_20110817\\_M1BS\\_103001000C698800-sr-02m.cnn-chm-v1.tif & /explore/nobackup/projects/ilab/data/srlite/products/srlite\\_1.0.1/srlite/alaska/batch\\_2/8\\_band\\_csv/split\\_7/WV02\\_20110817\\_M1BS\\_103001000C698800-sr-02m.tif   & TRUE & /explore/nobackup/projects/ilab/data/srlite/products/srlite\\_1.0.1/cloudmask/alaska\\_batch\\_2/split\\_7/WV02\\_20110817\\_M1BS\\_103001000C698800-toa.cloudmask.tif & /explore/nobackup/projects/ilab/data/srlite/products/srlite\\_1.0.1/toa/alaska\\_2nd\\_batch/split\\_7/WV02\\_20110817\\_M1BS\\_103001000C698800-toa.tif & /explore/nobackup/people/mmacande/srlite/srlite\\_shared/ccdc\\_20230807\\_alaska\\_batch23/alaska/WV02\\_20110817\\_M1BS\\_103001000C698800-ccdc.tif\\\\\n",
       "\\end{tabular}\n"
      ],
      "text/markdown": [
       "\n",
       "A tibble: 6 × 8\n",
       "\n",
       "| catid &lt;chr&gt; | chm_file &lt;chr&gt; | chm_path &lt;fs::path&gt; | srlite_path &lt;fs::path&gt; | arcBor &lt;lgl&gt; | cloudmask_path &lt;fs::path&gt; | toa_path &lt;fs::path&gt; | ccdc_path &lt;fs::path&gt; |\n",
       "|---|---|---|---|---|---|---|---|\n",
       "| 1030010006544A00 | WV02_20100709_M1BS_1030010006544A00-sr-02m.cnn-chm-v1.tif | /explore/nobackup/people/mmacande/srlite/chm_model/20230829_chm/products_batch2/WV02_20100709_M1BS_1030010006544A00-sr-02m/WV02_20100709_M1BS_1030010006544A00-sr-02m.cnn-chm-v1.tif | /explore/nobackup/projects/ilab/data/srlite/products/srlite_1.0.1/srlite/alaska/batch_1/4_band_csv/WV02_20100709_M1BS_1030010006544A00-sr-02m.tif           | TRUE | /explore/nobackup/projects/ilab/data/srlite/products/srlite_1.0.1/cloudmask/alaska_batch_1/4_bands/WV02_20100709_M1BS_1030010006544A00-toa.cloudmask.tif | /explore/nobackup/projects/ilab/data/srlite/products/srlite_1.0.1/toa/alaska/4_bands/WV02_20100709_M1BS_1030010006544A00-toa.tif           | /explore/nobackup/people/mmacande/srlite/srlite_shared/ccdc_20230214/alaska/WV02_20100709_M1BS_1030010006544A00-ccdc.tif                |\n",
       "| 1030010006A83500 | WV02_20100820_M1BS_1030010006A83500-sr-02m.cnn-chm-v1.tif | /explore/nobackup/people/mmacande/srlite/chm_model/20230829_chm/products_batch2/WV02_20100820_M1BS_1030010006A83500-sr-02m/WV02_20100820_M1BS_1030010006A83500-sr-02m.cnn-chm-v1.tif | /explore/nobackup/projects/ilab/data/srlite/products/srlite_1.0.1/srlite/alaska/batch_1/4_band_csv/WV02_20100820_M1BS_1030010006A83500-sr-02m.tif           | TRUE | /explore/nobackup/projects/ilab/data/srlite/products/srlite_1.0.1/cloudmask/alaska_batch_1/4_bands/WV02_20100820_M1BS_1030010006A83500-toa.cloudmask.tif | /explore/nobackup/projects/ilab/data/srlite/products/srlite_1.0.1/toa/alaska/4_bands/WV02_20100820_M1BS_1030010006A83500-toa.tif           | /explore/nobackup/people/mmacande/srlite/srlite_shared/ccdc_20230214/alaska/WV02_20100820_M1BS_1030010006A83500-ccdc.tif                |\n",
       "| 103001000C6B2700 | WV02_20110718_M1BS_103001000C6B2700-sr-02m.cnn-chm-v1.tif | /explore/nobackup/people/mmacande/srlite/chm_model/20230829_chm/products_batch2/WV02_20110718_M1BS_103001000C6B2700-sr-02m/WV02_20110718_M1BS_103001000C6B2700-sr-02m.cnn-chm-v1.tif | /explore/nobackup/projects/ilab/data/srlite/products/srlite_1.0.1/srlite/alaska/batch_1/4_band_csv/WV02_20110718_M1BS_103001000C6B2700-sr-02m.tif           | TRUE | /explore/nobackup/projects/ilab/data/srlite/products/srlite_1.0.1/cloudmask/alaska_batch_1/4_bands/WV02_20110718_M1BS_103001000C6B2700-toa.cloudmask.tif | /explore/nobackup/projects/ilab/data/srlite/products/srlite_1.0.1/toa/alaska/4_bands/WV02_20110718_M1BS_103001000C6B2700-toa.tif           | /explore/nobackup/people/mmacande/srlite/srlite_shared/ccdc_20230214/alaska/WV02_20110718_M1BS_103001000C6B2700-ccdc.tif                |\n",
       "| 103001000C734500 | WV02_20110812_M1BS_103001000C734500-sr-02m.cnn-chm-v1.tif | /explore/nobackup/people/mmacande/srlite/chm_model/20230829_chm/products_batch2/WV02_20110812_M1BS_103001000C734500-sr-02m/WV02_20110812_M1BS_103001000C734500-sr-02m.cnn-chm-v1.tif | /explore/nobackup/projects/ilab/data/srlite/products/srlite_1.0.1/srlite/alaska/batch_1/8_band_csv/split_6_0/WV02_20110812_M1BS_103001000C734500-sr-02m.tif | TRUE | /explore/nobackup/projects/ilab/data/srlite/products/srlite_1.0.1/cloudmask/alaska_batch_1/split_6/WV02_20110812_M1BS_103001000C734500-toa.cloudmask.tif | /explore/nobackup/projects/ilab/data/srlite/products/srlite_1.0.1/toa/alaska/split_6_0/WV02_20110812_M1BS_103001000C734500-toa.tif         | /explore/nobackup/people/mmacande/srlite/srlite_shared/ccdc_20230214/alaska/WV02_20110812_M1BS_103001000C734500-ccdc.tif                |\n",
       "| 103001000C7EBF00 | WV02_20110812_M1BS_103001000C7EBF00-sr-02m.cnn-chm-v1.tif | /explore/nobackup/people/mmacande/srlite/chm_model/20230829_chm/products_batch2/WV02_20110812_M1BS_103001000C7EBF00-sr-02m/WV02_20110812_M1BS_103001000C7EBF00-sr-02m.cnn-chm-v1.tif | /explore/nobackup/projects/ilab/data/srlite/products/srlite_1.0.1/srlite/alaska/batch_1/8_band_csv/split_5/WV02_20110812_M1BS_103001000C7EBF00-sr-02m.tif   | TRUE | /explore/nobackup/projects/ilab/data/srlite/products/srlite_1.0.1/cloudmask/alaska_batch_1/split_5/WV02_20110812_M1BS_103001000C7EBF00-toa.cloudmask.tif | /explore/nobackup/projects/ilab/data/srlite/products/srlite_1.0.1/toa/alaska/split_5/WV02_20110812_M1BS_103001000C7EBF00-toa.tif           | /explore/nobackup/people/mmacande/srlite/srlite_shared/ccdc_20230214/alaska/WV02_20110812_M1BS_103001000C7EBF00-ccdc.tif                |\n",
       "| 103001000C698800 | WV02_20110817_M1BS_103001000C698800-sr-02m.cnn-chm-v1.tif | /explore/nobackup/people/mmacande/srlite/chm_model/20230829_chm/products_batch2/WV02_20110817_M1BS_103001000C698800-sr-02m/WV02_20110817_M1BS_103001000C698800-sr-02m.cnn-chm-v1.tif | /explore/nobackup/projects/ilab/data/srlite/products/srlite_1.0.1/srlite/alaska/batch_2/8_band_csv/split_7/WV02_20110817_M1BS_103001000C698800-sr-02m.tif   | TRUE | /explore/nobackup/projects/ilab/data/srlite/products/srlite_1.0.1/cloudmask/alaska_batch_2/split_7/WV02_20110817_M1BS_103001000C698800-toa.cloudmask.tif | /explore/nobackup/projects/ilab/data/srlite/products/srlite_1.0.1/toa/alaska_2nd_batch/split_7/WV02_20110817_M1BS_103001000C698800-toa.tif | /explore/nobackup/people/mmacande/srlite/srlite_shared/ccdc_20230807_alaska_batch23/alaska/WV02_20110817_M1BS_103001000C698800-ccdc.tif |\n",
       "\n"
      ],
      "text/plain": [
       "  catid            chm_file                                                 \n",
       "1 1030010006544A00 WV02_20100709_M1BS_1030010006544A00-sr-02m.cnn-chm-v1.tif\n",
       "2 1030010006A83500 WV02_20100820_M1BS_1030010006A83500-sr-02m.cnn-chm-v1.tif\n",
       "3 103001000C6B2700 WV02_20110718_M1BS_103001000C6B2700-sr-02m.cnn-chm-v1.tif\n",
       "4 103001000C734500 WV02_20110812_M1BS_103001000C734500-sr-02m.cnn-chm-v1.tif\n",
       "5 103001000C7EBF00 WV02_20110812_M1BS_103001000C7EBF00-sr-02m.cnn-chm-v1.tif\n",
       "6 103001000C698800 WV02_20110817_M1BS_103001000C698800-sr-02m.cnn-chm-v1.tif\n",
       "  chm_path                                                                                                                                                                            \n",
       "1 /explore/nobackup/people/mmacande/srlite/chm_model/20230829_chm/products_batch2/WV02_20100709_M1BS_1030010006544A00-sr-02m/WV02_20100709_M1BS_1030010006544A00-sr-02m.cnn-chm-v1.tif\n",
       "2 /explore/nobackup/people/mmacande/srlite/chm_model/20230829_chm/products_batch2/WV02_20100820_M1BS_1030010006A83500-sr-02m/WV02_20100820_M1BS_1030010006A83500-sr-02m.cnn-chm-v1.tif\n",
       "3 /explore/nobackup/people/mmacande/srlite/chm_model/20230829_chm/products_batch2/WV02_20110718_M1BS_103001000C6B2700-sr-02m/WV02_20110718_M1BS_103001000C6B2700-sr-02m.cnn-chm-v1.tif\n",
       "4 /explore/nobackup/people/mmacande/srlite/chm_model/20230829_chm/products_batch2/WV02_20110812_M1BS_103001000C734500-sr-02m/WV02_20110812_M1BS_103001000C734500-sr-02m.cnn-chm-v1.tif\n",
       "5 /explore/nobackup/people/mmacande/srlite/chm_model/20230829_chm/products_batch2/WV02_20110812_M1BS_103001000C7EBF00-sr-02m/WV02_20110812_M1BS_103001000C7EBF00-sr-02m.cnn-chm-v1.tif\n",
       "6 /explore/nobackup/people/mmacande/srlite/chm_model/20230829_chm/products_batch2/WV02_20110817_M1BS_103001000C698800-sr-02m/WV02_20110817_M1BS_103001000C698800-sr-02m.cnn-chm-v1.tif\n",
       "  srlite_path                                                                                                                                                \n",
       "1 /explore/nobackup/projects/ilab/data/srlite/products/srlite_1.0.1/srlite/alaska/batch_1/4_band_csv/WV02_20100709_M1BS_1030010006544A00-sr-02m.tif          \n",
       "2 /explore/nobackup/projects/ilab/data/srlite/products/srlite_1.0.1/srlite/alaska/batch_1/4_band_csv/WV02_20100820_M1BS_1030010006A83500-sr-02m.tif          \n",
       "3 /explore/nobackup/projects/ilab/data/srlite/products/srlite_1.0.1/srlite/alaska/batch_1/4_band_csv/WV02_20110718_M1BS_103001000C6B2700-sr-02m.tif          \n",
       "4 /explore/nobackup/projects/ilab/data/srlite/products/srlite_1.0.1/srlite/alaska/batch_1/8_band_csv/split_6_0/WV02_20110812_M1BS_103001000C734500-sr-02m.tif\n",
       "5 /explore/nobackup/projects/ilab/data/srlite/products/srlite_1.0.1/srlite/alaska/batch_1/8_band_csv/split_5/WV02_20110812_M1BS_103001000C7EBF00-sr-02m.tif  \n",
       "6 /explore/nobackup/projects/ilab/data/srlite/products/srlite_1.0.1/srlite/alaska/batch_2/8_band_csv/split_7/WV02_20110817_M1BS_103001000C698800-sr-02m.tif  \n",
       "  arcBor\n",
       "1 TRUE  \n",
       "2 TRUE  \n",
       "3 TRUE  \n",
       "4 TRUE  \n",
       "5 TRUE  \n",
       "6 TRUE  \n",
       "  cloudmask_path                                                                                                                                          \n",
       "1 /explore/nobackup/projects/ilab/data/srlite/products/srlite_1.0.1/cloudmask/alaska_batch_1/4_bands/WV02_20100709_M1BS_1030010006544A00-toa.cloudmask.tif\n",
       "2 /explore/nobackup/projects/ilab/data/srlite/products/srlite_1.0.1/cloudmask/alaska_batch_1/4_bands/WV02_20100820_M1BS_1030010006A83500-toa.cloudmask.tif\n",
       "3 /explore/nobackup/projects/ilab/data/srlite/products/srlite_1.0.1/cloudmask/alaska_batch_1/4_bands/WV02_20110718_M1BS_103001000C6B2700-toa.cloudmask.tif\n",
       "4 /explore/nobackup/projects/ilab/data/srlite/products/srlite_1.0.1/cloudmask/alaska_batch_1/split_6/WV02_20110812_M1BS_103001000C734500-toa.cloudmask.tif\n",
       "5 /explore/nobackup/projects/ilab/data/srlite/products/srlite_1.0.1/cloudmask/alaska_batch_1/split_5/WV02_20110812_M1BS_103001000C7EBF00-toa.cloudmask.tif\n",
       "6 /explore/nobackup/projects/ilab/data/srlite/products/srlite_1.0.1/cloudmask/alaska_batch_2/split_7/WV02_20110817_M1BS_103001000C698800-toa.cloudmask.tif\n",
       "  toa_path                                                                                                                                  \n",
       "1 /explore/nobackup/projects/ilab/data/srlite/products/srlite_1.0.1/toa/alaska/4_bands/WV02_20100709_M1BS_1030010006544A00-toa.tif          \n",
       "2 /explore/nobackup/projects/ilab/data/srlite/products/srlite_1.0.1/toa/alaska/4_bands/WV02_20100820_M1BS_1030010006A83500-toa.tif          \n",
       "3 /explore/nobackup/projects/ilab/data/srlite/products/srlite_1.0.1/toa/alaska/4_bands/WV02_20110718_M1BS_103001000C6B2700-toa.tif          \n",
       "4 /explore/nobackup/projects/ilab/data/srlite/products/srlite_1.0.1/toa/alaska/split_6_0/WV02_20110812_M1BS_103001000C734500-toa.tif        \n",
       "5 /explore/nobackup/projects/ilab/data/srlite/products/srlite_1.0.1/toa/alaska/split_5/WV02_20110812_M1BS_103001000C7EBF00-toa.tif          \n",
       "6 /explore/nobackup/projects/ilab/data/srlite/products/srlite_1.0.1/toa/alaska_2nd_batch/split_7/WV02_20110817_M1BS_103001000C698800-toa.tif\n",
       "  ccdc_path                                                                                                                              \n",
       "1 /explore/nobackup/people/mmacande/srlite/srlite_shared/ccdc_20230214/alaska/WV02_20100709_M1BS_1030010006544A00-ccdc.tif               \n",
       "2 /explore/nobackup/people/mmacande/srlite/srlite_shared/ccdc_20230214/alaska/WV02_20100820_M1BS_1030010006A83500-ccdc.tif               \n",
       "3 /explore/nobackup/people/mmacande/srlite/srlite_shared/ccdc_20230214/alaska/WV02_20110718_M1BS_103001000C6B2700-ccdc.tif               \n",
       "4 /explore/nobackup/people/mmacande/srlite/srlite_shared/ccdc_20230214/alaska/WV02_20110812_M1BS_103001000C734500-ccdc.tif               \n",
       "5 /explore/nobackup/people/mmacande/srlite/srlite_shared/ccdc_20230214/alaska/WV02_20110812_M1BS_103001000C7EBF00-ccdc.tif               \n",
       "6 /explore/nobackup/people/mmacande/srlite/srlite_shared/ccdc_20230807_alaska_batch23/alaska/WV02_20110817_M1BS_103001000C698800-ccdc.tif"
      ]
     },
     "metadata": {},
     "output_type": "display_data"
    }
   ],
   "source": [
    "chms_predicted2 <- tibble(\n",
    "    chm_path = dir_ls('/explore/nobackup/people/mmacande/srlite/chm_model/20230829_chm/products_batch2', glob='*/*.tif', recurse=T)) %>%\n",
    "    mutate(chm_file = path_file(chm_path),\n",
    "           catid = str_sub(chm_file,20,35)) %>%\n",
    "select(catid, chm_file, chm_path) %>%\n",
    "left_join(srlite_fp %>% select(catid, srlite_path, arcBor)) %>%\n",
    "left_join(cloudmasks %>% select(catid, cloudmask_path)) %>%\n",
    "left_join(toas %>% select(catid, toa_path)) %>%\n",
    "left_join(ccdc %>% select(catid, ccdc_path)) %>%\n",
    "st_as_sf()\n",
    "\n",
    "nrow(chms_predicted2)\n",
    "head(chms_predicted2 %>% st_drop_geometry())\n",
    "write_csv(chms_predicted2 %>% st_drop_geometry(), '/explore/nobackup/people/mmacande/srlite/chm_model/20230829_chm/products/chm_srlite_list_batch2_20230915.csv')\n",
    "write_sf(chms_predicted2, '/explore/nobackup/people/mmacande/srlite/chm_model/20230829_chm/products/chm_srlite_list_batch2_20230915.gpkg')"
   ]
  },
  {
   "cell_type": "code",
   "execution_count": 15,
   "id": "4e35f476-2485-4bf7-9812-045c0057bdb0",
   "metadata": {},
   "outputs": [
    {
     "name": "stderr",
     "output_type": "stream",
     "text": [
      "\u001b[1m\u001b[22mJoining, by = \"catid\"\n",
      "\u001b[1m\u001b[22mJoining, by = \"catid\"\n",
      "\u001b[1m\u001b[22mJoining, by = \"catid\"\n",
      "\u001b[1m\u001b[22mJoining, by = \"catid\"\n"
     ]
    },
    {
     "data": {
      "text/html": [
       "204"
      ],
      "text/latex": [
       "204"
      ],
      "text/markdown": [
       "204"
      ],
      "text/plain": [
       "[1] 204"
      ]
     },
     "metadata": {},
     "output_type": "display_data"
    },
    {
     "data": {
      "text/html": [
       "<table class=\"dataframe\">\n",
       "<caption>A tibble: 6 × 8</caption>\n",
       "<thead>\n",
       "\t<tr><th scope=col>catid</th><th scope=col>chm_file</th><th scope=col>chm_path</th><th scope=col>srlite_path</th><th scope=col>arcBor</th><th scope=col>cloudmask_path</th><th scope=col>toa_path</th><th scope=col>ccdc_path</th></tr>\n",
       "\t<tr><th scope=col>&lt;chr&gt;</th><th scope=col>&lt;chr&gt;</th><th scope=col>&lt;fs::path&gt;</th><th scope=col>&lt;fs::path&gt;</th><th scope=col>&lt;lgl&gt;</th><th scope=col>&lt;fs::path&gt;</th><th scope=col>&lt;fs::path&gt;</th><th scope=col>&lt;fs::path&gt;</th></tr>\n",
       "</thead>\n",
       "<tbody>\n",
       "\t<tr><td>1030010006544A00</td><td>WV02_20100709_M1BS_1030010006544A00-sr-02m.cnn-chm-v1.tif</td><td>/explore/nobackup/people/mmacande/srlite/chm_model/20230916_chm/products_batch2/WV02_20100709_M1BS_1030010006544A00-sr-02m/WV02_20100709_M1BS_1030010006544A00-sr-02m.cnn-chm-v1.tif</td><td>/explore/nobackup/projects/ilab/data/srlite/products/srlite_1.0.1/srlite/alaska/batch_1/4_band_csv/WV02_20100709_M1BS_1030010006544A00-sr-02m.tif          </td><td>TRUE</td><td>/explore/nobackup/projects/ilab/data/srlite/products/srlite_1.0.1/cloudmask/alaska_batch_1/4_bands/WV02_20100709_M1BS_1030010006544A00-toa.cloudmask.tif</td><td>/explore/nobackup/projects/ilab/data/srlite/products/srlite_1.0.1/toa/alaska/4_bands/WV02_20100709_M1BS_1030010006544A00-toa.tif  </td><td>/explore/nobackup/people/mmacande/srlite/srlite_shared/ccdc_20230214/alaska/WV02_20100709_M1BS_1030010006544A00-ccdc.tif</td></tr>\n",
       "\t<tr><td>1030010006A83500</td><td>WV02_20100820_M1BS_1030010006A83500-sr-02m.cnn-chm-v1.tif</td><td>/explore/nobackup/people/mmacande/srlite/chm_model/20230916_chm/products_batch2/WV02_20100820_M1BS_1030010006A83500-sr-02m/WV02_20100820_M1BS_1030010006A83500-sr-02m.cnn-chm-v1.tif</td><td>/explore/nobackup/projects/ilab/data/srlite/products/srlite_1.0.1/srlite/alaska/batch_1/4_band_csv/WV02_20100820_M1BS_1030010006A83500-sr-02m.tif          </td><td>TRUE</td><td>/explore/nobackup/projects/ilab/data/srlite/products/srlite_1.0.1/cloudmask/alaska_batch_1/4_bands/WV02_20100820_M1BS_1030010006A83500-toa.cloudmask.tif</td><td>/explore/nobackup/projects/ilab/data/srlite/products/srlite_1.0.1/toa/alaska/4_bands/WV02_20100820_M1BS_1030010006A83500-toa.tif  </td><td>/explore/nobackup/people/mmacande/srlite/srlite_shared/ccdc_20230214/alaska/WV02_20100820_M1BS_1030010006A83500-ccdc.tif</td></tr>\n",
       "\t<tr><td>103001000C6B2700</td><td>WV02_20110718_M1BS_103001000C6B2700-sr-02m.cnn-chm-v1.tif</td><td>/explore/nobackup/people/mmacande/srlite/chm_model/20230916_chm/products_batch2/WV02_20110718_M1BS_103001000C6B2700-sr-02m/WV02_20110718_M1BS_103001000C6B2700-sr-02m.cnn-chm-v1.tif</td><td>/explore/nobackup/projects/ilab/data/srlite/products/srlite_1.0.1/srlite/alaska/batch_1/4_band_csv/WV02_20110718_M1BS_103001000C6B2700-sr-02m.tif          </td><td>TRUE</td><td>/explore/nobackup/projects/ilab/data/srlite/products/srlite_1.0.1/cloudmask/alaska_batch_1/4_bands/WV02_20110718_M1BS_103001000C6B2700-toa.cloudmask.tif</td><td>/explore/nobackup/projects/ilab/data/srlite/products/srlite_1.0.1/toa/alaska/4_bands/WV02_20110718_M1BS_103001000C6B2700-toa.tif  </td><td>/explore/nobackup/people/mmacande/srlite/srlite_shared/ccdc_20230214/alaska/WV02_20110718_M1BS_103001000C6B2700-ccdc.tif</td></tr>\n",
       "\t<tr><td>103001000C734500</td><td>WV02_20110812_M1BS_103001000C734500-sr-02m.cnn-chm-v1.tif</td><td>/explore/nobackup/people/mmacande/srlite/chm_model/20230916_chm/products_batch2/WV02_20110812_M1BS_103001000C734500-sr-02m/WV02_20110812_M1BS_103001000C734500-sr-02m.cnn-chm-v1.tif</td><td>/explore/nobackup/projects/ilab/data/srlite/products/srlite_1.0.1/srlite/alaska/batch_1/8_band_csv/split_6_0/WV02_20110812_M1BS_103001000C734500-sr-02m.tif</td><td>TRUE</td><td>/explore/nobackup/projects/ilab/data/srlite/products/srlite_1.0.1/cloudmask/alaska_batch_1/split_6/WV02_20110812_M1BS_103001000C734500-toa.cloudmask.tif</td><td>/explore/nobackup/projects/ilab/data/srlite/products/srlite_1.0.1/toa/alaska/split_6_0/WV02_20110812_M1BS_103001000C734500-toa.tif</td><td>/explore/nobackup/people/mmacande/srlite/srlite_shared/ccdc_20230214/alaska/WV02_20110812_M1BS_103001000C734500-ccdc.tif</td></tr>\n",
       "\t<tr><td>103001000C7EBF00</td><td>WV02_20110812_M1BS_103001000C7EBF00-sr-02m.cnn-chm-v1.tif</td><td>/explore/nobackup/people/mmacande/srlite/chm_model/20230916_chm/products_batch2/WV02_20110812_M1BS_103001000C7EBF00-sr-02m/WV02_20110812_M1BS_103001000C7EBF00-sr-02m.cnn-chm-v1.tif</td><td>/explore/nobackup/projects/ilab/data/srlite/products/srlite_1.0.1/srlite/alaska/batch_1/8_band_csv/split_5/WV02_20110812_M1BS_103001000C7EBF00-sr-02m.tif  </td><td>TRUE</td><td>/explore/nobackup/projects/ilab/data/srlite/products/srlite_1.0.1/cloudmask/alaska_batch_1/split_5/WV02_20110812_M1BS_103001000C7EBF00-toa.cloudmask.tif</td><td>/explore/nobackup/projects/ilab/data/srlite/products/srlite_1.0.1/toa/alaska/split_5/WV02_20110812_M1BS_103001000C7EBF00-toa.tif  </td><td>/explore/nobackup/people/mmacande/srlite/srlite_shared/ccdc_20230214/alaska/WV02_20110812_M1BS_103001000C7EBF00-ccdc.tif</td></tr>\n",
       "\t<tr><td>103001000C94F200</td><td>WV02_20110818_M1BS_103001000C94F200-sr-02m.cnn-chm-v1.tif</td><td>/explore/nobackup/people/mmacande/srlite/chm_model/20230916_chm/products_batch2/WV02_20110818_M1BS_103001000C94F200-sr-02m/WV02_20110818_M1BS_103001000C94F200-sr-02m.cnn-chm-v1.tif</td><td>/explore/nobackup/projects/ilab/data/srlite/products/srlite_1.0.1/srlite/alaska/batch_1/4_band_csv/WV02_20110818_M1BS_103001000C94F200-sr-02m.tif          </td><td>TRUE</td><td>/explore/nobackup/projects/ilab/data/srlite/products/srlite_1.0.1/cloudmask/alaska_batch_1/4_bands/WV02_20110818_M1BS_103001000C94F200-toa.cloudmask.tif</td><td>/explore/nobackup/projects/ilab/data/srlite/products/srlite_1.0.1/toa/alaska/4_bands/WV02_20110818_M1BS_103001000C94F200-toa.tif  </td><td>/explore/nobackup/people/mmacande/srlite/srlite_shared/ccdc_20230214/alaska/WV02_20110818_M1BS_103001000C94F200-ccdc.tif</td></tr>\n",
       "</tbody>\n",
       "</table>\n"
      ],
      "text/latex": [
       "A tibble: 6 × 8\n",
       "\\begin{tabular}{llllllll}\n",
       " catid & chm\\_file & chm\\_path & srlite\\_path & arcBor & cloudmask\\_path & toa\\_path & ccdc\\_path\\\\\n",
       " <chr> & <chr> & <fs::path> & <fs::path> & <lgl> & <fs::path> & <fs::path> & <fs::path>\\\\\n",
       "\\hline\n",
       "\t 1030010006544A00 & WV02\\_20100709\\_M1BS\\_1030010006544A00-sr-02m.cnn-chm-v1.tif & /explore/nobackup/people/mmacande/srlite/chm\\_model/20230916\\_chm/products\\_batch2/WV02\\_20100709\\_M1BS\\_1030010006544A00-sr-02m/WV02\\_20100709\\_M1BS\\_1030010006544A00-sr-02m.cnn-chm-v1.tif & /explore/nobackup/projects/ilab/data/srlite/products/srlite\\_1.0.1/srlite/alaska/batch\\_1/4\\_band\\_csv/WV02\\_20100709\\_M1BS\\_1030010006544A00-sr-02m.tif           & TRUE & /explore/nobackup/projects/ilab/data/srlite/products/srlite\\_1.0.1/cloudmask/alaska\\_batch\\_1/4\\_bands/WV02\\_20100709\\_M1BS\\_1030010006544A00-toa.cloudmask.tif & /explore/nobackup/projects/ilab/data/srlite/products/srlite\\_1.0.1/toa/alaska/4\\_bands/WV02\\_20100709\\_M1BS\\_1030010006544A00-toa.tif   & /explore/nobackup/people/mmacande/srlite/srlite\\_shared/ccdc\\_20230214/alaska/WV02\\_20100709\\_M1BS\\_1030010006544A00-ccdc.tif\\\\\n",
       "\t 1030010006A83500 & WV02\\_20100820\\_M1BS\\_1030010006A83500-sr-02m.cnn-chm-v1.tif & /explore/nobackup/people/mmacande/srlite/chm\\_model/20230916\\_chm/products\\_batch2/WV02\\_20100820\\_M1BS\\_1030010006A83500-sr-02m/WV02\\_20100820\\_M1BS\\_1030010006A83500-sr-02m.cnn-chm-v1.tif & /explore/nobackup/projects/ilab/data/srlite/products/srlite\\_1.0.1/srlite/alaska/batch\\_1/4\\_band\\_csv/WV02\\_20100820\\_M1BS\\_1030010006A83500-sr-02m.tif           & TRUE & /explore/nobackup/projects/ilab/data/srlite/products/srlite\\_1.0.1/cloudmask/alaska\\_batch\\_1/4\\_bands/WV02\\_20100820\\_M1BS\\_1030010006A83500-toa.cloudmask.tif & /explore/nobackup/projects/ilab/data/srlite/products/srlite\\_1.0.1/toa/alaska/4\\_bands/WV02\\_20100820\\_M1BS\\_1030010006A83500-toa.tif   & /explore/nobackup/people/mmacande/srlite/srlite\\_shared/ccdc\\_20230214/alaska/WV02\\_20100820\\_M1BS\\_1030010006A83500-ccdc.tif\\\\\n",
       "\t 103001000C6B2700 & WV02\\_20110718\\_M1BS\\_103001000C6B2700-sr-02m.cnn-chm-v1.tif & /explore/nobackup/people/mmacande/srlite/chm\\_model/20230916\\_chm/products\\_batch2/WV02\\_20110718\\_M1BS\\_103001000C6B2700-sr-02m/WV02\\_20110718\\_M1BS\\_103001000C6B2700-sr-02m.cnn-chm-v1.tif & /explore/nobackup/projects/ilab/data/srlite/products/srlite\\_1.0.1/srlite/alaska/batch\\_1/4\\_band\\_csv/WV02\\_20110718\\_M1BS\\_103001000C6B2700-sr-02m.tif           & TRUE & /explore/nobackup/projects/ilab/data/srlite/products/srlite\\_1.0.1/cloudmask/alaska\\_batch\\_1/4\\_bands/WV02\\_20110718\\_M1BS\\_103001000C6B2700-toa.cloudmask.tif & /explore/nobackup/projects/ilab/data/srlite/products/srlite\\_1.0.1/toa/alaska/4\\_bands/WV02\\_20110718\\_M1BS\\_103001000C6B2700-toa.tif   & /explore/nobackup/people/mmacande/srlite/srlite\\_shared/ccdc\\_20230214/alaska/WV02\\_20110718\\_M1BS\\_103001000C6B2700-ccdc.tif\\\\\n",
       "\t 103001000C734500 & WV02\\_20110812\\_M1BS\\_103001000C734500-sr-02m.cnn-chm-v1.tif & /explore/nobackup/people/mmacande/srlite/chm\\_model/20230916\\_chm/products\\_batch2/WV02\\_20110812\\_M1BS\\_103001000C734500-sr-02m/WV02\\_20110812\\_M1BS\\_103001000C734500-sr-02m.cnn-chm-v1.tif & /explore/nobackup/projects/ilab/data/srlite/products/srlite\\_1.0.1/srlite/alaska/batch\\_1/8\\_band\\_csv/split\\_6\\_0/WV02\\_20110812\\_M1BS\\_103001000C734500-sr-02m.tif & TRUE & /explore/nobackup/projects/ilab/data/srlite/products/srlite\\_1.0.1/cloudmask/alaska\\_batch\\_1/split\\_6/WV02\\_20110812\\_M1BS\\_103001000C734500-toa.cloudmask.tif & /explore/nobackup/projects/ilab/data/srlite/products/srlite\\_1.0.1/toa/alaska/split\\_6\\_0/WV02\\_20110812\\_M1BS\\_103001000C734500-toa.tif & /explore/nobackup/people/mmacande/srlite/srlite\\_shared/ccdc\\_20230214/alaska/WV02\\_20110812\\_M1BS\\_103001000C734500-ccdc.tif\\\\\n",
       "\t 103001000C7EBF00 & WV02\\_20110812\\_M1BS\\_103001000C7EBF00-sr-02m.cnn-chm-v1.tif & /explore/nobackup/people/mmacande/srlite/chm\\_model/20230916\\_chm/products\\_batch2/WV02\\_20110812\\_M1BS\\_103001000C7EBF00-sr-02m/WV02\\_20110812\\_M1BS\\_103001000C7EBF00-sr-02m.cnn-chm-v1.tif & /explore/nobackup/projects/ilab/data/srlite/products/srlite\\_1.0.1/srlite/alaska/batch\\_1/8\\_band\\_csv/split\\_5/WV02\\_20110812\\_M1BS\\_103001000C7EBF00-sr-02m.tif   & TRUE & /explore/nobackup/projects/ilab/data/srlite/products/srlite\\_1.0.1/cloudmask/alaska\\_batch\\_1/split\\_5/WV02\\_20110812\\_M1BS\\_103001000C7EBF00-toa.cloudmask.tif & /explore/nobackup/projects/ilab/data/srlite/products/srlite\\_1.0.1/toa/alaska/split\\_5/WV02\\_20110812\\_M1BS\\_103001000C7EBF00-toa.tif   & /explore/nobackup/people/mmacande/srlite/srlite\\_shared/ccdc\\_20230214/alaska/WV02\\_20110812\\_M1BS\\_103001000C7EBF00-ccdc.tif\\\\\n",
       "\t 103001000C94F200 & WV02\\_20110818\\_M1BS\\_103001000C94F200-sr-02m.cnn-chm-v1.tif & /explore/nobackup/people/mmacande/srlite/chm\\_model/20230916\\_chm/products\\_batch2/WV02\\_20110818\\_M1BS\\_103001000C94F200-sr-02m/WV02\\_20110818\\_M1BS\\_103001000C94F200-sr-02m.cnn-chm-v1.tif & /explore/nobackup/projects/ilab/data/srlite/products/srlite\\_1.0.1/srlite/alaska/batch\\_1/4\\_band\\_csv/WV02\\_20110818\\_M1BS\\_103001000C94F200-sr-02m.tif           & TRUE & /explore/nobackup/projects/ilab/data/srlite/products/srlite\\_1.0.1/cloudmask/alaska\\_batch\\_1/4\\_bands/WV02\\_20110818\\_M1BS\\_103001000C94F200-toa.cloudmask.tif & /explore/nobackup/projects/ilab/data/srlite/products/srlite\\_1.0.1/toa/alaska/4\\_bands/WV02\\_20110818\\_M1BS\\_103001000C94F200-toa.tif   & /explore/nobackup/people/mmacande/srlite/srlite\\_shared/ccdc\\_20230214/alaska/WV02\\_20110818\\_M1BS\\_103001000C94F200-ccdc.tif\\\\\n",
       "\\end{tabular}\n"
      ],
      "text/markdown": [
       "\n",
       "A tibble: 6 × 8\n",
       "\n",
       "| catid &lt;chr&gt; | chm_file &lt;chr&gt; | chm_path &lt;fs::path&gt; | srlite_path &lt;fs::path&gt; | arcBor &lt;lgl&gt; | cloudmask_path &lt;fs::path&gt; | toa_path &lt;fs::path&gt; | ccdc_path &lt;fs::path&gt; |\n",
       "|---|---|---|---|---|---|---|---|\n",
       "| 1030010006544A00 | WV02_20100709_M1BS_1030010006544A00-sr-02m.cnn-chm-v1.tif | /explore/nobackup/people/mmacande/srlite/chm_model/20230916_chm/products_batch2/WV02_20100709_M1BS_1030010006544A00-sr-02m/WV02_20100709_M1BS_1030010006544A00-sr-02m.cnn-chm-v1.tif | /explore/nobackup/projects/ilab/data/srlite/products/srlite_1.0.1/srlite/alaska/batch_1/4_band_csv/WV02_20100709_M1BS_1030010006544A00-sr-02m.tif           | TRUE | /explore/nobackup/projects/ilab/data/srlite/products/srlite_1.0.1/cloudmask/alaska_batch_1/4_bands/WV02_20100709_M1BS_1030010006544A00-toa.cloudmask.tif | /explore/nobackup/projects/ilab/data/srlite/products/srlite_1.0.1/toa/alaska/4_bands/WV02_20100709_M1BS_1030010006544A00-toa.tif   | /explore/nobackup/people/mmacande/srlite/srlite_shared/ccdc_20230214/alaska/WV02_20100709_M1BS_1030010006544A00-ccdc.tif |\n",
       "| 1030010006A83500 | WV02_20100820_M1BS_1030010006A83500-sr-02m.cnn-chm-v1.tif | /explore/nobackup/people/mmacande/srlite/chm_model/20230916_chm/products_batch2/WV02_20100820_M1BS_1030010006A83500-sr-02m/WV02_20100820_M1BS_1030010006A83500-sr-02m.cnn-chm-v1.tif | /explore/nobackup/projects/ilab/data/srlite/products/srlite_1.0.1/srlite/alaska/batch_1/4_band_csv/WV02_20100820_M1BS_1030010006A83500-sr-02m.tif           | TRUE | /explore/nobackup/projects/ilab/data/srlite/products/srlite_1.0.1/cloudmask/alaska_batch_1/4_bands/WV02_20100820_M1BS_1030010006A83500-toa.cloudmask.tif | /explore/nobackup/projects/ilab/data/srlite/products/srlite_1.0.1/toa/alaska/4_bands/WV02_20100820_M1BS_1030010006A83500-toa.tif   | /explore/nobackup/people/mmacande/srlite/srlite_shared/ccdc_20230214/alaska/WV02_20100820_M1BS_1030010006A83500-ccdc.tif |\n",
       "| 103001000C6B2700 | WV02_20110718_M1BS_103001000C6B2700-sr-02m.cnn-chm-v1.tif | /explore/nobackup/people/mmacande/srlite/chm_model/20230916_chm/products_batch2/WV02_20110718_M1BS_103001000C6B2700-sr-02m/WV02_20110718_M1BS_103001000C6B2700-sr-02m.cnn-chm-v1.tif | /explore/nobackup/projects/ilab/data/srlite/products/srlite_1.0.1/srlite/alaska/batch_1/4_band_csv/WV02_20110718_M1BS_103001000C6B2700-sr-02m.tif           | TRUE | /explore/nobackup/projects/ilab/data/srlite/products/srlite_1.0.1/cloudmask/alaska_batch_1/4_bands/WV02_20110718_M1BS_103001000C6B2700-toa.cloudmask.tif | /explore/nobackup/projects/ilab/data/srlite/products/srlite_1.0.1/toa/alaska/4_bands/WV02_20110718_M1BS_103001000C6B2700-toa.tif   | /explore/nobackup/people/mmacande/srlite/srlite_shared/ccdc_20230214/alaska/WV02_20110718_M1BS_103001000C6B2700-ccdc.tif |\n",
       "| 103001000C734500 | WV02_20110812_M1BS_103001000C734500-sr-02m.cnn-chm-v1.tif | /explore/nobackup/people/mmacande/srlite/chm_model/20230916_chm/products_batch2/WV02_20110812_M1BS_103001000C734500-sr-02m/WV02_20110812_M1BS_103001000C734500-sr-02m.cnn-chm-v1.tif | /explore/nobackup/projects/ilab/data/srlite/products/srlite_1.0.1/srlite/alaska/batch_1/8_band_csv/split_6_0/WV02_20110812_M1BS_103001000C734500-sr-02m.tif | TRUE | /explore/nobackup/projects/ilab/data/srlite/products/srlite_1.0.1/cloudmask/alaska_batch_1/split_6/WV02_20110812_M1BS_103001000C734500-toa.cloudmask.tif | /explore/nobackup/projects/ilab/data/srlite/products/srlite_1.0.1/toa/alaska/split_6_0/WV02_20110812_M1BS_103001000C734500-toa.tif | /explore/nobackup/people/mmacande/srlite/srlite_shared/ccdc_20230214/alaska/WV02_20110812_M1BS_103001000C734500-ccdc.tif |\n",
       "| 103001000C7EBF00 | WV02_20110812_M1BS_103001000C7EBF00-sr-02m.cnn-chm-v1.tif | /explore/nobackup/people/mmacande/srlite/chm_model/20230916_chm/products_batch2/WV02_20110812_M1BS_103001000C7EBF00-sr-02m/WV02_20110812_M1BS_103001000C7EBF00-sr-02m.cnn-chm-v1.tif | /explore/nobackup/projects/ilab/data/srlite/products/srlite_1.0.1/srlite/alaska/batch_1/8_band_csv/split_5/WV02_20110812_M1BS_103001000C7EBF00-sr-02m.tif   | TRUE | /explore/nobackup/projects/ilab/data/srlite/products/srlite_1.0.1/cloudmask/alaska_batch_1/split_5/WV02_20110812_M1BS_103001000C7EBF00-toa.cloudmask.tif | /explore/nobackup/projects/ilab/data/srlite/products/srlite_1.0.1/toa/alaska/split_5/WV02_20110812_M1BS_103001000C7EBF00-toa.tif   | /explore/nobackup/people/mmacande/srlite/srlite_shared/ccdc_20230214/alaska/WV02_20110812_M1BS_103001000C7EBF00-ccdc.tif |\n",
       "| 103001000C94F200 | WV02_20110818_M1BS_103001000C94F200-sr-02m.cnn-chm-v1.tif | /explore/nobackup/people/mmacande/srlite/chm_model/20230916_chm/products_batch2/WV02_20110818_M1BS_103001000C94F200-sr-02m/WV02_20110818_M1BS_103001000C94F200-sr-02m.cnn-chm-v1.tif | /explore/nobackup/projects/ilab/data/srlite/products/srlite_1.0.1/srlite/alaska/batch_1/4_band_csv/WV02_20110818_M1BS_103001000C94F200-sr-02m.tif           | TRUE | /explore/nobackup/projects/ilab/data/srlite/products/srlite_1.0.1/cloudmask/alaska_batch_1/4_bands/WV02_20110818_M1BS_103001000C94F200-toa.cloudmask.tif | /explore/nobackup/projects/ilab/data/srlite/products/srlite_1.0.1/toa/alaska/4_bands/WV02_20110818_M1BS_103001000C94F200-toa.tif   | /explore/nobackup/people/mmacande/srlite/srlite_shared/ccdc_20230214/alaska/WV02_20110818_M1BS_103001000C94F200-ccdc.tif |\n",
       "\n"
      ],
      "text/plain": [
       "  catid            chm_file                                                 \n",
       "1 1030010006544A00 WV02_20100709_M1BS_1030010006544A00-sr-02m.cnn-chm-v1.tif\n",
       "2 1030010006A83500 WV02_20100820_M1BS_1030010006A83500-sr-02m.cnn-chm-v1.tif\n",
       "3 103001000C6B2700 WV02_20110718_M1BS_103001000C6B2700-sr-02m.cnn-chm-v1.tif\n",
       "4 103001000C734500 WV02_20110812_M1BS_103001000C734500-sr-02m.cnn-chm-v1.tif\n",
       "5 103001000C7EBF00 WV02_20110812_M1BS_103001000C7EBF00-sr-02m.cnn-chm-v1.tif\n",
       "6 103001000C94F200 WV02_20110818_M1BS_103001000C94F200-sr-02m.cnn-chm-v1.tif\n",
       "  chm_path                                                                                                                                                                            \n",
       "1 /explore/nobackup/people/mmacande/srlite/chm_model/20230916_chm/products_batch2/WV02_20100709_M1BS_1030010006544A00-sr-02m/WV02_20100709_M1BS_1030010006544A00-sr-02m.cnn-chm-v1.tif\n",
       "2 /explore/nobackup/people/mmacande/srlite/chm_model/20230916_chm/products_batch2/WV02_20100820_M1BS_1030010006A83500-sr-02m/WV02_20100820_M1BS_1030010006A83500-sr-02m.cnn-chm-v1.tif\n",
       "3 /explore/nobackup/people/mmacande/srlite/chm_model/20230916_chm/products_batch2/WV02_20110718_M1BS_103001000C6B2700-sr-02m/WV02_20110718_M1BS_103001000C6B2700-sr-02m.cnn-chm-v1.tif\n",
       "4 /explore/nobackup/people/mmacande/srlite/chm_model/20230916_chm/products_batch2/WV02_20110812_M1BS_103001000C734500-sr-02m/WV02_20110812_M1BS_103001000C734500-sr-02m.cnn-chm-v1.tif\n",
       "5 /explore/nobackup/people/mmacande/srlite/chm_model/20230916_chm/products_batch2/WV02_20110812_M1BS_103001000C7EBF00-sr-02m/WV02_20110812_M1BS_103001000C7EBF00-sr-02m.cnn-chm-v1.tif\n",
       "6 /explore/nobackup/people/mmacande/srlite/chm_model/20230916_chm/products_batch2/WV02_20110818_M1BS_103001000C94F200-sr-02m/WV02_20110818_M1BS_103001000C94F200-sr-02m.cnn-chm-v1.tif\n",
       "  srlite_path                                                                                                                                                \n",
       "1 /explore/nobackup/projects/ilab/data/srlite/products/srlite_1.0.1/srlite/alaska/batch_1/4_band_csv/WV02_20100709_M1BS_1030010006544A00-sr-02m.tif          \n",
       "2 /explore/nobackup/projects/ilab/data/srlite/products/srlite_1.0.1/srlite/alaska/batch_1/4_band_csv/WV02_20100820_M1BS_1030010006A83500-sr-02m.tif          \n",
       "3 /explore/nobackup/projects/ilab/data/srlite/products/srlite_1.0.1/srlite/alaska/batch_1/4_band_csv/WV02_20110718_M1BS_103001000C6B2700-sr-02m.tif          \n",
       "4 /explore/nobackup/projects/ilab/data/srlite/products/srlite_1.0.1/srlite/alaska/batch_1/8_band_csv/split_6_0/WV02_20110812_M1BS_103001000C734500-sr-02m.tif\n",
       "5 /explore/nobackup/projects/ilab/data/srlite/products/srlite_1.0.1/srlite/alaska/batch_1/8_band_csv/split_5/WV02_20110812_M1BS_103001000C7EBF00-sr-02m.tif  \n",
       "6 /explore/nobackup/projects/ilab/data/srlite/products/srlite_1.0.1/srlite/alaska/batch_1/4_band_csv/WV02_20110818_M1BS_103001000C94F200-sr-02m.tif          \n",
       "  arcBor\n",
       "1 TRUE  \n",
       "2 TRUE  \n",
       "3 TRUE  \n",
       "4 TRUE  \n",
       "5 TRUE  \n",
       "6 TRUE  \n",
       "  cloudmask_path                                                                                                                                          \n",
       "1 /explore/nobackup/projects/ilab/data/srlite/products/srlite_1.0.1/cloudmask/alaska_batch_1/4_bands/WV02_20100709_M1BS_1030010006544A00-toa.cloudmask.tif\n",
       "2 /explore/nobackup/projects/ilab/data/srlite/products/srlite_1.0.1/cloudmask/alaska_batch_1/4_bands/WV02_20100820_M1BS_1030010006A83500-toa.cloudmask.tif\n",
       "3 /explore/nobackup/projects/ilab/data/srlite/products/srlite_1.0.1/cloudmask/alaska_batch_1/4_bands/WV02_20110718_M1BS_103001000C6B2700-toa.cloudmask.tif\n",
       "4 /explore/nobackup/projects/ilab/data/srlite/products/srlite_1.0.1/cloudmask/alaska_batch_1/split_6/WV02_20110812_M1BS_103001000C734500-toa.cloudmask.tif\n",
       "5 /explore/nobackup/projects/ilab/data/srlite/products/srlite_1.0.1/cloudmask/alaska_batch_1/split_5/WV02_20110812_M1BS_103001000C7EBF00-toa.cloudmask.tif\n",
       "6 /explore/nobackup/projects/ilab/data/srlite/products/srlite_1.0.1/cloudmask/alaska_batch_1/4_bands/WV02_20110818_M1BS_103001000C94F200-toa.cloudmask.tif\n",
       "  toa_path                                                                                                                          \n",
       "1 /explore/nobackup/projects/ilab/data/srlite/products/srlite_1.0.1/toa/alaska/4_bands/WV02_20100709_M1BS_1030010006544A00-toa.tif  \n",
       "2 /explore/nobackup/projects/ilab/data/srlite/products/srlite_1.0.1/toa/alaska/4_bands/WV02_20100820_M1BS_1030010006A83500-toa.tif  \n",
       "3 /explore/nobackup/projects/ilab/data/srlite/products/srlite_1.0.1/toa/alaska/4_bands/WV02_20110718_M1BS_103001000C6B2700-toa.tif  \n",
       "4 /explore/nobackup/projects/ilab/data/srlite/products/srlite_1.0.1/toa/alaska/split_6_0/WV02_20110812_M1BS_103001000C734500-toa.tif\n",
       "5 /explore/nobackup/projects/ilab/data/srlite/products/srlite_1.0.1/toa/alaska/split_5/WV02_20110812_M1BS_103001000C7EBF00-toa.tif  \n",
       "6 /explore/nobackup/projects/ilab/data/srlite/products/srlite_1.0.1/toa/alaska/4_bands/WV02_20110818_M1BS_103001000C94F200-toa.tif  \n",
       "  ccdc_path                                                                                                               \n",
       "1 /explore/nobackup/people/mmacande/srlite/srlite_shared/ccdc_20230214/alaska/WV02_20100709_M1BS_1030010006544A00-ccdc.tif\n",
       "2 /explore/nobackup/people/mmacande/srlite/srlite_shared/ccdc_20230214/alaska/WV02_20100820_M1BS_1030010006A83500-ccdc.tif\n",
       "3 /explore/nobackup/people/mmacande/srlite/srlite_shared/ccdc_20230214/alaska/WV02_20110718_M1BS_103001000C6B2700-ccdc.tif\n",
       "4 /explore/nobackup/people/mmacande/srlite/srlite_shared/ccdc_20230214/alaska/WV02_20110812_M1BS_103001000C734500-ccdc.tif\n",
       "5 /explore/nobackup/people/mmacande/srlite/srlite_shared/ccdc_20230214/alaska/WV02_20110812_M1BS_103001000C7EBF00-ccdc.tif\n",
       "6 /explore/nobackup/people/mmacande/srlite/srlite_shared/ccdc_20230214/alaska/WV02_20110818_M1BS_103001000C94F200-ccdc.tif"
      ]
     },
     "metadata": {},
     "output_type": "display_data"
    }
   ],
   "source": [
    "chms_predicted_20230916 <- tibble(\n",
    "    chm_path = dir_ls('/explore/nobackup/people/mmacande/srlite/chm_model/20230916_chm/products_batch2', glob='*/*.tif', recurse=T)) %>%\n",
    "    mutate(chm_file = path_file(chm_path),\n",
    "           catid = str_sub(chm_file,20,35)) %>%\n",
    "select(catid, chm_file, chm_path) %>%\n",
    "left_join(srlite_fp %>% select(catid, srlite_path, arcBor)) %>%\n",
    "left_join(cloudmasks %>% select(catid, cloudmask_path)) %>%\n",
    "left_join(toas %>% select(catid, toa_path)) %>%\n",
    "left_join(ccdc %>% select(catid, ccdc_path)) %>%\n",
    "st_as_sf()\n",
    "\n",
    "nrow(chms_predicted_20230916)\n",
    "head(chms_predicted_20230916 %>% st_drop_geometry())\n",
    "write_csv(chms_predicted_20230916 %>% st_drop_geometry(), '/explore/nobackup/people/mmacande/srlite/chm_model/20230916_chm/chm_srlite_list_20230918.csv')\n",
    "write_sf(chms_predicted_20230916, '/explore/nobackup/people/mmacande/srlite/chm_model/20230916_chm/chm_srlite_list_20230918.gpkg')"
   ]
  },
  {
   "cell_type": "code",
   "execution_count": null,
   "id": "0294f699-b920-4826-b5ce-2ebcbf2f109c",
   "metadata": {},
   "outputs": [],
   "source": []
  }
 ],
 "metadata": {
  "kernelspec": {
   "display_name": "R",
   "language": "R",
   "name": "ir"
  },
  "language_info": {
   "codemirror_mode": "r",
   "file_extension": ".r",
   "mimetype": "text/x-r-source",
   "name": "R",
   "pygments_lexer": "r",
   "version": "4.2.2"
  }
 },
 "nbformat": 4,
 "nbformat_minor": 5
}
