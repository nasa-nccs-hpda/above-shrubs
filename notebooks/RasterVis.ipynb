{
 "cells": [
  {
   "cell_type": "code",
   "execution_count": 1,
   "id": "b2a76827-618f-41e7-85c1-9500d7944fad",
   "metadata": {},
   "outputs": [],
   "source": [
    "import os\n",
    "import re\n",
    "import json\n",
    "import tempfile\n",
    "import folium\n",
    "import ipysheet\n",
    "import numpy as np\n",
    "import pandas as pd\n",
    "import rasterio as rio\n",
    "import rioxarray as rxr\n",
    "import geopandas as gpd\n",
    "import branca.colormap as cm\n",
    "import matplotlib.pyplot as plt\n",
    "import matplotlib.colors as mcolors\n",
    "import ipywidgets as widgets\n",
    "\n",
    "from glob import glob\n",
    "from pathlib import Path\n",
    "from folium import plugins\n",
    "from pyproj import Transformer\n",
    "from ipyfilechooser import FileChooser\n",
    "from ipysheet import from_dataframe\n",
    "from rasterio.warp import calculate_default_transform, reproject, Resampling\n",
    "from localtileserver import TileClient, get_leaflet_tile_layer, examples\n",
    "from ipyleaflet import Map, Marker, basemaps, ScaleControl, LayersControl, AwesomeIcon\n",
    "from ipyleaflet import LegendControl, FullScreenControl, MarkerCluster\n",
    "\n",
    "os.environ['LOCALTILESERVER_CLIENT_PREFIX'] = \\\n",
    "    f\"{os.environ['JUPYTERHUB_SERVICE_PREFIX'].lstrip('/')}/proxy/{{port}}\"\n",
    "\n",
    "from localtileserver import TileClient, get_leaflet_tile_layer\n",
    "from localtileserver import examples, helpers\n",
    "from ipyleaflet import Map, SplitMapControl\n",
    "import rasterio as rio"
   ]
  },
  {
   "cell_type": "code",
   "execution_count": 2,
   "id": "8e74faee-bd12-4a30-962c-81548aa0c91b",
   "metadata": {},
   "outputs": [],
   "source": [
    "# path = \"/explore/nobackup/projects/ilab/projects/AIML_CHM/CNN_CHM/products/senegal/v2/Tappan\"\n",
    "# filename = \"Tappan01_WV02_20110430_M1BS_103001000A27E100_data.tif\"\n",
    "path, filename = os.path.split('/explore/nobackup/projects/ilab/data/srlite/products/srlite_1.0.1/srlite/alaska/batch_1/8_band_csv/split_2/WV03_20190401_M1BS_10400100495FC500-sr-02m.tif')\n",
    "data_bands = [5, 7, 2]"
   ]
  },
  {
   "cell_type": "code",
   "execution_count": 3,
   "id": "a0f2b153-f4b4-41b8-9124-14db55d39b35",
   "metadata": {},
   "outputs": [
    {
     "data": {
      "text/plain": [
       "'/explore/nobackup/projects/ilab/data/srlite/products/srlite_1.0.1/srlite/alaska/batch_1/8_band_csv/split_2'"
      ]
     },
     "execution_count": 3,
     "metadata": {},
     "output_type": "execute_result"
    }
   ],
   "source": [
    "path"
   ]
  },
  {
   "cell_type": "code",
   "execution_count": 4,
   "id": "5f64340d-42d5-4316-94e4-2eeac30639f0",
   "metadata": {},
   "outputs": [
    {
     "data": {
      "application/vnd.jupyter.widget-view+json": {
       "model_id": "e7f7f82514f7439880a6394273e63a98",
       "version_major": 2,
       "version_minor": 0
      },
      "text/plain": [
       "Map(center=[54.77544560145951, -131.48034064478975], controls=(ZoomControl(options=['position', 'zoom_in_text'…"
      ]
     },
     "execution_count": 4,
     "metadata": {},
     "output_type": "execute_result"
    }
   ],
   "source": [
    "client = TileClient(os.path.join(path, filename))\n",
    "\n",
    "sigma = 2\n",
    "style_list = []\n",
    "for bid, pid in zip(data_bands, ['#f00', '#0f0', '#00f']):\n",
    "    band_stats = client.rasterio.statistics(bid)\n",
    "    newmin = band_stats.mean - (band_stats.std * sigma)\n",
    "    newmax = band_stats.mean + (band_stats.std * sigma)\n",
    "    style_list.append(\n",
    "        {'band': bid, 'palette': pid, 'min': newmin, 'max': newmax})\n",
    "\n",
    "rgb = get_leaflet_tile_layer(\n",
    "        client, show=False, band=data_bands,\n",
    "        scheme='linear', dtype='uint16', style={'bands': style_list}\n",
    ")\n",
    "\n",
    "toa = get_leaflet_tile_layer(client)\n",
    "\n",
    "m = Map(\n",
    "    center=client.center(), zoom=client.default_zoom, basemap=basemaps.OpenTopoMap, scroll_wheel_zoom=True)\n",
    "m.add_layer(toa)\n",
    "m"
   ]
  },
  {
   "cell_type": "code",
   "execution_count": null,
   "id": "aeafbfb6-3c9d-457a-a8af-d81b8dfc4d87",
   "metadata": {},
   "outputs": [],
   "source": []
  }
 ],
 "metadata": {
  "kernelspec": {
   "display_name": "ILAB Kernel (TensorFlow)",
   "language": "python",
   "name": "tensorflow-kernel"
  },
  "language_info": {
   "codemirror_mode": {
    "name": "ipython",
    "version": 3
   },
   "file_extension": ".py",
   "mimetype": "text/x-python",
   "name": "python",
   "nbconvert_exporter": "python",
   "pygments_lexer": "ipython3",
   "version": "3.8.16"
  }
 },
 "nbformat": 4,
 "nbformat_minor": 5
}
