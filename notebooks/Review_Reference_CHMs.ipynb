{
 "cells": [
  {
   "cell_type": "code",
   "execution_count": 1,
   "id": "a8b2d99c-901a-4f46-a542-cc80d98c8a3d",
   "metadata": {},
   "outputs": [],
   "source": [
    "import os\n",
    "import re\n",
    "import json\n",
    "import tempfile\n",
    "import folium\n",
    "import ipysheet\n",
    "import numpy as np\n",
    "import pandas as pd\n",
    "import rasterio as rio\n",
    "import rioxarray as rxr\n",
    "import geopandas as gpd\n",
    "import branca.colormap as cm\n",
    "import matplotlib.pyplot as plt\n",
    "import matplotlib.colors as mcolors\n",
    "import ipywidgets as widgets\n",
    "\n",
    "from glob import glob\n",
    "from pathlib import Path\n",
    "from folium import plugins\n",
    "from pyproj import Transformer\n",
    "from ipyfilechooser import FileChooser\n",
    "from ipysheet import from_dataframe\n",
    "from rasterio.warp import calculate_default_transform, reproject, Resampling\n",
    "from localtileserver import TileClient, get_leaflet_tile_layer, examples\n",
    "from ipyleaflet import Map, Marker, basemaps, ScaleControl, LayersControl, AwesomeIcon, GeoData, basemap_to_tiles\n",
    "from ipyleaflet import LegendControl, FullScreenControl, MarkerCluster\n",
    "\n",
    "os.environ['LOCALTILESERVER_CLIENT_PREFIX'] = \\\n",
    "    f\"{os.environ['JUPYTERHUB_SERVICE_PREFIX'].lstrip('/')}/proxy/{{port}}\"\n",
    "\n",
    "from localtileserver import TileClient, get_leaflet_tile_layer\n",
    "from localtileserver import examples, helpers\n",
    "from ipyleaflet import Map, SplitMapControl\n",
    "import rasterio as rio"
   ]
  },
  {
   "cell_type": "code",
   "execution_count": 2,
   "id": "afd14c38-597e-4978-a54d-cf374d0823af",
   "metadata": {},
   "outputs": [],
   "source": [
    "#https://girder.github.io/large_image/tilesource_options.html#style\n",
    "\n",
    "# path = \"/explore/nobackup/projects/ilab/data/srlite/products/srlite_1.0.1/srlite/alaska/batch_1/4_band/split_3\"\n",
    "# filename = \"WV02_20130813_M1BS_1030010026D4A600-sr-02m.tif\"\n",
    "\n",
    "ccdc_cir_style_list = [{'band': 4, 'palette': '#f00', 'min': 0, 'max': 6000}, {'band': 3, 'palette': '#0f0', 'min': 0, 'max': 2500}, {'band': 2, 'palette': '#00f', 'min': 0, 'max': 2500}]\n",
    "ccdc_rgb_style_list = [{'band': 3, 'palette': '#f00', 'min': 0, 'max': 2500}, {'band': 2, 'palette': '#0f0', 'min': 0, 'max': 2500}, {'band': 1, 'palette': '#00f', 'min': 0, 'max': 2500}]\n",
    "\n",
    "chm_palette = [\n",
    "    '#636363',\n",
    "    '#fc8d59',\n",
    "    '#fee08b','#fee08b',\n",
    "    '#ffffbf','#ffffbf',\n",
    "    '#d9ef8b','#d9ef8b',\n",
    "    '#91cf60','#91cf60','#91cf60','#91cf60','#91cf60','#91cf60','#91cf60','#91cf60','#91cf60','#91cf60','#91cf60','#91cf60',\n",
    "    '#1a9850','#1a9850','#1a9850','#1a9850','#1a9850','#1a9850','#1a9850','#1a9850','#1a9850','#1a9850','#1a9850','#1a9850','#1a9850','#1a9850','#1a9850','#1a9850','#1a9850','#1a9850','#1a9850','#1a9850',\n",
    "    '#005a32'\n",
    "]\n",
    "\n",
    "# cloud_palette = ['#c2523c','#005a32']\n",
    "chm10_style_list = [{'min': 0, 'max': 10.25, 'scheme': 'discrete', 'clamp': True, 'palette': chm_palette}]\n",
    "chm10_style_list_ft = [{'min': 0, 'max': 33.63, 'scheme': 'discrete', 'clamp': True, 'palette': chm_palette}]\n",
    "cm_style_list = [{'palette': ['#00000000','#cccccc']}]\n",
    "# chmpath = '/explore/nobackup/people/mmacande/srlite/chm_model/20230829_chm/products/WV02_20100804_M1BS_103001000617C000-sr-02m/WV02_20100804_M1BS_103001000617C000-sr-02m.cnn-chm-v1.tif'\n",
    "\n",
    "# lvis_RH098_path = '/explore/nobackup/people/mmacande/LVIS_annual/LVISF2_ABoVE2017_2019_RH098_mean_30m.tif'\n",
    "# lvis_RH098_client = TileClient(lvis_RH098_path)"
   ]
  },
  {
   "cell_type": "code",
   "execution_count": 3,
   "id": "9e300514-5623-40fc-822b-a37396771e11",
   "metadata": {},
   "outputs": [],
   "source": [
    "esri = basemap_to_tiles(basemaps.Esri.WorldImagery)\n",
    "esri.base = True\n",
    "carto = basemap_to_tiles(basemaps.CartoDB.Positron)\n",
    "carto.base = True"
   ]
  },
  {
   "cell_type": "code",
   "execution_count": 4,
   "id": "bd942fc6-f645-45f2-bb9b-dfc2ba45a45f",
   "metadata": {},
   "outputs": [],
   "source": [
    "def build_leaflet_layer(name, path, clamp, scheme, dtype, style):\n",
    "    client = TileClient(path)\n",
    "    layer = get_leaflet_tile_layer(\n",
    "        client, name=name, clamp=clamp,\n",
    "        scheme=scheme, dtype=dtype, style=style)\n",
    "    return layer"
   ]
  },
  {
   "cell_type": "code",
   "execution_count": 5,
   "id": "244fcc94-be24-4007-8cd6-babfbb988958",
   "metadata": {},
   "outputs": [],
   "source": [
    "from ipywidgets import Layout\n",
    "defaultLayout=Layout(width='90%', height='800px')\n"
   ]
  },
  {
   "cell_type": "code",
   "execution_count": 6,
   "id": "a2f47115-96b5-4dc4-8021-ecbc91baf7c9",
   "metadata": {},
   "outputs": [],
   "source": [
    "inf_2011_26905_ndsm = build_leaflet_layer('2011 Infrastructure utm5', '/explore/nobackup/projects/dem/AK_IFSAR/dggs.alaska.gov/public_lidar/infrastructure_2011/infrastructure_2011_26905_chm.tif',\n",
    "                                          True, 'linear', 'uint16', {'bands': chm10_style_list})\n",
    "inf_2011_26906_ndsm = build_leaflet_layer('2011 Infrastructure utm6', '/explore/nobackup/projects/dem/AK_IFSAR/dggs.alaska.gov/public_lidar/infrastructure_2011/infrastructure_2011_26906_chm.tif',\n",
    "                                          True, 'linear', 'uint16', {'bands': chm10_style_list})\n",
    "inf_2011_26907_ndsm = build_leaflet_layer('2011 Infrastructure utm7', '/explore/nobackup/projects/dem/AK_IFSAR/dggs.alaska.gov/public_lidar/infrastructure_2011/infrastructure_2011_26907_chm.tif',\n",
    "                                          True, 'linear', 'uint16', {'bands': chm10_style_list})\n",
    "yukon_flats_2009_chm = build_leaflet_layer('2009 Yukon Flats', '/explore/nobackup/projects/dem/AK_IFSAR/dggs.alaska.gov/public_lidar/yukon_flats_2009/yukon_flats_2009_chm.tif',\n",
    "                                          True, 'linear', 'uint16', {'bands': chm10_style_list})\n",
    "kenai_2008_chm = build_leaflet_layer('2008 Kenai Peninsula', '/explore/nobackup/projects/dem/AK_IFSAR/dggs.alaska.gov/public_lidar/Kenai_2008/Kenai_2008_chm.tif',\n",
    "                                          True, 'linear', 'uint16', {'bands': chm10_style_list})\n",
    "unalakleet_2019_chm = build_leaflet_layer('2019 Unalakleet', '/explore/nobackup/projects/dem/AK_IFSAR/dggs.alaska.gov/public_lidar/Unalakleet_2019/Unalakleet_2019_chm.tif',\n",
    "                                          True, 'linear', 'uint16', {'bands': chm10_style_list})\n",
    "NSB_lidar_Anaktuvuk_Pass_2019_chm = build_leaflet_layer('2019 Anaktuvuk Pass', '/explore/nobackup/projects/dem/AK_IFSAR/dggs.alaska.gov/public_lidar/NSB_lidar_Anaktuvuk_Pass_2019/NSB_lidar_Anaktuvuk_Pass_2019_chm.tif',\n",
    "                                          True, 'linear', 'uint16', {'bands': chm10_style_list})\n",
    "fairbanks_ql1_2017_chm = build_leaflet_layer('fairbanks_ql1_2017_chm', '/explore/nobackup/projects/dem/AK_IFSAR/dggs.alaska.gov/public_lidar/fairbanks_ql1_2017/fairbanks_ql1_2017_chm.tif',\n",
    "                                          True, 'linear', 'uint16', {'bands': chm10_style_list})\n",
    "fairbanks_ql2_2017_chm = build_leaflet_layer('fairbanks_ql2_2017_chm', '/explore/nobackup/projects/dem/AK_IFSAR/dggs.alaska.gov/public_lidar/fairbanks_ql2_2017/fairbanks_ql2_2017_chm.tif',\n",
    "                                          True, 'linear', 'uint16', {'bands': chm10_style_list})\n",
    "lvis_2017_2019_rh098 = build_leaflet_layer('lvis_2017_2019_rh098', '/explore/nobackup/people/mmacande/LVIS_annual/LVISF2_ABoVE2017_2019_RH098_mean_30m.tif',\n",
    "                                          True, 'linear', 'uint16', {'bands': chm10_style_list})\n",
    "alaska_ifsar_chm = build_leaflet_layer('Alaska IFSAR CHM', '/explore/nobackup/projects/dem/AK_IFSAR/alaska_ifsar_chm_m_20221222_cog_west.tif',\n",
    "                                          True, 'linear', 'uint16', {'bands': chm10_style_list})\n",
    "gliht_2018_32606_chm = build_leaflet_layer('2018 GLiHT 32606', '/explore/nobackup/people/pmontesa/userfs02/data/gliht/chm/gliht_chm_2018_32606.tif',\n",
    "                                          True, 'linear', 'uint16', {'bands': chm10_style_list})\n"
   ]
  },
  {
   "cell_type": "code",
   "execution_count": 7,
   "id": "fba1a5d4-f278-4ec1-9a60-2bb099f44559",
   "metadata": {},
   "outputs": [],
   "source": [
    "def draw_chm_ref():    \n",
    "    m = Map(center=(65,-160), zoom=4, layers=[carto, esri], scroll_wheel_zoom=True)\n",
    "    control = LayersControl(position='topright')\n",
    "    m.add_layer(alaska_ifsar_chm)\n",
    "    # m.add_layer(lvis_2017_2019_rh098)\n",
    "    # m.add_layer(inf_2011_26905_ndsm)\n",
    "    # m.add_layer(inf_2011_26906_ndsm)\n",
    "    # m.add_layer(inf_2011_26907_ndsm)\n",
    "    # m.add_layer(yukon_flats_2009_chm)\n",
    "    # m.add_layer(kenai_2008_chm)\n",
    "    # m.add_layer(unalakleet_2019_chm)\n",
    "    # m.add_layer(NSB_lidar_Anaktuvuk_Pass_2019_chm)\n",
    "    # m.add_layer(fairbanks_ql1_2017_chm)\n",
    "    # m.add_layer(fairbanks_ql2_2017_chm)\n",
    "    m.add_layer(gliht_2018_32606_chm)\n",
    "    \n",
    "    m.add_control(FullScreenControl())\n",
    "    m.add_control(ScaleControl(imperial=False))\n",
    "    m.add_control(LegendControl({\n",
    "        '<0.25m': '#636363',\n",
    "        '<0.50m': '#fc8d59',\n",
    "        '<1.0 m': '#fee08b',\n",
    "        '<1.5 m': '#ffffbf',\n",
    "        '<2.0 m': '#d9ef8b',\n",
    "        '<5.0 m': '#91cf60',\n",
    "        '<10 m': '#1a9850',\n",
    "        '>10 m': '#005a32'},\n",
    "        position='bottomleft'))\n",
    "    m.add_control(control)\n",
    "\n",
    "    m\n",
    "    return m\n",
    "\n",
    "        "
   ]
  },
  {
   "cell_type": "code",
   "execution_count": 8,
   "id": "ebf1ff38-6878-46e1-927d-99aca7fdd098",
   "metadata": {
    "tags": []
   },
   "outputs": [
    {
     "data": {
      "application/vnd.jupyter.widget-view+json": {
       "model_id": "3fae7239d0984d29b135ad16e755a88c",
       "version_major": 2,
       "version_minor": 0
      },
      "text/plain": [
       "Map(center=[65, -160], controls=(ZoomControl(options=['position', 'zoom_in_text', 'zoom_in_title', 'zoom_out_t…"
      ]
     },
     "execution_count": 8,
     "metadata": {},
     "output_type": "execute_result"
    }
   ],
   "source": [
    "map = draw_chm_ref()\n",
    "# map = chmExample.apply(draw_chm_cir, axis=1).values[0]\n",
    "map.layout.width = '90%'\n",
    "map.layout.height = '800px'\n",
    "\n",
    "map"
   ]
  },
  {
   "cell_type": "code",
   "execution_count": null,
   "id": "620ffcd5-2060-4c9a-9314-c9b979de4275",
   "metadata": {},
   "outputs": [],
   "source": []
  },
  {
   "cell_type": "code",
   "execution_count": null,
   "id": "75fac460-17cb-43b9-bbaf-1d357be643ff",
   "metadata": {},
   "outputs": [],
   "source": []
  }
 ],
 "metadata": {
  "kernelspec": {
   "display_name": "ILAB Kernel (TensorFlow)",
   "language": "python",
   "name": "tensorflow-kernel"
  },
  "language_info": {
   "codemirror_mode": {
    "name": "ipython",
    "version": 3
   },
   "file_extension": ".py",
   "mimetype": "text/x-python",
   "name": "python",
   "nbconvert_exporter": "python",
   "pygments_lexer": "ipython3",
   "version": "3.8.16"
  }
 },
 "nbformat": 4,
 "nbformat_minor": 5
}
