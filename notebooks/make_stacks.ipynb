{
 "cells": [
  {
   "cell_type": "markdown",
   "id": "25510515-dfa2-40df-a85d-5365ead2eb38",
   "metadata": {},
   "source": [
    "# Validate ABoVE Shrubs Canopy Height Modeling\n",
    "1. Make stacks with prediction layers (`do_stack()`)  \n",
    "2. Send to JC for processing  \n",
    "3. footprint the stacks; alternatively can footprint the predictions (`footprintlib`)\n",
    "4. spatially select subset of preds or stacks to examine  \n",
    "5. view a CHM prediction   \n",
    "5. find intersection with LVIS footprints  \n",
    "6. Get intersection polygons for validation (not needed to run validation function - just to pre-examine areas most useful for validation)    \n",
    "7. validate for intersection of pred and lvis\n",
    "\n",
    "Paul Montesano  \n",
    "June 26 20223"
   ]
  },
  {
   "cell_type": "code",
   "execution_count": 421,
   "id": "35f4ffa3-c80d-42c6-8eab-5f7485b609e2",
   "metadata": {},
   "outputs": [],
   "source": [
    "import rasterio\n",
    "from rasterio.mask import mask\n",
    "from rasterio.plot import show\n",
    "\n",
    "import fiona\n",
    "import geopandas as gpd\n",
    "import pandas as pd\n",
    "import numpy as np\n",
    "\n",
    "import contextily as ctx\n",
    "\n",
    "import os\n",
    "import sys\n",
    "import glob\n",
    "sys.path.append('/home/pmontesa/code/pygeotools')\n",
    "from pygeotools.lib import *\n",
    "\n",
    "sys.path.append('/home/pmontesa/code/geoscitools')\n",
    "import footprintlib\n",
    "import vhrlib\n",
    "\n",
    "# This is a private repo\n",
    "sys.path.append('/home/pmontesa/code/dgtools')\n",
    "from dgtools.lib import dglib\n",
    "\n",
    "# \n",
    "sys.path.append('/home/pmontesa/code/above-shrubs')\n",
    "import above_shrubs.lib.predlib\n",
    "\n",
    "import random\n",
    "import shapely\n",
    "import matplotlib.pyplot as plt\n",
    "from mpl_toolkits.axes_grid1 import make_axes_locatable"
   ]
  },
  {
   "cell_type": "code",
   "execution_count": 422,
   "id": "3729711c-4bd9-4995-bdf1-89107677740d",
   "metadata": {},
   "outputs": [],
   "source": []
  },
  {
   "cell_type": "code",
   "execution_count": 423,
   "id": "cc9a727a-9127-4b15-8244-7aab9e653993",
   "metadata": {},
   "outputs": [],
   "source": [
    "from multiprocessing import Pool\n",
    "from functools import partial"
   ]
  },
  {
   "cell_type": "code",
   "execution_count": 424,
   "id": "e7e7360e-d359-4278-9010-0072ac4ced96",
   "metadata": {},
   "outputs": [],
   "source": [
    "outstackdir = '/explore/nobackup/people/pmontesa/userfs02/projects/ilab/above_shrubs/data/stacks'"
   ]
  },
  {
   "cell_type": "markdown",
   "id": "c6eaf215-6884-4713-a704-f8bded7b97a6",
   "metadata": {},
   "source": [
    "#### Path to IFSAR DTM mosaic"
   ]
  },
  {
   "cell_type": "code",
   "execution_count": 425,
   "id": "91eed276-7c18-4010-9162-5c265cde0a74",
   "metadata": {},
   "outputs": [],
   "source": [
    "dtm_path = '/explore/nobackup/projects/dem/AK_IFSAR/alaska_ifsar_dtm_20221222.tif'"
   ]
  },
  {
   "cell_type": "code",
   "execution_count": 426,
   "id": "6d928dac-aca6-4910-b38d-d0d4fc3022a7",
   "metadata": {},
   "outputs": [],
   "source": [
    "TEST = False"
   ]
  },
  {
   "cell_type": "markdown",
   "id": "fc8f36e2-6d2e-4d92-ae81-2911b223fd0a",
   "metadata": {},
   "source": [
    "#### Get SRLite strips"
   ]
  },
  {
   "cell_type": "code",
   "execution_count": 427,
   "id": "cd4c887b-fcbc-4231-ba2c-2ff2f231ea48",
   "metadata": {},
   "outputs": [
    {
     "name": "stdout",
     "output_type": "stream",
     "text": [
      "2075\n"
     ]
    }
   ],
   "source": [
    "fn_list_srlite = glob.glob('/explore/nobackup/projects/ilab/data/srlite/products/srlite_1.0.1/srlite/alaska/**/*.tif')\n",
    "if TEST: fn_list_srlite = fn_list_srlite[0:2]\n",
    "print(len(fn_list_srlite))"
   ]
  },
  {
   "cell_type": "code",
   "execution_count": 428,
   "id": "e184a85e-58ae-42d4-acd4-420b15eeb52c",
   "metadata": {},
   "outputs": [
    {
     "data": {
      "text/plain": [
       "['/explore/nobackup/projects/ilab/data/srlite/products/srlite_1.0.1/srlite/alaska/split_7/WV02_20140503_M1BS_10300100316E0100-sr-02m.tif',\n",
       " '/explore/nobackup/projects/ilab/data/srlite/products/srlite_1.0.1/srlite/alaska/split_8/WV02_20170603_M1BS_103001006AAE4000-sr-02m.tif',\n",
       " '/explore/nobackup/projects/ilab/data/srlite/products/srlite_1.0.1/srlite/alaska/split_6/WV02_20170805_M1BS_103001006E3E8C00-sr-02m.tif',\n",
       " '/explore/nobackup/projects/ilab/data/srlite/products/srlite_1.0.1/srlite/alaska/split_6/WV03_20190819_M1BS_10400100503D9200-sr-02m.tif',\n",
       " '/explore/nobackup/projects/ilab/data/srlite/products/srlite_1.0.1/srlite/alaska/split_4/WV02_20110711_M1BS_103001000CA4B000-sr-02m.tif',\n",
       " '/explore/nobackup/projects/ilab/data/srlite/products/srlite_1.0.1/srlite/alaska/split_5/WV02_20200805_M1BS_10300100ABC88800-sr-02m.tif',\n",
       " '/explore/nobackup/projects/ilab/data/srlite/products/srlite_1.0.1/srlite/alaska/split_5/WV03_20200604_M1BS_104001005CA50300-sr-02m.tif',\n",
       " '/explore/nobackup/projects/ilab/data/srlite/products/srlite_1.0.1/srlite/alaska/split_6/WV02_20140509_M1BS_103001003038B700-sr-02m.tif',\n",
       " '/explore/nobackup/projects/ilab/data/srlite/products/srlite_1.0.1/srlite/alaska/split_4/WV02_20170705_M1BS_103001006DAE8800-sr-02m.tif',\n",
       " '/explore/nobackup/projects/ilab/data/srlite/products/srlite_1.0.1/srlite/alaska/split_4/WV03_20150602_M1BS_104001000C350D00-sr-02m.tif',\n",
       " '/explore/nobackup/projects/ilab/data/srlite/products/srlite_1.0.1/srlite/alaska/split_8/WV02_20180705_M1BS_1030010080B49100-sr-02m.tif',\n",
       " '/explore/nobackup/projects/ilab/data/srlite/products/srlite_1.0.1/srlite/alaska/split_5/WV02_20200621_M1BS_10300100A7103700-sr-02m.tif',\n",
       " '/explore/nobackup/projects/ilab/data/srlite/products/srlite_1.0.1/srlite/alaska/split_6/WV03_20180927_M1BS_10400100425CA100-sr-02m.tif',\n",
       " '/explore/nobackup/projects/ilab/data/srlite/products/srlite_1.0.1/srlite/alaska/split_6/WV02_20180913_M1BS_1030010083AF8800-sr-02m.tif',\n",
       " '/explore/nobackup/projects/ilab/data/srlite/products/srlite_1.0.1/srlite/alaska/split_4/WV02_20130715_M1BS_1030010025D21600-sr-02m.tif',\n",
       " '/explore/nobackup/projects/ilab/data/srlite/products/srlite_1.0.1/srlite/alaska/split_4/WV02_20150815_M1BS_103001004769F300-sr-02m.tif',\n",
       " '/explore/nobackup/projects/ilab/data/srlite/products/srlite_1.0.1/srlite/alaska/split_6/WV02_20170616_M1BS_103001006C0A4600-sr-02m.tif',\n",
       " '/explore/nobackup/projects/ilab/data/srlite/products/srlite_1.0.1/srlite/alaska/split_8/WV02_20120526_M1BS_1030010019931E00-sr-02m.tif',\n",
       " '/explore/nobackup/projects/ilab/data/srlite/products/srlite_1.0.1/srlite/alaska/split_8/WV02_20130708_M1BS_1030010024007400-sr-02m.tif',\n",
       " '/explore/nobackup/projects/ilab/data/srlite/products/srlite_1.0.1/srlite/alaska/split_6/WV03_20180707_M1BS_104001003FB69A00-sr-02m.tif']"
      ]
     },
     "execution_count": 428,
     "metadata": {},
     "output_type": "execute_result"
    }
   ],
   "source": [
    "fn_list_srlite_SUB = random.sample(fn_list_srlite, 20)\n",
    "fn_list_srlite_SUB"
   ]
  },
  {
   "cell_type": "markdown",
   "id": "07ec12a9-e75a-4054-aa5c-f4265faab516",
   "metadata": {},
   "source": [
    "### Make stacks"
   ]
  },
  {
   "cell_type": "code",
   "execution_count": 441,
   "id": "e8a653a8-de5c-4cd8-a14c-1d866910097b",
   "metadata": {},
   "outputs": [
    {
     "data": {
      "text/plain": [
       "<module 'above_shrubs.lib.predlib' from '/home/pmontesa/code/above-shrubs/above_shrubs/lib/predlib.py'>"
      ]
     },
     "execution_count": 441,
     "metadata": {},
     "output_type": "execute_result"
    }
   ],
   "source": [
    "import importlib\n",
    "importlib.reload(above_shrubs.lib.predlib)"
   ]
  },
  {
   "cell_type": "code",
   "execution_count": 445,
   "id": "fc5f7f86-0897-4e0a-9067-8d361cd02ae5",
   "metadata": {},
   "outputs": [],
   "source": [
    "# # Find and geth path for a small test case\n",
    "# test_input_fn = [f for f in fn_list_srlite if 'WV03_20180921_M1BS_104001004242D900-sr-02m' in f]\n",
    "# test_input_fn\n",
    "# z = above_shrubs.lib.predlib.do_stack(test_input_fn[0], dtm_path='/explore/nobackup/projects/dem/AK_IFSAR/alaska_ifsar_dtm_20221222.tif', outdir='/home/pmontesa/code/above-shrubs')"
   ]
  },
  {
   "cell_type": "code",
   "execution_count": null,
   "id": "7d854d81-1031-40b4-96e9-74e39a0f4f26",
   "metadata": {},
   "outputs": [],
   "source": [
    "%%time\n",
    "with Pool(processes=35) as pool:\n",
    "    out_fn_list = pool.map(partial(above_shrubs.lib.predlib.do_stack, dtm_path='/explore/nobackup/projects/dem/AK_IFSAR/alaska_ifsar_dtm_20221222.tif', outdir=outstackdir), fn_list_srlite[0:1])"
   ]
  },
  {
   "cell_type": "markdown",
   "id": "4c60a36c-ca5c-4e9d-9478-d0b25c817f01",
   "metadata": {},
   "source": [
    "### Footprint stacks"
   ]
  },
  {
   "cell_type": "code",
   "execution_count": 85,
   "id": "5418689e-76c1-46af-bb88-8faaaad47e20",
   "metadata": {},
   "outputs": [
    {
     "name": "stdout",
     "output_type": "stream",
     "text": [
      "CPU times: user 657 ms, sys: 738 ms, total: 1.39 s\n",
      "Wall time: 12.8 s\n"
     ]
    }
   ],
   "source": [
    "%%time\n",
    "with Pool(processes=35) as pool:\n",
    "    f_gdf_lst = pool.map(partial(footprintlib.raster_footprint, DO_DATAMASK=False, GET_ONLY_DATASETMASK=False, R_READ_MODE='r', MANY_CRS=True), out_fn_list)"
   ]
  },
  {
   "cell_type": "code",
   "execution_count": 117,
   "id": "96731603-daa7-4b96-a225-f5d5d8c6f7f1",
   "metadata": {},
   "outputs": [
    {
     "name": "stdout",
     "output_type": "stream",
     "text": [
      "Building GDF from list...\n"
     ]
    }
   ],
   "source": [
    "footprint_gdf_stacks = footprintlib.build_footprint_db(f_gdf_lst, TO_GCS=False, WRITE_GPKG=False, OUT_F_NAME='', OUT_LYR_NAME='CHM pred stack', DROP_DUPLICATES=True)"
   ]
  },
  {
   "cell_type": "code",
   "execution_count": 361,
   "id": "d3dcd2d3-0e77-441c-9593-7cb5e52b23a8",
   "metadata": {},
   "outputs": [
    {
     "data": {
      "image/png": "[encoded data removed]",
      "text/plain": [
       "<Figure size 400x400 with 1 Axes>"
      ]
     },
     "metadata": {},
     "output_type": "display_data"
    }
   ],
   "source": [
    "ax_main = footprint_gdf_stacks.plot(figsize=(4,4), alpha=0.15, ec='red')\n",
    "ax_main = ctx.add_basemap(ax_main, crs=4326, source = ctx.providers.Esri.WorldGrayCanvas, attribution=' ' ) #Esri.NatGeoWorldMap. Esri.WorldGrayCanvas Esri.WorldImagery"
   ]
  }
 ],
 "metadata": {
  "kernelspec": {
   "display_name": "ILAB Kernel",
   "language": "python",
   "name": "ilab-kernel"
  },
  "language_info": {
   "codemirror_mode": {
    "name": "ipython",
    "version": 3
   },
   "file_extension": ".py",
   "mimetype": "text/x-python",
   "name": "python",
   "nbconvert_exporter": "python",
   "pygments_lexer": "ipython3",
   "version": "3.8.16"
  }
 },
 "nbformat": 4,
 "nbformat_minor": 5
}
