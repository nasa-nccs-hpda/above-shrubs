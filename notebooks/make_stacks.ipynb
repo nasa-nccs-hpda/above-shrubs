{
 "cells": [
  {
   "cell_type": "markdown",
   "id": "25510515-dfa2-40df-a85d-5365ead2eb38",
   "metadata": {
    "tags": []
   },
   "source": [
    "# Validate ABoVE Shrubs Canopy Height Modeling\n",
    "1. Make stacks with prediction layers (`do_stack()`)  \n",
    "2. Send to JC for processing  \n",
    "3. footprint the stacks; alternatively can footprint the predictions (`footprintlib`)\n",
    "4. spatially select subset of preds or stacks to examine  \n",
    "5. view a CHM prediction   \n",
    "5. find intersection with LVIS footprints  \n",
    "6. Get intersection polygons for validation (not needed to run validation function - just to pre-examine areas most useful for validation)    \n",
    "7. validate for intersection of pred and lvis\n",
    "\n",
    "Paul Montesano  \n",
    "June 26 20223"
   ]
  },
  {
   "cell_type": "code",
   "execution_count": 2,
   "id": "35f4ffa3-c80d-42c6-8eab-5f7485b609e2",
   "metadata": {},
   "outputs": [
    {
     "name": "stderr",
     "output_type": "stream",
     "text": [
      "/tmp/ipykernel_2114688/1782959623.py:6: UserWarning: Shapely 2.0 is installed, but because PyGEOS is also installed, GeoPandas will still use PyGEOS by default for now. To force to use and test Shapely 2.0, you have to set the environment variable USE_PYGEOS=0. You can do this before starting the Python process, or in your code before importing geopandas:\n",
      "\n",
      "import os\n",
      "os.environ['USE_PYGEOS'] = '0'\n",
      "import geopandas\n",
      "\n",
      "In a future release, GeoPandas will switch to using Shapely by default. If you are using PyGEOS directly (calling PyGEOS functions on geometries from GeoPandas), this will then stop working and you are encouraged to migrate from PyGEOS to Shapely 2.0 (https://shapely.readthedocs.io/en/latest/migration_pygeos.html).\n",
      "  import geopandas as gpd\n"
     ]
    }
   ],
   "source": [
    "import rasterio\n",
    "from rasterio.mask import mask\n",
    "from rasterio.plot import show\n",
    "\n",
    "import fiona\n",
    "import geopandas as gpd\n",
    "import pandas as pd\n",
    "import numpy as np\n",
    "\n",
    "import contextily as ctx\n",
    "\n",
    "import os\n",
    "import sys\n",
    "import glob\n",
    "sys.path.append('/home/pmontesa/code/pygeotools')\n",
    "from pygeotools.lib import *\n",
    "\n",
    "sys.path.append('/home/pmontesa/code/geoscitools')\n",
    "import footprintlib\n",
    "import vhrlib\n",
    "\n",
    "# This is a private repo\n",
    "sys.path.append('/home/pmontesa/code/dgtools')\n",
    "from dgtools.lib import dglib\n",
    "\n",
    "# \n",
    "sys.path.append('/home/pmontesa/code/above-shrubs')\n",
    "import notebooks.predlib\n",
    "\n",
    "import random\n",
    "import shapely\n",
    "import matplotlib.pyplot as plt\n",
    "from mpl_toolkits.axes_grid1 import make_axes_locatable"
   ]
  },
  {
   "cell_type": "code",
   "execution_count": 3,
   "id": "cc9a727a-9127-4b15-8244-7aab9e653993",
   "metadata": {},
   "outputs": [],
   "source": [
    "from multiprocessing import Pool\n",
    "from functools import partial"
   ]
  },
  {
   "cell_type": "code",
   "execution_count": 4,
   "id": "e7e7360e-d359-4278-9010-0072ac4ced96",
   "metadata": {},
   "outputs": [],
   "source": [
    "outstackdir = '/explore/nobackup/projects/ilab/projects/ABoVE-Shrubs/data/srlite-dtm-stacks'"
   ]
  },
  {
   "cell_type": "markdown",
   "id": "c6eaf215-6884-4713-a704-f8bded7b97a6",
   "metadata": {},
   "source": [
    "#### Path to IFSAR DTM mosaic"
   ]
  },
  {
   "cell_type": "code",
   "execution_count": 5,
   "id": "91eed276-7c18-4010-9162-5c265cde0a74",
   "metadata": {},
   "outputs": [],
   "source": [
    "dtm_path = '/explore/nobackup/projects/dem/AK_IFSAR/alaska_ifsar_dtm_20221222.tif'"
   ]
  },
  {
   "cell_type": "code",
   "execution_count": 6,
   "id": "6d928dac-aca6-4910-b38d-d0d4fc3022a7",
   "metadata": {},
   "outputs": [],
   "source": [
    "TEST = False"
   ]
  },
  {
   "cell_type": "markdown",
   "id": "fc8f36e2-6d2e-4d92-ae81-2911b223fd0a",
   "metadata": {},
   "source": [
    "### Get SRLite strips, make footprint, get vhr metadata"
   ]
  },
  {
   "cell_type": "code",
   "execution_count": 11,
   "id": "1500cb20-46da-4ba5-93fe-d9f3a624bae1",
   "metadata": {},
   "outputs": [
    {
     "data": {
      "text/plain": [
       "['/explore/nobackup/projects/ilab/data/srlite/products/srlite_1.0.1/srlite/alaska/split_6/WV02_20100709_M1BS_1030010006AC3100-sr-02m.tif']"
      ]
     },
     "execution_count": 11,
     "metadata": {},
     "output_type": "execute_result"
    }
   ],
   "source": [
    "glob.glob('/explore/nobackup/projects/ilab/data/srlite/products/srlite_1.0.1/srlite/alaska/**' + '/WV02_20100709_M1BS_1030010006AC3100*')"
   ]
  },
  {
   "cell_type": "code",
   "execution_count": 7,
   "id": "cd4c887b-fcbc-4231-ba2c-2ff2f231ea48",
   "metadata": {},
   "outputs": [
    {
     "name": "stdout",
     "output_type": "stream",
     "text": [
      "2075\n"
     ]
    }
   ],
   "source": [
    "fn_list_srlite_FULL = glob.glob('/explore/nobackup/projects/ilab/data/srlite/products/srlite_1.0.1/srlite/alaska/**/*-sr-02m.tif')\n",
    "if TEST: fn_list_srlite_FULL = fn_list_srlite_FULL[0:2]\n",
    "print(len(fn_list_srlite_FULL))"
   ]
  },
  {
   "cell_type": "code",
   "execution_count": null,
   "id": "551cc1b8-a0a8-4edc-b8a2-5aa596465eba",
   "metadata": {},
   "outputs": [],
   "source": [
    "%%time\n",
    "with Pool(processes=35) as pool:\n",
    "    f_gdf_lst = pool.map(partial(footprintlib.raster_footprint, DO_DATAMASK=False, GET_ONLY_DATASETMASK=False, R_READ_MODE='r', MANY_CRS=True), fn_list_srlite_FULL)"
   ]
  },
  {
   "cell_type": "code",
   "execution_count": 9,
   "id": "15d04183-3895-4cf0-9dd6-c981d8a3a34f",
   "metadata": {},
   "outputs": [
    {
     "ename": "NameError",
     "evalue": "name 'f_gdf_lst' is not defined",
     "output_type": "error",
     "traceback": [
      "\u001b[0;31m---------------------------------------------------------------------------\u001b[0m",
      "\u001b[0;31mNameError\u001b[0m                                 Traceback (most recent call last)",
      "Cell \u001b[0;32mIn[9], line 1\u001b[0m\n\u001b[0;32m----> 1\u001b[0m footprint_gdf_srlite \u001b[38;5;241m=\u001b[39m footprintlib\u001b[38;5;241m.\u001b[39mbuild_footprint_db(\u001b[43mf_gdf_lst\u001b[49m, TO_GCS\u001b[38;5;241m=\u001b[39m\u001b[38;5;28;01mFalse\u001b[39;00m, WRITE_GPKG\u001b[38;5;241m=\u001b[39m\u001b[38;5;28;01mFalse\u001b[39;00m, OUT_F_NAME\u001b[38;5;241m=\u001b[39m\u001b[38;5;124m'\u001b[39m\u001b[38;5;124m'\u001b[39m, OUT_LYR_NAME\u001b[38;5;241m=\u001b[39m\u001b[38;5;124m'\u001b[39m\u001b[38;5;124mCHM pred stack\u001b[39m\u001b[38;5;124m'\u001b[39m, DROP_DUPLICATES\u001b[38;5;241m=\u001b[39m\u001b[38;5;28;01mTrue\u001b[39;00m)\n",
      "\u001b[0;31mNameError\u001b[0m: name 'f_gdf_lst' is not defined"
     ]
    }
   ],
   "source": [
    "footprint_gdf_srlite = footprintlib.build_footprint_db(f_gdf_lst, TO_GCS=False, WRITE_GPKG=False, OUT_F_NAME='', OUT_LYR_NAME='CHM pred stack', DROP_DUPLICATES=True)"
   ]
  },
  {
   "cell_type": "code",
   "execution_count": null,
   "id": "b7e16e49-6b69-493f-8efe-2d64db4d7a3d",
   "metadata": {},
   "outputs": [],
   "source": [
    "import importlib\n",
    "importlib.reload(footprintlib)\n",
    "footprint_gdf_srlite = footprintlib.get_attributes_from_filename(footprint_gdf_srlite, 'SR', '-sr')\n",
    "footprint_gdf_srlite.head()"
   ]
  },
  {
   "cell_type": "markdown",
   "id": "aa0eaaf8-e14b-4e89-9ad8-d7d304ae6794",
   "metadata": {},
   "source": [
    "### Example: find a particular SRLite strip"
   ]
  },
  {
   "cell_type": "code",
   "execution_count": null,
   "id": "c32d7fbc-66ba-4ade-8318-29d0bdad4f82",
   "metadata": {},
   "outputs": [],
   "source": [
    "footprint_gdf_srlite[footprint_gdf_srlite['footprint_name'].str.contains('WV02_20100709_M1BS_1030010006AC3100')]"
   ]
  },
  {
   "cell_type": "markdown",
   "id": "4fb80bb6-f7b5-4660-bbb1-8d86c9709b9d",
   "metadata": {},
   "source": [
    "#### Get vhr metadata - used for filtering\n",
    "only build pred stacks for July and August"
   ]
  },
  {
   "cell_type": "code",
   "execution_count": 17,
   "id": "3ea3e477-387e-4a8e-aef6-031b752c7eb5",
   "metadata": {},
   "outputs": [
    {
     "data": {
      "text/plain": [
       "2176"
      ]
     },
     "execution_count": 17,
     "metadata": {},
     "output_type": "execute_result"
    }
   ],
   "source": [
    "# Get xmls (from TOA dir)\n",
    "f_list_toa_xml =glob.glob('/explore/nobackup/projects/ilab/data/srlite/products/srlite_1.0.1/toa/alaska/**/*-toa.xml')\n",
    "len(f_list_toa_xml)"
   ]
  },
  {
   "cell_type": "code",
   "execution_count": 18,
   "id": "b8c8a6c8-93b6-4716-bd0b-d54d363ef335",
   "metadata": {},
   "outputs": [
    {
     "data": {
      "text/plain": [
       "<module 'vhrlib' from '/home/pmontesa/code/geoscitools/vhrlib.py'>"
      ]
     },
     "execution_count": 18,
     "metadata": {},
     "output_type": "execute_result"
    }
   ],
   "source": [
    "import importlib\n",
    "importlib.reload(vhrlib)"
   ]
  },
  {
   "cell_type": "code",
   "execution_count": 19,
   "id": "1656ce2b-dfb0-4814-95a3-c450c828c4fa",
   "metadata": {},
   "outputs": [
    {
     "name": "stdout",
     "output_type": "stream",
     "text": [
      "CPU times: user 1.86 s, sys: 480 ms, total: 2.34 s\n",
      "Wall time: 28.8 s\n"
     ]
    }
   ],
   "source": [
    "%%time\n",
    "\n",
    "with Pool(processes=35) as pool:\n",
    "    vhr_df_list = pool.map(partial(vhrlib.make_vhr_xml_dataframe), f_list_toa_xml)\n",
    "vhr_df = pd.concat(vhr_df_list)\n",
    "\n",
    "# Prefer to join VHR df to my footprints\n",
    "footprints_vhr_meta_gdf = pd.merge(footprint_gdf_srlite, vhr_df[['satid','catid', 'el', 'az', 'sunel', 'sunaz']], how='left', left_on = 'catid', right_on = 'catid', copy=False)"
   ]
  },
  {
   "cell_type": "markdown",
   "id": "042aaf81-5b48-44aa-9a8b-aaa6ed846984",
   "metadata": {},
   "source": [
    "### Filter SRlite for stacking\n",
    "you need a filtered list of SRlite - our model is built on **July** & **August** SRlite data"
   ]
  },
  {
   "cell_type": "code",
   "execution_count": 20,
   "id": "d963f29f-d5c3-412b-b08b-0a5fc6887fcc",
   "metadata": {},
   "outputs": [
    {
     "data": {
      "text/plain": [
       "array([[<AxesSubplot: title={'center': 'year'}>]], dtype=object)"
      ]
     },
     "execution_count": 20,
     "metadata": {},
     "output_type": "execute_result"
    },
    {
     "data": {
      "image/png": "[encoded data removed]",
      "text/plain": [
       "<Figure size 400x100 with 1 Axes>"
      ]
     },
     "metadata": {},
     "output_type": "display_data"
    },
    {
     "data": {
      "image/png": "[encoded data removed]",
      "text/plain": [
       "<Figure size 400x100 with 1 Axes>"
      ]
     },
     "metadata": {},
     "output_type": "display_data"
    }
   ],
   "source": [
    "ax_month = footprints_vhr_meta_gdf.hist(column='month',  figsize=(4,1), color='blue', alpha=0.25)\n",
    "ax_year = footprints_vhr_meta_gdf.hist(column='year',  figsize=(4,1), color='blue', alpha=0.5)\n",
    "footprints_vhr_meta_gdf_FILT = footprints_vhr_meta_gdf[ (footprints_vhr_meta_gdf.month == 7) | (footprints_vhr_meta_gdf.month == 8) ]\n",
    "footprints_vhr_meta_gdf_FILT.hist(column='month',  figsize=(4,1), color='red', alpha = 0.25, ax=ax_month)\n",
    "footprints_vhr_meta_gdf_FILT.hist(column='year',  figsize=(4,1), color='red', alpha = 0.5, ax=ax_year)"
   ]
  },
  {
   "cell_type": "code",
   "execution_count": 21,
   "id": "0c0c16ec-febf-4c9d-929e-442527ae72e7",
   "metadata": {},
   "outputs": [
    {
     "data": {
      "text/plain": [
       "740"
      ]
     },
     "execution_count": 21,
     "metadata": {},
     "output_type": "execute_result"
    }
   ],
   "source": [
    "# Get the full path of all the FILTERED SRlite data\n",
    "fn_list_srlite_FILT = (footprints_vhr_meta_gdf_FILT.path + '/' + footprints_vhr_meta_gdf_FILT.file).to_list()\n",
    "len(fn_list_srlite_FILT)"
   ]
  },
  {
   "cell_type": "code",
   "execution_count": 22,
   "id": "e184a85e-58ae-42d4-acd4-420b15eeb52c",
   "metadata": {},
   "outputs": [
    {
     "data": {
      "text/plain": [
       "['/explore/nobackup/projects/ilab/data/srlite/products/srlite_1.0.1/srlite/alaska/split_6/WV02_20150714_M1BS_10300100446B9F00-sr-02m.tif',\n",
       " '/explore/nobackup/projects/ilab/data/srlite/products/srlite_1.0.1/srlite/alaska/split_6/WV03_20180705_M1BS_104001003E519500-sr-02m.tif']"
      ]
     },
     "execution_count": 22,
     "metadata": {},
     "output_type": "execute_result"
    }
   ],
   "source": [
    "fn_list_srlite_FILT_SUB = random.sample(fn_list_srlite_FILT, 20)\n",
    "fn_list_srlite_FILT_SUB[0:2]"
   ]
  },
  {
   "cell_type": "markdown",
   "id": "64e389b2-df54-4da5-a287-7b6a1a285728",
   "metadata": {},
   "source": [
    "### Save list of input for prediction stacking"
   ]
  },
  {
   "cell_type": "code",
   "execution_count": 30,
   "id": "db53097a-823b-48d2-ba83-6d8252db045d",
   "metadata": {},
   "outputs": [],
   "source": [
    "# Save this list to CSV for applying the predictions\n",
    "import csv\n",
    "PRED_FILE_LIST_FN = '/explore/nobackup/projects/ilab/projects/ABoVE-Shrubs/data/list_predstack_file_id_for_val_v01.csv'\n",
    "pred_file_df = pd.read_csv(PRED_FILE_LIST_FN)\n",
    "\n",
    "PRED_FILE_SRLITE_FN_LIST = [p for p in fn_list_srlite_FILT for fid in pred_file_df.file_id.to_list() if fid in p]\n",
    "len(PRED_FILE_SRLITE_FN_LIST)\n",
    "\n",
    "# write list of full paths of srlite we identified in validate_chm.ipynb that is good for validation\n",
    "PRED_FILE_SRLITE_FN_LIST_FN = '/explore/nobackup/projects/ilab/projects/ABoVE-Shrubs/data/list_srlite_path_for_predstack.csv'\n",
    "df = pd.DataFrame(PRED_FILE_SRLITE_FN_LIST, columns=[\"srlite_path\"])\n",
    "df.to_csv(PRED_FILE_SRLITE_FN_LIST_FN, index=False)"
   ]
  },
  {
   "cell_type": "code",
   "execution_count": 25,
   "id": "55a0f105-ef48-44a8-8b6c-40504e9690b0",
   "metadata": {},
   "outputs": [
    {
     "data": {
      "text/html": [
       "<div>\n",
       "<style scoped>\n",
       "    .dataframe tbody tr th:only-of-type {\n",
       "        vertical-align: middle;\n",
       "    }\n",
       "\n",
       "    .dataframe tbody tr th {\n",
       "        vertical-align: top;\n",
       "    }\n",
       "\n",
       "    .dataframe thead th {\n",
       "        text-align: right;\n",
       "    }\n",
       "</style>\n",
       "<table border=\"1\" class=\"dataframe\">\n",
       "  <thead>\n",
       "    <tr style=\"text-align: right;\">\n",
       "      <th></th>\n",
       "      <th>file_id</th>\n",
       "    </tr>\n",
       "  </thead>\n",
       "  <tbody>\n",
       "    <tr>\n",
       "      <th>0</th>\n",
       "      <td>WV02_20100709_M1BS_1030010006AC3100</td>\n",
       "    </tr>\n",
       "    <tr>\n",
       "      <th>1</th>\n",
       "      <td>WV02_20100731_M1BS_103001000613CA00</td>\n",
       "    </tr>\n",
       "    <tr>\n",
       "      <th>2</th>\n",
       "      <td>WV02_20100820_M1BS_1030010006A83500</td>\n",
       "    </tr>\n",
       "    <tr>\n",
       "      <th>3</th>\n",
       "      <td>WV02_20100824_M1BS_10300100066AFE00</td>\n",
       "    </tr>\n",
       "    <tr>\n",
       "      <th>4</th>\n",
       "      <td>WV02_20110704_M1BS_103001000C11B700</td>\n",
       "    </tr>\n",
       "    <tr>\n",
       "      <th>...</th>\n",
       "      <td>...</td>\n",
       "    </tr>\n",
       "    <tr>\n",
       "      <th>78</th>\n",
       "      <td>WV02_20140706_M1BS_1030010033C86E00</td>\n",
       "    </tr>\n",
       "    <tr>\n",
       "      <th>79</th>\n",
       "      <td>WV02_20140706_M1BS_1030010034437200</td>\n",
       "    </tr>\n",
       "    <tr>\n",
       "      <th>80</th>\n",
       "      <td>WV02_20140707_M1BS_103001003288A000</td>\n",
       "    </tr>\n",
       "    <tr>\n",
       "      <th>81</th>\n",
       "      <td>WV02_20140707_M1BS_103001003368B700</td>\n",
       "    </tr>\n",
       "    <tr>\n",
       "      <th>82</th>\n",
       "      <td>WV02_20140707_M1BS_1030010033C67700</td>\n",
       "    </tr>\n",
       "  </tbody>\n",
       "</table>\n",
       "<p>83 rows × 1 columns</p>\n",
       "</div>"
      ],
      "text/plain": [
       "                                file_id\n",
       "0   WV02_20100709_M1BS_1030010006AC3100\n",
       "1   WV02_20100731_M1BS_103001000613CA00\n",
       "2   WV02_20100820_M1BS_1030010006A83500\n",
       "3   WV02_20100824_M1BS_10300100066AFE00\n",
       "4   WV02_20110704_M1BS_103001000C11B700\n",
       "..                                  ...\n",
       "78  WV02_20140706_M1BS_1030010033C86E00\n",
       "79  WV02_20140706_M1BS_1030010034437200\n",
       "80  WV02_20140707_M1BS_103001003288A000\n",
       "81  WV02_20140707_M1BS_103001003368B700\n",
       "82  WV02_20140707_M1BS_1030010033C67700\n",
       "\n",
       "[83 rows x 1 columns]"
      ]
     },
     "execution_count": 25,
     "metadata": {},
     "output_type": "execute_result"
    }
   ],
   "source": [
    "[s for s in list if sub in s]"
   ]
  },
  {
   "cell_type": "markdown",
   "id": "07ec12a9-e75a-4054-aa5c-f4265faab516",
   "metadata": {},
   "source": [
    "### Make prediction stacks"
   ]
  },
  {
   "cell_type": "code",
   "execution_count": 25,
   "id": "e8a653a8-de5c-4cd8-a14c-1d866910097b",
   "metadata": {},
   "outputs": [
    {
     "data": {
      "text/plain": [
       "<module 'notebooks.predlib' from '/home/pmontesa/code/above-shrubs/notebooks/predlib.py'>"
      ]
     },
     "execution_count": 25,
     "metadata": {},
     "output_type": "execute_result"
    }
   ],
   "source": [
    "import importlib\n",
    "importlib.reload(notebooks.predlib)"
   ]
  },
  {
   "cell_type": "code",
   "execution_count": 445,
   "id": "fc5f7f86-0897-4e0a-9067-8d361cd02ae5",
   "metadata": {},
   "outputs": [],
   "source": [
    "# # Find and geth path for a small test case\n",
    "# test_input_fn = [f for f in fn_list_srlite if 'WV03_20180921_M1BS_104001004242D900-sr-02m' in f]\n",
    "# test_input_fn\n",
    "# z = above_shrubs.lib.predlib.do_stack(test_input_fn[0], dtm_path='/explore/nobackup/projects/dem/AK_IFSAR/alaska_ifsar_dtm_20221222.tif', outdir='/home/pmontesa/code/above-shrubs')"
   ]
  },
  {
   "cell_type": "markdown",
   "id": "2ed0c993-4dc3-4a7b-9624-27dd6f8f48e8",
   "metadata": {},
   "source": [
    "# TODO: in progress...\n",
    "need to include the cloudmask and then apply common mask to create a finished stack  \n",
    "/adapt/nobackup/projects/ilab/data/srlite/cloudmask/Alaska/WV02_20180527_M1BS_103001007E5F8400-toa.cloudmask.v1.2.tif"
   ]
  },
  {
   "cell_type": "code",
   "execution_count": null,
   "id": "7d854d81-1031-40b4-96e9-74e39a0f4f26",
   "metadata": {},
   "outputs": [],
   "source": [
    "%%time\n",
    "with Pool(processes=38) as pool:\n",
    "    fn_pred_stack_list = pool.map(partial(notebooks.predlib.do_pred_stack, dtm_path='/explore/nobackup/projects/dem/AK_IFSAR/alaska_ifsar_dtm_20221222.tif', outdir=outstackdir), fn_list_srlite_FILT)"
   ]
  },
  {
   "cell_type": "markdown",
   "id": "4c60a36c-ca5c-4e9d-9478-d0b25c817f01",
   "metadata": {},
   "source": [
    "### Footprint stacks"
   ]
  },
  {
   "cell_type": "code",
   "execution_count": 123,
   "id": "7197a8dd-1bd3-4811-a1e9-3c8a90cdd9e5",
   "metadata": {},
   "outputs": [],
   "source": [
    "fn_pred_stack_list = glob.glob( outstackdir + '/**/*-sr-02m_pred_stack.tif')"
   ]
  },
  {
   "cell_type": "code",
   "execution_count": 124,
   "id": "7026ade8-9687-4c29-99cb-19a1e9e58672",
   "metadata": {},
   "outputs": [],
   "source": [
    "# Check FILT list against pred stack list - any pred stacks missing?"
   ]
  },
  {
   "cell_type": "code",
   "execution_count": 125,
   "id": "5418689e-76c1-46af-bb88-8faaaad47e20",
   "metadata": {},
   "outputs": [
    {
     "name": "stdout",
     "output_type": "stream",
     "text": [
      "'/explore/nobackup/projects/ilab/projects/ABoVE-Shrubs/data/srlite-dtm-stacks/WV02_20180721_M1BS_10300100826C6C00-sr-02m/WV02_20180721_M1BS_10300100826C6C00-sr-02m_pred_stack.tif' not recognized as a supported file format.\n",
      "/explore/nobackup/projects/ilab/projects/ABoVE-Shrubs/data/srlite-dtm-stacks/WV02_20180721_M1BS_10300100826C6C00-sr-02m/WV02_20180721_M1BS_10300100826C6C00-sr-02m_pred_stack.tif\n",
      "'/explore/nobackup/projects/ilab/projects/ABoVE-Shrubs/data/srlite-dtm-stacks/WV02_20110812_M1BS_103001000C8BBA00-sr-02m/WV02_20110812_M1BS_103001000C8BBA00-sr-02m_pred_stack.tif' not recognized as a supported file format.\n",
      "/explore/nobackup/projects/ilab/projects/ABoVE-Shrubs/data/srlite-dtm-stacks/WV02_20110812_M1BS_103001000C8BBA00-sr-02m/WV02_20110812_M1BS_103001000C8BBA00-sr-02m_pred_stack.tif\n",
      "'/explore/nobackup/projects/ilab/projects/ABoVE-Shrubs/data/srlite-dtm-stacks/WV02_20140809_M1BS_1030010035764600-sr-02m/WV02_20140809_M1BS_1030010035764600-sr-02m_pred_stack.tif' not recognized as a supported file format.\n",
      "/explore/nobackup/projects/ilab/projects/ABoVE-Shrubs/data/srlite-dtm-stacks/WV02_20140809_M1BS_1030010035764600-sr-02m/WV02_20140809_M1BS_1030010035764600-sr-02m_pred_stack.tif\n",
      "'/explore/nobackup/projects/ilab/projects/ABoVE-Shrubs/data/srlite-dtm-stacks/WV03_20150804_M1BS_104001000F252F00-sr-02m/WV03_20150804_M1BS_104001000F252F00-sr-02m_pred_stack.tif' not recognized as a supported file format.\n",
      "/explore/nobackup/projects/ilab/projects/ABoVE-Shrubs/data/srlite-dtm-stacks/WV03_20150804_M1BS_104001000F252F00-sr-02m/WV03_20150804_M1BS_104001000F252F00-sr-02m_pred_stack.tif\n",
      "'/explore/nobackup/projects/ilab/projects/ABoVE-Shrubs/data/srlite-dtm-stacks/WV03_20180828_M1BS_10400100418BE600-sr-02m/WV03_20180828_M1BS_10400100418BE600-sr-02m_pred_stack.tif' not recognized as a supported file format.\n",
      "/explore/nobackup/projects/ilab/projects/ABoVE-Shrubs/data/srlite-dtm-stacks/WV03_20180828_M1BS_10400100418BE600-sr-02m/WV03_20180828_M1BS_10400100418BE600-sr-02m_pred_stack.tif\n",
      "'/explore/nobackup/projects/ilab/projects/ABoVE-Shrubs/data/srlite-dtm-stacks/WV02_20110812_M1BS_103001000D56BA00-sr-02m/WV02_20110812_M1BS_103001000D56BA00-sr-02m_pred_stack.tif' not recognized as a supported file format.\n",
      "\n",
      "/explore/nobackup/projects/ilab/projects/ABoVE-Shrubs/data/srlite-dtm-stacks/WV02_20110812_M1BS_103001000D56BA00-sr-02m/WV02_20110812_M1BS_103001000D56BA00-sr-02m_pred_stack.tif'/explore/nobackup/projects/ilab/projects/ABoVE-Shrubs/data/srlite-dtm-stacks/WV02_20160830_M1BS_103001005D20C300-sr-02m/WV02_20160830_M1BS_103001005D20C300-sr-02m_pred_stack.tif' not recognized as a supported file format.\n",
      "/explore/nobackup/projects/ilab/projects/ABoVE-Shrubs/data/srlite-dtm-stacks/WV02_20160830_M1BS_103001005D20C300-sr-02m/WV02_20160830_M1BS_103001005D20C300-sr-02m_pred_stack.tif\n",
      "'/explore/nobackup/projects/ilab/projects/ABoVE-Shrubs/data/srlite-dtm-stacks/WV02_20100702_M1BS_1030010005333400-sr-02m/WV02_20100702_M1BS_1030010005333400-sr-02m_pred_stack.tif' not recognized as a supported file format.\n",
      "/explore/nobackup/projects/ilab/projects/ABoVE-Shrubs/data/srlite-dtm-stacks/WV02_20100702_M1BS_1030010005333400-sr-02m/WV02_20100702_M1BS_1030010005333400-sr-02m_pred_stack.tif\n",
      "'/explore/nobackup/projects/ilab/projects/ABoVE-Shrubs/data/srlite-dtm-stacks/WV02_20160708_M1BS_103001005A971700-sr-02m/WV02_20160708_M1BS_103001005A971700-sr-02m_pred_stack.tif' not recognized as a supported file format.\n",
      "/explore/nobackup/projects/ilab/projects/ABoVE-Shrubs/data/srlite-dtm-stacks/WV02_20160708_M1BS_103001005A971700-sr-02m/WV02_20160708_M1BS_103001005A971700-sr-02m_pred_stack.tif\n",
      "'/explore/nobackup/projects/ilab/projects/ABoVE-Shrubs/data/srlite-dtm-stacks/WV03_20190706_M1BS_104001004F56B200-sr-02m/WV03_20190706_M1BS_104001004F56B200-sr-02m_pred_stack.tif' not recognized as a supported file format.\n",
      "/explore/nobackup/projects/ilab/projects/ABoVE-Shrubs/data/srlite-dtm-stacks/WV03_20190706_M1BS_104001004F56B200-sr-02m/WV03_20190706_M1BS_104001004F56B200-sr-02m_pred_stack.tif\n",
      "'/explore/nobackup/projects/ilab/projects/ABoVE-Shrubs/data/srlite-dtm-stacks/WV02_20130720_M1BS_1030010024501600-sr-02m/WV02_20130720_M1BS_1030010024501600-sr-02m_pred_stack.tif' not recognized as a supported file format.\n",
      "/explore/nobackup/projects/ilab/projects/ABoVE-Shrubs/data/srlite-dtm-stacks/WV02_20130720_M1BS_1030010024501600-sr-02m/WV02_20130720_M1BS_1030010024501600-sr-02m_pred_stack.tif\n",
      "'/explore/nobackup/projects/ilab/projects/ABoVE-Shrubs/data/srlite-dtm-stacks/WV02_20130710_M1BS_1030010024306000-sr-02m/WV02_20130710_M1BS_1030010024306000-sr-02m_pred_stack.tif' not recognized as a supported file format.\n",
      "/explore/nobackup/projects/ilab/projects/ABoVE-Shrubs/data/srlite-dtm-stacks/WV02_20130710_M1BS_1030010024306000-sr-02m/WV02_20130710_M1BS_1030010024306000-sr-02m_pred_stack.tif\n",
      "'/explore/nobackup/projects/ilab/projects/ABoVE-Shrubs/data/srlite-dtm-stacks/WV02_20160816_M1BS_103001005C8F1E00-sr-02m/WV02_20160816_M1BS_103001005C8F1E00-sr-02m_pred_stack.tif' not recognized as a supported file format.\n",
      "/explore/nobackup/projects/ilab/projects/ABoVE-Shrubs/data/srlite-dtm-stacks/WV02_20160816_M1BS_103001005C8F1E00-sr-02m/WV02_20160816_M1BS_103001005C8F1E00-sr-02m_pred_stack.tif\n",
      "'/explore/nobackup/projects/ilab/projects/ABoVE-Shrubs/data/srlite-dtm-stacks/WV02_20130818_M1BS_10300100256A7D00-sr-02m/WV02_20130818_M1BS_10300100256A7D00-sr-02m_pred_stack.tif' not recognized as a supported file format.\n",
      "/explore/nobackup/projects/ilab/projects/ABoVE-Shrubs/data/srlite-dtm-stacks/WV02_20130818_M1BS_10300100256A7D00-sr-02m/WV02_20130818_M1BS_10300100256A7D00-sr-02m_pred_stack.tif\n",
      "'/explore/nobackup/projects/ilab/projects/ABoVE-Shrubs/data/srlite-dtm-stacks/WV02_20130807_M1BS_1030010025484800-sr-02m/WV02_20130807_M1BS_1030010025484800-sr-02m_pred_stack.tif' not recognized as a supported file format.\n",
      "/explore/nobackup/projects/ilab/projects/ABoVE-Shrubs/data/srlite-dtm-stacks/WV02_20130807_M1BS_1030010025484800-sr-02m/WV02_20130807_M1BS_1030010025484800-sr-02m_pred_stack.tif\n",
      "CPU times: user 303 ms, sys: 771 ms, total: 1.07 s\n",
      "Wall time: 3.3 s\n"
     ]
    }
   ],
   "source": [
    "%%time\n",
    "with Pool(processes=35) as pool:\n",
    "    f_gdf_lst = pool.map(partial(footprintlib.raster_footprint, DO_DATAMASK=False, GET_ONLY_DATASETMASK=False, R_READ_MODE='r', MANY_CRS=True), fn_pred_stack_list)"
   ]
  },
  {
   "cell_type": "code",
   "execution_count": 126,
   "id": "96731603-daa7-4b96-a225-f5d5d8c6f7f1",
   "metadata": {},
   "outputs": [
    {
     "name": "stdout",
     "output_type": "stream",
     "text": [
      "Building GDF from list...\n"
     ]
    }
   ],
   "source": [
    "footprint_pred_stacks = footprintlib.build_footprint_db(f_gdf_lst, TO_GCS=False, WRITE_GPKG=False, OUT_F_NAME='', OUT_LYR_NAME='CHM pred stack', DROP_DUPLICATES=True)"
   ]
  },
  {
   "cell_type": "code",
   "execution_count": 127,
   "id": "e3be0fea-1d99-456c-b7f9-7a99889266a3",
   "metadata": {},
   "outputs": [
    {
     "name": "stdout",
     "output_type": "stream",
     "text": [
      "# Pred. Stack stacks: 410\n"
     ]
    },
    {
     "data": {
      "text/html": [
       "<div>\n",
       "<style scoped>\n",
       "    .dataframe tbody tr th:only-of-type {\n",
       "        vertical-align: middle;\n",
       "    }\n",
       "\n",
       "    .dataframe tbody tr th {\n",
       "        vertical-align: top;\n",
       "    }\n",
       "\n",
       "    .dataframe thead th {\n",
       "        text-align: right;\n",
       "    }\n",
       "</style>\n",
       "<table border=\"1\" class=\"dataframe\">\n",
       "  <thead>\n",
       "    <tr style=\"text-align: right;\">\n",
       "      <th></th>\n",
       "      <th>file</th>\n",
       "      <th>geometry</th>\n",
       "      <th>footprint_name</th>\n",
       "      <th>path</th>\n",
       "      <th>area_km2</th>\n",
       "      <th>area_ha</th>\n",
       "      <th>type</th>\n",
       "      <th>catid</th>\n",
       "      <th>sensor</th>\n",
       "      <th>year</th>\n",
       "      <th>month</th>\n",
       "    </tr>\n",
       "  </thead>\n",
       "  <tbody>\n",
       "    <tr>\n",
       "      <th>0</th>\n",
       "      <td>WV02_20130728_M1BS_1030010024919100-sr-02m_pre...</td>\n",
       "      <td>POLYGON ((-134.44527 57.96734, -134.42837 59.0...</td>\n",
       "      <td>WV02_20130728_M1BS_1030010024919100</td>\n",
       "      <td>/explore/nobackup/projects/ilab/projects/ABoVE...</td>\n",
       "      <td>2346.302396</td>\n",
       "      <td>234630.2396</td>\n",
       "      <td>Pred. Stack</td>\n",
       "      <td>1030010024919100</td>\n",
       "      <td>WV02</td>\n",
       "      <td>2013</td>\n",
       "      <td>7</td>\n",
       "    </tr>\n",
       "    <tr>\n",
       "      <th>1</th>\n",
       "      <td>WV03_20190806_M1BS_104001004E03D100-sr-02m_pre...</td>\n",
       "      <td>POLYGON ((-129.86394 56.02306, -129.87725 56.6...</td>\n",
       "      <td>WV03_20190806_M1BS_104001004E03D100</td>\n",
       "      <td>/explore/nobackup/projects/ilab/projects/ABoVE...</td>\n",
       "      <td>1061.651864</td>\n",
       "      <td>106165.1864</td>\n",
       "      <td>Pred. Stack</td>\n",
       "      <td>104001004E03D100</td>\n",
       "      <td>WV03</td>\n",
       "      <td>2019</td>\n",
       "      <td>8</td>\n",
       "    </tr>\n",
       "    <tr>\n",
       "      <th>2</th>\n",
       "      <td>WV02_20200703_M1BS_10300100A7144200-sr-02m_pre...</td>\n",
       "      <td>POLYGON ((-135.68390 56.91010, -135.70504 58.0...</td>\n",
       "      <td>WV02_20200703_M1BS_10300100A7144200</td>\n",
       "      <td>/explore/nobackup/projects/ilab/projects/ABoVE...</td>\n",
       "      <td>2545.452960</td>\n",
       "      <td>254545.2960</td>\n",
       "      <td>Pred. Stack</td>\n",
       "      <td>10300100A7144200</td>\n",
       "      <td>WV02</td>\n",
       "      <td>2020</td>\n",
       "      <td>7</td>\n",
       "    </tr>\n",
       "    <tr>\n",
       "      <th>3</th>\n",
       "      <td>WV02_20100803_M1BS_103001000683C500-sr-02m_pre...</td>\n",
       "      <td>POLYGON ((-136.14901 58.22481, -136.16393 58.6...</td>\n",
       "      <td>WV02_20100803_M1BS_103001000683C500</td>\n",
       "      <td>/explore/nobackup/projects/ilab/projects/ABoVE...</td>\n",
       "      <td>983.757180</td>\n",
       "      <td>98375.7180</td>\n",
       "      <td>Pred. Stack</td>\n",
       "      <td>103001000683C500</td>\n",
       "      <td>WV02</td>\n",
       "      <td>2010</td>\n",
       "      <td>8</td>\n",
       "    </tr>\n",
       "    <tr>\n",
       "      <th>4</th>\n",
       "      <td>WV02_20160827_M1BS_103001005CBE7C00-sr-02m_pre...</td>\n",
       "      <td>POLYGON ((-135.17788 57.52543, -135.18046 58.0...</td>\n",
       "      <td>WV02_20160827_M1BS_103001005CBE7C00</td>\n",
       "      <td>/explore/nobackup/projects/ilab/projects/ABoVE...</td>\n",
       "      <td>1192.209408</td>\n",
       "      <td>119220.9408</td>\n",
       "      <td>Pred. Stack</td>\n",
       "      <td>103001005CBE7C00</td>\n",
       "      <td>WV02</td>\n",
       "      <td>2016</td>\n",
       "      <td>8</td>\n",
       "    </tr>\n",
       "  </tbody>\n",
       "</table>\n",
       "</div>"
      ],
      "text/plain": [
       "                                                file  \\\n",
       "0  WV02_20130728_M1BS_1030010024919100-sr-02m_pre...   \n",
       "1  WV03_20190806_M1BS_104001004E03D100-sr-02m_pre...   \n",
       "2  WV02_20200703_M1BS_10300100A7144200-sr-02m_pre...   \n",
       "3  WV02_20100803_M1BS_103001000683C500-sr-02m_pre...   \n",
       "4  WV02_20160827_M1BS_103001005CBE7C00-sr-02m_pre...   \n",
       "\n",
       "                                            geometry  \\\n",
       "0  POLYGON ((-134.44527 57.96734, -134.42837 59.0...   \n",
       "1  POLYGON ((-129.86394 56.02306, -129.87725 56.6...   \n",
       "2  POLYGON ((-135.68390 56.91010, -135.70504 58.0...   \n",
       "3  POLYGON ((-136.14901 58.22481, -136.16393 58.6...   \n",
       "4  POLYGON ((-135.17788 57.52543, -135.18046 58.0...   \n",
       "\n",
       "                        footprint_name  \\\n",
       "0  WV02_20130728_M1BS_1030010024919100   \n",
       "1  WV03_20190806_M1BS_104001004E03D100   \n",
       "2  WV02_20200703_M1BS_10300100A7144200   \n",
       "3  WV02_20100803_M1BS_103001000683C500   \n",
       "4  WV02_20160827_M1BS_103001005CBE7C00   \n",
       "\n",
       "                                                path     area_km2  \\\n",
       "0  /explore/nobackup/projects/ilab/projects/ABoVE...  2346.302396   \n",
       "1  /explore/nobackup/projects/ilab/projects/ABoVE...  1061.651864   \n",
       "2  /explore/nobackup/projects/ilab/projects/ABoVE...  2545.452960   \n",
       "3  /explore/nobackup/projects/ilab/projects/ABoVE...   983.757180   \n",
       "4  /explore/nobackup/projects/ilab/projects/ABoVE...  1192.209408   \n",
       "\n",
       "       area_ha         type             catid sensor  year  month  \n",
       "0  234630.2396  Pred. Stack  1030010024919100   WV02  2013      7  \n",
       "1  106165.1864  Pred. Stack  104001004E03D100   WV03  2019      8  \n",
       "2  254545.2960  Pred. Stack  10300100A7144200   WV02  2020      7  \n",
       "3   98375.7180  Pred. Stack  103001000683C500   WV02  2010      8  \n",
       "4  119220.9408  Pred. Stack  103001005CBE7C00   WV02  2016      8  "
      ]
     },
     "execution_count": 127,
     "metadata": {},
     "output_type": "execute_result"
    }
   ],
   "source": [
    "footprint_pred_stacks = footprintlib.get_attributes_from_filename(footprint_pred_stacks, 'Pred. Stack', '-sr')\n",
    "footprint_pred_stacks.head()"
   ]
  },
  {
   "cell_type": "code",
   "execution_count": null,
   "id": "46e53680-8af6-4244-a91d-6468ea0a5405",
   "metadata": {},
   "outputs": [],
   "source": [
    "# Did we do predictions for all the filtered srlite we want?\n",
    "#footprints_vhr_meta_gdf_FILT"
   ]
  },
  {
   "cell_type": "code",
   "execution_count": 128,
   "id": "d3dcd2d3-0e77-441c-9593-7cb5e52b23a8",
   "metadata": {},
   "outputs": [
    {
     "data": {
      "image/png": "[encoded data removed]",
      "text/plain": [
       "<Figure size 400x400 with 1 Axes>"
      ]
     },
     "metadata": {},
     "output_type": "display_data"
    }
   ],
   "source": [
    "ax_main = footprint_pred_stacks.plot(figsize=(4,4), alpha=0.15, ec='red')\n",
    "ax_main = ctx.add_basemap(ax_main, crs=4326, source = ctx.providers.Esri.WorldGrayCanvas, attribution=' ' ) #Esri.NatGeoWorldMap. Esri.WorldGrayCanvas Esri.WorldImagery"
   ]
  },
  {
   "cell_type": "code",
   "execution_count": 129,
   "id": "65a0c294-ed6b-4beb-8501-a960b9100f70",
   "metadata": {},
   "outputs": [],
   "source": [
    "footprint_pred_stacks.to_file(os.path.join(outstackdir, 'footprints_pred_stacks.gpkg'))"
   ]
  },
  {
   "cell_type": "markdown",
   "id": "f2a6d4cc-0b71-474a-8f41-07af3f97b577",
   "metadata": {},
   "source": [
    "### Read predition stack footprint back in"
   ]
  },
  {
   "cell_type": "code",
   "execution_count": 130,
   "id": "dcdd79ba-d1c6-40f8-ad50-17b4fc49a866",
   "metadata": {},
   "outputs": [
    {
     "data": {
      "text/plain": [
       "425"
      ]
     },
     "execution_count": 130,
     "metadata": {},
     "output_type": "execute_result"
    }
   ],
   "source": [
    "len(fn_pred_stack_list)"
   ]
  },
  {
   "cell_type": "code",
   "execution_count": 47,
   "id": "168ee1b9-5002-4545-adaf-0f2b3cc0a72d",
   "metadata": {},
   "outputs": [],
   "source": [
    "footprint_gdf_stacks = gpd.read_file(os.path.join(outstackdir, 'footprints_pred_stacks.gpkg'))"
   ]
  },
  {
   "cell_type": "code",
   "execution_count": null,
   "id": "c5978847-9aef-471b-81ef-6a4ac560d931",
   "metadata": {},
   "outputs": [],
   "source": []
  }
 ],
 "metadata": {
  "kernelspec": {
   "display_name": "Python [conda env:ilab-tensorflow]",
   "language": "python",
   "name": "conda-env-ilab-tensorflow-py"
  },
  "language_info": {
   "codemirror_mode": {
    "name": "ipython",
    "version": 3
   },
   "file_extension": ".py",
   "mimetype": "text/x-python",
   "name": "python",
   "nbconvert_exporter": "python",
   "pygments_lexer": "ipython3",
   "version": "3.8.16"
  }
 },
 "nbformat": 4,
 "nbformat_minor": 5
}
