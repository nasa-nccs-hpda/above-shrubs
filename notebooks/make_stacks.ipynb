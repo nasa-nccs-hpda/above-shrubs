{
 "cells": [
  {
   "cell_type": "markdown",
   "id": "25510515-dfa2-40df-a85d-5365ead2eb38",
   "metadata": {},
   "source": [
    "# Validate ABoVE Shrubs Canopy Height Modeling\n",
    "1. Make stacks with prediction layers (`do_stack()`)  \n",
    "2. Send to JC for processing  \n",
    "3. footprint the stacks; alternatively can footprint the predictions (`footprintlib`)\n",
    "4. spatially select subset of preds or stacks to examine  \n",
    "5. view a CHM prediction   \n",
    "5. find intersection with LVIS footprints  \n",
    "6. Get intersection polygons for validation (not needed to run validation function - just to pre-examine areas most useful for validation)    \n",
    "7. validate for intersection of pred and lvis\n",
    "\n",
    "Paul Montesano  \n",
    "June 26 20223"
   ]
  },
  {
   "cell_type": "code",
   "execution_count": 3,
   "id": "35f4ffa3-c80d-42c6-8eab-5f7485b609e2",
   "metadata": {},
   "outputs": [],
   "source": [
    "import rasterio\n",
    "from rasterio.mask import mask\n",
    "from rasterio.plot import show\n",
    "\n",
    "import fiona\n",
    "import geopandas as gpd\n",
    "import pandas as pd\n",
    "import numpy as np\n",
    "\n",
    "import contextily as ctx\n",
    "\n",
    "import os\n",
    "import sys\n",
    "import glob\n",
    "sys.path.append('/home/pmontesa/code/pygeotools')\n",
    "from pygeotools.lib import *\n",
    "\n",
    "sys.path.append('/home/pmontesa/code/geoscitools')\n",
    "import footprintlib\n",
    "import vhrlib\n",
    "\n",
    "# This is a private repo\n",
    "sys.path.append('/home/pmontesa/code/dgtools')\n",
    "from dgtools.lib import dglib\n",
    "\n",
    "# \n",
    "sys.path.append('/home/pmontesa/code/above-shrubs')\n",
    "import notebooks.predlib\n",
    "\n",
    "import random\n",
    "import shapely\n",
    "import matplotlib.pyplot as plt\n",
    "from mpl_toolkits.axes_grid1 import make_axes_locatable"
   ]
  },
  {
   "cell_type": "code",
   "execution_count": 4,
   "id": "cc9a727a-9127-4b15-8244-7aab9e653993",
   "metadata": {},
   "outputs": [],
   "source": [
    "from multiprocessing import Pool\n",
    "from functools import partial"
   ]
  },
  {
   "cell_type": "code",
   "execution_count": 5,
   "id": "e7e7360e-d359-4278-9010-0072ac4ced96",
   "metadata": {},
   "outputs": [],
   "source": [
    "outstackdir = '/explore/nobackup/people/pmontesa/userfs02/projects/ilab/above_shrubs/data/stacks'"
   ]
  },
  {
   "cell_type": "markdown",
   "id": "c6eaf215-6884-4713-a704-f8bded7b97a6",
   "metadata": {},
   "source": [
    "#### Path to IFSAR DTM mosaic"
   ]
  },
  {
   "cell_type": "code",
   "execution_count": 7,
   "id": "91eed276-7c18-4010-9162-5c265cde0a74",
   "metadata": {},
   "outputs": [],
   "source": [
    "dtm_path = '/explore/nobackup/projects/dem/AK_IFSAR/alaska_ifsar_dtm_20221222.tif'"
   ]
  },
  {
   "cell_type": "code",
   "execution_count": 8,
   "id": "6d928dac-aca6-4910-b38d-d0d4fc3022a7",
   "metadata": {},
   "outputs": [],
   "source": [
    "TEST = False"
   ]
  },
  {
   "cell_type": "markdown",
   "id": "fc8f36e2-6d2e-4d92-ae81-2911b223fd0a",
   "metadata": {},
   "source": [
    "#### Get SRLite strips"
   ]
  },
  {
   "cell_type": "code",
   "execution_count": 9,
   "id": "cd4c887b-fcbc-4231-ba2c-2ff2f231ea48",
   "metadata": {},
   "outputs": [
    {
     "name": "stdout",
     "output_type": "stream",
     "text": [
      "2075\n"
     ]
    }
   ],
   "source": [
    "fn_list_srlite = glob.glob('/explore/nobackup/projects/ilab/data/srlite/products/srlite_1.0.1/srlite/alaska/**/*.tif')\n",
    "if TEST: fn_list_srlite = fn_list_srlite[0:2]\n",
    "print(len(fn_list_srlite))"
   ]
  },
  {
   "cell_type": "code",
   "execution_count": 10,
   "id": "e184a85e-58ae-42d4-acd4-420b15eeb52c",
   "metadata": {},
   "outputs": [
    {
     "data": {
      "text/plain": [
       "['/explore/nobackup/projects/ilab/data/srlite/products/srlite_1.0.1/srlite/alaska/split_5/WV02_20130623_M1BS_1030010023BB8600-sr-02m.tif',\n",
       " '/explore/nobackup/projects/ilab/data/srlite/products/srlite_1.0.1/srlite/alaska/split_7/WV02_20150509_M1BS_10300100424C7D00-sr-02m.tif',\n",
       " '/explore/nobackup/projects/ilab/data/srlite/products/srlite_1.0.1/srlite/alaska/split_8/WV02_20170512_M1BS_1030010069D0BF00-sr-02m.tif',\n",
       " '/explore/nobackup/projects/ilab/data/srlite/products/srlite_1.0.1/srlite/alaska/split_5/WV03_20200604_M1BS_104001005CA50300-sr-02m.tif',\n",
       " '/explore/nobackup/projects/ilab/data/srlite/products/srlite_1.0.1/srlite/alaska/split_4/WV02_20170809_M1BS_103001006D6D9700-sr-02m.tif',\n",
       " '/explore/nobackup/projects/ilab/data/srlite/products/srlite_1.0.1/srlite/alaska/split_7/WV02_20120617_M1BS_1030010019A15E00-sr-02m.tif',\n",
       " '/explore/nobackup/projects/ilab/data/srlite/products/srlite_1.0.1/srlite/alaska/split_7/WV03_20161016_M1BS_1040010023C1EE00-sr-02m.tif',\n",
       " '/explore/nobackup/projects/ilab/data/srlite/products/srlite_1.0.1/srlite/alaska/split_8/WV02_20120820_M1BS_103001001B7AD400-sr-02m.tif',\n",
       " '/explore/nobackup/projects/ilab/data/srlite/products/srlite_1.0.1/srlite/alaska/split_6/WV03_20180719_M1BS_104001003F799A00-sr-02m.tif',\n",
       " '/explore/nobackup/projects/ilab/data/srlite/products/srlite_1.0.1/srlite/alaska/split_6/WV02_20180905_M1BS_1030010083B5C800-sr-02m.tif',\n",
       " '/explore/nobackup/projects/ilab/data/srlite/products/srlite_1.0.1/srlite/alaska/split_8/WV02_20200319_M1BS_10300100A37E3700-sr-02m.tif',\n",
       " '/explore/nobackup/projects/ilab/data/srlite/products/srlite_1.0.1/srlite/alaska/split_6/WV02_20150520_M1BS_1030010042CB5A00-sr-02m.tif',\n",
       " '/explore/nobackup/projects/ilab/data/srlite/products/srlite_1.0.1/srlite/alaska/split_4/WV02_20160512_M1BS_10300100558A8300-sr-02m.tif',\n",
       " '/explore/nobackup/projects/ilab/data/srlite/products/srlite_1.0.1/srlite/alaska/split_4/WV02_20170730_M1BS_103001006F15C300-sr-02m.tif',\n",
       " '/explore/nobackup/projects/ilab/data/srlite/products/srlite_1.0.1/srlite/alaska/split_8/WV02_20140904_M1BS_1030010036095E00-sr-02m.tif',\n",
       " '/explore/nobackup/projects/ilab/data/srlite/products/srlite_1.0.1/srlite/alaska/split_8/WV02_20200608_M1BS_10300100A85E1900-sr-02m.tif',\n",
       " '/explore/nobackup/projects/ilab/data/srlite/products/srlite_1.0.1/srlite/alaska/split_4/WV03_20170807_M1BS_1040010030A66700-sr-02m.tif',\n",
       " '/explore/nobackup/projects/ilab/data/srlite/products/srlite_1.0.1/srlite/alaska/split_5/WV03_20150724_M1BS_104001000E34BC00-sr-02m.tif',\n",
       " '/explore/nobackup/projects/ilab/data/srlite/products/srlite_1.0.1/srlite/alaska/split_7/WV02_20140511_M1BS_1030010030482000-sr-02m.tif',\n",
       " '/explore/nobackup/projects/ilab/data/srlite/products/srlite_1.0.1/srlite/alaska/split_10/WV03_20171109_M1BS_1040010034A5D800-sr-02m.tif']"
      ]
     },
     "execution_count": 10,
     "metadata": {},
     "output_type": "execute_result"
    }
   ],
   "source": [
    "fn_list_srlite_SUB = random.sample(fn_list_srlite, 20)\n",
    "fn_list_srlite_SUB"
   ]
  },
  {
   "cell_type": "markdown",
   "id": "07ec12a9-e75a-4054-aa5c-f4265faab516",
   "metadata": {},
   "source": [
    "### Make stacks"
   ]
  },
  {
   "cell_type": "code",
   "execution_count": 12,
   "id": "e8a653a8-de5c-4cd8-a14c-1d866910097b",
   "metadata": {},
   "outputs": [
    {
     "data": {
      "text/plain": [
       "<module 'notebooks.predlib' from '/home/pmontesa/code/above-shrubs/notebooks/predlib.py'>"
      ]
     },
     "execution_count": 12,
     "metadata": {},
     "output_type": "execute_result"
    }
   ],
   "source": [
    "import importlib\n",
    "importlib.reload(notebooks.predlib)"
   ]
  },
  {
   "cell_type": "code",
   "execution_count": 445,
   "id": "fc5f7f86-0897-4e0a-9067-8d361cd02ae5",
   "metadata": {},
   "outputs": [],
   "source": [
    "# # Find and geth path for a small test case\n",
    "# test_input_fn = [f for f in fn_list_srlite if 'WV03_20180921_M1BS_104001004242D900-sr-02m' in f]\n",
    "# test_input_fn\n",
    "# z = above_shrubs.lib.predlib.do_stack(test_input_fn[0], dtm_path='/explore/nobackup/projects/dem/AK_IFSAR/alaska_ifsar_dtm_20221222.tif', outdir='/home/pmontesa/code/above-shrubs')"
   ]
  },
  {
   "cell_type": "code",
   "execution_count": null,
   "id": "7d854d81-1031-40b4-96e9-74e39a0f4f26",
   "metadata": {},
   "outputs": [],
   "source": [
    "%%time\n",
    "with Pool(processes=35) as pool:\n",
    "    out_fn_list = pool.map(partial(notebooks.predlib.do_stack, dtm_path='/explore/nobackup/projects/dem/AK_IFSAR/alaska_ifsar_dtm_20221222.tif', outdir=outstackdir), fn_list_srlite[0:1])"
   ]
  },
  {
   "cell_type": "markdown",
   "id": "4c60a36c-ca5c-4e9d-9478-d0b25c817f01",
   "metadata": {},
   "source": [
    "### Footprint stacks"
   ]
  },
  {
   "cell_type": "code",
   "execution_count": 16,
   "id": "5418689e-76c1-46af-bb88-8faaaad47e20",
   "metadata": {},
   "outputs": [
    {
     "ename": "NameError",
     "evalue": "name 'out_fn_list' is not defined",
     "output_type": "error",
     "traceback": [
      "\u001b[0;31m---------------------------------------------------------------------------\u001b[0m",
      "\u001b[0;31mNameError\u001b[0m                                 Traceback (most recent call last)",
      "File \u001b[0;32m<timed exec>:2\u001b[0m\n",
      "\u001b[0;31mNameError\u001b[0m: name 'out_fn_list' is not defined"
     ]
    }
   ],
   "source": [
    "%%time\n",
    "with Pool(processes=35) as pool:\n",
    "    f_gdf_lst = pool.map(partial(footprintlib.raster_footprint, DO_DATAMASK=False, GET_ONLY_DATASETMASK=False, R_READ_MODE='r', MANY_CRS=True), out_fn_list)"
   ]
  },
  {
   "cell_type": "code",
   "execution_count": 17,
   "id": "96731603-daa7-4b96-a225-f5d5d8c6f7f1",
   "metadata": {},
   "outputs": [
    {
     "ename": "NameError",
     "evalue": "name 'f_gdf_lst' is not defined",
     "output_type": "error",
     "traceback": [
      "\u001b[0;31m---------------------------------------------------------------------------\u001b[0m",
      "\u001b[0;31mNameError\u001b[0m                                 Traceback (most recent call last)",
      "Cell \u001b[0;32mIn[17], line 1\u001b[0m\n\u001b[0;32m----> 1\u001b[0m footprint_gdf_stacks \u001b[38;5;241m=\u001b[39m footprintlib\u001b[38;5;241m.\u001b[39mbuild_footprint_db(\u001b[43mf_gdf_lst\u001b[49m, TO_GCS\u001b[38;5;241m=\u001b[39m\u001b[38;5;28;01mFalse\u001b[39;00m, WRITE_GPKG\u001b[38;5;241m=\u001b[39m\u001b[38;5;28;01mFalse\u001b[39;00m, OUT_F_NAME\u001b[38;5;241m=\u001b[39m\u001b[38;5;124m'\u001b[39m\u001b[38;5;124m'\u001b[39m, OUT_LYR_NAME\u001b[38;5;241m=\u001b[39m\u001b[38;5;124m'\u001b[39m\u001b[38;5;124mCHM pred stack\u001b[39m\u001b[38;5;124m'\u001b[39m, DROP_DUPLICATES\u001b[38;5;241m=\u001b[39m\u001b[38;5;28;01mTrue\u001b[39;00m)\n",
      "\u001b[0;31mNameError\u001b[0m: name 'f_gdf_lst' is not defined"
     ]
    }
   ],
   "source": [
    "footprint_gdf_stacks = footprintlib.build_footprint_db(f_gdf_lst, TO_GCS=False, WRITE_GPKG=False, OUT_F_NAME='', OUT_LYR_NAME='CHM pred stack', DROP_DUPLICATES=True)"
   ]
  },
  {
   "cell_type": "code",
   "execution_count": null,
   "id": "d3dcd2d3-0e77-441c-9593-7cb5e52b23a8",
   "metadata": {},
   "outputs": [],
   "source": [
    "ax_main = footprint_gdf_stacks.plot(figsize=(4,4), alpha=0.15, ec='red')\n",
    "ax_main = ctx.add_basemap(ax_main, crs=4326, source = ctx.providers.Esri.WorldGrayCanvas, attribution=' ' ) #Esri.NatGeoWorldMap. Esri.WorldGrayCanvas Esri.WorldImagery"
   ]
  },
  {
   "cell_type": "code",
   "execution_count": null,
   "id": "65a0c294-ed6b-4beb-8501-a960b9100f70",
   "metadata": {},
   "outputs": [],
   "source": [
    "footprint_gdf_stacks.to_file(os.path.join(outstackdir, 'footprints_pred_stacks.gpkg'))"
   ]
  },
  {
   "cell_type": "code",
   "execution_count": null,
   "id": "68a5a2f6-294d-4dbb-bd4c-d3290a40f135",
   "metadata": {},
   "outputs": [],
   "source": []
  }
 ],
 "metadata": {
  "kernelspec": {
   "display_name": "ILAB Kernel",
   "language": "python",
   "name": "ilab-kernel"
  },
  "language_info": {
   "codemirror_mode": {
    "name": "ipython",
    "version": 3
   },
   "file_extension": ".py",
   "mimetype": "text/x-python",
   "name": "python",
   "nbconvert_exporter": "python",
   "pygments_lexer": "ipython3",
   "version": "3.8.16"
  }
 },
 "nbformat": 4,
 "nbformat_minor": 5
}
