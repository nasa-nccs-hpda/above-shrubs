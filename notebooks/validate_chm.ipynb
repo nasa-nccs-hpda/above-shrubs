{
 "cells": [
  {
   "cell_type": "markdown",
   "id": "86d3f384-758f-410e-891f-cebd39fba887",
   "metadata": {},
   "source": [
    "# Validate CNN CHM with airborne lidar grids (LVIS): \n",
    "### intersection and multiprocessing data frames\n",
    "Paul Montesano  \n",
    "June 2023"
   ]
  },
  {
   "cell_type": "code",
   "execution_count": 1,
   "id": "61a02a0a-a8b7-4935-b84b-c8a45a56efca",
   "metadata": {},
   "outputs": [
    {
     "name": "stderr",
     "output_type": "stream",
     "text": [
      "/tmp/ipykernel_3302765/3337796604.py:6: UserWarning: Shapely 2.0 is installed, but because PyGEOS is also installed, GeoPandas will still use PyGEOS by default for now. To force to use and test Shapely 2.0, you have to set the environment variable USE_PYGEOS=0. You can do this before starting the Python process, or in your code before importing geopandas:\n",
      "\n",
      "import os\n",
      "os.environ['USE_PYGEOS'] = '0'\n",
      "import geopandas\n",
      "\n",
      "In a future release, GeoPandas will switch to using Shapely by default. If you are using PyGEOS directly (calling PyGEOS functions on geometries from GeoPandas), this will then stop working and you are encouraged to migrate from PyGEOS to Shapely 2.0 (https://shapely.readthedocs.io/en/latest/migration_pygeos.html).\n",
      "  import geopandas as gpd\n"
     ]
    }
   ],
   "source": [
    "import rasterio\n",
    "from rasterio.mask import mask\n",
    "from rasterio.plot import show\n",
    "\n",
    "import fiona\n",
    "import geopandas as gpd\n",
    "import pandas as pd\n",
    "import numpy as np\n",
    "import folium\n",
    "\n",
    "import contextily as ctx\n",
    "\n",
    "import os\n",
    "import sys\n",
    "import glob\n",
    "sys.path.append('/home/pmontesa/code/pygeotools')\n",
    "from pygeotools.lib import *\n",
    "\n",
    "sys.path.append('/home/pmontesa/code/geoscitools')\n",
    "import footprintlib\n",
    "import vhrlib\n",
    "import maplib\n",
    "\n",
    "# This is a private repo\n",
    "sys.path.append('/home/pmontesa/code/dgtools')\n",
    "from dgtools.lib import dglib\n",
    "\n",
    "# \n",
    "sys.path.append('/home/pmontesa/code/above-shrubs')\n",
    "import notebooks.predlib\n",
    "\n",
    "import random\n",
    "import shapely\n",
    "import matplotlib.pyplot as plt\n",
    "from mpl_toolkits.axes_grid1 import make_axes_locatable\n",
    "\n",
    "import plotnine\n",
    "from plotnine import *\n",
    "\n",
    "import sklearn.metrics as metrics"
   ]
  },
  {
   "cell_type": "code",
   "execution_count": 2,
   "id": "d41b47b3-7770-491d-a6d1-55d4c2f597fd",
   "metadata": {},
   "outputs": [
    {
     "data": {
      "text/plain": [
       "<module 'footprintlib' from '/home/pmontesa/code/geoscitools/footprintlib.py'>"
      ]
     },
     "execution_count": 2,
     "metadata": {},
     "output_type": "execute_result"
    }
   ],
   "source": [
    "import importlib\n",
    "importlib.reload(footprintlib)"
   ]
  },
  {
   "cell_type": "code",
   "execution_count": 3,
   "id": "9d1bd7e3-d6d2-45bd-ac5c-50987cd7c0b0",
   "metadata": {
    "tags": []
   },
   "outputs": [],
   "source": [
    "from multiprocessing import Pool\n",
    "from functools import partial"
   ]
  },
  {
   "cell_type": "markdown",
   "id": "523b20b5-952a-4e17-9e12-7475217a2ec9",
   "metadata": {
    "tags": []
   },
   "source": [
    "### Paths from August 2023 work"
   ]
  },
  {
   "cell_type": "code",
   "execution_count": 4,
   "id": "8e0a752d-3260-4355-87e7-c1cc864cf3a5",
   "metadata": {},
   "outputs": [],
   "source": [
    "OUT_SUBDIR = 'cnn-chm-v2-noAug-invSqrt'\n",
    "dir_main = '/explore/nobackup/projects/ilab/projects/ABoVE-Shrubs/products'"
   ]
  },
  {
   "cell_type": "markdown",
   "id": "21fce5c2-f1bb-44f7-b071-bf4d3bd03d57",
   "metadata": {
    "tags": []
   },
   "source": [
    "### Paths from Sept 2023 work"
   ]
  },
  {
   "cell_type": "code",
   "execution_count": 5,
   "id": "270639e0-791e-4549-b557-5842c91cc848",
   "metadata": {},
   "outputs": [
    {
     "data": {
      "text/plain": [
       "'/explore/nobackup/projects/above/misc/ABoVE_Shrubs/chm/20231014_chm'"
      ]
     },
     "execution_count": 5,
     "metadata": {},
     "output_type": "execute_result"
    }
   ],
   "source": [
    "# NOTE - we should organize our various main dirs so that the structures are the same - this makes the code easier to run\n",
    "OUT_CHM_SUBSET = 'products_merged_nodtm_nontrain_strips' #  <---- \n",
    "OUT_CHM_SUBSET = 'dm_10m'\n",
    "\n",
    "OUT_CHM = '20231014_chm'\n",
    "dir_main = f'/home/pmontesa/mmacande/srlite/chm_model/{OUT_CHM}'\n",
    "dir_main = f'/explore/nobackup/projects/above/misc/ABoVE_Shrubs/chm/{OUT_CHM}'\n",
    "dir_main"
   ]
  },
  {
   "cell_type": "markdown",
   "id": "fd0ec515-e255-4a57-8cf7-33172b1050c8",
   "metadata": {},
   "source": [
    "## Setup Paths"
   ]
  },
  {
   "cell_type": "code",
   "execution_count": 6,
   "id": "d2368277-20bb-41de-8ffd-9747307d642b",
   "metadata": {},
   "outputs": [
    {
     "data": {
      "text/plain": [
       "'/explore/nobackup/projects/above/misc/ABoVE_Shrubs/chm/20231014_chm/dm_10m/validate'"
      ]
     },
     "execution_count": 6,
     "metadata": {},
     "output_type": "execute_result"
    }
   ],
   "source": [
    "dir_chm = f'{dir_main}/{OUT_CHM_SUBSET}'\n",
    "\n",
    "dir_validate_main =   f'{dir_chm}/validate' # validation subdirs will sit here\n",
    "!mkdir -p $dir_validate_main\n",
    "dir_footprints = f'{dir_chm}/footprints'\n",
    "!mkdir -p $dir_footprints\n",
    "\n",
    "nowtime = pd.Timestamp.now().strftime('%Y%m%d')\n",
    "nowtime\n",
    "\n",
    "dir_validate_main"
   ]
  },
  {
   "cell_type": "code",
   "execution_count": 7,
   "id": "2c84f80a-0d4b-4a35-8723-699f5db9dc46",
   "metadata": {},
   "outputs": [
    {
     "data": {
      "text/plain": [
       "'/explore/nobackup/projects/above/misc/ABoVE_Shrubs/chm/20231014_chm/dm_10m'"
      ]
     },
     "execution_count": 7,
     "metadata": {},
     "output_type": "execute_result"
    }
   ],
   "source": [
    "dir_chm"
   ]
  },
  {
   "cell_type": "code",
   "execution_count": 8,
   "id": "875031b0-8b88-47d6-88b1-a1b73fe42dae",
   "metadata": {},
   "outputs": [
    {
     "data": {
      "text/plain": [
       "946"
      ]
     },
     "execution_count": 8,
     "metadata": {},
     "output_type": "execute_result"
    }
   ],
   "source": [
    "f_list = glob.glob(dir_chm + '/*.tif')\n",
    "len(f_list)"
   ]
  },
  {
   "cell_type": "code",
   "execution_count": 9,
   "id": "7e66199f-5fd8-4157-a188-1589d9866819",
   "metadata": {},
   "outputs": [
    {
     "data": {
      "text/plain": [
       "'/explore/nobackup/projects/above/misc/ABoVE_Shrubs/chm/20231014_chm/dm_10m/WV03_20200704_M1BS_104001005CC4E300-chm-dm-10m.tif'"
      ]
     },
     "execution_count": 9,
     "metadata": {},
     "output_type": "execute_result"
    }
   ],
   "source": [
    "f_list[0]"
   ]
  },
  {
   "cell_type": "markdown",
   "id": "e4ffeb20-6a8a-4f73-aa2c-72a7c64e0b63",
   "metadata": {},
   "source": [
    "### Build CHM footprints"
   ]
  },
  {
   "cell_type": "code",
   "execution_count": 10,
   "id": "79d5ae52-e2ec-4df3-b84d-f51e7b71d85c",
   "metadata": {},
   "outputs": [
    {
     "name": "stdout",
     "output_type": "stream",
     "text": [
      "CPU times: user 212 ms, sys: 231 ms, total: 443 ms\n",
      "Wall time: 4.08 s\n"
     ]
    }
   ],
   "source": [
    "%%time\n",
    "# Make footprint gdfs of the the filenames, concat to single gdf\n",
    "if False:\n",
    "    f_gdf_lst = [footprintlib.raster_footprint(r_fn, DO_DATAMASK=False, GET_ONLY_DATASETMASK=False, R_READ_MODE='r', MANY_CRS=True) for r_fn in f_list]\n",
    "else:\n",
    "    with Pool(processes=35) as pool:\n",
    "        f_gdf_lst = pool.map(partial(footprintlib.raster_footprint, DO_DATAMASK=False, GET_ONLY_DATASETMASK=False, R_READ_MODE='r', MANY_CRS=True), f_list)"
   ]
  },
  {
   "cell_type": "code",
   "execution_count": 11,
   "id": "417f433d-6beb-4bd3-ade2-443210a77896",
   "metadata": {},
   "outputs": [
    {
     "name": "stdout",
     "output_type": "stream",
     "text": [
      "Building GDF from list...\n",
      "<class 'geopandas.geodataframe.GeoDataFrame'>\n",
      "Int64Index: 946 entries, 0 to 945\n",
      "Data columns (total 12 columns):\n",
      " #   Column          Non-Null Count  Dtype         \n",
      "---  ------          --------------  -----         \n",
      " 0   file            946 non-null    object        \n",
      " 1   geometry        946 non-null    geometry      \n",
      " 2   footprint_name  946 non-null    object        \n",
      " 3   path            946 non-null    object        \n",
      " 4   area_km2        946 non-null    float64       \n",
      " 5   area_ha         946 non-null    float64       \n",
      " 6   type            946 non-null    object        \n",
      " 7   catid           946 non-null    object        \n",
      " 8   sensor          946 non-null    object        \n",
      " 9   year            946 non-null    int64         \n",
      " 10  month           946 non-null    int64         \n",
      " 11  date            946 non-null    datetime64[ns]\n",
      "dtypes: datetime64[ns](1), float64(2), geometry(1), int64(2), object(6)\n",
      "memory usage: 96.1+ KB\n"
     ]
    }
   ],
   "source": [
    "footprint_gdf_chm = footprintlib.build_footprint_db(f_gdf_lst, TO_GCS=False, WRITE_GPKG=False, OUT_F_NAME='', OUT_LYR_NAME='', DROP_DUPLICATES=True)\n",
    "footprint_gdf_chm = footprintlib.get_attributes_from_filename(footprint_gdf_chm, 'cnn-chm-v1', '-sr-02m.cnn-chm-v1')\n",
    "footprint_gdf_chm.info()"
   ]
  },
  {
   "cell_type": "code",
   "execution_count": 12,
   "id": "f8b6576f-ae64-46a9-a8c2-942339a76380",
   "metadata": {},
   "outputs": [
    {
     "data": {
      "text/plain": [
       "<Axes: >"
      ]
     },
     "execution_count": 12,
     "metadata": {},
     "output_type": "execute_result"
    },
    {
     "data": {
      "image/png": "[encoded data removed]",
      "text/plain": [
       "<Figure size 640x480 with 1 Axes>"
      ]
     },
     "metadata": {},
     "output_type": "display_data"
    }
   ],
   "source": [
    "footprint_gdf_chm.cx[-170:-130,50:90].plot()"
   ]
  },
  {
   "cell_type": "markdown",
   "id": "0c229bf9-037d-4b44-a23e-9d09c1cbf240",
   "metadata": {},
   "source": [
    "### Save the CHM footprints Geodataframe"
   ]
  },
  {
   "cell_type": "code",
   "execution_count": 220,
   "id": "91cf2b49-dead-455e-bb59-78dedd1ccccb",
   "metadata": {},
   "outputs": [],
   "source": [
    "footprint_gdf_chm.to_file(os.path.join(dir_footprints, f'footprints_chm_{nowtime}.gpkg'), driver='GPKG')"
   ]
  },
  {
   "cell_type": "markdown",
   "id": "f3b74e79-e1b2-419b-a451-3f1569143b6c",
   "metadata": {},
   "source": [
    "### Read the CHM footprints in"
   ]
  },
  {
   "cell_type": "code",
   "execution_count": 13,
   "id": "6b237838-84e1-48fe-bd05-86d4438aa7f6",
   "metadata": {},
   "outputs": [],
   "source": [
    "footprint_gdf_chm = gpd.read_file('/explore/nobackup/projects/above/misc/ABoVE_Shrubs/chm/20231014_chm/dm_10m/footprints/footprints_chm_20231023.gpkg')"
   ]
  },
  {
   "cell_type": "markdown",
   "id": "997ad1ac-4e54-497e-8edc-fbdf393224e7",
   "metadata": {},
   "source": [
    "### Read in LVIS footprints"
   ]
  },
  {
   "cell_type": "code",
   "execution_count": null,
   "id": "b5249353-e5fb-45f8-ae7e-29e124b7b7e7",
   "metadata": {},
   "outputs": [],
   "source": [
    "# Open the LVIS file, which has multiple layers based on year\n",
    "foot_lvis_fn = os.path.join('/explore/nobackup/people/pmontesa/userfs02/arc/_footprints', 'footprints_lvis_above.gpkg')\n",
    "gdf_list = []\n",
    "for layername in fiona.listlayers(foot_lvis_fn):\n",
    "    gdf_list.append(gpd.read_file(foot_lvis_fn, layer=layername))\n",
    "foot_lvis = pd.concat(gdf_list, ignore_index=True).to_crs(4326)\n",
    "foot_lvis.columns = [x.lower() for x in foot_lvis.columns]"
   ]
  },
  {
   "cell_type": "code",
   "execution_count": null,
   "id": "fe1818f3-4b33-4059-8d33-e00c4a560455",
   "metadata": {},
   "outputs": [],
   "source": [
    "foot_lvis.info()"
   ]
  },
  {
   "cell_type": "code",
   "execution_count": null,
   "id": "7be85a2c-88b1-41c8-a7aa-8d2c0b340fdd",
   "metadata": {},
   "outputs": [],
   "source": [
    "foot_lvis.head()"
   ]
  },
  {
   "cell_type": "markdown",
   "id": "7227c556-cbeb-4f19-aace-191b5f8dbb75",
   "metadata": {},
   "source": [
    "### Overlay LVIS with CHM footprints"
   ]
  },
  {
   "cell_type": "code",
   "execution_count": 15,
   "id": "178495eb-eab6-4adf-93b3-12897a26f40d",
   "metadata": {},
   "outputs": [
    {
     "name": "stdout",
     "output_type": "stream",
     "text": [
      "CPU times: user 1min 10s, sys: 424 ms, total: 1min 11s\n",
      "Wall time: 1min 11s\n"
     ]
    }
   ],
   "source": [
    "%%time\n",
    "foot_intersect_chm_lvis = gpd.overlay(footprint_gdf_chm, foot_lvis.to_crs(footprint_gdf_chm.crs), how='intersection')"
   ]
  },
  {
   "cell_type": "markdown",
   "id": "4c405983-925d-4cd8-b6b4-ae14b132b49e",
   "metadata": {},
   "source": [
    "### Save the Validation Intersection Geodataframe"
   ]
  },
  {
   "cell_type": "code",
   "execution_count": 224,
   "id": "15acc60d-3fb1-4ce2-b12f-8bfe58c283b9",
   "metadata": {},
   "outputs": [],
   "source": [
    "foot_intersect_chm_lvis.to_file(os.path.join(dir_validate_main, f'val_intersect_footprints_LVIS_{nowtime}.gpkg'), driver='GPKG')"
   ]
  },
  {
   "cell_type": "markdown",
   "id": "73c3d5bc-84ad-479a-b5b4-2e0a97eecd14",
   "metadata": {},
   "source": [
    "### Read the Intersection footprints back in"
   ]
  },
  {
   "cell_type": "code",
   "execution_count": 14,
   "id": "5cc7d3b6-1af4-4d0e-8957-e670fdd7a548",
   "metadata": {},
   "outputs": [],
   "source": [
    "foot_intersect_chm_lvis = gpd.read_file(dir_validate_main + '/val_intersect_footprints_LVIS_20231023.gpkg')"
   ]
  },
  {
   "cell_type": "code",
   "execution_count": 225,
   "id": "67c94291-d7d1-42d3-9acb-fb2421d855b8",
   "metadata": {},
   "outputs": [
    {
     "data": {
      "image/png": "[encoded data removed]",
      "text/plain": [
       "<Figure size 640x480 with 1 Axes>"
      ]
     },
     "metadata": {},
     "output_type": "display_data"
    }
   ],
   "source": [
    "ax = footprint_gdf_chm.cx[-170:-130,50:90].plot(color='blue', alpha=0.1)\n",
    "ax = foot_intersect_chm_lvis.cx[-170:-130,50:90].plot(color='red', ax=ax)\n",
    "ax = ctx.add_basemap(ax, crs=4326, source = ctx.providers.Esri.WorldGrayCanvas)"
   ]
  },
  {
   "cell_type": "markdown",
   "id": "4e1bb8ce-9367-4658-9d79-3fd242033e41",
   "metadata": {},
   "source": [
    "# Get all corresponding filenames for validation\n",
    "for LVIS and predictions\n"
   ]
  },
  {
   "cell_type": "code",
   "execution_count": 15,
   "id": "110a0ac7-0dae-4289-9804-67fefc046b4e",
   "metadata": {},
   "outputs": [
    {
     "data": {
      "text/html": [
       "<div>\n",
       "<style scoped>\n",
       "    .dataframe tbody tr th:only-of-type {\n",
       "        vertical-align: middle;\n",
       "    }\n",
       "\n",
       "    .dataframe tbody tr th {\n",
       "        vertical-align: top;\n",
       "    }\n",
       "\n",
       "    .dataframe thead th {\n",
       "        text-align: right;\n",
       "    }\n",
       "</style>\n",
       "<table border=\"1\" class=\"dataframe\">\n",
       "  <thead>\n",
       "    <tr style=\"text-align: right;\">\n",
       "      <th></th>\n",
       "      <th>file_1</th>\n",
       "      <th>footprint_name</th>\n",
       "      <th>path_1</th>\n",
       "      <th>area_km2</th>\n",
       "      <th>area_ha</th>\n",
       "      <th>type</th>\n",
       "      <th>catid</th>\n",
       "      <th>sensor</th>\n",
       "      <th>year</th>\n",
       "      <th>month</th>\n",
       "      <th>date</th>\n",
       "      <th>dn</th>\n",
       "      <th>file_2</th>\n",
       "      <th>path_2</th>\n",
       "      <th>geometry</th>\n",
       "    </tr>\n",
       "  </thead>\n",
       "  <tbody>\n",
       "    <tr>\n",
       "      <th>0</th>\n",
       "      <td>WV02_20140802_M1BS_10300100342CF900-chm-dm-10m...</td>\n",
       "      <td>WV02_20140802_M1BS_10300100342CF900-chm-dm-10m...</td>\n",
       "      <td>/explore/nobackup/projects/above/misc/ABoVE_Sh...</td>\n",
       "      <td>2979.0468</td>\n",
       "      <td>297904.68</td>\n",
       "      <td>cnn-chm-v1</td>\n",
       "      <td>10300100342CF900-chm-dm-10m.tif</td>\n",
       "      <td>WV02</td>\n",
       "      <td>2014</td>\n",
       "      <td>8</td>\n",
       "      <td>2014-08-02</td>\n",
       "      <td>1.0</td>\n",
       "      <td>LVISF2_ABoVE2019_0723_R2003_066782_lvis_pt_cnt...</td>\n",
       "      <td>/att/nobackup/pmontesa/userfs02/data/LVIS/2019...</td>\n",
       "      <td>MULTIPOLYGON (((-155.25904 59.13565, -155.2586...</td>\n",
       "    </tr>\n",
       "    <tr>\n",
       "      <th>1</th>\n",
       "      <td>WV02_20180701_M1BS_103001007F059300-chm-dm-10m...</td>\n",
       "      <td>WV02_20180701_M1BS_103001007F059300-chm-dm-10m...</td>\n",
       "      <td>/explore/nobackup/projects/above/misc/ABoVE_Sh...</td>\n",
       "      <td>2027.7864</td>\n",
       "      <td>202778.64</td>\n",
       "      <td>cnn-chm-v1</td>\n",
       "      <td>103001007F059300-chm-dm-10m.tif</td>\n",
       "      <td>WV02</td>\n",
       "      <td>2018</td>\n",
       "      <td>7</td>\n",
       "      <td>2018-07-01</td>\n",
       "      <td>1.0</td>\n",
       "      <td>LVISF2_ABoVE2019_0723_R2003_066782_lvis_pt_cnt...</td>\n",
       "      <td>/att/nobackup/pmontesa/userfs02/data/LVIS/2019...</td>\n",
       "      <td>MULTIPOLYGON (((-155.25904 59.13565, -155.2586...</td>\n",
       "    </tr>\n",
       "    <tr>\n",
       "      <th>2</th>\n",
       "      <td>WV02_20180701_M1BS_1030010080C0E600-chm-dm-10m...</td>\n",
       "      <td>WV02_20180701_M1BS_1030010080C0E600-chm-dm-10m...</td>\n",
       "      <td>/explore/nobackup/projects/above/misc/ABoVE_Sh...</td>\n",
       "      <td>2064.7072</td>\n",
       "      <td>206470.72</td>\n",
       "      <td>cnn-chm-v1</td>\n",
       "      <td>1030010080C0E600-chm-dm-10m.tif</td>\n",
       "      <td>WV02</td>\n",
       "      <td>2018</td>\n",
       "      <td>7</td>\n",
       "      <td>2018-07-01</td>\n",
       "      <td>1.0</td>\n",
       "      <td>LVISF2_ABoVE2019_0723_R2003_066782_lvis_pt_cnt...</td>\n",
       "      <td>/att/nobackup/pmontesa/userfs02/data/LVIS/2019...</td>\n",
       "      <td>MULTIPOLYGON (((-155.25904 59.13565, -155.2586...</td>\n",
       "    </tr>\n",
       "    <tr>\n",
       "      <th>3</th>\n",
       "      <td>WV03_20200729_M1BS_104001005E8CBF00-chm-dm-10m...</td>\n",
       "      <td>WV03_20200729_M1BS_104001005E8CBF00-chm-dm-10m...</td>\n",
       "      <td>/explore/nobackup/projects/above/misc/ABoVE_Sh...</td>\n",
       "      <td>1339.0704</td>\n",
       "      <td>133907.04</td>\n",
       "      <td>cnn-chm-v1</td>\n",
       "      <td>104001005E8CBF00-chm-dm-10m.tif</td>\n",
       "      <td>WV03</td>\n",
       "      <td>2020</td>\n",
       "      <td>7</td>\n",
       "      <td>2020-07-29</td>\n",
       "      <td>1.0</td>\n",
       "      <td>LVISF2_ABoVE2019_0723_R2003_066782_lvis_pt_cnt...</td>\n",
       "      <td>/att/nobackup/pmontesa/userfs02/data/LVIS/2019...</td>\n",
       "      <td>POLYGON ((-155.34182 59.04056, -155.34191 59.0...</td>\n",
       "    </tr>\n",
       "    <tr>\n",
       "      <th>4</th>\n",
       "      <td>WV03_20190817_M1BS_1040010051769700-chm-dm-10m...</td>\n",
       "      <td>WV03_20190817_M1BS_1040010051769700-chm-dm-10m...</td>\n",
       "      <td>/explore/nobackup/projects/above/misc/ABoVE_Sh...</td>\n",
       "      <td>1344.5742</td>\n",
       "      <td>134457.42</td>\n",
       "      <td>cnn-chm-v1</td>\n",
       "      <td>1040010051769700-chm-dm-10m.tif</td>\n",
       "      <td>WV03</td>\n",
       "      <td>2019</td>\n",
       "      <td>8</td>\n",
       "      <td>2019-08-17</td>\n",
       "      <td>1.0</td>\n",
       "      <td>LVISF2_ABoVE2019_0723_R2003_066782_lvis_pt_cnt...</td>\n",
       "      <td>/att/nobackup/pmontesa/userfs02/data/LVIS/2019...</td>\n",
       "      <td>MULTIPOLYGON (((-155.25904 59.13565, -155.2586...</td>\n",
       "    </tr>\n",
       "  </tbody>\n",
       "</table>\n",
       "</div>"
      ],
      "text/plain": [
       "                                              file_1  \\\n",
       "0  WV02_20140802_M1BS_10300100342CF900-chm-dm-10m...   \n",
       "1  WV02_20180701_M1BS_103001007F059300-chm-dm-10m...   \n",
       "2  WV02_20180701_M1BS_1030010080C0E600-chm-dm-10m...   \n",
       "3  WV03_20200729_M1BS_104001005E8CBF00-chm-dm-10m...   \n",
       "4  WV03_20190817_M1BS_1040010051769700-chm-dm-10m...   \n",
       "\n",
       "                                      footprint_name  \\\n",
       "0  WV02_20140802_M1BS_10300100342CF900-chm-dm-10m...   \n",
       "1  WV02_20180701_M1BS_103001007F059300-chm-dm-10m...   \n",
       "2  WV02_20180701_M1BS_1030010080C0E600-chm-dm-10m...   \n",
       "3  WV03_20200729_M1BS_104001005E8CBF00-chm-dm-10m...   \n",
       "4  WV03_20190817_M1BS_1040010051769700-chm-dm-10m...   \n",
       "\n",
       "                                              path_1   area_km2    area_ha  \\\n",
       "0  /explore/nobackup/projects/above/misc/ABoVE_Sh...  2979.0468  297904.68   \n",
       "1  /explore/nobackup/projects/above/misc/ABoVE_Sh...  2027.7864  202778.64   \n",
       "2  /explore/nobackup/projects/above/misc/ABoVE_Sh...  2064.7072  206470.72   \n",
       "3  /explore/nobackup/projects/above/misc/ABoVE_Sh...  1339.0704  133907.04   \n",
       "4  /explore/nobackup/projects/above/misc/ABoVE_Sh...  1344.5742  134457.42   \n",
       "\n",
       "         type                            catid sensor  year  month       date  \\\n",
       "0  cnn-chm-v1  10300100342CF900-chm-dm-10m.tif   WV02  2014      8 2014-08-02   \n",
       "1  cnn-chm-v1  103001007F059300-chm-dm-10m.tif   WV02  2018      7 2018-07-01   \n",
       "2  cnn-chm-v1  1030010080C0E600-chm-dm-10m.tif   WV02  2018      7 2018-07-01   \n",
       "3  cnn-chm-v1  104001005E8CBF00-chm-dm-10m.tif   WV03  2020      7 2020-07-29   \n",
       "4  cnn-chm-v1  1040010051769700-chm-dm-10m.tif   WV03  2019      8 2019-08-17   \n",
       "\n",
       "    dn                                             file_2  \\\n",
       "0  1.0  LVISF2_ABoVE2019_0723_R2003_066782_lvis_pt_cnt...   \n",
       "1  1.0  LVISF2_ABoVE2019_0723_R2003_066782_lvis_pt_cnt...   \n",
       "2  1.0  LVISF2_ABoVE2019_0723_R2003_066782_lvis_pt_cnt...   \n",
       "3  1.0  LVISF2_ABoVE2019_0723_R2003_066782_lvis_pt_cnt...   \n",
       "4  1.0  LVISF2_ABoVE2019_0723_R2003_066782_lvis_pt_cnt...   \n",
       "\n",
       "                                              path_2  \\\n",
       "0  /att/nobackup/pmontesa/userfs02/data/LVIS/2019...   \n",
       "1  /att/nobackup/pmontesa/userfs02/data/LVIS/2019...   \n",
       "2  /att/nobackup/pmontesa/userfs02/data/LVIS/2019...   \n",
       "3  /att/nobackup/pmontesa/userfs02/data/LVIS/2019...   \n",
       "4  /att/nobackup/pmontesa/userfs02/data/LVIS/2019...   \n",
       "\n",
       "                                            geometry  \n",
       "0  MULTIPOLYGON (((-155.25904 59.13565, -155.2586...  \n",
       "1  MULTIPOLYGON (((-155.25904 59.13565, -155.2586...  \n",
       "2  MULTIPOLYGON (((-155.25904 59.13565, -155.2586...  \n",
       "3  POLYGON ((-155.34182 59.04056, -155.34191 59.0...  \n",
       "4  MULTIPOLYGON (((-155.25904 59.13565, -155.2586...  "
      ]
     },
     "execution_count": 15,
     "metadata": {},
     "output_type": "execute_result"
    }
   ],
   "source": [
    "foot_intersect_chm_lvis.head()"
   ]
  },
  {
   "cell_type": "code",
   "execution_count": 16,
   "id": "f122cafe-e26c-4b74-a1ee-6f0e97db1038",
   "metadata": {},
   "outputs": [],
   "source": [
    "# f = glob.glob(f'{dir_footprints}/footprint_overlay_lvis_*.gpkg')[0]\n",
    "# lvis_pred_SUBSET = gpd.read_file(f, driver='GPKG')"
   ]
  },
  {
   "cell_type": "markdown",
   "id": "239bb844-fdad-4f62-847f-fee495b36d2c",
   "metadata": {},
   "source": [
    "### Unique set of strips for validation"
   ]
  },
  {
   "cell_type": "code",
   "execution_count": 17,
   "id": "e0d74e08-7bf7-4a02-b284-2135d2183905",
   "metadata": {},
   "outputs": [
    {
     "data": {
      "text/plain": [
       "488"
      ]
     },
     "execution_count": 17,
     "metadata": {},
     "output_type": "execute_result"
    }
   ],
   "source": [
    "val_strips = set(foot_intersect_chm_lvis.footprint_name.to_list())\n",
    "len(val_strips)"
   ]
  },
  {
   "cell_type": "markdown",
   "id": "3f4f467b-a936-4816-9975-bcacb31e7ad5",
   "metadata": {},
   "source": [
    "### Get VHR metadata for these val strips\n",
    "helps to understand results?\n"
   ]
  },
  {
   "cell_type": "code",
   "execution_count": 19,
   "id": "11d503d7-2f7c-45a2-af3a-af5e29dc83c7",
   "metadata": {},
   "outputs": [
    {
     "data": {
      "text/plain": [
       "78"
      ]
     },
     "execution_count": 19,
     "metadata": {},
     "output_type": "execute_result"
    }
   ],
   "source": [
    "OUTDIR_SRLITE = '/explore/nobackup/projects/ilab/data/srlite/products/srlite_1.0.1'\n",
    "TARGET = 'alaska*'\n",
    "TARGET_DIR_TOA = f'{OUTDIR_SRLITE}/toa/{TARGET}'\n",
    "#SEARCH_STRING = '/split_*/5-toas/*.xml'\n",
    "SEARCH_STRING = '/**/*.xml'\n",
    "f_list_toa_xml = glob.glob(f\"{TARGET_DIR_TOA}{SEARCH_STRING}\", recursive=True)\n",
    "len(f_list_toa_xml)"
   ]
  },
  {
   "cell_type": "markdown",
   "id": "218f12c3-824f-4839-afd8-9b7051c6b694",
   "metadata": {
    "tags": []
   },
   "source": [
    "#### vhr metadata"
   ]
  },
  {
   "cell_type": "code",
   "execution_count": 12,
   "id": "4ad1dd76-39ef-49ee-a2d9-2c4278fa80c8",
   "metadata": {},
   "outputs": [
    {
     "name": "stdout",
     "output_type": "stream",
     "text": [
      "<class 'pandas.core.frame.DataFrame'>\n",
      "Int64Index: 3419 entries, 0 to 0\n",
      "Data columns (total 25 columns):\n",
      " #   Column      Non-Null Count  Dtype              \n",
      "---  ------      --------------  -----              \n",
      " 0   satid       3419 non-null   object             \n",
      " 1   catid       3419 non-null   object             \n",
      " 2   tlctime     3419 non-null   datetime64[ns, UTC]\n",
      " 3   gsd         3419 non-null   float64            \n",
      " 4   sunaz       3419 non-null   float64            \n",
      " 5   sunel       3419 non-null   float64            \n",
      " 6   az          3419 non-null   float64            \n",
      " 7   el          3419 non-null   float64            \n",
      " 8   intrack     3419 non-null   float64            \n",
      " 9   crosstrack  3419 non-null   float64            \n",
      " 10  offnadir    3419 non-null   float64            \n",
      " 11  cloudcover  3419 non-null   float64            \n",
      " 12  scandir     3419 non-null   object             \n",
      " 13  ULLON       3419 non-null   float64            \n",
      " 14  ULLAT       3419 non-null   float64            \n",
      " 15  ULHAE       3419 non-null   float64            \n",
      " 16  URLON       3419 non-null   float64            \n",
      " 17  URLAT       3419 non-null   float64            \n",
      " 18  URHAE       3419 non-null   float64            \n",
      " 19  LLLON       3419 non-null   float64            \n",
      " 20  LLLAT       3419 non-null   float64            \n",
      " 21  LLHAE       3419 non-null   float64            \n",
      " 22  LRLON       3419 non-null   float64            \n",
      " 23  LRLAT       3419 non-null   float64            \n",
      " 24  LRHAE       3419 non-null   float64            \n",
      "dtypes: datetime64[ns, UTC](1), float64(21), object(3)\n",
      "memory usage: 694.5+ KB\n",
      "CPU times: user 3.37 s, sys: 544 ms, total: 3.91 s\n",
      "Wall time: 43.7 s\n"
     ]
    }
   ],
   "source": [
    "%%time\n",
    "\n",
    "import importlib\n",
    "importlib.reload(vhrlib)\n",
    "\n",
    "with Pool(processes=35) as pool:\n",
    "    vhr_df_list = pool.map(partial(vhrlib.make_vhr_xml_dataframe), f_list_toa_xml)\n",
    "vhr_df = pd.concat(vhr_df_list)\n",
    "vhr_df.info()"
   ]
  },
  {
   "cell_type": "code",
   "execution_count": 230,
   "id": "53c3e0ef-ce0d-4213-b6db-a93ac31fce92",
   "metadata": {},
   "outputs": [
    {
     "data": {
      "text/plain": [
       "[]"
      ]
     },
     "execution_count": 230,
     "metadata": {},
     "output_type": "execute_result"
    }
   ],
   "source": [
    "[strip for strip in val_strips if 'AC3100' in strip]"
   ]
  },
  {
   "cell_type": "markdown",
   "id": "4560d8de-ef36-4dda-b3b5-8d691d6d2623",
   "metadata": {},
   "source": [
    "## Get matched lists of paths of predicted CHMs and reference CHMs"
   ]
  },
  {
   "cell_type": "code",
   "execution_count": 231,
   "id": "edbe83a7-4593-47b9-9a7a-8e78a27a7d19",
   "metadata": {},
   "outputs": [
    {
     "data": {
      "text/html": [
       "<div>\n",
       "<style scoped>\n",
       "    .dataframe tbody tr th:only-of-type {\n",
       "        vertical-align: middle;\n",
       "    }\n",
       "\n",
       "    .dataframe tbody tr th {\n",
       "        vertical-align: top;\n",
       "    }\n",
       "\n",
       "    .dataframe thead th {\n",
       "        text-align: right;\n",
       "    }\n",
       "</style>\n",
       "<table border=\"1\" class=\"dataframe\">\n",
       "  <thead>\n",
       "    <tr style=\"text-align: right;\">\n",
       "      <th></th>\n",
       "      <th>file_1</th>\n",
       "      <th>footprint_name</th>\n",
       "      <th>path_1</th>\n",
       "      <th>area_km2</th>\n",
       "      <th>area_ha</th>\n",
       "      <th>type</th>\n",
       "      <th>catid</th>\n",
       "      <th>sensor</th>\n",
       "      <th>year</th>\n",
       "      <th>month</th>\n",
       "      <th>date</th>\n",
       "      <th>dn</th>\n",
       "      <th>file_2</th>\n",
       "      <th>path_2</th>\n",
       "      <th>geometry</th>\n",
       "    </tr>\n",
       "  </thead>\n",
       "  <tbody>\n",
       "    <tr>\n",
       "      <th>0</th>\n",
       "      <td>WV02_20140802_M1BS_10300100342CF900-chm-dm-10m...</td>\n",
       "      <td>WV02_20140802_M1BS_10300100342CF900-chm-dm-10m...</td>\n",
       "      <td>/explore/nobackup/projects/above/misc/ABoVE_Sh...</td>\n",
       "      <td>2979.0468</td>\n",
       "      <td>297904.68</td>\n",
       "      <td>cnn-chm-v1</td>\n",
       "      <td>10300100342CF900-chm-dm-10m.tif</td>\n",
       "      <td>WV02</td>\n",
       "      <td>2014</td>\n",
       "      <td>8</td>\n",
       "      <td>2014-08-02</td>\n",
       "      <td>1.0</td>\n",
       "      <td>LVISF2_ABoVE2019_0723_R2003_066782_lvis_pt_cnt...</td>\n",
       "      <td>/att/nobackup/pmontesa/userfs02/data/LVIS/2019...</td>\n",
       "      <td>MULTIPOLYGON (((-155.25904 59.13565, -155.2586...</td>\n",
       "    </tr>\n",
       "    <tr>\n",
       "      <th>1</th>\n",
       "      <td>WV02_20180701_M1BS_103001007F059300-chm-dm-10m...</td>\n",
       "      <td>WV02_20180701_M1BS_103001007F059300-chm-dm-10m...</td>\n",
       "      <td>/explore/nobackup/projects/above/misc/ABoVE_Sh...</td>\n",
       "      <td>2027.7864</td>\n",
       "      <td>202778.64</td>\n",
       "      <td>cnn-chm-v1</td>\n",
       "      <td>103001007F059300-chm-dm-10m.tif</td>\n",
       "      <td>WV02</td>\n",
       "      <td>2018</td>\n",
       "      <td>7</td>\n",
       "      <td>2018-07-01</td>\n",
       "      <td>1.0</td>\n",
       "      <td>LVISF2_ABoVE2019_0723_R2003_066782_lvis_pt_cnt...</td>\n",
       "      <td>/att/nobackup/pmontesa/userfs02/data/LVIS/2019...</td>\n",
       "      <td>MULTIPOLYGON (((-155.25904 59.13565, -155.2586...</td>\n",
       "    </tr>\n",
       "  </tbody>\n",
       "</table>\n",
       "</div>"
      ],
      "text/plain": [
       "                                              file_1  \\\n",
       "0  WV02_20140802_M1BS_10300100342CF900-chm-dm-10m...   \n",
       "1  WV02_20180701_M1BS_103001007F059300-chm-dm-10m...   \n",
       "\n",
       "                                      footprint_name  \\\n",
       "0  WV02_20140802_M1BS_10300100342CF900-chm-dm-10m...   \n",
       "1  WV02_20180701_M1BS_103001007F059300-chm-dm-10m...   \n",
       "\n",
       "                                              path_1   area_km2    area_ha  \\\n",
       "0  /explore/nobackup/projects/above/misc/ABoVE_Sh...  2979.0468  297904.68   \n",
       "1  /explore/nobackup/projects/above/misc/ABoVE_Sh...  2027.7864  202778.64   \n",
       "\n",
       "         type                            catid sensor  year  month       date  \\\n",
       "0  cnn-chm-v1  10300100342CF900-chm-dm-10m.tif   WV02  2014      8 2014-08-02   \n",
       "1  cnn-chm-v1  103001007F059300-chm-dm-10m.tif   WV02  2018      7 2018-07-01   \n",
       "\n",
       "    dn                                             file_2  \\\n",
       "0  1.0  LVISF2_ABoVE2019_0723_R2003_066782_lvis_pt_cnt...   \n",
       "1  1.0  LVISF2_ABoVE2019_0723_R2003_066782_lvis_pt_cnt...   \n",
       "\n",
       "                                              path_2  \\\n",
       "0  /att/nobackup/pmontesa/userfs02/data/LVIS/2019...   \n",
       "1  /att/nobackup/pmontesa/userfs02/data/LVIS/2019...   \n",
       "\n",
       "                                            geometry  \n",
       "0  MULTIPOLYGON (((-155.25904 59.13565, -155.2586...  \n",
       "1  MULTIPOLYGON (((-155.25904 59.13565, -155.2586...  "
      ]
     },
     "execution_count": 231,
     "metadata": {},
     "output_type": "execute_result"
    }
   ],
   "source": [
    "foot_intersect_chm_lvis.head(2)"
   ]
  },
  {
   "cell_type": "code",
   "execution_count": 20,
   "id": "b66555db-0189-4b48-a36e-302f157d27c5",
   "metadata": {},
   "outputs": [
    {
     "name": "stdout",
     "output_type": "stream",
     "text": [
      "488 individual chm predictions from srlite available for validation.\n"
     ]
    },
    {
     "data": {
      "text/plain": [
       "['/explore/nobackup/projects/above/misc/ABoVE_Shrubs/chm/20231014_chm/dm_10m/WV02_20140802_M1BS_10300100342CF900-chm-dm-10m.tif',\n",
       " '/explore/nobackup/projects/above/misc/ABoVE_Shrubs/chm/20231014_chm/dm_10m/WV02_20180701_M1BS_103001007F059300-chm-dm-10m.tif',\n",
       " '/explore/nobackup/projects/above/misc/ABoVE_Shrubs/chm/20231014_chm/dm_10m/WV02_20180701_M1BS_1030010080C0E600-chm-dm-10m.tif',\n",
       " '/explore/nobackup/projects/above/misc/ABoVE_Shrubs/chm/20231014_chm/dm_10m/WV03_20200729_M1BS_104001005E8CBF00-chm-dm-10m.tif',\n",
       " '/explore/nobackup/projects/above/misc/ABoVE_Shrubs/chm/20231014_chm/dm_10m/WV03_20190817_M1BS_1040010051769700-chm-dm-10m.tif']"
      ]
     },
     "execution_count": 20,
     "metadata": {},
     "output_type": "execute_result"
    }
   ],
   "source": [
    "#pred_stack_list = sorted(list(set(lvis_pred_tte.file.to_list())))\n",
    "foot_intersect_chm_lvis[\"pred_path\"] = foot_intersect_chm_lvis[\"path_1\"] + '/' + foot_intersect_chm_lvis[\"file_1\"]\n",
    "pred_path_list = foot_intersect_chm_lvis.pred_path.to_list()\n",
    "print(f'{len(list(set(pred_path_list)))} individual chm predictions from srlite available for validation.')\n",
    "pred_path_list[0:5]"
   ]
  },
  {
   "cell_type": "code",
   "execution_count": 21,
   "id": "4f2ec507-927b-4dfd-82cf-56e69e65ed24",
   "metadata": {},
   "outputs": [
    {
     "name": "stdout",
     "output_type": "stream",
     "text": [
      "913 individual LVIS flightlines being used for validation.\n"
     ]
    },
    {
     "data": {
      "text/plain": [
       "['/explore/nobackup/people/pmontesa/userfs02/data/LVIS/2019/output/metrics/30/LVISF2_ABoVE2019_0723_R2003_066782_RH098_mean_30m.tif',\n",
       " '/explore/nobackup/people/pmontesa/userfs02/data/LVIS/2019/output/metrics/30/LVISF2_ABoVE2019_0723_R2003_066782_RH098_mean_30m.tif',\n",
       " '/explore/nobackup/people/pmontesa/userfs02/data/LVIS/2019/output/metrics/30/LVISF2_ABoVE2019_0723_R2003_066782_RH098_mean_30m.tif',\n",
       " '/explore/nobackup/people/pmontesa/userfs02/data/LVIS/2019/output/metrics/30/LVISF2_ABoVE2019_0723_R2003_066782_RH098_mean_30m.tif',\n",
       " '/explore/nobackup/people/pmontesa/userfs02/data/LVIS/2019/output/metrics/30/LVISF2_ABoVE2019_0723_R2003_066782_RH098_mean_30m.tif']"
      ]
     },
     "execution_count": 21,
     "metadata": {},
     "output_type": "execute_result"
    }
   ],
   "source": [
    "foot_intersect_chm_lvis[\"lvis_path\"] = foot_intersect_chm_lvis[\"path_2\"].str.replace('/att/nobackup','/explore/nobackup/people') + '/' + foot_intersect_chm_lvis[\"file_2\"]\n",
    "lvis_path_list = [f.replace('lvis_pt_cnt', 'RH098_mean') for f in foot_intersect_chm_lvis.lvis_path.to_list()]\n",
    "print(f'{len(list(set(lvis_path_list)))} individual LVIS flightlines being used for validation.')\n",
    "lvis_path_list[0:5]"
   ]
  },
  {
   "cell_type": "code",
   "execution_count": 22,
   "id": "19202e66-3055-4b0e-a2bd-7fcf4afa71b1",
   "metadata": {},
   "outputs": [
    {
     "name": "stdout",
     "output_type": "stream",
     "text": [
      "2968 unique intersections (predicted CNN CHM X LVIS) available for validation.\n"
     ]
    }
   ],
   "source": [
    "print(f'{len(pred_path_list)} unique intersections (predicted CNN CHM X LVIS) available for validation.')"
   ]
  },
  {
   "cell_type": "markdown",
   "id": "8163015c-6a11-4a25-b2cb-ef87b22bac30",
   "metadata": {},
   "source": [
    "# Validation of stacks with LVIS\n",
    "1. Use the corresponding filenams: pred_fn , lvis_fn\n",
    "2. select a random set of a few stacks  \n",
    "3. validate the portion of this stack that intersects with LVIS "
   ]
  },
  {
   "cell_type": "markdown",
   "id": "9e9f5709-1c87-49f0-a873-936ba1504875",
   "metadata": {},
   "source": [
    "### Map a single random validation site"
   ]
  },
  {
   "cell_type": "code",
   "execution_count": 23,
   "id": "910a9cf8-500c-4279-8612-339ab0561a1d",
   "metadata": {},
   "outputs": [
    {
     "name": "stdout",
     "output_type": "stream",
     "text": [
      "590\n"
     ]
    },
    {
     "data": {
      "text/html": [
       "<div style=\"width:100%;\"><div style=\"position:relative;width:100%;height:0;padding-bottom:60%;\"><span style=\"color:#565656\">Make this Notebook Trusted to load map: File -> Trust Notebook</span><iframe srcdoc=\"&lt;!DOCTYPE html&gt;\n",
       "&lt;html&gt;\n",
       "&lt;head&gt;\n",
       "    \n",
       "    &lt;meta http-equiv=&quot;content-type&quot; content=&quot;text/html; charset=UTF-8&quot; /&gt;\n",
       "    \n",
       "        &lt;script&gt;\n",
       "            L_NO_TOUCH = false;\n",
       "            L_DISABLE_3D = false;\n",
       "        &lt;/script&gt;\n",
       "    \n",
       "    &lt;style&gt;html, body {width: 100%;height: 100%;margin: 0;padding: 0;}&lt;/style&gt;\n",
       "    &lt;style&gt;#map {position:absolute;top:0;bottom:0;right:0;left:0;}&lt;/style&gt;\n",
       "    &lt;script src=&quot;https://cdn.jsdelivr.net/npm/leaflet@1.6.0/dist/leaflet.js&quot;&gt;&lt;/script&gt;\n",
       "    &lt;script src=&quot;https://code.jquery.com/jquery-1.12.4.min.js&quot;&gt;&lt;/script&gt;\n",
       "    &lt;script src=&quot;https://maxcdn.bootstrapcdn.com/bootstrap/3.2.0/js/bootstrap.min.js&quot;&gt;&lt;/script&gt;\n",
       "    &lt;script src=&quot;https://cdnjs.cloudflare.com/ajax/libs/Leaflet.awesome-markers/2.0.2/leaflet.awesome-markers.js&quot;&gt;&lt;/script&gt;\n",
       "    &lt;link rel=&quot;stylesheet&quot; href=&quot;https://cdn.jsdelivr.net/npm/leaflet@1.6.0/dist/leaflet.css&quot;/&gt;\n",
       "    &lt;link rel=&quot;stylesheet&quot; href=&quot;https://maxcdn.bootstrapcdn.com/bootstrap/3.2.0/css/bootstrap.min.css&quot;/&gt;\n",
       "    &lt;link rel=&quot;stylesheet&quot; href=&quot;https://maxcdn.bootstrapcdn.com/bootstrap/3.2.0/css/bootstrap-theme.min.css&quot;/&gt;\n",
       "    &lt;link rel=&quot;stylesheet&quot; href=&quot;https://maxcdn.bootstrapcdn.com/font-awesome/4.6.3/css/font-awesome.min.css&quot;/&gt;\n",
       "    &lt;link rel=&quot;stylesheet&quot; href=&quot;https://cdnjs.cloudflare.com/ajax/libs/Leaflet.awesome-markers/2.0.2/leaflet.awesome-markers.css&quot;/&gt;\n",
       "    &lt;link rel=&quot;stylesheet&quot; href=&quot;https://cdn.jsdelivr.net/gh/python-visualization/folium/folium/templates/leaflet.awesome.rotate.min.css&quot;/&gt;\n",
       "    \n",
       "            &lt;meta name=&quot;viewport&quot; content=&quot;width=device-width,\n",
       "                initial-scale=1.0, maximum-scale=1.0, user-scalable=no&quot; /&gt;\n",
       "            &lt;style&gt;\n",
       "                #map_6f512a2daeb89720f6afc2f40c5dc4db {\n",
       "                    position: relative;\n",
       "                    width: 100.0%;\n",
       "                    height: 50.0%;\n",
       "                    left: 0.0%;\n",
       "                    top: 0.0%;\n",
       "                }\n",
       "            &lt;/style&gt;\n",
       "        \n",
       "    \n",
       "                    &lt;style&gt;\n",
       "                        .foliumtooltip {\n",
       "                            \n",
       "                        }\n",
       "                       .foliumtooltip table{\n",
       "                            margin: auto;\n",
       "                        }\n",
       "                        .foliumtooltip tr{\n",
       "                            text-align: left;\n",
       "                        }\n",
       "                        .foliumtooltip th{\n",
       "                            padding: 2px; padding-right: 8px;\n",
       "                        }\n",
       "                    &lt;/style&gt;\n",
       "            \n",
       "&lt;/head&gt;\n",
       "&lt;body&gt;\n",
       "    \n",
       "    \n",
       "            &lt;div class=&quot;folium-map&quot; id=&quot;map_6f512a2daeb89720f6afc2f40c5dc4db&quot; &gt;&lt;/div&gt;\n",
       "        \n",
       "&lt;/body&gt;\n",
       "&lt;script&gt;\n",
       "    \n",
       "    \n",
       "            var map_6f512a2daeb89720f6afc2f40c5dc4db = L.map(\n",
       "                &quot;map_6f512a2daeb89720f6afc2f40c5dc4db&quot;,\n",
       "                {\n",
       "                    center: [63.9423759410995, -145.5255969990855],\n",
       "                    crs: L.CRS.EPSG3857,\n",
       "                    zoom: 10,\n",
       "                    zoomControl: true,\n",
       "                    preferCanvas: false,\n",
       "                }\n",
       "            );\n",
       "            L.control.scale().addTo(map_6f512a2daeb89720f6afc2f40c5dc4db);\n",
       "\n",
       "            \n",
       "\n",
       "        \n",
       "    \n",
       "            var tile_layer_44e9e8311dfb82b47e11cfc914bfc262 = L.tileLayer(\n",
       "                &quot;https://services.arcgisonline.com/arcgis/rest/services/World_Imagery/MapServer/tile/{z}/{y}/{x}&quot;,\n",
       "                {&quot;attribution&quot;: &quot; &quot;, &quot;detectRetina&quot;: false, &quot;maxNativeZoom&quot;: 18, &quot;maxZoom&quot;: 18, &quot;minZoom&quot;: 0, &quot;noWrap&quot;: false, &quot;opacity&quot;: 1, &quot;subdomains&quot;: &quot;abc&quot;, &quot;tms&quot;: false}\n",
       "            ).addTo(map_6f512a2daeb89720f6afc2f40c5dc4db);\n",
       "        \n",
       "    \n",
       "            map_6f512a2daeb89720f6afc2f40c5dc4db.fitBounds(\n",
       "                [[63.90305737844873, -145.62257621704572], [63.98169450375027, -145.42861778112533]],\n",
       "                {}\n",
       "            );\n",
       "        \n",
       "    \n",
       "        function geo_json_81e72c0c467beb7bab3da3f7f47fb471_styler(feature) {\n",
       "            switch(feature.id) {\n",
       "                default:\n",
       "                    return {&quot;color&quot;: &quot;red&quot;, &quot;fillColor&quot;: &quot;red&quot;, &quot;fillOpacity&quot;: 0.5, &quot;weight&quot;: 2};\n",
       "            }\n",
       "        }\n",
       "        function geo_json_81e72c0c467beb7bab3da3f7f47fb471_highlighter(feature) {\n",
       "            switch(feature.id) {\n",
       "                default:\n",
       "                    return {&quot;fillOpacity&quot;: 0.75};\n",
       "            }\n",
       "        }\n",
       "        function geo_json_81e72c0c467beb7bab3da3f7f47fb471_pointToLayer(feature, latlng) {\n",
       "            var opts = {&quot;bubblingMouseEvents&quot;: true, &quot;color&quot;: &quot;#3388ff&quot;, &quot;dashArray&quot;: null, &quot;dashOffset&quot;: null, &quot;fill&quot;: true, &quot;fillColor&quot;: &quot;#3388ff&quot;, &quot;fillOpacity&quot;: 0.2, &quot;fillRule&quot;: &quot;evenodd&quot;, &quot;lineCap&quot;: &quot;round&quot;, &quot;lineJoin&quot;: &quot;round&quot;, &quot;opacity&quot;: 1.0, &quot;radius&quot;: 2, &quot;stroke&quot;: true, &quot;weight&quot;: 3};\n",
       "            \n",
       "            let style = geo_json_81e72c0c467beb7bab3da3f7f47fb471_styler(feature)\n",
       "            Object.assign(opts, style)\n",
       "            \n",
       "            return new L.CircleMarker(latlng, opts)\n",
       "        }\n",
       "\n",
       "        function geo_json_81e72c0c467beb7bab3da3f7f47fb471_onEachFeature(feature, layer) {\n",
       "            layer.on({\n",
       "                mouseout: function(e) {\n",
       "                    if(typeof e.target.setStyle === &quot;function&quot;){\n",
       "                        geo_json_81e72c0c467beb7bab3da3f7f47fb471.resetStyle(e.target);\n",
       "                    }\n",
       "                },\n",
       "                mouseover: function(e) {\n",
       "                    if(typeof e.target.setStyle === &quot;function&quot;){\n",
       "                        const highlightStyle = geo_json_81e72c0c467beb7bab3da3f7f47fb471_highlighter(e.target.feature)\n",
       "                        e.target.setStyle(highlightStyle);\n",
       "                    }\n",
       "                },\n",
       "            });\n",
       "        };\n",
       "        var geo_json_81e72c0c467beb7bab3da3f7f47fb471 = L.geoJson(null, {\n",
       "                onEachFeature: geo_json_81e72c0c467beb7bab3da3f7f47fb471_onEachFeature,\n",
       "            \n",
       "                style: geo_json_81e72c0c467beb7bab3da3f7f47fb471_styler,\n",
       "                pointToLayer: geo_json_81e72c0c467beb7bab3da3f7f47fb471_pointToLayer\n",
       "        });\n",
       "\n",
       "        function geo_json_81e72c0c467beb7bab3da3f7f47fb471_add (data) {\n",
       "            geo_json_81e72c0c467beb7bab3da3f7f47fb471\n",
       "                .addData(data)\n",
       "                .addTo(map_6f512a2daeb89720f6afc2f40c5dc4db);\n",
       "        }\n",
       "            geo_json_81e72c0c467beb7bab3da3f7f47fb471_add({&quot;bbox&quot;: [-145.62257621704572, 63.90305737844873, -145.42861778112533, 63.98169450375027], &quot;features&quot;: [{&quot;bbox&quot;: [-145.62257621704572, 63.90305737844873, -145.42861778112533, 63.98169450375027], &quot;geometry&quot;: {&quot;coordinates&quot;: [[[[-145.44134047151613, 63.91700025273815], [-145.44092415776794, 63.91680364117764], [-145.44046453587345, 63.91698172660819], [-145.4400482283869, 63.91678511272812], [-145.43866933021664, 63.91731935734949], [-145.43825303012198, 63.917122738666016], [-145.4377933865698, 63.917300816316335], [-145.4373770927373, 63.9171041953132], [-145.43691744405348, 63.91728227039755], [-145.43650115648327, 63.917085647074835], [-145.43604150266796, 63.917263719592974], [-145.43562522136023, 63.91706709395075], [-145.43470589777004, 63.91742323253051], [-145.43428962329062, 63.9172266033269], [-145.4333702780443, 63.91758273412587], [-145.43295401039373, 63.91738610136088], [-145.43249432979115, 63.91756416353188], [-145.43207806840368, 63.91736752844757], [-145.43161838267037, 63.91754558805228], [-145.43120212754616, 63.9173489506486], [-145.4307424366822, 63.91752700768699], [-145.43032618782135, 63.917330367963885], [-145.429866491827, 63.91750842243611], [-145.42861778112533, 63.91691849307648], [-145.42907747541963, 63.91674044232982], [-145.42999684691853, 63.916384336863], [-145.42958061971132, 63.91618769531371], [-145.43004029634946, 63.916009641835416], [-145.4304999672912, 63.91583158703267], [-145.4300837446473, 63.91563494688948], [-145.43054340932633, 63.91545689200412], [-145.4314627215961, 63.91510077826013], [-145.43104650294916, 63.914904140764705], [-145.43150614997376, 63.9147260831479], [-145.43242542693537, 63.91436996394144], [-145.43200921228572, 63.91417332909363], [-145.43246884165686, 63.913995268745616], [-145.4329284653324, 63.91381720707329], [-145.43251225524625, 63.91362057363134], [-145.43297187266032, 63.913442511876454], [-145.43389109040237, 63.91308638439396], [-145.4334748843139, 63.91288975359942], [-145.43393448407627, 63.91271168911351], [-145.43439407814353, 63.912533623303396], [-145.43397787661868, 63.912336993914614], [-145.4344374644253, 63.91215892802201], [-145.43489704653695, 63.911980860805166], [-145.43448084957575, 63.91178423282197], [-145.43494042542704, 63.91160616552266], [-145.43585956004566, 63.91125002695171], [-145.43544336708268, 63.91105340161556], [-145.43590292528478, 63.91087533158553], [-145.43636247779244, 63.910697260231494], [-145.43594628939323, 63.91050063630087], [-145.4364058356413, 63.910322564864245], [-145.43732491105493, 63.90996641801902], [-145.43690872665437, 63.90976979673529], [-145.43736825525497, 63.909591722568166], [-145.43782777816165, 63.90941364707717], [-145.43741159832493, 63.90921702719864], [-145.4378711149728, 63.909038951625185], [-145.438330625927, 63.90886087472774], [-145.43791445065412, 63.908664256254575], [-145.43837395534982, 63.90848617927465], [-145.43929294766073, 63.908130021343396], [-145.43887677638702, 63.9079334055166], [-145.43933626343772, 63.90775532580654], [-145.4397957447952, 63.907577244772746], [-145.43937957808546, 63.90738063035115], [-145.43983905318524, 63.907202549234846], [-145.44075798630575, 63.90684638303101], [-145.44034182359562, 63.90664977125576], [-145.44080128105216, 63.90647168740953], [-145.44126073281595, 63.90629360223957], [-145.44084457466988, 63.90609699186923], [-145.44130402017674, 63.90591890661688], [-145.44176345999108, 63.90574082004087], [-145.4413473064091, 63.90554421107538], [-145.44180673996684, 63.9053661244169], [-145.44272559000538, 63.9050099471293], [-145.4423094404235, 63.90481334080981], [-145.44276885634048, 63.904635251421745], [-145.44322826656543, 63.904457160710116], [-145.44281212154775, 63.90426055579533], [-145.4441903163796, 63.90372627944286], [-145.44460646308852, 63.903922880634276], [-145.44552523231144, 63.90356668729957], [-145.4459413858391, 63.9037632849311], [-145.44640076247634, 63.90358518503746], [-145.44681692225902, 63.903781780350045], [-145.44727629376777, 63.90360367789185], [-145.44769245980535, 63.90380027088565], [-145.4481518261854, 63.90362216586304], [-145.4485679984778, 63.90381875653781], [-145.44902735972903, 63.903640648950734], [-145.44944353827609, 63.90383723730652], [-145.45036224482868, 63.90348101568034], [-145.45077843019288, 63.90367760047601], [-145.4516971151035, 63.903321371074576], [-145.45211330728435, 63.90351795231004], [-145.4525726417644, 63.90333983438345], [-145.4529888401992, 63.90353641329973], [-145.4534481695497, 63.90335829280885], [-145.45386437423835, 63.9035548694061], [-145.45478301698807, 63.903198621972756], [-145.45519922849235, 63.903395195009615], [-145.4556585418914, 63.90321706806722], [-145.45607475964914, 63.90341363878491], [-145.4569933704953, 63.90305737844873], [-145.45782582533212, 63.903450511685215], [-145.45690721224008, 63.90380677698598], [-145.45644789715615, 63.903984907651946], [-145.45686413142803, 63.90418147637657], [-145.4554861503388, 63.90471586415952], [-145.4550268119245, 63.90489399077444], [-145.4554430496419, 63.90509056338574], [-145.4549837049734, 63.90526868991871], [-145.45452435461237, 63.90544681512852], [-145.45494059689852, 63.90564338914422], [-145.45402187797467, 63.90599963807708], [-145.4535625099736, 63.906177760558606], [-145.4539787562664, 63.90637433722007], [-145.4535193820103, 63.90655245961977], [-145.45306000206122, 63.9067305806963], [-145.45347625292268, 63.906927158762265], [-145.45255747482065, 63.90728339942813], [-145.45209807722975, 63.90746151777614], [-145.45251433209748, 63.907658098488184], [-145.4520549282508, 63.90783621675421], [-145.45159551871063, 63.90801433369697], [-145.45201177814687, 63.90821091581366], [-145.45109294086063, 63.90856714821185], [-145.4506335136769, 63.908745262425946], [-145.451049777119, 63.90894184718891], [-145.4505903436787, 63.90911996132095], [-145.45013090454444, 63.90929807412956], [-145.45054717255496, 63.90949466029744], [-145.44962827607847, 63.90985088442726], [-145.4491688192989, 63.91002899450692], [-145.44958509131487, 63.91022558332124], [-145.4491256282779, 63.910403693318976], [-145.44866615954652, 63.910581801993125], [-145.4490824361308, 63.91077839221241], [-145.448163480458, 63.911134608073176], [-145.44770399407955, 63.91131271401821], [-145.44812027466884, 63.91150930688422], [-145.44766078203227, 63.91168741274717], [-145.44720128370074, 63.91186551728655], [-145.44761756885825, 63.91206211155771], [-145.4466985539831, 63.91241831914863], [-145.4462390380028, 63.91259642095859], [-145.4466553271649, 63.912793017876645], [-145.44619580492565, 63.91297111960454], [-145.44573627699097, 63.91314922000868], [-145.44615257072115, 63.9133458183322], [-145.44523349663768, 63.91370201765259], [-145.44477395105244, 63.91388011532713], [-145.44519024878682, 63.91407671629775], [-145.4447306969419, 63.914254813890125], [-145.44427113940102, 63.91443291015875], [-145.4446874417034, 63.91462951253485], [-145.4437683084055, 63.91498570358402], [-145.44330873321238, 63.915163797122766], [-145.44372503951854, 63.91536040214625], [-145.44326545806484, 63.91553849560291], [-145.4428058709148, 63.915716587735524], [-145.44322218178883, 63.91591319416467], [-145.44230298927053, 63.91626937694186], [-145.4418433844664, 63.91644746634449], [-145.4422596993438, 63.916644075421175], [-145.44134047151613, 63.91700025273815]]], [[[-145.60060905217512, 63.98169450375027], [-145.59893571005034, 63.980909707571], [-145.59939537114087, 63.98073115104929], [-145.59855873334786, 63.98033874894026], [-145.59901838763298, 63.98016019359022], [-145.59776347225747, 63.9795715860257], [-145.59822311919694, 63.97939303309328], [-145.5973865364878, 63.9790006251163], [-145.59784617662214, 63.97882207335545], [-145.5965913438678, 63.97823345698931], [-145.5970509766566, 63.978054907645785], [-145.59495970050486, 63.97707386489665], [-145.59541932486667, 63.976895320462184], [-145.59332818909414, 63.975914256816935], [-145.59378780502826, 63.97573571729103], [-145.59169680962148, 63.974754632751505], [-145.5921564171272, 63.974576098133845], [-145.5904837216396, 63.97379121595789], [-145.59094332125775, 63.97361268500241], [-145.59010700676313, 63.97322023989694], [-145.5905665995765, 63.97304171011227], [-145.58973030688577, 63.97264926315913], [-145.59018989289456, 63.972470734545134], [-145.5889354951447, 63.9718820597168], [-145.5893950738074, 63.971703533519], [-145.58814072592307, 63.97111485266528], [-145.5886002972397, 63.97093632888344], [-145.58776409283772, 63.97054387204879], [-145.5882236573501, 63.97036534943745], [-145.58571517818487, 63.96918796037675], [-145.58525561692434, 63.969366475515805], [-145.58441950404847, 63.96897400132882], [-145.58395993815245, 63.96915251265646], [-145.5835418908369, 63.968956272690995], [-145.58308231976332, 63.969134781452745], [-145.58266427871027, 63.96893853915749], [-145.58220470245936, 63.96911704535323], [-145.58136863859843, 63.96872455501908], [-145.58090905771317, 63.968903057403445], [-145.58049103490538, 63.96870680936462], [-145.58003144884327, 63.968885309182916], [-145.57961343229832, 63.96868905881452], [-145.5791538410595, 63.968867556066755], [-145.57873583077756, 63.96867130336885], [-145.57827623436222, 63.96884979805502], [-145.5778582303434, 63.96865354302751], [-145.5773986287517, 63.96883203514755], [-145.57614465264396, 63.968243259824185], [-145.57568504696349, 63.968421746887486], [-145.5744311239631, 63.9678329580715], [-145.57397151419482, 63.968011440078165], [-145.57188175963424, 63.96703009747846], [-145.5723413666815, 63.96685162169802], [-145.57066966379725, 63.966066533088465], [-145.57112926294803, 63.9658880609677], [-145.56903976028664, 63.96490668204509], [-145.56858016385928, 63.9650851479403], [-145.56649080687512, 63.96410373569874], [-145.56603120745507, 63.964282194047804], [-145.56477766351398, 63.96369332996399], [-145.56431806001243, 63.96387178325685], [-145.56390022401277, 63.96367549181685], [-145.56344061533926, 63.963853942543665], [-145.56218714328244, 63.96326505798748], [-145.5617275305289, 63.96344350365813], [-145.56089191216978, 63.96305090604684], [-145.56043229479107, 63.963229347906406], [-145.5591789117701, 63.96264043962922], [-145.5587192903131, 63.96281887643281], [-145.557048195176, 63.9620336452504], [-145.55750781444672, 63.961855213426325], [-145.55667230008552, 63.96146259382537], [-145.5571319125462, 63.96128416316966], [-145.5558786822375, 63.96069522937853], [-145.55633828734156, 63.96051680113587], [-145.5555028279564, 63.96012417568207], [-145.55596242625066, 63.95994574860759], [-145.55512698863546, 63.95955312131076], [-145.55558658012012, 63.95937469540442], [-145.55433346492404, 63.95878575006993], [-145.55479304905222, 63.958607326576306], [-145.55353998365342, 63.95801837522832], [-145.55399956042515, 63.95783995414716], [-145.55232888438195, 63.95705467549936], [-145.55278845324992, 63.956876258075326], [-145.55153550457985, 63.95628729145204], [-145.55199506609128, 63.956108876440275], [-145.55157742741596, 63.95591255331119], [-145.55203698266573, 63.95573413822251], [-145.55036648291588, 63.954948839855454], [-145.55082603026173, 63.95477042842323], [-145.5483204487633, 63.95359245585477], [-145.5478609047039, 63.95377085982063], [-145.54702575767394, 63.95337819114725], [-145.54656620899743, 63.95355659130297], [-145.54573108591646, 63.95316391581028], [-145.54527153262336, 63.95334231215591], [-145.54443643349134, 63.95294962984428], [-145.54397687558216, 63.95312802237983], [-145.54314180039913, 63.95273533324938], [-145.5426822378744, 63.95291372197484], [-145.542264709401, 63.952717374541606], [-145.54180514171227, 63.952895760701175], [-145.54097010300174, 63.952503060098685], [-145.54051053069833, 63.9526814424482], [-145.5400930204613, 63.95248508927917], [-145.53963344299441, 63.952663469062706], [-145.5392159390194, 63.952467113566925], [-145.53875635638923, 63.95264549078468], [-145.53792136667604, 63.952252774057655], [-145.5374617794323, 63.9524311474652], [-145.53662681366873, 63.9520384239206], [-145.53616722181204, 63.9522167935178], [-145.53533227999804, 63.9518240631559], [-145.53487268352887, 63.95200242894307], [-145.5340377656645, 63.951609691763906], [-145.5335781645834, 63.951788053740856], [-145.5327432706686, 63.95139530974488], [-145.53228366497606, 63.95157366791156], [-145.53144879501087, 63.95118091709904], [-145.5309891847075, 63.95135927145537], [-145.5305717588437, 63.95116289318196], [-145.53011214337906, 63.95134124497223], [-145.52969472377816, 63.951144864372665], [-145.52923510315247, 63.951323213596886], [-145.52881768981456, 63.95112683067121], [-145.52835806402797, 63.95130517732932], [-145.5279406569532, 63.951108792077534], [-145.5274810260059, 63.951287136169384], [-145.52706362519442, 63.95109074859158], [-145.5266039890865, 63.951269090117286], [-145.52576920570218, 63.95087630922792], [-145.52530956498555, 63.951054646943284], [-145.5248921824128, 63.95085825363173], [-145.52443253653612, 63.951036588780866], [-145.52359778962963, 63.95064379642435], [-145.52313813914503, 63.95082212776307], [-145.52272077481138, 63.95062572871812], [-145.5222611191672, 63.950804057490515], [-145.52184376109741, 63.950607656119764], [-145.52138410029383, 63.95078598232592], [-145.52096674848804, 63.95058957862946], [-145.52050708252523, 63.950767902269135], [-145.5200897369835, 63.95057149624701], [-145.5196300658616, 63.95074981732037], [-145.51921272658416, 63.95055340897253], [-145.51875305030333, 63.950731727479535], [-145.51833571729026, 63.95053531680609], [-145.51787603585072, 63.950713632746556], [-145.51829336831094, 63.95091004466406], [-145.51783368060683, 63.95108836052625], [-145.51741634869958, 63.950891947364575], [-145.5169566558368, 63.951070260660345], [-145.51653933019435, 63.950873845173156], [-145.51607963217305, 63.95105215590236], [-145.51524499912958, 63.95065931919542], [-145.51478529650333, 63.95083762611392], [-145.51436798910242, 63.9506412048943], [-145.51390828131818, 63.95081950924628], [-145.51307368475815, 63.9504266610748], [-145.5126139723698, 63.950604961616015], [-145.5105275836877, 63.949622816044496], [-145.5109872933062, 63.94944452172322], [-145.51015277670288, 63.94905165841391], [-145.51061247950216, 63.948873365258], [-145.5097779846336, 63.94848050011165], [-145.51023768061384, 63.94830220812099], [-145.5089859794772, 63.947712906024755], [-145.50944566808425, 63.94753461644304], [-145.50902844523833, 63.94733818149259], [-145.50948812758094, 63.94715989183218], [-145.50823649164028, 63.94657058422555], [-145.50869616660995, 63.94639229697399], [-145.50619304556315, 63.94521366003534], [-145.50665271149603, 63.94503537892361], [-145.5041497926518, 63.94385671053282], [-145.50460944954668, 63.943678435560635], [-145.5029409489374, 63.94289263999078], [-145.50248129426294, 63.943070909988634], [-145.49664226911267, 63.940320471916415], [-145.49710191600752, 63.94014221932733], [-145.49585084020313, 63.93955281591658], [-145.49631047972252, 63.93937456573475], [-145.49422546473474, 63.938392211325], [-145.49468509576585, 63.93821396603692], [-145.49301718426327, 63.937428068035885], [-145.49255755545855, 63.93760630835095], [-145.49088973747786, 63.93682038809267], [-145.49043010519483, 63.936998622112], [-145.4895962315528, 63.936605653015384], [-145.48913659467854, 63.93678388322549], [-145.48830274497328, 63.93639090732195], [-145.48784310350823, 63.93656913372272], [-145.48659237341346, 63.93597965803772], [-145.48613272791593, 63.93615787938598], [-145.48571582985267, 63.935961384087854], [-145.48525617920768, 63.93613960286996], [-145.48442240131266, 63.935746606547546], [-145.48396274607853, 63.93592482152031], [-145.48354586624683, 63.93572832049618], [-145.4830862058658, 63.93590653290278], [-145.48266933229743, 63.93571002955557], [-145.48220966676965, 63.9358882393959], [-145.48179279946478, 63.935691733725825], [-145.4813331287904, 63.935869940999865], [-145.48091626774917, 63.935673433006826], [-145.48045659192834, 63.9358516377146], [-145.4800397371509, 63.93565512739872], [-145.4795800561838, 63.93583332954006], [-145.47874636486154, 63.93544030318303], [-145.47828667930744, 63.93561850151498], [-145.47786984276277, 63.9354219854738], [-145.4774101520629, 63.93560018123927], [-145.4744924598974, 63.93422453002084], [-145.4749521466812, 63.93404634295642], [-145.47411857056892, 63.933653292521186], [-145.47457825052922, 63.93347510661925], [-145.47416147046954, 63.93327858102531], [-145.47462114416615, 63.93310039504286], [-145.47378760003906, 63.93270734310237], [-145.4742472669125, 63.93252915828237], [-145.4738305028448, 63.93233263193575], [-145.47429016345495, 63.93215444703522], [-145.47345665131067, 63.93176139358957], [-145.47391630509793, 63.9315832098513], [-145.47349955702106, 63.931386682752155], [-145.4739592045454, 63.93120849893336], [-145.47312572438156, 63.930815443982404], [-145.47358536508338, 63.93063726132579], [-145.47316863299613, 63.93044073347398], [-145.4736282674354, 63.930262550736856], [-145.47237810371064, 63.92967296443355], [-145.47283773076794, 63.92949478410121], [-145.47200431567748, 63.92910172365429], [-145.47246393591274, 63.92892354448408], [-145.4712138543638, 63.92833394944705], [-145.47167346721722, 63.928155772681386], [-145.47084010690762, 63.92776270641226], [-145.4712997129392, 63.92758453080852], [-145.47004971355702, 63.9269949270385], [-145.47050931220687, 63.92681675383905], [-145.46967600667207, 63.926423681748204], [-145.4701355985004, 63.926245509710455], [-145.4693023146497, 63.925852435788], [-145.4697618996567, 63.925674264912], [-145.46892863748909, 63.92528118915795], [-145.46938821567483, 63.92510301944356], [-145.4689715925818, 63.92490648119027], [-145.46943116450674, 63.924728311394944], [-145.46901454655398, 63.92453177330506], [-145.46947411221828, 63.9243536034289], [-145.4708527750095, 63.92381908586076], [-145.4704361605167, 63.923622551661325], [-145.47089570282017, 63.92344437773452], [-145.47227429553098, 63.92290984801522], [-145.47185768449887, 63.922713317705956], [-145.4723172034432, 63.92253513972891], [-145.47323622423295, 63.92217877980558], [-145.47281961722175, 63.92198225214406], [-145.47327911850786, 63.92180407144007], [-145.4755765394492, 63.920913148075016], [-145.47515993478174, 63.92071662678769], [-145.4756194013136, 63.9205384393881], [-145.47699776671595, 63.92000386925187], [-145.4765811655118, 63.91980735185407], [-145.4770406086897, 63.91962916040511], [-145.47841890403217, 63.91909457812132], [-145.47800230629207, 63.91889806461287], [-145.47846172611762, 63.91871986911485], [-145.47983995140507, 63.918185274684575], [-145.47942335712983, 63.917988765065125], [-145.47988275360467, 63.91781056551846], [-145.481260908842, 63.917275958942476], [-145.48084431803235, 63.91707945321186], [-145.48130369115808, 63.916901249616714], [-145.4822224203169, 63.91654483845872], [-145.4818058335313, 63.916348335374806], [-145.48226518900685, 63.916170129053945], [-145.48364322125005, 63.91563550215657], [-145.4832266379313, 63.91543900296111], [-145.4836859700607, 63.91526079259237], [-145.4850639322673, 63.914726153551705], [-145.48464735241618, 63.914529658244504], [-145.485106661201, 63.91435144382807], [-145.48648455337602, 63.913816792644916], [-145.48606797699327, 63.91362030122576], [-145.48652726243517, 63.913442082761996], [-145.48790508458342, 63.91290741943724], [-145.48748851166982, 63.91271093190585], [-145.4879477737704, 63.91253270939501], [-145.48878092640672, 63.91292568089465], [-145.48832166319303, 63.913103905889145], [-145.48873824749887, 63.91330039126147], [-145.48919751126903, 63.91312216502524], [-145.48961410182747, 63.913318648076164], [-145.48915483750096, 63.91349687555422], [-145.4895714331994, 63.913693358767574], [-145.4891121626201, 63.91387158616534], [-145.4903619822254, 63.914461033053136], [-145.48990270428052, 63.914639262854436], [-145.491152573488, 63.91522870375147], [-145.49069328817745, 63.915406935956426], [-145.49152656168872, 63.91579989364006], [-145.49106726956867, 63.91597812700675], [-145.49231722089738, 63.91656755916043], [-145.49185792141162, 63.91674579493094], [-145.493107922351, 63.91733522109307], [-145.49264861549952, 63.917513459267624], [-145.49306529331915, 63.91770993373754], [-145.4926059802137, 63.917888171832075], [-145.49343935183555, 63.918281120016665], [-145.49298003192, 63.918459359273186], [-145.49339672572248, 63.918655832987874], [-145.49293739955263, 63.918834072164394], [-145.4941875134836, 63.91942349055594], [-145.49372817994748, 63.91960173213681], [-145.49326884071255, 63.91977997239546], [-145.49410227627038, 63.92017291755923], [-145.49364293022467, 63.92035115898024], [-145.49405965599632, 63.92054763118449], [-145.49360030369553, 63.920725872525445], [-145.49443377122495, 63.92111881617889], [-145.49397441211306, 63.921297058682256], [-145.4943911538711, 63.921493530131386], [-145.49393178850383, 63.9216717725546], [-145.4951820463085, 63.92226118414941], [-145.494722673574, 63.92243942897747], [-145.49555620616516, 63.92283236712556], [-145.4960155800111, 63.9226541198127], [-145.49684913651402, 63.92304705115587], [-145.4973085057708, 63.92286880003602], [-145.497725293128, 63.92306526284499], [-145.49818465723996, 63.92288700916054], [-145.49860145085268, 63.92308346964701], [-145.49906080981955, 63.92290521339804], [-145.4998944152561, 63.92329812864586], [-145.5003537696327, 63.9231198685898], [-145.50077058145644, 63.92331632335103], [-145.50122993068751, 63.92313806073049], [-145.5016467487664, 63.92333451316896], [-145.5021060928518, 63.923156247983975], [-145.50252291718573, 63.9233526980998], [-145.50298225612516, 63.92317443035034], [-145.50339908671404, 63.92337087814337], [-145.50385842050747, 63.92319260782953], [-145.50510894814005, 63.92378194099932], [-145.5055682778955, 63.92360366563611], [-145.50598513239495, 63.92380010662282], [-145.50644445700368, 63.92362182869511], [-145.5072781842125, 63.92401470494221], [-145.50773750422812, 63.9238364232077], [-145.50857125534745, 63.924229292647844], [-145.5090305707694, 63.92405100710655], [-145.5102812418657, 63.92464029943507], [-145.5107405532467, 63.9244620088444], [-145.51282512186242, 63.925444134900054], [-145.5132844303072, 63.92526583677465], [-145.5137013616872, 63.92546225750113], [-145.51324205268966, 63.92564055686905], [-145.5136589892184, 63.92583697775734], [-145.5141182987687, 63.92565867714685], [-145.51453524155178, 63.925855095711725], [-145.51407593144887, 63.926033397564915], [-145.51616072812854, 63.927015480390544], [-145.5157014095612, 63.927193787135494], [-145.51736934733412, 63.92797943891129], [-145.5169100208552, 63.9281577493055], [-145.52274851389288, 63.93090741171304], [-145.5232078480967, 63.93072908391864], [-145.52487619649617, 63.93151465785612], [-145.52441686008754, 63.931692990622395], [-145.52733668554103, 63.933067712082924], [-145.5268773395717, 63.93324605222902], [-145.52854593455942, 63.934031588530694], [-145.52808658068253, 63.93420993232788], [-145.52892091130593, 63.93460269647607], [-145.5284615506227, 63.93478104143814], [-145.52971308769702, 63.93537018327855], [-145.52925371965685, 63.93554853064885], [-145.53008810513407, 63.935941288954425], [-145.52962873028733, 63.936119637489874], [-145.5300459310344, 63.93631601626358], [-145.52958654993122, 63.936494364720765], [-145.53083818475847, 63.937083498281915], [-145.53037879629804, 63.93726184914757], [-145.5320477204236, 63.93804735039249], [-145.53250711108464, 63.93786899455323], [-145.53334160848775, 63.93826173619858], [-145.53380099454182, 63.93808337655114], [-145.53421825235344, 63.93827974450763], [-145.53467763325037, 63.93810138229553], [-145.5350948973186, 63.93829774792686], [-145.53555427305818, 63.93811938314984], [-145.53597154338283, 63.93831574645588], [-145.53689027884016, 63.937959010451344], [-145.53730755597036, 63.938155370188625], [-145.53776691568794, 63.93797699896102], [-145.53818419907415, 63.93817335637298], [-145.53864355363388, 63.93799498258077], [-145.539060843276, 63.93819133766727], [-145.53952019267768, 63.93801296131045], [-145.5399374885756, 63.93820931407167], [-145.54039683281914, 63.938030935150216], [-145.5408141349727, 63.9382272855859], [-145.54127347405785, 63.93804890409995], [-145.5416907824669, 63.93824525221012], [-145.54215011639357, 63.93806686815963], [-145.54256743105805, 63.93826321394432], [-145.543026759826, 63.93808482732932], [-145.54344408074573, 63.93828117078837], [-145.54390340435486, 63.938102781608904], [-145.54473806441163, 63.93849546279367], [-145.54519738340966, 63.938317069806295], [-145.54603206739083, 63.93870974417514], [-145.54649138177723, 63.938531347379914], [-145.54690873287632, 63.938727681697515], [-145.54736804210305, 63.93854928233783], [-145.54778539945696, 63.93874561432965], [-145.5482447035238, 63.93856721240569], [-145.54866206713243, 63.93876354207164], [-145.5491213660393, 63.93858513758326], [-145.54953873590244, 63.93878146492334], [-145.54999802964912, 63.93860305787076], [-145.5504154057667, 63.93879938288497], [-145.55087469435304, 63.93862097326803], [-145.5517094648042, 63.939013617562054], [-145.5521687487768, 63.93883520413733], [-145.55300354315122, 63.93922784161439], [-145.55346282250957, 63.93904942438194], [-145.5547150585177, 63.939638368747794], [-145.55517433380746, 63.93945994646402], [-145.5560091874441, 63.93985256814101], [-145.5564684581183, 63.93967414204956], [-145.5568858940444, 63.939870450020535], [-145.5573451595567, 63.93969202136481], [-145.55818004962438, 63.94008463157142], [-145.55863931052025, 63.939906199107966], [-145.55947422451123, 63.94029880249632], [-145.55993348079016, 63.940120366225166], [-145.56035094689327, 63.94031666505166], [-145.56081019800948, 63.94013822621638], [-145.56122767036598, 63.94033452271631], [-145.56168691631927, 63.94015608131702], [-145.5629393692734, 63.94074496058838], [-145.5633986111535, 63.94056651413785], [-145.56381610743304, 63.940762803818814], [-145.5642753441496, 63.94058435480423], [-145.5651103549232, 63.9409769284298], [-145.5655695870206, 63.94079847560762], [-145.56598710151462, 63.94099475955221], [-145.566446328448, 63.94081630416592], [-145.56769890781428, 63.941405145770226], [-145.56815813067178, 63.941226685332644], [-145.57233377174285, 63.94318940783565], [-145.5718745434476, 63.94336788071086], [-145.57312734547008, 63.94395668006892], [-145.57266810983495, 63.944135155355674], [-145.57392096161598, 63.94472394869493], [-145.5734617186409, 63.944902426393234], [-145.57429698062575, 63.94529495235678], [-145.57383773085394, 63.94547343122288], [-145.5759259830336, 63.94645473339053], [-145.57546672483574, 63.946633217156545], [-145.57671974304444, 63.9472219891867], [-145.57626047750674, 63.94740047536469], [-145.5770958504493, 63.94779298712171], [-145.5766365781146, 63.94797147446781], [-145.57747197281725, 63.94836398437855], [-145.57701269368542, 63.94854247289284], [-145.5774303990614, 63.948738727466825], [-145.576971113675, 63.94891721590517], [-145.57822426244587, 63.94950597685766], [-145.57776496971925, 63.949684467708444], [-145.5806891796482, 63.95105821404302], [-145.58114847617216, 63.950879714482326], [-145.582401796315, 63.95146844292122], [-145.58286108875245, 63.95128993830747], [-145.5836966651628, 63.95168241602504], [-145.58415595297103, 63.95150390760263], [-145.58457375028746, 63.951700143591204], [-145.58503303292437, 63.95152163260449], [-145.58628646077705, 63.952110330332665], [-145.58674573932524, 63.951931814292905], [-145.5884170586132, 63.952716724442276], [-145.5888763336127, 63.95253820210503], [-145.5930550371994, 63.95450038913828], [-145.59259575679312, 63.954678923920504], [-145.5959391267693, 63.95624860542875], [-145.59639841149647, 63.95607006068971], [-145.59765227115315, 63.95665866962697], [-145.59811155178434, 63.95648011983426], [-145.59894748787735, 63.956872517879965], [-145.5994067638722, 63.95669396427827], [-145.59982474103103, 63.95689016042936], [-145.60028401184982, 63.95671160426333], [-145.60111998439208, 63.95710399082203], [-145.60157925057365, 63.95692543084704], [-145.60199724595697, 63.95712162125462], [-145.602456506962, 63.9569430587153], [-145.60287450859965, 63.957139246793375], [-145.60333376442796, 63.95696068168984], [-145.60375177231984, 63.957156867438215], [-145.60421102297127, 63.95697829977053], [-145.6046290371172, 63.95717448318945], [-145.60508828259162, 63.95699591295765], [-145.60592432910698, 63.957388274051155], [-145.6063835699424, 63.95720970001045], [-145.61056415085298, 63.959171427930386], [-145.61010490463877, 63.95935001441928], [-145.6113591887669, 63.95993851537042], [-145.61089993522356, 63.960117104274865], [-145.61215426919068, 63.96070559919408], [-145.61169500831815, 63.96088419051413], [-145.61294939212752, 63.96147267940112], [-145.6124901239258, 63.96165127313686], [-145.61332640731132, 63.962043596125085], [-145.6128671323176, 63.96222219103163], [-145.61412159866728, 63.962810671109345], [-145.61366231634426, 63.96298926843187], [-145.61617140020996, 63.96416620675245], [-145.615712108947, 63.96434481022655], [-145.61780316674464, 63.965325568535995], [-145.61734386707948, 63.96550417691706], [-145.61943506517113, 63.96648491431374], [-145.61897575710444, 63.96666352760208], [-145.62064881638398, 63.96744810295903], [-145.6201895004526, 63.96762671990975], [-145.62060777903596, 63.96782286228012], [-145.6201484568484, 63.968001479156946], [-145.62140332531112, 63.968589903489935], [-145.6209439957949, 63.96876852278387], [-145.6213622961871, 63.96896466330214], [-145.62090296041433, 63.969143282522424], [-145.62257621704572, 63.969927838719315], [-145.62211687340812, 63.97010646160239], [-145.62165752404954, 63.970285083166175], [-145.62207585143767, 63.97048122199199], [-145.61931963192356, 63.97155293114376], [-145.61886024197946, 63.97173154471802], [-145.6192785713351, 63.97192769117713], [-145.61698153310553, 63.972820745485485], [-145.61652210829382, 63.97299935238881], [-145.61694044015073, 63.97319550523616], [-145.61418376789112, 63.974267126419086], [-145.61372430248596, 63.97444572533097], [-145.61414263630445, 63.97464188581287], [-145.61138572046983, 63.975713459044506], [-145.61092621446696, 63.97589204996395], [-145.61134455024393, 63.97608821808084], [-145.61088503797984, 63.976266808926205], [-145.61042551999245, 63.97644539845175], [-145.61084386041645, 63.976641567974845], [-145.60808662906894, 63.97771308488552], [-145.607627070478, 63.97789166641733], [-145.60804541285674, 63.97808784357629], [-145.60528793787347, 63.97915931252203], [-145.60482833867474, 63.97933788605922], [-145.60524668300502, 63.97953407085467], [-145.60248896436053, 63.98060549182937], [-145.60202932454968, 63.98078405737093], [-145.6024476708283, 63.98098024980338], [-145.60060905217512, 63.98169450375027]]]], &quot;type&quot;: &quot;MultiPolygon&quot;}, &quot;id&quot;: &quot;590&quot;, &quot;properties&quot;: {&quot;__folium_color&quot;: &quot;red&quot;, &quot;area_ha&quot;: 381733.53, &quot;area_km2&quot;: 3817.3353, &quot;catid&quot;: &quot;10300100A84C9800-chm-dm-10m.tif&quot;, &quot;dn&quot;: 1.0, &quot;file_1&quot;: &quot;WV02_20200707_M1BS_10300100A84C9800-chm-dm-10m.tif&quot;, &quot;file_2&quot;: &quot;LVIS2_ABoVE2017_0706_R1803_063407_lvis_pt_cnt_30m.tif&quot;, &quot;footprint_name&quot;: &quot;WV02_20200707_M1BS_10300100A84C9800-chm-dm-10m.tif&quot;, &quot;lvis_path&quot;: &quot;/explore/nobackup/people/pmontesa/userfs02/data/LVIS/2017/output/metrics/30/LVIS2_ABoVE2017_0706_R1803_063407_lvis_pt_cnt_30m.tif&quot;, &quot;month&quot;: 7, &quot;path_1&quot;: &quot;/explore/nobackup/projects/above/misc/ABoVE_Shrubs/chm/20231014_chm/dm_10m&quot;, &quot;path_2&quot;: &quot;/att/nobackup/pmontesa/userfs02/data/LVIS/2017/output/metrics/30&quot;, &quot;pred_path&quot;: &quot;/explore/nobackup/projects/above/misc/ABoVE_Shrubs/chm/20231014_chm/dm_10m/WV02_20200707_M1BS_10300100A84C9800-chm-dm-10m.tif&quot;, &quot;sensor&quot;: &quot;WV02&quot;, &quot;type&quot;: &quot;cnn-chm-v1&quot;, &quot;year&quot;: 2020}, &quot;type&quot;: &quot;Feature&quot;}], &quot;type&quot;: &quot;FeatureCollection&quot;});\n",
       "\n",
       "        \n",
       "    \n",
       "    geo_json_81e72c0c467beb7bab3da3f7f47fb471.bindTooltip(\n",
       "    function(layer){\n",
       "    let div = L.DomUtil.create(&#x27;div&#x27;);\n",
       "    \n",
       "    let handleObject = feature=&gt;typeof(feature)==&#x27;object&#x27; ? JSON.stringify(feature) : feature;\n",
       "    let fields = [&quot;file_1&quot;, &quot;footprint_name&quot;, &quot;path_1&quot;, &quot;area_km2&quot;, &quot;area_ha&quot;, &quot;type&quot;, &quot;catid&quot;, &quot;sensor&quot;, &quot;year&quot;, &quot;month&quot;, &quot;dn&quot;, &quot;file_2&quot;, &quot;path_2&quot;, &quot;pred_path&quot;, &quot;lvis_path&quot;];\n",
       "    let aliases = [&quot;file_1&quot;, &quot;footprint_name&quot;, &quot;path_1&quot;, &quot;area_km2&quot;, &quot;area_ha&quot;, &quot;type&quot;, &quot;catid&quot;, &quot;sensor&quot;, &quot;year&quot;, &quot;month&quot;, &quot;dn&quot;, &quot;file_2&quot;, &quot;path_2&quot;, &quot;pred_path&quot;, &quot;lvis_path&quot;];\n",
       "    let table = &#x27;&lt;table&gt;&#x27; +\n",
       "        String(\n",
       "        fields.map(\n",
       "        (v,i)=&gt;\n",
       "        `&lt;tr&gt;\n",
       "            &lt;th&gt;${aliases[i]}&lt;/th&gt;\n",
       "            \n",
       "            &lt;td&gt;${handleObject(layer.feature.properties[v])}&lt;/td&gt;\n",
       "        &lt;/tr&gt;`).join(&#x27;&#x27;))\n",
       "    +&#x27;&lt;/table&gt;&#x27;;\n",
       "    div.innerHTML=table;\n",
       "    \n",
       "    return div\n",
       "    }\n",
       "    ,{&quot;className&quot;: &quot;foliumtooltip&quot;, &quot;sticky&quot;: true});\n",
       "                     \n",
       "&lt;/script&gt;\n",
       "&lt;/html&gt;\" style=\"position:absolute;width:100%;height:100%;left:0;top:0;border:none !important;\" allowfullscreen webkitallowfullscreen mozallowfullscreen></iframe></div></div>"
      ],
      "text/plain": [
       "<folium.folium.Map at 0x145cd3f74640>"
      ]
     },
     "execution_count": 23,
     "metadata": {},
     "output_type": "execute_result"
    }
   ],
   "source": [
    "\n",
    "if True:\n",
    "    # Random test\n",
    "    IMG_IDX = random.sample(range(0,len(lvis_path_list)), 1)[0]\n",
    "else:\n",
    "    # Selected test\n",
    "    IMG_IDX = [i for i,x in enumerate(lvis_path_list) if 'R1803_068540' in x][0]\n",
    "\n",
    "print(IMG_IDX)\n",
    "\n",
    "test_gdf = foot_intersect_chm_lvis.iloc[IMG_IDX:IMG_IDX+1].drop(columns=['date'])\n",
    "test_gdf.explore(color='red', tiles=maplib.basemap_xyz_url['esri_imagery'], attr=' ', height='50%')"
   ]
  },
  {
   "cell_type": "code",
   "execution_count": 24,
   "id": "721188cc-b3eb-45bd-b5f1-e592ccb9a1d9",
   "metadata": {},
   "outputs": [
    {
     "data": {
      "text/plain": [
       "<module 'notebooks.predlib' from '/home/pmontesa/code/above-shrubs/notebooks/predlib.py'>"
      ]
     },
     "execution_count": 24,
     "metadata": {},
     "output_type": "execute_result"
    }
   ],
   "source": [
    "import importlib\n",
    "importlib.reload(notebooks.predlib)"
   ]
  },
  {
   "cell_type": "markdown",
   "id": "e8763239-8e9f-485e-bc64-ce99d60055df",
   "metadata": {},
   "source": [
    "### Plots for that single random validation site"
   ]
  },
  {
   "cell_type": "code",
   "execution_count": 25,
   "id": "4e37e66f-6df9-4ba3-b76f-57e78ca7542d",
   "metadata": {},
   "outputs": [
    {
     "name": "stdout",
     "output_type": "stream",
     "text": [
      "Calculating slope from DEM...\n",
      "WV02_20200707_M1BS_10300100A84C9800-chm-dm-10m.tif\n",
      "LVIS2_ABoVE2017_0706_R1803_063407_RH075_mean_30m.tif\n",
      "LVIS2_ABoVE2017_0706_R1803_063407_CC_gte_01p37m_30m.tif\n",
      "LVIS2_ABoVE2017_0706_R1803_063407_ZG_mean_30m.tif\n",
      "LVIS2_ABoVE2017_0706_R1803_063407_lvis_pt_cnt_30m.tif\n",
      "Length of warp ma list: 5\n",
      "Warped ma min, max: 0, 176\n",
      "Warped ma min, max: 0.21250000596046448, 16.253889083862305\n",
      "Warped ma min, max: 0, 65535\n",
      "Warped ma min, max: 0.010653435252606869, 12.176215171813965\n",
      "Warped ma min, max: 1, 24\n",
      "Warped ma masked min, max: 0, 147\n",
      "Warped ma masked min, max: 0.21250000596046448, 16.253889083862305\n",
      "Warped ma masked min, max: 0, 8704\n",
      "Warped ma masked min, max: 0.010653435252606869, 12.176215171813965\n",
      "Warped ma masked min, max: 1, 24\n"
     ]
    }
   ],
   "source": [
    "df_test = notebooks.predlib.validate_chm_pred(pred_path_list[IMG_IDX], lvis_path_list[IMG_IDX], 'RH075', scale_factor=1, RETURN_DF=True, DST_NDV=None, DEBUG=True)"
   ]
  },
  {
   "cell_type": "markdown",
   "id": "223df528-cd08-4553-8ab9-481916611f3f",
   "metadata": {},
   "source": [
    "### Make plots for a random number of validation sites"
   ]
  },
  {
   "cell_type": "code",
   "execution_count": 167,
   "id": "8192b26d-a4df-47dc-8552-312c9c8836a0",
   "metadata": {},
   "outputs": [],
   "source": [
    "if False:\n",
    "    for IMG_IDX in random.sample(range(0,len(lvis_path_list)), 1):\n",
    "        print(IMG_IDX)\n",
    "        #lvis_pred_SUBSET.iloc[IMG_IDX:IMG_IDX+1].explore()\n",
    "        notebooks.predlib.validate_chm_pred(pred_path_list[IMG_IDX], lvis_path_list[IMG_IDX], scale_factor=1, RETURN_DF=False)"
   ]
  },
  {
   "cell_type": "markdown",
   "id": "09f3f92e-f023-477b-8965-ce4fc237f156",
   "metadata": {
    "tags": []
   },
   "source": [
    "### Make plots for a specific SRlite fid"
   ]
  },
  {
   "cell_type": "code",
   "execution_count": 265,
   "id": "acf040d4-495e-4913-809e-95ef2f4b4e4c",
   "metadata": {},
   "outputs": [
    {
     "name": "stdout",
     "output_type": "stream",
     "text": [
      "/explore/nobackup/projects/above/misc/ABoVE_Shrubs/chm/20231014_chm/dm_10m/WV02_20160724_M1BS_103001005908BE00-chm-dm-10m.tif\n",
      "/explore/nobackup/projects/above/misc/ABoVE_Shrubs/chm/20231014_chm/dm_10m/WV02_20160724_M1BS_103001005908BE00-chm-dm-10m.tif\n",
      "/explore/nobackup/projects/above/misc/ABoVE_Shrubs/chm/20231014_chm/dm_10m/WV02_20160724_M1BS_103001005908BE00-chm-dm-10m.tif\n",
      "/explore/nobackup/projects/above/misc/ABoVE_Shrubs/chm/20231014_chm/dm_10m/WV02_20160724_M1BS_103001005908BE00-chm-dm-10m.tif\n",
      "/explore/nobackup/projects/above/misc/ABoVE_Shrubs/chm/20231014_chm/dm_10m/WV02_20160724_M1BS_103001005908BE00-chm-dm-10m.tif\n",
      "/explore/nobackup/projects/above/misc/ABoVE_Shrubs/chm/20231014_chm/dm_10m/WV02_20160724_M1BS_103001005908BE00-chm-dm-10m.tif\n",
      "/explore/nobackup/projects/above/misc/ABoVE_Shrubs/chm/20231014_chm/dm_10m/WV02_20160724_M1BS_103001005908BE00-chm-dm-10m.tif\n",
      "/explore/nobackup/projects/above/misc/ABoVE_Shrubs/chm/20231014_chm/dm_10m/WV02_20160724_M1BS_103001005908BE00-chm-dm-10m.tif\n",
      "/explore/nobackup/projects/above/misc/ABoVE_Shrubs/chm/20231014_chm/dm_10m/WV02_20160724_M1BS_103001005908BE00-chm-dm-10m.tif\n",
      "/explore/nobackup/projects/above/misc/ABoVE_Shrubs/chm/20231014_chm/dm_10m/WV02_20160724_M1BS_103001005908BE00-chm-dm-10m.tif\n",
      "/explore/nobackup/projects/above/misc/ABoVE_Shrubs/chm/20231014_chm/dm_10m/WV02_20160724_M1BS_103001005908BE00-chm-dm-10m.tif\n",
      "/explore/nobackup/projects/above/misc/ABoVE_Shrubs/chm/20231014_chm/dm_10m/WV02_20160724_M1BS_103001005908BE00-chm-dm-10m.tif\n",
      "/explore/nobackup/projects/above/misc/ABoVE_Shrubs/chm/20231014_chm/dm_10m/WV02_20160724_M1BS_103001005908BE00-chm-dm-10m.tif\n",
      "/explore/nobackup/projects/above/misc/ABoVE_Shrubs/chm/20231014_chm/dm_10m/WV02_20160724_M1BS_103001005908BE00-chm-dm-10m.tif\n",
      "/explore/nobackup/projects/above/misc/ABoVE_Shrubs/chm/20231014_chm/dm_10m/WV02_20160724_M1BS_103001005908BE00-chm-dm-10m.tif\n",
      "/explore/nobackup/projects/above/misc/ABoVE_Shrubs/chm/20231014_chm/dm_10m/WV02_20160724_M1BS_103001005908BE00-chm-dm-10m.tif\n",
      "/explore/nobackup/projects/above/misc/ABoVE_Shrubs/chm/20231014_chm/dm_10m/WV02_20160724_M1BS_103001005908BE00-chm-dm-10m.tif\n",
      "/explore/nobackup/projects/above/misc/ABoVE_Shrubs/chm/20231014_chm/dm_10m/WV02_20160724_M1BS_103001005908BE00-chm-dm-10m.tif\n"
     ]
    }
   ],
   "source": [
    "if True:\n",
    "    df_list = []\n",
    "    #dir_chm_test = '/explore/nobackup/projects/ilab/projects/ABoVE-Shrubs/products/test'\n",
    "    #fid = 'WV02_20130721_M1BS_10300100254C6E00'\n",
    "    catid = '103001005908BE00'\n",
    "\n",
    "    # fn = f'{fid}/{fid}-sr-02m.cnn-chm-v1-local.tif'\n",
    "    # pred_path_specific = os.path.join(dir_chm, fn)\n",
    "\n",
    "    # Get index in list\n",
    "    INDICES = [i for i, s in enumerate(pred_path_list) if catid in s]\n",
    "\n",
    "    for IMG_IDX in INDICES:\n",
    "        print(pred_path_list[IMG_IDX])\n",
    "\n",
    "        # Orig pred\n",
    "        df = notebooks.predlib.validate_chm_pred(pred_path_list[IMG_IDX], lvis_path_list[IMG_IDX], 'RH050',scale_factor=1, RETURN_DF=True)\n",
    "        ## New pred\n",
    "        #notebooks.predlib.validate_chm_pred(pred_path_specific, lvis_path_list[IMG_IDX], scale_factor=0.1, RETURN_DF=False)\n",
    "        df_list.append(df)"
   ]
  },
  {
   "cell_type": "code",
   "execution_count": 266,
   "id": "78f1b294-b1d6-4b7f-9f5a-2c131d462ca1",
   "metadata": {},
   "outputs": [
    {
     "data": {
      "text/plain": [
       "(1931293, 5)"
      ]
     },
     "execution_count": 266,
     "metadata": {},
     "output_type": "execute_result"
    }
   ],
   "source": [
    "df_rh050 = pd.concat(df_list)\n",
    "df_rh050.shape"
   ]
  },
  {
   "cell_type": "code",
   "execution_count": 258,
   "id": "714de2c8-6209-464b-950b-a8c41bf728b2",
   "metadata": {},
   "outputs": [
    {
     "data": {
      "text/plain": [
       "(1931121, 5)"
      ]
     },
     "execution_count": 258,
     "metadata": {},
     "output_type": "execute_result"
    }
   ],
   "source": [
    "#df_rh075 = pd.concat(df_list)\n",
    "df_rh075.shape"
   ]
  },
  {
   "cell_type": "code",
   "execution_count": 261,
   "id": "edda791b-1255-46bf-94e8-ea6261d539cc",
   "metadata": {},
   "outputs": [
    {
     "data": {
      "text/plain": [
       "(1931293, 5)"
      ]
     },
     "execution_count": 261,
     "metadata": {},
     "output_type": "execute_result"
    }
   ],
   "source": [
    "df_rh098 = pd.concat(df_list)\n",
    "df_rh098.shape"
   ]
  },
  {
   "cell_type": "code",
   "execution_count": 267,
   "id": "37858591-84bd-4c19-b3b4-44f7b647e09d",
   "metadata": {},
   "outputs": [
    {
     "data": {
      "text/html": [
       "<div>\n",
       "<style scoped>\n",
       "    .dataframe tbody tr th:only-of-type {\n",
       "        vertical-align: middle;\n",
       "    }\n",
       "\n",
       "    .dataframe tbody tr th {\n",
       "        vertical-align: top;\n",
       "    }\n",
       "\n",
       "    .dataframe thead th {\n",
       "        text-align: right;\n",
       "    }\n",
       "</style>\n",
       "<table border=\"1\" class=\"dataframe\">\n",
       "  <thead>\n",
       "    <tr style=\"text-align: right;\">\n",
       "      <th></th>\n",
       "      <th>ht_m_src</th>\n",
       "      <th>ht_m_ref</th>\n",
       "      <th>tcc_ref</th>\n",
       "      <th>slope_ref</th>\n",
       "      <th>cnt_ref</th>\n",
       "    </tr>\n",
       "  </thead>\n",
       "  <tbody>\n",
       "    <tr>\n",
       "      <th>0</th>\n",
       "      <td>0.0</td>\n",
       "      <td>-0.195</td>\n",
       "      <td>3.0</td>\n",
       "      <td>0.009860</td>\n",
       "      <td>4.0</td>\n",
       "    </tr>\n",
       "    <tr>\n",
       "      <th>1</th>\n",
       "      <td>0.0</td>\n",
       "      <td>-0.195</td>\n",
       "      <td>3.0</td>\n",
       "      <td>0.009860</td>\n",
       "      <td>4.0</td>\n",
       "    </tr>\n",
       "    <tr>\n",
       "      <th>2</th>\n",
       "      <td>1.0</td>\n",
       "      <td>-0.260</td>\n",
       "      <td>0.0</td>\n",
       "      <td>0.004058</td>\n",
       "      <td>1.0</td>\n",
       "    </tr>\n",
       "    <tr>\n",
       "      <th>3</th>\n",
       "      <td>0.0</td>\n",
       "      <td>-0.195</td>\n",
       "      <td>3.0</td>\n",
       "      <td>0.009860</td>\n",
       "      <td>4.0</td>\n",
       "    </tr>\n",
       "    <tr>\n",
       "      <th>4</th>\n",
       "      <td>0.0</td>\n",
       "      <td>-0.195</td>\n",
       "      <td>3.0</td>\n",
       "      <td>0.009860</td>\n",
       "      <td>4.0</td>\n",
       "    </tr>\n",
       "    <tr>\n",
       "      <th>...</th>\n",
       "      <td>...</td>\n",
       "      <td>...</td>\n",
       "      <td>...</td>\n",
       "      <td>...</td>\n",
       "      <td>...</td>\n",
       "    </tr>\n",
       "    <tr>\n",
       "      <th>40</th>\n",
       "      <td>0.0</td>\n",
       "      <td>-0.208</td>\n",
       "      <td>9.0</td>\n",
       "      <td>0.204431</td>\n",
       "      <td>5.0</td>\n",
       "    </tr>\n",
       "    <tr>\n",
       "      <th>41</th>\n",
       "      <td>0.0</td>\n",
       "      <td>-0.208</td>\n",
       "      <td>9.0</td>\n",
       "      <td>0.204431</td>\n",
       "      <td>5.0</td>\n",
       "    </tr>\n",
       "    <tr>\n",
       "      <th>42</th>\n",
       "      <td>0.0</td>\n",
       "      <td>-0.208</td>\n",
       "      <td>9.0</td>\n",
       "      <td>0.204431</td>\n",
       "      <td>5.0</td>\n",
       "    </tr>\n",
       "    <tr>\n",
       "      <th>43</th>\n",
       "      <td>0.0</td>\n",
       "      <td>-0.208</td>\n",
       "      <td>9.0</td>\n",
       "      <td>0.204431</td>\n",
       "      <td>5.0</td>\n",
       "    </tr>\n",
       "    <tr>\n",
       "      <th>44</th>\n",
       "      <td>0.0</td>\n",
       "      <td>-0.208</td>\n",
       "      <td>9.0</td>\n",
       "      <td>0.204431</td>\n",
       "      <td>5.0</td>\n",
       "    </tr>\n",
       "  </tbody>\n",
       "</table>\n",
       "<p>1931293 rows × 5 columns</p>\n",
       "</div>"
      ],
      "text/plain": [
       "    ht_m_src  ht_m_ref  tcc_ref  slope_ref  cnt_ref\n",
       "0        0.0    -0.195      3.0   0.009860      4.0\n",
       "1        0.0    -0.195      3.0   0.009860      4.0\n",
       "2        1.0    -0.260      0.0   0.004058      1.0\n",
       "3        0.0    -0.195      3.0   0.009860      4.0\n",
       "4        0.0    -0.195      3.0   0.009860      4.0\n",
       "..       ...       ...      ...        ...      ...\n",
       "40       0.0    -0.208      9.0   0.204431      5.0\n",
       "41       0.0    -0.208      9.0   0.204431      5.0\n",
       "42       0.0    -0.208      9.0   0.204431      5.0\n",
       "43       0.0    -0.208      9.0   0.204431      5.0\n",
       "44       0.0    -0.208      9.0   0.204431      5.0\n",
       "\n",
       "[1931293 rows x 5 columns]"
      ]
     },
     "execution_count": 267,
     "metadata": {},
     "output_type": "execute_result"
    }
   ],
   "source": [
    "df_rh050"
   ]
  },
  {
   "cell_type": "markdown",
   "id": "c17ab53a-3b8f-447b-a08a-ce09dd769740",
   "metadata": {},
   "source": [
    "# Build validation table"
   ]
  },
  {
   "cell_type": "code",
   "execution_count": 27,
   "id": "4aa76c92-35eb-496f-92e1-711e98b6f62c",
   "metadata": {},
   "outputs": [
    {
     "data": {
      "text/plain": [
       "'/explore/nobackup/people/pmontesa/userfs02/data/LVIS/2019/output/metrics/30/LVISF2_ABoVE2019_0723_R2003_066782_RH098_mean_30m.tif'"
      ]
     },
     "execution_count": 27,
     "metadata": {},
     "output_type": "execute_result"
    }
   ],
   "source": [
    "lvis_path_list[0]"
   ]
  },
  {
   "cell_type": "code",
   "execution_count": 28,
   "id": "feb2f7b0-f77f-4073-8a4a-2c8f3125d497",
   "metadata": {},
   "outputs": [
    {
     "data": {
      "text/plain": [
       "'/explore/nobackup/projects/above/misc/ABoVE_Shrubs/chm/20231014_chm/dm_10m/validate'"
      ]
     },
     "execution_count": 28,
     "metadata": {},
     "output_type": "execute_result"
    }
   ],
   "source": [
    "TEST = True\n",
    "dir_validate_main"
   ]
  },
  {
   "cell_type": "markdown",
   "id": "bd4ebe5b-adbf-465d-a0c8-b6600278b039",
   "metadata": {},
   "source": [
    "## Validation subdir - RH specific"
   ]
  },
  {
   "cell_type": "markdown",
   "id": "3a4d8820-1e88-43f7-bf1b-62370db6b38b",
   "metadata": {},
   "source": [
    "### Change the LVIS RH metric for validation"
   ]
  },
  {
   "cell_type": "code",
   "execution_count": 29,
   "id": "995045a2-67fa-409d-80d2-ef64ea7d5d12",
   "metadata": {},
   "outputs": [
    {
     "data": {
      "text/plain": [
       "'/explore/nobackup/people/pmontesa/userfs02/data/LVIS/2019/output/metrics/30/LVISF2_ABoVE2019_0723_R2003_066782_RH075_mean_30m.tif'"
      ]
     },
     "execution_count": 29,
     "metadata": {},
     "output_type": "execute_result"
    }
   ],
   "source": [
    "SELECT_LVIS_RH = 'RH075'\n",
    "lvis_path_list_SELECT = [p.replace('RH098', SELECT_LVIS_RH) for p in lvis_path_list]\n",
    "lvis_path_list_SELECT[0]"
   ]
  },
  {
   "cell_type": "code",
   "execution_count": 54,
   "id": "fdf6f732-c7a2-4a1d-a0cb-550731309dc2",
   "metadata": {},
   "outputs": [],
   "source": [
    "SELECTED_LVIS_RH_LIST = ['RH050','RH075','RH098']\n",
    "SELECTED_LVIS_RH_LIST = ['RH080','RH085','RH090']\n",
    "\n",
    "\n",
    "#RH_string_list = SELECTED_LVIS_RH_LIST\n",
    "# for RH_string in RH_string_list:\n",
    "\n",
    "#     # Set the path of the specific reference RH metric tif\n",
    "#     list_of_ref_fn_SELECT = [p.replace('RH098', RH_string) for p in lvis_path_list]\n",
    "#     print(list_of_ref_fn_SELECT[0:2])"
   ]
  },
  {
   "cell_type": "code",
   "execution_count": 55,
   "id": "8da5c3cd-72ee-410e-8b6e-ab15d0e8ef1a",
   "metadata": {},
   "outputs": [
    {
     "data": {
      "text/plain": [
       "'/explore/nobackup/projects/above/misc/ABoVE_Shrubs/chm/20231014_chm/dm_10m/validate/LVISRH080_RH085_RH090'"
      ]
     },
     "execution_count": 55,
     "metadata": {},
     "output_type": "execute_result"
    }
   ],
   "source": [
    "# Output dir for prediction csv files\n",
    "##dir_pred_csv = os.path.join(dir_main, f'validate_{OUT_SUBDIR}_LVIS{SELECT_LVIS_RH}')\n",
    "dir_val_csv = os.path.join(dir_validate_main, 'LVIS'+'_'.join(SELECTED_LVIS_RH_LIST))\n",
    "!mkdir -p $dir_val_csv\n",
    "dir_val_csv"
   ]
  },
  {
   "cell_type": "code",
   "execution_count": 56,
   "id": "56450ab3-eba5-4205-ad56-6ef03764d99c",
   "metadata": {},
   "outputs": [
    {
     "data": {
      "text/plain": [
       "2968"
      ]
     },
     "execution_count": 56,
     "metadata": {},
     "output_type": "execute_result"
    }
   ],
   "source": [
    "INDEX_LIST_TEST = random.sample( list(range(0,len(lvis_path_list_SELECT))) , 1)\n",
    "INDEX_LIST = list(range(0,len(lvis_path_list_SELECT)))\n",
    "len(INDEX_LIST)"
   ]
  },
  {
   "cell_type": "code",
   "execution_count": 57,
   "id": "bb3236c0-a2d7-44d6-bcb0-1dc3b4ad3d67",
   "metadata": {},
   "outputs": [
    {
     "data": {
      "text/plain": [
       "<module 'notebooks.predlib' from '/home/pmontesa/code/above-shrubs/notebooks/predlib.py'>"
      ]
     },
     "execution_count": 57,
     "metadata": {},
     "output_type": "execute_result"
    }
   ],
   "source": [
    "import importlib\n",
    "importlib.reload(footprintlib)\n",
    "importlib.reload(notebooks.predlib)"
   ]
  },
  {
   "cell_type": "code",
   "execution_count": 58,
   "id": "efaf636c-c154-4ebf-8026-32f5cf163c91",
   "metadata": {},
   "outputs": [
    {
     "name": "stdout",
     "output_type": "stream",
     "text": [
      "Run 773\n",
      "Calculating slope from DEM...\n",
      "WV02_20190710_M1BS_103001009458FD00-chm-dm-10m.tif\n",
      "LVISF2_ABoVE2019_0728_R2003_060056_RH080_mean_30m.tif\n",
      "LVISF2_ABoVE2019_0728_R2003_060056_CC_gte_01p37m_30m.tif\n",
      "LVISF2_ABoVE2019_0728_R2003_060056_ZG_mean_30m.tif\n",
      "LVISF2_ABoVE2019_0728_R2003_060056_lvis_pt_cnt_30m.tif\n",
      "Length of warp ma list: 5\n",
      "Warped ma min, max: 0, 26\n",
      "Warped ma min, max: -0.1899999976158142, 7.420000076293945\n",
      "Warped ma min, max: 0, 9498\n",
      "Warped ma min, max: 0.0005112867802381516, 11.554107666015625\n",
      "Warped ma min, max: 1, 9\n",
      "Warped ma masked min, max: 0.0, 0.7000000000000001\n",
      "Warped ma masked min, max: -0.0033333334140479565, 0.5950000286102295\n",
      "Warped ma masked min, max: 31, 810\n",
      "Warped ma masked min, max: 0.005159394815564156, 10.336183547973633\n",
      "Warped ma masked min, max: 1, 9\n",
      "Calculating slope from DEM...\n",
      "WV02_20190710_M1BS_103001009458FD00-chm-dm-10m.tif\n",
      "LVISF2_ABoVE2019_0728_R2003_060056_RH085_mean_30m.tif\n",
      "LVISF2_ABoVE2019_0728_R2003_060056_CC_gte_01p37m_30m.tif\n",
      "LVISF2_ABoVE2019_0728_R2003_060056_ZG_mean_30m.tif\n",
      "LVISF2_ABoVE2019_0728_R2003_060056_lvis_pt_cnt_30m.tif\n",
      "Length of warp ma list: 5\n",
      "Warped ma min, max: 0, 26\n",
      "Warped ma min, max: -0.03999999910593033, 7.570000171661377\n",
      "Warped ma min, max: 0, 9498\n",
      "Warped ma min, max: 0.0005112867802381516, 11.554107666015625\n",
      "Warped ma min, max: 1, 9\n",
      "Warped ma masked min, max: 0.0, 0.7000000000000001\n",
      "Warped ma masked min, max: 0.09666666388511658, 0.8199999928474426\n",
      "Warped ma masked min, max: 31, 810\n",
      "Warped ma masked min, max: 0.005159394815564156, 10.336183547973633\n",
      "Warped ma masked min, max: 1, 9\n",
      "Cols: Index(['ht_m_src', 'ht_m_ref', 'tcc_ref', 'slope_ref', 'cnt_ref'], dtype='object')\n",
      "Cols: Index(['ht_m_ref', 'slope_ref', 'cnt_ref'], dtype='object')\n",
      "Calculating slope from DEM...\n",
      "WV02_20190710_M1BS_103001009458FD00-chm-dm-10m.tif\n",
      "LVISF2_ABoVE2019_0728_R2003_060056_RH090_mean_30m.tif\n",
      "LVISF2_ABoVE2019_0728_R2003_060056_CC_gte_01p37m_30m.tif\n",
      "LVISF2_ABoVE2019_0728_R2003_060056_ZG_mean_30m.tif\n",
      "LVISF2_ABoVE2019_0728_R2003_060056_lvis_pt_cnt_30m.tif\n",
      "Length of warp ma list: 5\n",
      "Warped ma min, max: 0, 26\n",
      "Warped ma min, max: 0.10999999940395355, 7.71999979019165\n",
      "Warped ma min, max: 0, 9498\n",
      "Warped ma min, max: 0.0005112867802381516, 11.554107666015625\n",
      "Warped ma min, max: 1, 9\n",
      "Warped ma masked min, max: 0.0, 0.7000000000000001\n",
      "Warped ma masked min, max: 0.2199999988079071, 0.9700000286102295\n",
      "Warped ma masked min, max: 31, 810\n",
      "Warped ma masked min, max: 0.005159394815564156, 10.336183547973633\n",
      "Warped ma masked min, max: 1, 9\n",
      "Cols: Index(['ht_m_src', 'ht_m_ref', 'tcc_ref', 'slope_ref', 'cnt_ref'], dtype='object')\n",
      "Cols: Index(['ht_m_ref', 'slope_ref', 'cnt_ref'], dtype='object')\n",
      "WV02_20190710_M1BS_103001009458FD00-chm-dm-10m.tif\n",
      "Head before attributes:    ht_m_src  ht_m_ref_RH080  ht_m_ref_RH085  ht_m_ref_RH090  tcc_ref  \\\n",
      "0       0.0           0.055           0.205            0.28     39.0   \n",
      "1       0.0           0.055           0.205            0.28     39.0   \n",
      "2       0.0           0.055           0.205            0.28     39.0   \n",
      "3       0.0           0.055           0.205            0.28     39.0   \n",
      "4       0.0           0.055           0.205            0.28     39.0   \n",
      "\n",
      "   slope_ref  cnt_ref tcc_class  \\\n",
      "0   1.287761      2.0     0-20%   \n",
      "1   1.287761      2.0     0-20%   \n",
      "2   1.287761      2.0     0-20%   \n",
      "3   1.287761      2.0     0-20%   \n",
      "4   1.287761      2.0     0-20%   \n",
      "\n",
      "                                                file       date  \n",
      "0  WV02_20190710_M1BS_103001009458FD00-chm-dm-10m... 2019-07-10  \n",
      "1  WV02_20190710_M1BS_103001009458FD00-chm-dm-10m... 2019-07-10  \n",
      "2  WV02_20190710_M1BS_103001009458FD00-chm-dm-10m... 2019-07-10  \n",
      "3  WV02_20190710_M1BS_103001009458FD00-chm-dm-10m... 2019-07-10  \n",
      "4  WV02_20190710_M1BS_103001009458FD00-chm-dm-10m... 2019-07-10  \n",
      "Not writing table during debug,\n",
      "Showing head after attributes built:    ht_m_src  ht_m_ref_RH080  ht_m_ref_RH085  ht_m_ref_RH090  tcc_ref  \\\n",
      "0       0.0           0.055           0.205            0.28     39.0   \n",
      "1       0.0           0.055           0.205            0.28     39.0   \n",
      "2       0.0           0.055           0.205            0.28     39.0   \n",
      "3       0.0           0.055           0.205            0.28     39.0   \n",
      "4       0.0           0.055           0.205            0.28     39.0   \n",
      "\n",
      "   slope_ref  cnt_ref tcc_class  \\\n",
      "0   1.287761      2.0     0-20%   \n",
      "1   1.287761      2.0     0-20%   \n",
      "2   1.287761      2.0     0-20%   \n",
      "3   1.287761      2.0     0-20%   \n",
      "4   1.287761      2.0     0-20%   \n",
      "\n",
      "                                                file       date      type  \\\n",
      "0  WV02_20190710_M1BS_103001009458FD00-chm-dm-10m... 2019-07-10  CHM pred   \n",
      "1  WV02_20190710_M1BS_103001009458FD00-chm-dm-10m... 2019-07-10  CHM pred   \n",
      "2  WV02_20190710_M1BS_103001009458FD00-chm-dm-10m... 2019-07-10  CHM pred   \n",
      "3  WV02_20190710_M1BS_103001009458FD00-chm-dm-10m... 2019-07-10  CHM pred   \n",
      "4  WV02_20190710_M1BS_103001009458FD00-chm-dm-10m... 2019-07-10  CHM pred   \n",
      "\n",
      "                                      footprint_name  \\\n",
      "0  WV02_20190710_M1BS_103001009458FD00-chm-dm-10m...   \n",
      "1  WV02_20190710_M1BS_103001009458FD00-chm-dm-10m...   \n",
      "2  WV02_20190710_M1BS_103001009458FD00-chm-dm-10m...   \n",
      "3  WV02_20190710_M1BS_103001009458FD00-chm-dm-10m...   \n",
      "4  WV02_20190710_M1BS_103001009458FD00-chm-dm-10m...   \n",
      "\n",
      "                             catid sensor  year  month  \n",
      "0  103001009458FD00-chm-dm-10m.tif   WV02  2019      7  \n",
      "1  103001009458FD00-chm-dm-10m.tif   WV02  2019      7  \n",
      "2  103001009458FD00-chm-dm-10m.tif   WV02  2019      7  \n",
      "3  103001009458FD00-chm-dm-10m.tif   WV02  2019      7  \n",
      "4  103001009458FD00-chm-dm-10m.tif   WV02  2019      7  \n"
     ]
    }
   ],
   "source": [
    "if TEST:\n",
    "    DF_VAL_LIST = []\n",
    "\n",
    "    for IMG_IDX in INDEX_LIST_TEST:\n",
    "        # Writes a csv\n",
    "        df_test = notebooks.predlib.do_validation_df(IMG_IDX, pred_path_list, lvis_path_list, SELECTED_LVIS_RH_LIST, out_csv_dir=dir_val_csv, DEBUG=True, RETURN_DF=True)\n"
   ]
  },
  {
   "cell_type": "code",
   "execution_count": 59,
   "id": "8659124c-c6ac-40d5-8dfb-003d57bf6f8e",
   "metadata": {},
   "outputs": [
    {
     "data": {
      "text/html": [
       "<div>\n",
       "<style scoped>\n",
       "    .dataframe tbody tr th:only-of-type {\n",
       "        vertical-align: middle;\n",
       "    }\n",
       "\n",
       "    .dataframe tbody tr th {\n",
       "        vertical-align: top;\n",
       "    }\n",
       "\n",
       "    .dataframe thead th {\n",
       "        text-align: right;\n",
       "    }\n",
       "</style>\n",
       "<table border=\"1\" class=\"dataframe\">\n",
       "  <thead>\n",
       "    <tr style=\"text-align: right;\">\n",
       "      <th></th>\n",
       "      <th>ht_m_src</th>\n",
       "      <th>ht_m_ref_RH080</th>\n",
       "      <th>ht_m_ref_RH085</th>\n",
       "      <th>ht_m_ref_RH090</th>\n",
       "      <th>tcc_ref</th>\n",
       "      <th>slope_ref</th>\n",
       "      <th>cnt_ref</th>\n",
       "      <th>tcc_class</th>\n",
       "      <th>file</th>\n",
       "      <th>date</th>\n",
       "      <th>type</th>\n",
       "      <th>footprint_name</th>\n",
       "      <th>catid</th>\n",
       "      <th>sensor</th>\n",
       "      <th>year</th>\n",
       "      <th>month</th>\n",
       "    </tr>\n",
       "  </thead>\n",
       "  <tbody>\n",
       "    <tr>\n",
       "      <th>0</th>\n",
       "      <td>0.0</td>\n",
       "      <td>0.055</td>\n",
       "      <td>0.205</td>\n",
       "      <td>0.28</td>\n",
       "      <td>39.0</td>\n",
       "      <td>1.287761</td>\n",
       "      <td>2.0</td>\n",
       "      <td>0-20%</td>\n",
       "      <td>WV02_20190710_M1BS_103001009458FD00-chm-dm-10m...</td>\n",
       "      <td>2019-07-10</td>\n",
       "      <td>CHM pred</td>\n",
       "      <td>WV02_20190710_M1BS_103001009458FD00-chm-dm-10m...</td>\n",
       "      <td>103001009458FD00-chm-dm-10m.tif</td>\n",
       "      <td>WV02</td>\n",
       "      <td>2019</td>\n",
       "      <td>7</td>\n",
       "    </tr>\n",
       "    <tr>\n",
       "      <th>1</th>\n",
       "      <td>0.0</td>\n",
       "      <td>0.055</td>\n",
       "      <td>0.205</td>\n",
       "      <td>0.28</td>\n",
       "      <td>39.0</td>\n",
       "      <td>1.287761</td>\n",
       "      <td>2.0</td>\n",
       "      <td>0-20%</td>\n",
       "      <td>WV02_20190710_M1BS_103001009458FD00-chm-dm-10m...</td>\n",
       "      <td>2019-07-10</td>\n",
       "      <td>CHM pred</td>\n",
       "      <td>WV02_20190710_M1BS_103001009458FD00-chm-dm-10m...</td>\n",
       "      <td>103001009458FD00-chm-dm-10m.tif</td>\n",
       "      <td>WV02</td>\n",
       "      <td>2019</td>\n",
       "      <td>7</td>\n",
       "    </tr>\n",
       "    <tr>\n",
       "      <th>2</th>\n",
       "      <td>0.0</td>\n",
       "      <td>0.055</td>\n",
       "      <td>0.205</td>\n",
       "      <td>0.28</td>\n",
       "      <td>39.0</td>\n",
       "      <td>1.287761</td>\n",
       "      <td>2.0</td>\n",
       "      <td>0-20%</td>\n",
       "      <td>WV02_20190710_M1BS_103001009458FD00-chm-dm-10m...</td>\n",
       "      <td>2019-07-10</td>\n",
       "      <td>CHM pred</td>\n",
       "      <td>WV02_20190710_M1BS_103001009458FD00-chm-dm-10m...</td>\n",
       "      <td>103001009458FD00-chm-dm-10m.tif</td>\n",
       "      <td>WV02</td>\n",
       "      <td>2019</td>\n",
       "      <td>7</td>\n",
       "    </tr>\n",
       "    <tr>\n",
       "      <th>3</th>\n",
       "      <td>0.0</td>\n",
       "      <td>0.055</td>\n",
       "      <td>0.205</td>\n",
       "      <td>0.28</td>\n",
       "      <td>39.0</td>\n",
       "      <td>1.287761</td>\n",
       "      <td>2.0</td>\n",
       "      <td>0-20%</td>\n",
       "      <td>WV02_20190710_M1BS_103001009458FD00-chm-dm-10m...</td>\n",
       "      <td>2019-07-10</td>\n",
       "      <td>CHM pred</td>\n",
       "      <td>WV02_20190710_M1BS_103001009458FD00-chm-dm-10m...</td>\n",
       "      <td>103001009458FD00-chm-dm-10m.tif</td>\n",
       "      <td>WV02</td>\n",
       "      <td>2019</td>\n",
       "      <td>7</td>\n",
       "    </tr>\n",
       "    <tr>\n",
       "      <th>4</th>\n",
       "      <td>0.0</td>\n",
       "      <td>0.055</td>\n",
       "      <td>0.205</td>\n",
       "      <td>0.28</td>\n",
       "      <td>39.0</td>\n",
       "      <td>1.287761</td>\n",
       "      <td>2.0</td>\n",
       "      <td>0-20%</td>\n",
       "      <td>WV02_20190710_M1BS_103001009458FD00-chm-dm-10m...</td>\n",
       "      <td>2019-07-10</td>\n",
       "      <td>CHM pred</td>\n",
       "      <td>WV02_20190710_M1BS_103001009458FD00-chm-dm-10m...</td>\n",
       "      <td>103001009458FD00-chm-dm-10m.tif</td>\n",
       "      <td>WV02</td>\n",
       "      <td>2019</td>\n",
       "      <td>7</td>\n",
       "    </tr>\n",
       "  </tbody>\n",
       "</table>\n",
       "</div>"
      ],
      "text/plain": [
       "   ht_m_src  ht_m_ref_RH080  ht_m_ref_RH085  ht_m_ref_RH090  tcc_ref  \\\n",
       "0       0.0           0.055           0.205            0.28     39.0   \n",
       "1       0.0           0.055           0.205            0.28     39.0   \n",
       "2       0.0           0.055           0.205            0.28     39.0   \n",
       "3       0.0           0.055           0.205            0.28     39.0   \n",
       "4       0.0           0.055           0.205            0.28     39.0   \n",
       "\n",
       "   slope_ref  cnt_ref tcc_class  \\\n",
       "0   1.287761      2.0     0-20%   \n",
       "1   1.287761      2.0     0-20%   \n",
       "2   1.287761      2.0     0-20%   \n",
       "3   1.287761      2.0     0-20%   \n",
       "4   1.287761      2.0     0-20%   \n",
       "\n",
       "                                                file       date      type  \\\n",
       "0  WV02_20190710_M1BS_103001009458FD00-chm-dm-10m... 2019-07-10  CHM pred   \n",
       "1  WV02_20190710_M1BS_103001009458FD00-chm-dm-10m... 2019-07-10  CHM pred   \n",
       "2  WV02_20190710_M1BS_103001009458FD00-chm-dm-10m... 2019-07-10  CHM pred   \n",
       "3  WV02_20190710_M1BS_103001009458FD00-chm-dm-10m... 2019-07-10  CHM pred   \n",
       "4  WV02_20190710_M1BS_103001009458FD00-chm-dm-10m... 2019-07-10  CHM pred   \n",
       "\n",
       "                                      footprint_name  \\\n",
       "0  WV02_20190710_M1BS_103001009458FD00-chm-dm-10m...   \n",
       "1  WV02_20190710_M1BS_103001009458FD00-chm-dm-10m...   \n",
       "2  WV02_20190710_M1BS_103001009458FD00-chm-dm-10m...   \n",
       "3  WV02_20190710_M1BS_103001009458FD00-chm-dm-10m...   \n",
       "4  WV02_20190710_M1BS_103001009458FD00-chm-dm-10m...   \n",
       "\n",
       "                             catid sensor  year  month  \n",
       "0  103001009458FD00-chm-dm-10m.tif   WV02  2019      7  \n",
       "1  103001009458FD00-chm-dm-10m.tif   WV02  2019      7  \n",
       "2  103001009458FD00-chm-dm-10m.tif   WV02  2019      7  \n",
       "3  103001009458FD00-chm-dm-10m.tif   WV02  2019      7  \n",
       "4  103001009458FD00-chm-dm-10m.tif   WV02  2019      7  "
      ]
     },
     "execution_count": 59,
     "metadata": {},
     "output_type": "execute_result"
    }
   ],
   "source": [
    "df_test.head()"
   ]
  },
  {
   "cell_type": "code",
   "execution_count": 60,
   "id": "3aa65cd1-b445-4a41-af3e-68ea5a633fee",
   "metadata": {},
   "outputs": [
    {
     "data": {
      "text/plain": [
       "'/explore/nobackup/projects/above/misc/ABoVE_Shrubs/chm/20231014_chm/dm_10m/validate/LVISRH080_RH085_RH090'"
      ]
     },
     "execution_count": 60,
     "metadata": {},
     "output_type": "execute_result"
    }
   ],
   "source": [
    "dir_val_csv"
   ]
  },
  {
   "cell_type": "markdown",
   "id": "b69a940c-9e91-4f15-8615-4e27069d55e2",
   "metadata": {},
   "source": [
    "### Multiprocess all validation CSVs"
   ]
  },
  {
   "cell_type": "code",
   "execution_count": null,
   "id": "e616be02-5a57-4ff5-b301-3eb53e1eb492",
   "metadata": {},
   "outputs": [],
   "source": [
    "%%time\n",
    "with Pool(processes=35) as pool:\n",
    "    pool.map(partial(notebooks.predlib.do_validation_df, list_of_pred_fn=pred_path_list, list_of_ref_fn=lvis_path_list, RH_string_list=SELECTED_LVIS_RH_LIST, out_csv_dir=dir_val_csv), list(reversed(INDEX_LIST)) )"
   ]
  },
  {
   "cell_type": "markdown",
   "id": "378e6d49-7e38-4c2c-a86e-6b0ec1a447d3",
   "metadata": {},
   "source": [
    "### Read in all validation CSVs"
   ]
  },
  {
   "cell_type": "code",
   "execution_count": 275,
   "id": "3ed8be02-8478-4f25-923b-b1674e3a81ee",
   "metadata": {},
   "outputs": [
    {
     "name": "stdout",
     "output_type": "stream",
     "text": [
      "<class 'pandas.core.frame.DataFrame'>\n",
      "Int64Index: 223092343 entries, 0 to 11203\n",
      "Data columns (total 14 columns):\n",
      " #   Column          Dtype  \n",
      "---  ------          -----  \n",
      " 0   ht_m_src        float64\n",
      " 1   ht_m_ref_RH050  float64\n",
      " 2   ht_m_ref_RH075  float64\n",
      " 3   ht_m_ref_RH098  float64\n",
      " 4   tcc_ref         float64\n",
      " 5   tcc_class       object \n",
      " 6   file            object \n",
      " 7   date            object \n",
      " 8   type            object \n",
      " 9   footprint_name  object \n",
      " 10  catid           object \n",
      " 11  sensor          object \n",
      " 12  year            int64  \n",
      " 13  month           int64  \n",
      "dtypes: float64(5), int64(2), object(7)\n",
      "memory usage: 24.9+ GB\n",
      "CPU times: user 6min 39s, sys: 1min 36s, total: 8min 16s\n",
      "Wall time: 9min 13s\n"
     ]
    }
   ],
   "source": [
    "%%time\n",
    "if False:\n",
    "    with Pool(processes=10) as pool:\n",
    "        DF_VAL_LIST = pool.map(partial(pd.read_csv), glob.glob(dir_val_csv + '/*.csv') )\n",
    "else:\n",
    "    DF_VAL_LIST = [pd.read_csv(f) for f in glob.glob(dir_val_csv + '/*.csv')]\n",
    "df_val = pd.concat(DF_VAL_LIST)\n",
    "df_val.info()"
   ]
  },
  {
   "cell_type": "code",
   "execution_count": 261,
   "id": "6297a5a8-373e-4d6a-856a-233fcc87999d",
   "metadata": {},
   "outputs": [
    {
     "data": {
      "text/html": [
       "<div>\n",
       "<style scoped>\n",
       "    .dataframe tbody tr th:only-of-type {\n",
       "        vertical-align: middle;\n",
       "    }\n",
       "\n",
       "    .dataframe tbody tr th {\n",
       "        vertical-align: top;\n",
       "    }\n",
       "\n",
       "    .dataframe thead th {\n",
       "        text-align: right;\n",
       "    }\n",
       "</style>\n",
       "<table border=\"1\" class=\"dataframe\">\n",
       "  <thead>\n",
       "    <tr style=\"text-align: right;\">\n",
       "      <th></th>\n",
       "      <th>ht_m_src</th>\n",
       "      <th>ht_m_ref_RH050</th>\n",
       "      <th>ht_m_ref_RH075</th>\n",
       "      <th>ht_m_ref_RH098</th>\n",
       "      <th>tcc_ref</th>\n",
       "      <th>tcc_class</th>\n",
       "      <th>file</th>\n",
       "      <th>date</th>\n",
       "      <th>type</th>\n",
       "      <th>footprint_name</th>\n",
       "      <th>catid</th>\n",
       "      <th>sensor</th>\n",
       "      <th>year</th>\n",
       "      <th>month</th>\n",
       "    </tr>\n",
       "  </thead>\n",
       "  <tbody>\n",
       "    <tr>\n",
       "      <th>430477</th>\n",
       "      <td>0.0</td>\n",
       "      <td>-0.23</td>\n",
       "      <td>0.066</td>\n",
       "      <td>0.632</td>\n",
       "      <td>25.0</td>\n",
       "      <td>0-20%</td>\n",
       "      <td>WV03_20190817_M1BS_1040010051769700-chm-dm-10m...</td>\n",
       "      <td>2019-08-17</td>\n",
       "      <td>CHM pred</td>\n",
       "      <td>WV03_20190817_M1BS_1040010051769700-chm-dm-10m...</td>\n",
       "      <td>1040010051769700-chm-dm-10m.tif</td>\n",
       "      <td>WV03</td>\n",
       "      <td>2019</td>\n",
       "      <td>8</td>\n",
       "    </tr>\n",
       "    <tr>\n",
       "      <th>430478</th>\n",
       "      <td>0.0</td>\n",
       "      <td>-0.22</td>\n",
       "      <td>0.070</td>\n",
       "      <td>0.595</td>\n",
       "      <td>26.0</td>\n",
       "      <td>0-20%</td>\n",
       "      <td>WV03_20190817_M1BS_1040010051769700-chm-dm-10m...</td>\n",
       "      <td>2019-08-17</td>\n",
       "      <td>CHM pred</td>\n",
       "      <td>WV03_20190817_M1BS_1040010051769700-chm-dm-10m...</td>\n",
       "      <td>1040010051769700-chm-dm-10m.tif</td>\n",
       "      <td>WV03</td>\n",
       "      <td>2019</td>\n",
       "      <td>8</td>\n",
       "    </tr>\n",
       "    <tr>\n",
       "      <th>430479</th>\n",
       "      <td>0.0</td>\n",
       "      <td>-0.22</td>\n",
       "      <td>0.070</td>\n",
       "      <td>0.595</td>\n",
       "      <td>26.0</td>\n",
       "      <td>0-20%</td>\n",
       "      <td>WV03_20190817_M1BS_1040010051769700-chm-dm-10m...</td>\n",
       "      <td>2019-08-17</td>\n",
       "      <td>CHM pred</td>\n",
       "      <td>WV03_20190817_M1BS_1040010051769700-chm-dm-10m...</td>\n",
       "      <td>1040010051769700-chm-dm-10m.tif</td>\n",
       "      <td>WV03</td>\n",
       "      <td>2019</td>\n",
       "      <td>8</td>\n",
       "    </tr>\n",
       "    <tr>\n",
       "      <th>430480</th>\n",
       "      <td>0.0</td>\n",
       "      <td>-0.22</td>\n",
       "      <td>0.070</td>\n",
       "      <td>0.595</td>\n",
       "      <td>26.0</td>\n",
       "      <td>0-20%</td>\n",
       "      <td>WV03_20190817_M1BS_1040010051769700-chm-dm-10m...</td>\n",
       "      <td>2019-08-17</td>\n",
       "      <td>CHM pred</td>\n",
       "      <td>WV03_20190817_M1BS_1040010051769700-chm-dm-10m...</td>\n",
       "      <td>1040010051769700-chm-dm-10m.tif</td>\n",
       "      <td>WV03</td>\n",
       "      <td>2019</td>\n",
       "      <td>8</td>\n",
       "    </tr>\n",
       "    <tr>\n",
       "      <th>430481</th>\n",
       "      <td>0.0</td>\n",
       "      <td>-0.22</td>\n",
       "      <td>0.070</td>\n",
       "      <td>0.595</td>\n",
       "      <td>26.0</td>\n",
       "      <td>0-20%</td>\n",
       "      <td>WV03_20190817_M1BS_1040010051769700-chm-dm-10m...</td>\n",
       "      <td>2019-08-17</td>\n",
       "      <td>CHM pred</td>\n",
       "      <td>WV03_20190817_M1BS_1040010051769700-chm-dm-10m...</td>\n",
       "      <td>1040010051769700-chm-dm-10m.tif</td>\n",
       "      <td>WV03</td>\n",
       "      <td>2019</td>\n",
       "      <td>8</td>\n",
       "    </tr>\n",
       "  </tbody>\n",
       "</table>\n",
       "</div>"
      ],
      "text/plain": [
       "        ht_m_src  ht_m_ref_RH050  ht_m_ref_RH075  ht_m_ref_RH098  tcc_ref  \\\n",
       "430477       0.0           -0.23           0.066           0.632     25.0   \n",
       "430478       0.0           -0.22           0.070           0.595     26.0   \n",
       "430479       0.0           -0.22           0.070           0.595     26.0   \n",
       "430480       0.0           -0.22           0.070           0.595     26.0   \n",
       "430481       0.0           -0.22           0.070           0.595     26.0   \n",
       "\n",
       "       tcc_class                                               file  \\\n",
       "430477     0-20%  WV03_20190817_M1BS_1040010051769700-chm-dm-10m...   \n",
       "430478     0-20%  WV03_20190817_M1BS_1040010051769700-chm-dm-10m...   \n",
       "430479     0-20%  WV03_20190817_M1BS_1040010051769700-chm-dm-10m...   \n",
       "430480     0-20%  WV03_20190817_M1BS_1040010051769700-chm-dm-10m...   \n",
       "430481     0-20%  WV03_20190817_M1BS_1040010051769700-chm-dm-10m...   \n",
       "\n",
       "              date      type  \\\n",
       "430477  2019-08-17  CHM pred   \n",
       "430478  2019-08-17  CHM pred   \n",
       "430479  2019-08-17  CHM pred   \n",
       "430480  2019-08-17  CHM pred   \n",
       "430481  2019-08-17  CHM pred   \n",
       "\n",
       "                                           footprint_name  \\\n",
       "430477  WV03_20190817_M1BS_1040010051769700-chm-dm-10m...   \n",
       "430478  WV03_20190817_M1BS_1040010051769700-chm-dm-10m...   \n",
       "430479  WV03_20190817_M1BS_1040010051769700-chm-dm-10m...   \n",
       "430480  WV03_20190817_M1BS_1040010051769700-chm-dm-10m...   \n",
       "430481  WV03_20190817_M1BS_1040010051769700-chm-dm-10m...   \n",
       "\n",
       "                                  catid sensor  year  month  \n",
       "430477  1040010051769700-chm-dm-10m.tif   WV03  2019      8  \n",
       "430478  1040010051769700-chm-dm-10m.tif   WV03  2019      8  \n",
       "430479  1040010051769700-chm-dm-10m.tif   WV03  2019      8  \n",
       "430480  1040010051769700-chm-dm-10m.tif   WV03  2019      8  \n",
       "430481  1040010051769700-chm-dm-10m.tif   WV03  2019      8  "
      ]
     },
     "execution_count": 261,
     "metadata": {},
     "output_type": "execute_result"
    }
   ],
   "source": [
    "df_val.tail()"
   ]
  },
  {
   "cell_type": "markdown",
   "id": "83296358-895a-4a2d-ad4e-bd75beb8127e",
   "metadata": {},
   "source": [
    "# Find useful predictions\n",
    "## Join VHR metadata\n",
    "this can also be used at the front-end to reduce the set of candidate strips used for predictions"
   ]
  },
  {
   "cell_type": "code",
   "execution_count": 20,
   "id": "63be2dcc-e789-4680-a929-3e20d08d550d",
   "metadata": {},
   "outputs": [
    {
     "data": {
      "text/html": [
       "<div>\n",
       "<style scoped>\n",
       "    .dataframe tbody tr th:only-of-type {\n",
       "        vertical-align: middle;\n",
       "    }\n",
       "\n",
       "    .dataframe tbody tr th {\n",
       "        vertical-align: top;\n",
       "    }\n",
       "\n",
       "    .dataframe thead th {\n",
       "        text-align: right;\n",
       "    }\n",
       "</style>\n",
       "<table border=\"1\" class=\"dataframe\">\n",
       "  <thead>\n",
       "    <tr style=\"text-align: right;\">\n",
       "      <th></th>\n",
       "      <th>satid</th>\n",
       "      <th>catid</th>\n",
       "      <th>tlctime</th>\n",
       "      <th>gsd</th>\n",
       "      <th>sunaz</th>\n",
       "      <th>sunel</th>\n",
       "      <th>az</th>\n",
       "      <th>el</th>\n",
       "      <th>intrack</th>\n",
       "      <th>crosstrack</th>\n",
       "      <th>...</th>\n",
       "      <th>ULHAE</th>\n",
       "      <th>URLON</th>\n",
       "      <th>URLAT</th>\n",
       "      <th>URHAE</th>\n",
       "      <th>LLLON</th>\n",
       "      <th>LLLAT</th>\n",
       "      <th>LLHAE</th>\n",
       "      <th>LRLON</th>\n",
       "      <th>LRLAT</th>\n",
       "      <th>LRHAE</th>\n",
       "    </tr>\n",
       "  </thead>\n",
       "  <tbody>\n",
       "    <tr>\n",
       "      <th>0</th>\n",
       "      <td>WV02</td>\n",
       "      <td>1030010005C35F00</td>\n",
       "      <td>2010-07-26 20:20:34.983650+00:00</td>\n",
       "      <td>2.037500</td>\n",
       "      <td>167.4500</td>\n",
       "      <td>53.5625</td>\n",
       "      <td>217.550</td>\n",
       "      <td>70.35</td>\n",
       "      <td>-15.9750</td>\n",
       "      <td>-6.5250</td>\n",
       "      <td>...</td>\n",
       "      <td>520.5</td>\n",
       "      <td>-131.255904</td>\n",
       "      <td>56.031801</td>\n",
       "      <td>520.5</td>\n",
       "      <td>-131.545886</td>\n",
       "      <td>54.949529</td>\n",
       "      <td>520.5</td>\n",
       "      <td>-131.267842</td>\n",
       "      <td>54.957316</td>\n",
       "      <td>520.5</td>\n",
       "    </tr>\n",
       "    <tr>\n",
       "      <th>0</th>\n",
       "      <td>WV02</td>\n",
       "      <td>103001000BA1E500</td>\n",
       "      <td>2011-06-07 20:16:59.117856+00:00</td>\n",
       "      <td>2.006875</td>\n",
       "      <td>169.7625</td>\n",
       "      <td>58.2250</td>\n",
       "      <td>205.225</td>\n",
       "      <td>83.20</td>\n",
       "      <td>-5.6625</td>\n",
       "      <td>-1.0625</td>\n",
       "      <td>...</td>\n",
       "      <td>377.0</td>\n",
       "      <td>-130.255637</td>\n",
       "      <td>55.025096</td>\n",
       "      <td>377.0</td>\n",
       "      <td>-130.519542</td>\n",
       "      <td>53.947426</td>\n",
       "      <td>377.0</td>\n",
       "      <td>-130.266322</td>\n",
       "      <td>53.947525</td>\n",
       "      <td>377.0</td>\n",
       "    </tr>\n",
       "    <tr>\n",
       "      <th>0</th>\n",
       "      <td>WV02</td>\n",
       "      <td>1030010024338600</td>\n",
       "      <td>2013-07-07 20:09:48.553950+00:00</td>\n",
       "      <td>1.937400</td>\n",
       "      <td>166.5000</td>\n",
       "      <td>55.6300</td>\n",
       "      <td>98.450</td>\n",
       "      <td>77.22</td>\n",
       "      <td>1.0200</td>\n",
       "      <td>10.5300</td>\n",
       "      <td>...</td>\n",
       "      <td>1177.0</td>\n",
       "      <td>-129.236653</td>\n",
       "      <td>57.024840</td>\n",
       "      <td>1177.0</td>\n",
       "      <td>-129.508432</td>\n",
       "      <td>55.966950</td>\n",
       "      <td>1177.0</td>\n",
       "      <td>-129.233129</td>\n",
       "      <td>55.971002</td>\n",
       "      <td>1177.0</td>\n",
       "    </tr>\n",
       "    <tr>\n",
       "      <th>0</th>\n",
       "      <td>WV02</td>\n",
       "      <td>103001002503EF00</td>\n",
       "      <td>2013-07-14 20:50:53.405450+00:00</td>\n",
       "      <td>2.241100</td>\n",
       "      <td>180.1800</td>\n",
       "      <td>55.2500</td>\n",
       "      <td>301.890</td>\n",
       "      <td>61.63</td>\n",
       "      <td>4.9600</td>\n",
       "      <td>-24.7000</td>\n",
       "      <td>...</td>\n",
       "      <td>1112.0</td>\n",
       "      <td>-131.004100</td>\n",
       "      <td>57.028261</td>\n",
       "      <td>1112.0</td>\n",
       "      <td>-131.318459</td>\n",
       "      <td>55.977952</td>\n",
       "      <td>1112.0</td>\n",
       "      <td>-130.988824</td>\n",
       "      <td>55.956400</td>\n",
       "      <td>1112.0</td>\n",
       "    </tr>\n",
       "    <tr>\n",
       "      <th>0</th>\n",
       "      <td>WV02</td>\n",
       "      <td>10300100252F2900</td>\n",
       "      <td>2013-07-14 20:51:22.302150+00:00</td>\n",
       "      <td>2.207500</td>\n",
       "      <td>179.8000</td>\n",
       "      <td>55.1900</td>\n",
       "      <td>282.630</td>\n",
       "      <td>62.59</td>\n",
       "      <td>-2.9200</td>\n",
       "      <td>-23.8100</td>\n",
       "      <td>...</td>\n",
       "      <td>1203.0</td>\n",
       "      <td>-131.298624</td>\n",
       "      <td>57.025459</td>\n",
       "      <td>1203.0</td>\n",
       "      <td>-131.609755</td>\n",
       "      <td>55.975876</td>\n",
       "      <td>1203.0</td>\n",
       "      <td>-131.283463</td>\n",
       "      <td>55.958652</td>\n",
       "      <td>1203.0</td>\n",
       "    </tr>\n",
       "  </tbody>\n",
       "</table>\n",
       "<p>5 rows × 25 columns</p>\n",
       "</div>"
      ],
      "text/plain": [
       "  satid             catid                          tlctime       gsd  \\\n",
       "0  WV02  1030010005C35F00 2010-07-26 20:20:34.983650+00:00  2.037500   \n",
       "0  WV02  103001000BA1E500 2011-06-07 20:16:59.117856+00:00  2.006875   \n",
       "0  WV02  1030010024338600 2013-07-07 20:09:48.553950+00:00  1.937400   \n",
       "0  WV02  103001002503EF00 2013-07-14 20:50:53.405450+00:00  2.241100   \n",
       "0  WV02  10300100252F2900 2013-07-14 20:51:22.302150+00:00  2.207500   \n",
       "\n",
       "      sunaz    sunel       az     el  intrack  crosstrack  ...   ULHAE  \\\n",
       "0  167.4500  53.5625  217.550  70.35 -15.9750     -6.5250  ...   520.5   \n",
       "0  169.7625  58.2250  205.225  83.20  -5.6625     -1.0625  ...   377.0   \n",
       "0  166.5000  55.6300   98.450  77.22   1.0200     10.5300  ...  1177.0   \n",
       "0  180.1800  55.2500  301.890  61.63   4.9600    -24.7000  ...  1112.0   \n",
       "0  179.8000  55.1900  282.630  62.59  -2.9200    -23.8100  ...  1203.0   \n",
       "\n",
       "        URLON      URLAT   URHAE       LLLON      LLLAT   LLHAE       LRLON  \\\n",
       "0 -131.255904  56.031801   520.5 -131.545886  54.949529   520.5 -131.267842   \n",
       "0 -130.255637  55.025096   377.0 -130.519542  53.947426   377.0 -130.266322   \n",
       "0 -129.236653  57.024840  1177.0 -129.508432  55.966950  1177.0 -129.233129   \n",
       "0 -131.004100  57.028261  1112.0 -131.318459  55.977952  1112.0 -130.988824   \n",
       "0 -131.298624  57.025459  1203.0 -131.609755  55.975876  1203.0 -131.283463   \n",
       "\n",
       "       LRLAT   LRHAE  \n",
       "0  54.957316   520.5  \n",
       "0  53.947525   377.0  \n",
       "0  55.971002  1177.0  \n",
       "0  55.956400  1112.0  \n",
       "0  55.958652  1203.0  \n",
       "\n",
       "[5 rows x 25 columns]"
      ]
     },
     "execution_count": 20,
     "metadata": {},
     "output_type": "execute_result"
    }
   ],
   "source": [
    "vhr_df.head()"
   ]
  },
  {
   "cell_type": "code",
   "execution_count": null,
   "id": "99d69bc9-ce65-4333-a51b-b26c388f7c00",
   "metadata": {},
   "outputs": [],
   "source": [
    "%%time\n",
    "df_val_meta = pd.merge(df_val, vhr_df, how='left', left_on = 'catid', right_on = 'catid').drop(columns=['Unnamed: 0'])\n",
    "df_val_meta.head()"
   ]
  },
  {
   "cell_type": "markdown",
   "id": "84ee0dcf-f384-4962-907d-e6453fa94b66",
   "metadata": {},
   "source": [
    "## Join SRlite metrics \n",
    "##### See SRlite metrics analysis (example): `code/geoscitools/srlite_metrics.ipynb` \n",
    "- use this to filter validation & to inform training chip selection so you dont train with chips from bad data  \n",
    "- develop this for Alaska in `code/geoscitools/above_shrubs_model_plan.ipynb`"
   ]
  },
  {
   "cell_type": "markdown",
   "id": "969b11b5-9289-4611-8233-5de0318d791b",
   "metadata": {},
   "source": [
    "### The list of srlite ids for validation (have sizable intersections with LVIS)"
   ]
  },
  {
   "cell_type": "code",
   "execution_count": 47,
   "id": "edcfb445-7970-457a-bc61-b26c74fc0de8",
   "metadata": {},
   "outputs": [
    {
     "name": "stdout",
     "output_type": "stream",
     "text": [
      "25\n"
     ]
    },
    {
     "data": {
      "text/plain": [
       "['WV02_20100709_M1BS_1030010006AC3100',\n",
       " 'WV02_20100820_M1BS_1030010006A83500',\n",
       " 'WV02_20110707_M1BS_103001000C6D7600',\n",
       " 'WV02_20110707_M1BS_103001000CA39000',\n",
       " 'WV02_20110804_M1BS_103001000C140300']"
      ]
     },
     "execution_count": 47,
     "metadata": {},
     "output_type": "execute_result"
    }
   ],
   "source": [
    "g = df_val.groupby('footprint_name')\n",
    "PRED_FILE_LIST = list(g.groups.keys())\n",
    "print(len(PRED_FILE_LIST))\n",
    "PRED_FILE_LIST[0:5]"
   ]
  },
  {
   "cell_type": "code",
   "execution_count": 132,
   "id": "bfeaa2bf-3d69-45d4-9f3d-fa07b2742167",
   "metadata": {},
   "outputs": [],
   "source": [
    "# Save this list to CSV for applying the predictions\n",
    "import csv\n",
    "PRED_FILE_LIST_FN = '/explore/nobackup/projects/ilab/projects/ABoVE-Shrubs/data/list_predstack_file_id_for_val_v01.csv'\n",
    "df = pd.DataFrame(PRED_FILE_LIST, columns=[\"file_id\"])\n",
    "df.to_csv(PRED_FILE_LIST_FN, index=False)"
   ]
  },
  {
   "cell_type": "code",
   "execution_count": 120,
   "id": "26c11fe1-2706-4c81-b2ff-9a2540201849",
   "metadata": {},
   "outputs": [],
   "source": [
    "from sklearn.linear_model import LinearRegression"
   ]
  },
  {
   "cell_type": "code",
   "execution_count": null,
   "id": "f41e2fac-7092-4c46-9812-ca93c16cf704",
   "metadata": {},
   "outputs": [],
   "source": [
    "def model(df):\n",
    "    \n",
    "    X = df['ht_m_ref'].values\n",
    "    Y = df['ht_m_src'].values\n",
    "    \n",
    "    return np.squeeze(LinearRegression().fit(X, Y))#.predict(delta))\n",
    "\n",
    "df_val.groupby(['tcc_class','year']).apply(model)"
   ]
  }
 ],
 "metadata": {
  "kernelspec": {
   "display_name": "ILAB Kernel",
   "language": "python",
   "name": "ilab-kernel"
  },
  "language_info": {
   "codemirror_mode": {
    "name": "ipython",
    "version": 3
   },
   "file_extension": ".py",
   "mimetype": "text/x-python",
   "name": "python",
   "nbconvert_exporter": "python",
   "pygments_lexer": "ipython3",
   "version": "3.8.16"
  }
 },
 "nbformat": 4,
 "nbformat_minor": 5
}
